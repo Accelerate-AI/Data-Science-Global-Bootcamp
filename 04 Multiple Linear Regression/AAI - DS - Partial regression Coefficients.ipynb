{
 "cells": [
  {
   "cell_type": "markdown",
   "id": "1c0e63be",
   "metadata": {},
   "source": [
    "# AccelerateAI - Data Science Global Bootcamp\n",
    "\n",
    "In this notebook, we will look at the concept of partial regression coefficient in MLR. \n",
    "\n",
    "Each regression coefficient is the partial derivative if Y w.r.t X. "
   ]
  },
  {
   "cell_type": "code",
   "execution_count": 3,
   "id": "1830f8d1",
   "metadata": {},
   "outputs": [],
   "source": [
    "import numpy as np\n",
    "import pandas as pd \n",
    "\n",
    "import seaborn as sbn \n",
    "\n",
    "import statsmodels.api as sm"
   ]
  },
  {
   "cell_type": "code",
   "execution_count": 4,
   "id": "000f0afd",
   "metadata": {},
   "outputs": [
    {
     "data": {
      "text/html": [
       "<div>\n",
       "<style scoped>\n",
       "    .dataframe tbody tr th:only-of-type {\n",
       "        vertical-align: middle;\n",
       "    }\n",
       "\n",
       "    .dataframe tbody tr th {\n",
       "        vertical-align: top;\n",
       "    }\n",
       "\n",
       "    .dataframe thead th {\n",
       "        text-align: right;\n",
       "    }\n",
       "</style>\n",
       "<table border=\"1\" class=\"dataframe\">\n",
       "  <thead>\n",
       "    <tr style=\"text-align: right;\">\n",
       "      <th></th>\n",
       "      <th>County</th>\n",
       "      <th>Population</th>\n",
       "      <th>below5K</th>\n",
       "      <th>Unemployment</th>\n",
       "      <th>Crimerate</th>\n",
       "    </tr>\n",
       "  </thead>\n",
       "  <tbody>\n",
       "    <tr>\n",
       "      <th>0</th>\n",
       "      <td>1</td>\n",
       "      <td>587000</td>\n",
       "      <td>16.5</td>\n",
       "      <td>6.2</td>\n",
       "      <td>11.2</td>\n",
       "    </tr>\n",
       "    <tr>\n",
       "      <th>1</th>\n",
       "      <td>2</td>\n",
       "      <td>643000</td>\n",
       "      <td>20.5</td>\n",
       "      <td>6.4</td>\n",
       "      <td>13.4</td>\n",
       "    </tr>\n",
       "    <tr>\n",
       "      <th>2</th>\n",
       "      <td>3</td>\n",
       "      <td>635000</td>\n",
       "      <td>26.3</td>\n",
       "      <td>9.3</td>\n",
       "      <td>40.7</td>\n",
       "    </tr>\n",
       "    <tr>\n",
       "      <th>3</th>\n",
       "      <td>4</td>\n",
       "      <td>692000</td>\n",
       "      <td>16.5</td>\n",
       "      <td>5.3</td>\n",
       "      <td>5.3</td>\n",
       "    </tr>\n",
       "    <tr>\n",
       "      <th>4</th>\n",
       "      <td>5</td>\n",
       "      <td>1248000</td>\n",
       "      <td>19.2</td>\n",
       "      <td>7.3</td>\n",
       "      <td>24.8</td>\n",
       "    </tr>\n",
       "  </tbody>\n",
       "</table>\n",
       "</div>"
      ],
      "text/plain": [
       "   County  Population  below5K  Unemployment   Crimerate \n",
       "0       1      587000     16.5           6.2         11.2\n",
       "1       2      643000     20.5           6.4         13.4\n",
       "2       3      635000     26.3           9.3         40.7\n",
       "3       4      692000     16.5           5.3          5.3\n",
       "4       5     1248000     19.2           7.3         24.8"
      ]
     },
     "execution_count": 4,
     "metadata": {},
     "output_type": "execute_result"
    }
   ],
   "source": [
    "# We will use a simple dataset to explain the concept\n",
    "crime_df = pd.read_csv(\"10_Crimerate_Data.csv\")\n",
    "crime_df.head()"
   ]
  },
  {
   "cell_type": "markdown",
   "id": "d03ea9b4",
   "metadata": {},
   "source": [
    "The dataset has Population, % house hold with income below 5K, Unemployment rate and the Crime rate of the county. \n",
    "\n",
    "We will build a regression model:\n",
    "Crime rate = F(below5k + Unemployment) "
   ]
  },
  {
   "cell_type": "code",
   "execution_count": 5,
   "id": "77a80aec",
   "metadata": {},
   "outputs": [
    {
     "data": {
      "text/plain": [
       "<seaborn.axisgrid.PairGrid at 0x22c2e4d2670>"
      ]
     },
     "execution_count": 5,
     "metadata": {},
     "output_type": "execute_result"
    },
    {
     "data": {
      "image/png": "[encoded data removed]",
      "text/plain": [
       "<Figure size 360x180 with 2 Axes>"
      ]
     },
     "metadata": {
      "needs_background": "light"
     },
     "output_type": "display_data"
    }
   ],
   "source": [
    "# How does the relation between Crimerate and other 2 variables look?\n",
    "sbn.pairplot(data=crime_df, \n",
    "             x_vars=['below5K', 'Unemployment'], \n",
    "             y_vars=[' Crimerate '])"
   ]
  },
  {
   "cell_type": "code",
   "execution_count": 6,
   "id": "4673b0c0",
   "metadata": {},
   "outputs": [
    {
     "name": "stdout",
     "output_type": "stream",
     "text": [
      "                            OLS Regression Results                            \n",
      "==============================================================================\n",
      "Dep. Variable:             Crimerate    R-squared:                       0.802\n",
      "Model:                            OLS   Adj. R-squared:                  0.779\n",
      "Method:                 Least Squares   F-statistic:                     34.43\n",
      "Date:                Sun, 04 Sep 2022   Prob (F-statistic):           1.05e-06\n",
      "Time:                        15:53:17   Log-Likelihood:                -57.484\n",
      "No. Observations:                  20   AIC:                             121.0\n",
      "Df Residuals:                      17   BIC:                             124.0\n",
      "Df Model:                           2                                         \n",
      "Covariance Type:            nonrobust                                         \n",
      "================================================================================\n",
      "                   coef    std err          t      P>|t|      [0.025      0.975]\n",
      "--------------------------------------------------------------------------------\n",
      "const          -34.0725      6.727     -5.065      0.000     -48.264     -19.881\n",
      "below5K          1.2239      0.568      2.154      0.046       0.025       2.423\n",
      "Unemployment     4.3989      1.526      2.882      0.010       1.179       7.619\n",
      "==============================================================================\n",
      "Omnibus:                        4.394   Durbin-Watson:                   1.697\n",
      "Prob(Omnibus):                  0.111   Jarque-Bera (JB):                2.526\n",
      "Skew:                           0.834   Prob(JB):                        0.283\n",
      "Kurtosis:                       3.501   Cond. No.                         137.\n",
      "==============================================================================\n",
      "\n",
      "Notes:\n",
      "[1] Standard Errors assume that the covariance matrix of the errors is correctly specified.\n"
     ]
    }
   ],
   "source": [
    "# Training a linear regression model \n",
    "Y = crime_df[\" Crimerate \"]\n",
    "\n",
    "X = crime_df[[\"below5K\", \"Unemployment\"]]\n",
    "X = sm.add_constant(X) # adding a constant\n",
    "\n",
    "MLR_model = sm.OLS(Y,X).fit()\n",
    "print(MLR_model.summary())"
   ]
  },
  {
   "cell_type": "markdown",
   "id": "e3af7468",
   "metadata": {},
   "source": [
    "**Regression Coefficients : below5K = 1.2239, Unemployment = 4.3989**"
   ]
  },
  {
   "cell_type": "markdown",
   "id": "32c62eee",
   "metadata": {},
   "source": [
    "To demonstrate the partialing of each component in MLR , we will build the following models:<br>\n",
    "   - Crimerate Vs Unemployment => Call the residuals as R1 \n",
    "   - below5K   vs Unemployment => Call the residuals as R2\n",
    "       - Regress R1 on R2          => then check the coefficient "
   ]
  },
  {
   "cell_type": "code",
   "execution_count": 7,
   "id": "ba0cb7ca",
   "metadata": {},
   "outputs": [],
   "source": [
    "# Training a linear regression model \n",
    "Y = crime_df[\" Crimerate \"]\n",
    "X = crime_df[\"Unemployment\"]\n",
    "X = sm.add_constant(X) # adding a constant\n",
    "\n",
    "model1 = sm.OLS(Y,X).fit()\n",
    "R1 = model1.resid"
   ]
  },
  {
   "cell_type": "code",
   "execution_count": 8,
   "id": "7a533d26",
   "metadata": {},
   "outputs": [],
   "source": [
    "# Training a linear regression model \n",
    "Y = crime_df[\"below5K\"]\n",
    "X = crime_df[\"Unemployment\"]\n",
    "X = sm.add_constant(X) # adding a constant\n",
    "\n",
    "model2 = sm.OLS(Y,X).fit()\n",
    "R2 = model2.resid"
   ]
  },
  {
   "cell_type": "code",
   "execution_count": 9,
   "id": "9407cc51",
   "metadata": {},
   "outputs": [
    {
     "name": "stdout",
     "output_type": "stream",
     "text": [
      "                            OLS Regression Results                            \n",
      "==============================================================================\n",
      "Dep. Variable:                      y   R-squared:                       0.214\n",
      "Model:                            OLS   Adj. R-squared:                  0.171\n",
      "Method:                 Least Squares   F-statistic:                     4.913\n",
      "Date:                Sun, 04 Sep 2022   Prob (F-statistic):             0.0398\n",
      "Time:                        15:53:17   Log-Likelihood:                -57.484\n",
      "No. Observations:                  20   AIC:                             119.0\n",
      "Df Residuals:                      18   BIC:                             121.0\n",
      "Df Model:                           1                                         \n",
      "Covariance Type:            nonrobust                                         \n",
      "==============================================================================\n",
      "                 coef    std err          t      P>|t|      [0.025      0.975]\n",
      "------------------------------------------------------------------------------\n",
      "const       1.221e-15      1.010   1.21e-15      1.000      -2.122       2.122\n",
      "0              1.2239      0.552      2.216      0.040       0.064       2.384\n",
      "==============================================================================\n",
      "Omnibus:                        4.394   Durbin-Watson:                   1.697\n",
      "Prob(Omnibus):                  0.111   Jarque-Bera (JB):                2.526\n",
      "Skew:                           0.834   Prob(JB):                        0.283\n",
      "Kurtosis:                       3.501   Cond. No.                         1.83\n",
      "==============================================================================\n",
      "\n",
      "Notes:\n",
      "[1] Standard Errors assume that the covariance matrix of the errors is correctly specified.\n"
     ]
    }
   ],
   "source": [
    "Y = R1\n",
    "X = R2 \n",
    "X = sm.add_constant(X) # adding a constant\n",
    "\n",
    "residual_model = sm.OLS(Y,X).fit()\n",
    "print(residual_model.summary())"
   ]
  },
  {
   "cell_type": "markdown",
   "id": "ad4f9020",
   "metadata": {},
   "source": [
    "Check the coefficient : 1.2239 => same as the coefficient of below5K (1.2239) in MLR_model. <br>\n",
    "    **Magic? No - Partialing out phenomenon of regression !! **\n",
    "    "
   ]
  }
 ],
 "metadata": {
  "kernelspec": {
   "display_name": "Python 3 (ipykernel)",
   "language": "python",
   "name": "python3"
  },
  "language_info": {
   "codemirror_mode": {
    "name": "ipython",
    "version": 3
   },
   "file_extension": ".py",
   "mimetype": "text/x-python",
   "name": "python",
   "nbconvert_exporter": "python",
   "pygments_lexer": "ipython3",
   "version": "3.9.12"
  }
 },
 "nbformat": 4,
 "nbformat_minor": 5
}
