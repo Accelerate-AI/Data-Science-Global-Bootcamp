{
 "cells": [
  {
   "cell_type": "markdown",
   "id": "96a1e178",
   "metadata": {},
   "source": [
    "# AccelerateAI - Data Science Global Bootcamp\n",
    "\n",
    "### Stepwise Regression - For Variable Selection\n",
    "\n",
    "Stepwise Regression is a method for predictor selection for the purpose of fitting a regression model.\n",
    "<br>\n",
    "In stepwise regression, variables are recursively added to or removed from the regression equation one by one till there is no more significant improvement in the predictability of the model.<br>\n",
    "There are three ways to do Stepwise Regression:\n",
    "1. Forward Selection - Predictors are recursively added to the regression equation till model converges\n",
    "2. Backward Elemination - Predictors are recursively removed from the equation containing all predictors\n",
    "3. Bidirectional Elemination - Predictors are added as well as removed iteratively\n",
    "\n",
    "In this notebook we will impliment one of three types of stepwise regression models.\n",
    "\n",
    "<b>Warning</b> : Although useful in identifying the best predictors which explain the target variable, Stepwise regression is not without its set of controversies and should not be applied blindly to any problem. <br>\n",
    "For details please read : https://towardsdatascience.com/stopping-stepwise-why-stepwise-selection-is-bad-and-what-you-should-use-instead-90818b3f52df\n"
   ]
  },
  {
   "cell_type": "markdown",
   "id": "425e8534",
   "metadata": {},
   "source": [
    "### 50 StartUp Dataset \n",
    "This is a dataset for 50 startups and their financial metrics. "
   ]
  },
  {
   "cell_type": "code",
   "execution_count": 1,
   "id": "9304b750",
   "metadata": {},
   "outputs": [],
   "source": [
    "# import the necessary libraries\n",
    "import pandas as pd\n",
    "import numpy as np\n",
    "import seaborn as sns\n",
    "import statsmodels.api as sm\n",
    "from sklearn.model_selection import train_test_split\n",
    "import warnings\n",
    "warnings.filterwarnings('ignore')"
   ]
  },
  {
   "cell_type": "code",
   "execution_count": 2,
   "id": "5df8b072",
   "metadata": {},
   "outputs": [
    {
     "data": {
      "text/html": [
       "<div>\n",
       "<style scoped>\n",
       "    .dataframe tbody tr th:only-of-type {\n",
       "        vertical-align: middle;\n",
       "    }\n",
       "\n",
       "    .dataframe tbody tr th {\n",
       "        vertical-align: top;\n",
       "    }\n",
       "\n",
       "    .dataframe thead th {\n",
       "        text-align: right;\n",
       "    }\n",
       "</style>\n",
       "<table border=\"1\" class=\"dataframe\">\n",
       "  <thead>\n",
       "    <tr style=\"text-align: right;\">\n",
       "      <th></th>\n",
       "      <th>R&amp;D Spend</th>\n",
       "      <th>Administration</th>\n",
       "      <th>Marketing Spend</th>\n",
       "      <th>State</th>\n",
       "      <th>Profit</th>\n",
       "    </tr>\n",
       "  </thead>\n",
       "  <tbody>\n",
       "    <tr>\n",
       "      <th>0</th>\n",
       "      <td>153441.51</td>\n",
       "      <td>101145.55</td>\n",
       "      <td>407934.5400</td>\n",
       "      <td>Florida</td>\n",
       "      <td>221050.39</td>\n",
       "    </tr>\n",
       "    <tr>\n",
       "      <th>1</th>\n",
       "      <td>142107.34</td>\n",
       "      <td>91391.77</td>\n",
       "      <td>366168.4200</td>\n",
       "      <td>Florida</td>\n",
       "      <td>196187.94</td>\n",
       "    </tr>\n",
       "    <tr>\n",
       "      <th>2</th>\n",
       "      <td>165349.20</td>\n",
       "      <td>136897.80</td>\n",
       "      <td>444985.8024</td>\n",
       "      <td>New York</td>\n",
       "      <td>192261.83</td>\n",
       "    </tr>\n",
       "    <tr>\n",
       "      <th>3</th>\n",
       "      <td>162597.70</td>\n",
       "      <td>151377.59</td>\n",
       "      <td>443898.5300</td>\n",
       "      <td>California</td>\n",
       "      <td>191792.06</td>\n",
       "    </tr>\n",
       "    <tr>\n",
       "      <th>4</th>\n",
       "      <td>130298.13</td>\n",
       "      <td>145530.06</td>\n",
       "      <td>323876.6800</td>\n",
       "      <td>Florida</td>\n",
       "      <td>185752.60</td>\n",
       "    </tr>\n",
       "  </tbody>\n",
       "</table>\n",
       "</div>"
      ],
      "text/plain": [
       "   R&D Spend  Administration  Marketing Spend       State     Profit\n",
       "0  153441.51       101145.55      407934.5400     Florida  221050.39\n",
       "1  142107.34        91391.77      366168.4200     Florida  196187.94\n",
       "2  165349.20       136897.80      444985.8024    New York  192261.83\n",
       "3  162597.70       151377.59      443898.5300  California  191792.06\n",
       "4  130298.13       145530.06      323876.6800     Florida  185752.60"
      ]
     },
     "execution_count": 2,
     "metadata": {},
     "output_type": "execute_result"
    }
   ],
   "source": [
    "# import the dataset\n",
    "df = pd.read_csv('50_Startups_data.csv')\n",
    "# first five entries of the dataset\n",
    "df.head()"
   ]
  },
  {
   "cell_type": "code",
   "execution_count": 3,
   "id": "a3257e9f",
   "metadata": {},
   "outputs": [
    {
     "data": {
      "text/plain": [
       "<seaborn.axisgrid.PairGrid at 0x228b9fe1ee0>"
      ]
     },
     "execution_count": 3,
     "metadata": {},
     "output_type": "execute_result"
    },
    {
     "data": {
      "image/png": "[encoded data removed]",
      "text/plain": [
       "<Figure size 540x180 with 3 Axes>"
      ]
     },
     "metadata": {
      "needs_background": "light"
     },
     "output_type": "display_data"
    }
   ],
   "source": [
    "# Lets look at relationship of Profit with the numerical predictors\n",
    "sns.pairplot(df,     \n",
    "             x_vars=['R&D Spend', 'Administration', 'Marketing Spend'],\n",
    "             y_vars=['Profit'])"
   ]
  },
  {
   "cell_type": "code",
   "execution_count": 4,
   "id": "cf331c9f",
   "metadata": {},
   "outputs": [
    {
     "data": {
      "text/plain": [
       "<AxesSubplot:xlabel='State', ylabel='Profit'>"
      ]
     },
     "execution_count": 4,
     "metadata": {},
     "output_type": "execute_result"
    },
    {
     "data": {
      "image/png": "[encoded data removed]",
      "text/plain": [
       "<Figure size 432x288 with 1 Axes>"
      ]
     },
     "metadata": {
      "needs_background": "light"
     },
     "output_type": "display_data"
    }
   ],
   "source": [
    "# How does the Profit vary in different States\n",
    "sns.boxplot(y=\"Profit\", x=\"State\", data=df)"
   ]
  },
  {
   "cell_type": "code",
   "execution_count": 5,
   "id": "edb8e35c",
   "metadata": {},
   "outputs": [
    {
     "data": {
      "text/plain": [
       "<AxesSubplot:xlabel='Profit', ylabel='Density'>"
      ]
     },
     "execution_count": 5,
     "metadata": {},
     "output_type": "execute_result"
    },
    {
     "data": {
      "image/png": "[encoded data removed]",
      "text/plain": [
       "<Figure size 432x288 with 1 Axes>"
      ]
     },
     "metadata": {
      "needs_background": "light"
     },
     "output_type": "display_data"
    }
   ],
   "source": [
    "# Distribution of Profit\n",
    "sns.kdeplot(x=df.Profit)"
   ]
  },
  {
   "cell_type": "code",
   "execution_count": 6,
   "id": "cf10d46e",
   "metadata": {},
   "outputs": [
    {
     "data": {
      "text/html": [
       "<div>\n",
       "<style scoped>\n",
       "    .dataframe tbody tr th:only-of-type {\n",
       "        vertical-align: middle;\n",
       "    }\n",
       "\n",
       "    .dataframe tbody tr th {\n",
       "        vertical-align: top;\n",
       "    }\n",
       "\n",
       "    .dataframe thead th {\n",
       "        text-align: right;\n",
       "    }\n",
       "</style>\n",
       "<table border=\"1\" class=\"dataframe\">\n",
       "  <thead>\n",
       "    <tr style=\"text-align: right;\">\n",
       "      <th></th>\n",
       "      <th>R&amp;D Spend</th>\n",
       "      <th>Administration</th>\n",
       "      <th>Marketing Spend</th>\n",
       "      <th>State</th>\n",
       "    </tr>\n",
       "  </thead>\n",
       "  <tbody>\n",
       "    <tr>\n",
       "      <th>0</th>\n",
       "      <td>153441.51</td>\n",
       "      <td>101145.55</td>\n",
       "      <td>407934.5400</td>\n",
       "      <td>Florida</td>\n",
       "    </tr>\n",
       "    <tr>\n",
       "      <th>1</th>\n",
       "      <td>142107.34</td>\n",
       "      <td>91391.77</td>\n",
       "      <td>366168.4200</td>\n",
       "      <td>Florida</td>\n",
       "    </tr>\n",
       "    <tr>\n",
       "      <th>2</th>\n",
       "      <td>165349.20</td>\n",
       "      <td>136897.80</td>\n",
       "      <td>444985.8024</td>\n",
       "      <td>New York</td>\n",
       "    </tr>\n",
       "    <tr>\n",
       "      <th>3</th>\n",
       "      <td>162597.70</td>\n",
       "      <td>151377.59</td>\n",
       "      <td>443898.5300</td>\n",
       "      <td>California</td>\n",
       "    </tr>\n",
       "    <tr>\n",
       "      <th>4</th>\n",
       "      <td>130298.13</td>\n",
       "      <td>145530.06</td>\n",
       "      <td>323876.6800</td>\n",
       "      <td>Florida</td>\n",
       "    </tr>\n",
       "  </tbody>\n",
       "</table>\n",
       "</div>"
      ],
      "text/plain": [
       "   R&D Spend  Administration  Marketing Spend       State\n",
       "0  153441.51       101145.55      407934.5400     Florida\n",
       "1  142107.34        91391.77      366168.4200     Florida\n",
       "2  165349.20       136897.80      444985.8024    New York\n",
       "3  162597.70       151377.59      443898.5300  California\n",
       "4  130298.13       145530.06      323876.6800     Florida"
      ]
     },
     "execution_count": 6,
     "metadata": {},
     "output_type": "execute_result"
    }
   ],
   "source": [
    "# split the dataframe into dependent and independent variables.\n",
    "x = df[['R&D Spend', 'Administration', 'Marketing Spend', 'State']]\n",
    "y = df['Profit']\n",
    "x.head()"
   ]
  },
  {
   "cell_type": "code",
   "execution_count": 7,
   "id": "2794b6bb",
   "metadata": {},
   "outputs": [
    {
     "data": {
      "text/plain": [
       "0    221050.39\n",
       "1    196187.94\n",
       "2    192261.83\n",
       "3    191792.06\n",
       "4    185752.60\n",
       "Name: Profit, dtype: float64"
      ]
     },
     "execution_count": 7,
     "metadata": {},
     "output_type": "execute_result"
    }
   ],
   "source": [
    "y.head()"
   ]
  },
  {
   "cell_type": "code",
   "execution_count": 8,
   "id": "df9d5118",
   "metadata": {},
   "outputs": [
    {
     "data": {
      "text/html": [
       "<div>\n",
       "<style scoped>\n",
       "    .dataframe tbody tr th:only-of-type {\n",
       "        vertical-align: middle;\n",
       "    }\n",
       "\n",
       "    .dataframe tbody tr th {\n",
       "        vertical-align: top;\n",
       "    }\n",
       "\n",
       "    .dataframe thead th {\n",
       "        text-align: right;\n",
       "    }\n",
       "</style>\n",
       "<table border=\"1\" class=\"dataframe\">\n",
       "  <thead>\n",
       "    <tr style=\"text-align: right;\">\n",
       "      <th></th>\n",
       "      <th>R&amp;D Spend</th>\n",
       "      <th>Administration</th>\n",
       "      <th>Marketing Spend</th>\n",
       "      <th>State_Florida</th>\n",
       "      <th>State_New York</th>\n",
       "    </tr>\n",
       "  </thead>\n",
       "  <tbody>\n",
       "    <tr>\n",
       "      <th>0</th>\n",
       "      <td>153441.51</td>\n",
       "      <td>101145.55</td>\n",
       "      <td>407934.5400</td>\n",
       "      <td>1</td>\n",
       "      <td>0</td>\n",
       "    </tr>\n",
       "    <tr>\n",
       "      <th>1</th>\n",
       "      <td>142107.34</td>\n",
       "      <td>91391.77</td>\n",
       "      <td>366168.4200</td>\n",
       "      <td>1</td>\n",
       "      <td>0</td>\n",
       "    </tr>\n",
       "    <tr>\n",
       "      <th>2</th>\n",
       "      <td>165349.20</td>\n",
       "      <td>136897.80</td>\n",
       "      <td>444985.8024</td>\n",
       "      <td>0</td>\n",
       "      <td>1</td>\n",
       "    </tr>\n",
       "    <tr>\n",
       "      <th>3</th>\n",
       "      <td>162597.70</td>\n",
       "      <td>151377.59</td>\n",
       "      <td>443898.5300</td>\n",
       "      <td>0</td>\n",
       "      <td>0</td>\n",
       "    </tr>\n",
       "    <tr>\n",
       "      <th>4</th>\n",
       "      <td>130298.13</td>\n",
       "      <td>145530.06</td>\n",
       "      <td>323876.6800</td>\n",
       "      <td>1</td>\n",
       "      <td>0</td>\n",
       "    </tr>\n",
       "  </tbody>\n",
       "</table>\n",
       "</div>"
      ],
      "text/plain": [
       "   R&D Spend  Administration  Marketing Spend  State_Florida  State_New York\n",
       "0  153441.51       101145.55      407934.5400              1               0\n",
       "1  142107.34        91391.77      366168.4200              1               0\n",
       "2  165349.20       136897.80      444985.8024              0               1\n",
       "3  162597.70       151377.59      443898.5300              0               0\n",
       "4  130298.13       145530.06      323876.6800              1               0"
      ]
     },
     "execution_count": 8,
     "metadata": {},
     "output_type": "execute_result"
    }
   ],
   "source": [
    "# since the state is a string datatype column we need to encode it.\n",
    "x = pd.get_dummies(x,drop_first=True)\n",
    "x.head()"
   ]
  },
  {
   "cell_type": "code",
   "execution_count": 9,
   "id": "cf290907",
   "metadata": {},
   "outputs": [
    {
     "data": {
      "text/plain": [
       "Index(['R&D Spend', 'Administration', 'Marketing Spend', 'State_Florida',\n",
       "       'State_New York'],\n",
       "      dtype='object')"
      ]
     },
     "execution_count": 9,
     "metadata": {},
     "output_type": "execute_result"
    }
   ],
   "source": [
    "x.columns"
   ]
  },
  {
   "cell_type": "code",
   "execution_count": 10,
   "id": "bc1394fa",
   "metadata": {},
   "outputs": [
    {
     "data": {
      "text/html": [
       "<table class=\"simpletable\">\n",
       "<caption>OLS Regression Results</caption>\n",
       "<tr>\n",
       "  <th>Dep. Variable:</th>         <td>Profit</td>      <th>  R-squared:         </th> <td>   0.960</td>\n",
       "</tr>\n",
       "<tr>\n",
       "  <th>Model:</th>                   <td>OLS</td>       <th>  Adj. R-squared:    </th> <td>   0.956</td>\n",
       "</tr>\n",
       "<tr>\n",
       "  <th>Method:</th>             <td>Least Squares</td>  <th>  F-statistic:       </th> <td>   213.4</td>\n",
       "</tr>\n",
       "<tr>\n",
       "  <th>Date:</th>             <td>Sun, 04 Sep 2022</td> <th>  Prob (F-statistic):</th> <td>1.12e-29</td>\n",
       "</tr>\n",
       "<tr>\n",
       "  <th>Time:</th>                 <td>15:46:08</td>     <th>  Log-Likelihood:    </th> <td> -524.58</td>\n",
       "</tr>\n",
       "<tr>\n",
       "  <th>No. Observations:</th>      <td>    50</td>      <th>  AIC:               </th> <td>   1061.</td>\n",
       "</tr>\n",
       "<tr>\n",
       "  <th>Df Residuals:</th>          <td>    44</td>      <th>  BIC:               </th> <td>   1073.</td>\n",
       "</tr>\n",
       "<tr>\n",
       "  <th>Df Model:</th>              <td>     5</td>      <th>                     </th>     <td> </td>   \n",
       "</tr>\n",
       "<tr>\n",
       "  <th>Covariance Type:</th>      <td>nonrobust</td>    <th>                     </th>     <td> </td>   \n",
       "</tr>\n",
       "</table>\n",
       "<table class=\"simpletable\">\n",
       "<tr>\n",
       "         <td></td>            <th>coef</th>     <th>std err</th>      <th>t</th>      <th>P>|t|</th>  <th>[0.025</th>    <th>0.975]</th>  \n",
       "</tr>\n",
       "<tr>\n",
       "  <th>const</th>           <td> 4.756e+04</td> <td> 7106.983</td> <td>    6.692</td> <td> 0.000</td> <td> 3.32e+04</td> <td> 6.19e+04</td>\n",
       "</tr>\n",
       "<tr>\n",
       "  <th>R&D Spend</th>       <td>    0.7653</td> <td>    0.057</td> <td>   13.536</td> <td> 0.000</td> <td>    0.651</td> <td>    0.879</td>\n",
       "</tr>\n",
       "<tr>\n",
       "  <th>Administration</th>  <td>   -0.0126</td> <td>    0.053</td> <td>   -0.238</td> <td> 0.813</td> <td>   -0.119</td> <td>    0.094</td>\n",
       "</tr>\n",
       "<tr>\n",
       "  <th>Marketing Spend</th> <td>    0.0429</td> <td>    0.021</td> <td>    1.998</td> <td> 0.052</td> <td>   -0.000</td> <td>    0.086</td>\n",
       "</tr>\n",
       "<tr>\n",
       "  <th>State_Florida</th>   <td> 3.061e+04</td> <td> 3279.190</td> <td>    9.333</td> <td> 0.000</td> <td>  2.4e+04</td> <td> 3.72e+04</td>\n",
       "</tr>\n",
       "<tr>\n",
       "  <th>State_New York</th>  <td> 1259.4824</td> <td> 3269.603</td> <td>    0.385</td> <td> 0.702</td> <td>-5329.970</td> <td> 7848.934</td>\n",
       "</tr>\n",
       "</table>\n",
       "<table class=\"simpletable\">\n",
       "<tr>\n",
       "  <th>Omnibus:</th>       <td>15.599</td> <th>  Durbin-Watson:     </th> <td>   1.452</td>\n",
       "</tr>\n",
       "<tr>\n",
       "  <th>Prob(Omnibus):</th> <td> 0.000</td> <th>  Jarque-Bera (JB):  </th> <td>  23.211</td>\n",
       "</tr>\n",
       "<tr>\n",
       "  <th>Skew:</th>          <td>-0.985</td> <th>  Prob(JB):          </th> <td>9.12e-06</td>\n",
       "</tr>\n",
       "<tr>\n",
       "  <th>Kurtosis:</th>      <td> 5.694</td> <th>  Cond. No.          </th> <td>1.51e+06</td>\n",
       "</tr>\n",
       "</table><br/><br/>Notes:<br/>[1] Standard Errors assume that the covariance matrix of the errors is correctly specified.<br/>[2] The condition number is large, 1.51e+06. This might indicate that there are<br/>strong multicollinearity or other numerical problems."
      ],
      "text/plain": [
       "<class 'statsmodels.iolib.summary.Summary'>\n",
       "\"\"\"\n",
       "                            OLS Regression Results                            \n",
       "==============================================================================\n",
       "Dep. Variable:                 Profit   R-squared:                       0.960\n",
       "Model:                            OLS   Adj. R-squared:                  0.956\n",
       "Method:                 Least Squares   F-statistic:                     213.4\n",
       "Date:                Sun, 04 Sep 2022   Prob (F-statistic):           1.12e-29\n",
       "Time:                        15:46:08   Log-Likelihood:                -524.58\n",
       "No. Observations:                  50   AIC:                             1061.\n",
       "Df Residuals:                      44   BIC:                             1073.\n",
       "Df Model:                           5                                         \n",
       "Covariance Type:            nonrobust                                         \n",
       "===================================================================================\n",
       "                      coef    std err          t      P>|t|      [0.025      0.975]\n",
       "-----------------------------------------------------------------------------------\n",
       "const            4.756e+04   7106.983      6.692      0.000    3.32e+04    6.19e+04\n",
       "R&D Spend           0.7653      0.057     13.536      0.000       0.651       0.879\n",
       "Administration     -0.0126      0.053     -0.238      0.813      -0.119       0.094\n",
       "Marketing Spend     0.0429      0.021      1.998      0.052      -0.000       0.086\n",
       "State_Florida    3.061e+04   3279.190      9.333      0.000     2.4e+04    3.72e+04\n",
       "State_New York   1259.4824   3269.603      0.385      0.702   -5329.970    7848.934\n",
       "==============================================================================\n",
       "Omnibus:                       15.599   Durbin-Watson:                   1.452\n",
       "Prob(Omnibus):                  0.000   Jarque-Bera (JB):               23.211\n",
       "Skew:                          -0.985   Prob(JB):                     9.12e-06\n",
       "Kurtosis:                       5.694   Cond. No.                     1.51e+06\n",
       "==============================================================================\n",
       "\n",
       "Notes:\n",
       "[1] Standard Errors assume that the covariance matrix of the errors is correctly specified.\n",
       "[2] The condition number is large, 1.51e+06. This might indicate that there are\n",
       "strong multicollinearity or other numerical problems.\n",
       "\"\"\""
      ]
     },
     "execution_count": 10,
     "metadata": {},
     "output_type": "execute_result"
    }
   ],
   "source": [
    "# add a column of ones as integer data type\n",
    "x = sm.add_constant(x)\n",
    "# choose a Significance level usually 0.05, if p>0.05\n",
    "# for the highest values parameter, remove that value\n",
    "x_opt = x\n",
    "ols = sm.OLS(endog = y, exog = x_opt).fit()\n",
    "ols.summary()\n"
   ]
  },
  {
   "cell_type": "markdown",
   "id": "5f501578",
   "metadata": {},
   "source": [
    "### Forward Selection"
   ]
  },
  {
   "cell_type": "code",
   "execution_count": 11,
   "id": "6ce45784",
   "metadata": {},
   "outputs": [
    {
     "data": {
      "text/html": [
       "<div>\n",
       "<style scoped>\n",
       "    .dataframe tbody tr th:only-of-type {\n",
       "        vertical-align: middle;\n",
       "    }\n",
       "\n",
       "    .dataframe tbody tr th {\n",
       "        vertical-align: top;\n",
       "    }\n",
       "\n",
       "    .dataframe thead th {\n",
       "        text-align: right;\n",
       "    }\n",
       "</style>\n",
       "<table border=\"1\" class=\"dataframe\">\n",
       "  <thead>\n",
       "    <tr style=\"text-align: right;\">\n",
       "      <th></th>\n",
       "      <th>const</th>\n",
       "      <th>R&amp;D Spend</th>\n",
       "      <th>Administration</th>\n",
       "      <th>Marketing Spend</th>\n",
       "      <th>State_Florida</th>\n",
       "      <th>State_New York</th>\n",
       "    </tr>\n",
       "  </thead>\n",
       "  <tbody>\n",
       "    <tr>\n",
       "      <th>0</th>\n",
       "      <td>1.0</td>\n",
       "      <td>153441.51</td>\n",
       "      <td>101145.55</td>\n",
       "      <td>407934.5400</td>\n",
       "      <td>1</td>\n",
       "      <td>0</td>\n",
       "    </tr>\n",
       "    <tr>\n",
       "      <th>1</th>\n",
       "      <td>1.0</td>\n",
       "      <td>142107.34</td>\n",
       "      <td>91391.77</td>\n",
       "      <td>366168.4200</td>\n",
       "      <td>1</td>\n",
       "      <td>0</td>\n",
       "    </tr>\n",
       "    <tr>\n",
       "      <th>2</th>\n",
       "      <td>1.0</td>\n",
       "      <td>165349.20</td>\n",
       "      <td>136897.80</td>\n",
       "      <td>444985.8024</td>\n",
       "      <td>0</td>\n",
       "      <td>1</td>\n",
       "    </tr>\n",
       "    <tr>\n",
       "      <th>3</th>\n",
       "      <td>1.0</td>\n",
       "      <td>162597.70</td>\n",
       "      <td>151377.59</td>\n",
       "      <td>443898.5300</td>\n",
       "      <td>0</td>\n",
       "      <td>0</td>\n",
       "    </tr>\n",
       "    <tr>\n",
       "      <th>4</th>\n",
       "      <td>1.0</td>\n",
       "      <td>130298.13</td>\n",
       "      <td>145530.06</td>\n",
       "      <td>323876.6800</td>\n",
       "      <td>1</td>\n",
       "      <td>0</td>\n",
       "    </tr>\n",
       "  </tbody>\n",
       "</table>\n",
       "</div>"
      ],
      "text/plain": [
       "   const  R&D Spend  Administration  Marketing Spend  State_Florida  \\\n",
       "0    1.0  153441.51       101145.55      407934.5400              1   \n",
       "1    1.0  142107.34        91391.77      366168.4200              1   \n",
       "2    1.0  165349.20       136897.80      444985.8024              0   \n",
       "3    1.0  162597.70       151377.59      443898.5300              0   \n",
       "4    1.0  130298.13       145530.06      323876.6800              1   \n",
       "\n",
       "   State_New York  \n",
       "0               0  \n",
       "1               0  \n",
       "2               1  \n",
       "3               0  \n",
       "4               0  "
      ]
     },
     "execution_count": 11,
     "metadata": {},
     "output_type": "execute_result"
    }
   ],
   "source": [
    "x.head() # Dataframe containing Predictors and constant"
   ]
  },
  {
   "cell_type": "code",
   "execution_count": 12,
   "id": "e370b380",
   "metadata": {},
   "outputs": [
    {
     "data": {
      "text/plain": [
       "0    221050.39\n",
       "1    196187.94\n",
       "2    192261.83\n",
       "3    191792.06\n",
       "4    185752.60\n",
       "Name: Profit, dtype: float64"
      ]
     },
     "execution_count": 12,
     "metadata": {},
     "output_type": "execute_result"
    }
   ],
   "source": [
    "y.head() # Series containing target variable "
   ]
  },
  {
   "cell_type": "code",
   "execution_count": 13,
   "id": "94717833",
   "metadata": {},
   "outputs": [
    {
     "name": "stdout",
     "output_type": "stream",
     "text": [
      "extracted pvalue for const is 1.1147452104978925e-24\n",
      "adj R Sq. is 1.1102230246251565e-16\n",
      "----------------------------------------------\n",
      "extracted pvalue for R&D Spend is 5.3393314812684876e-30\n",
      "adj R Sq. is 0.9288868632033576\n",
      "----------------------------------------------\n",
      "extracted pvalue for Administration is 3.967418064879962e-23\n",
      "adj R Sq. is 0.8645420599566076\n",
      "----------------------------------------------\n",
      "extracted pvalue for Marketing Spend is 7.33597664780061e-28\n",
      "adj R Sq. is 0.9130896495440518\n",
      "----------------------------------------------\n",
      "extracted pvalue for State_Florida is 2.2997672113948263e-07\n",
      "adj R Sq. is 0.4121749277786\n",
      "----------------------------------------------\n",
      "extracted pvalue for State_New York is 0.00011778052071553875\n",
      "adj R Sq. is 0.24830954721373932\n",
      "----------------------------------------------\n"
     ]
    }
   ],
   "source": [
    "# choose a Significance level of .05 and select the predictor with lowest p value - provided its p value is less than .05\n",
    "\n",
    "x_opt = x # initializing the dataframe containing optional/trial variable(s)\n",
    "pvalue_df = pd.DataFrame() # Blank dataframe to store p values\n",
    "for i in x:\n",
    "    x_opt=x[i]\n",
    "    results = sm.OLS(y,x_opt).fit()\n",
    "    pvalue_df=pvalue_df.append(pd.DataFrame(zip([i],[float(results.pvalues)]),columns =['Predictor', 'pvalue']))\n",
    "    print(\"extracted pvalue for {} is {}\".format(i,float(results.pvalues)))\n",
    "    print('adj R Sq. is',results.rsquared_adj)\n",
    "    print('----------------------------------------------')"
   ]
  },
  {
   "cell_type": "code",
   "execution_count": 14,
   "id": "2e31b8d8",
   "metadata": {},
   "outputs": [],
   "source": [
    "pvalue_df = pvalue_df[pvalue_df[\"Predictor\"].str.contains(\"const\") == False]"
   ]
  },
  {
   "cell_type": "code",
   "execution_count": 15,
   "id": "4ecba013",
   "metadata": {},
   "outputs": [],
   "source": [
    "pvalue_df.sort_values('pvalue',inplace=True)"
   ]
  },
  {
   "cell_type": "code",
   "execution_count": 16,
   "id": "e37f593c",
   "metadata": {},
   "outputs": [
    {
     "data": {
      "text/html": [
       "<div>\n",
       "<style scoped>\n",
       "    .dataframe tbody tr th:only-of-type {\n",
       "        vertical-align: middle;\n",
       "    }\n",
       "\n",
       "    .dataframe tbody tr th {\n",
       "        vertical-align: top;\n",
       "    }\n",
       "\n",
       "    .dataframe thead th {\n",
       "        text-align: right;\n",
       "    }\n",
       "</style>\n",
       "<table border=\"1\" class=\"dataframe\">\n",
       "  <thead>\n",
       "    <tr style=\"text-align: right;\">\n",
       "      <th></th>\n",
       "      <th>Predictor</th>\n",
       "      <th>pvalue</th>\n",
       "    </tr>\n",
       "  </thead>\n",
       "  <tbody>\n",
       "    <tr>\n",
       "      <th>0</th>\n",
       "      <td>R&amp;D Spend</td>\n",
       "      <td>5.339331e-30</td>\n",
       "    </tr>\n",
       "    <tr>\n",
       "      <th>0</th>\n",
       "      <td>Marketing Spend</td>\n",
       "      <td>7.335977e-28</td>\n",
       "    </tr>\n",
       "    <tr>\n",
       "      <th>0</th>\n",
       "      <td>Administration</td>\n",
       "      <td>3.967418e-23</td>\n",
       "    </tr>\n",
       "    <tr>\n",
       "      <th>0</th>\n",
       "      <td>State_Florida</td>\n",
       "      <td>2.299767e-07</td>\n",
       "    </tr>\n",
       "    <tr>\n",
       "      <th>0</th>\n",
       "      <td>State_New York</td>\n",
       "      <td>1.177805e-04</td>\n",
       "    </tr>\n",
       "  </tbody>\n",
       "</table>\n",
       "</div>"
      ],
      "text/plain": [
       "         Predictor        pvalue\n",
       "0        R&D Spend  5.339331e-30\n",
       "0  Marketing Spend  7.335977e-28\n",
       "0   Administration  3.967418e-23\n",
       "0    State_Florida  2.299767e-07\n",
       "0   State_New York  1.177805e-04"
      ]
     },
     "execution_count": 16,
     "metadata": {},
     "output_type": "execute_result"
    }
   ],
   "source": [
    "pvalue_df"
   ]
  },
  {
   "cell_type": "code",
   "execution_count": 17,
   "id": "85c10bfe",
   "metadata": {},
   "outputs": [],
   "source": [
    "# Extract the name of the variable having lowest pvalue and push it into a list \n",
    "a = list(pvalue_df[\"Predictor\"])\n",
    "b = [a.pop(0)]"
   ]
  },
  {
   "cell_type": "code",
   "execution_count": 18,
   "id": "1d6c8e58",
   "metadata": {},
   "outputs": [
    {
     "data": {
      "text/plain": [
       "['R&D Spend']"
      ]
     },
     "execution_count": 18,
     "metadata": {},
     "output_type": "execute_result"
    }
   ],
   "source": [
    "b  # list containing name of the selected variable in first iteration"
   ]
  },
  {
   "cell_type": "code",
   "execution_count": 19,
   "id": "4ee46e0d",
   "metadata": {},
   "outputs": [
    {
     "data": {
      "text/plain": [
       "['Marketing Spend', 'Administration', 'State_Florida', 'State_New York']"
      ]
     },
     "execution_count": 19,
     "metadata": {},
     "output_type": "execute_result"
    }
   ],
   "source": [
    "a # list containing names of the trial variables"
   ]
  },
  {
   "cell_type": "code",
   "execution_count": 20,
   "id": "cdab8882",
   "metadata": {},
   "outputs": [
    {
     "name": "stdout",
     "output_type": "stream",
     "text": [
      "extracted pvalue for Marketing Spend is 0.02272290597857474\n",
      "extracted pvalue for R&D Spend is 2.095474647468626e-10\n",
      "adj R Sq. is 0.8571765545674251\n",
      "----------------------------------------------\n",
      "extracted pvalue for Administration is 0.5121114153310937\n",
      "extracted pvalue for R&D Spend is 1.645683981850738e-20\n",
      "adj R Sq. is 0.8417851645227038\n",
      "----------------------------------------------\n",
      "extracted pvalue for State_Florida is 2.872386305730807e-14\n",
      "extracted pvalue for R&D Spend is 1.9446734772995177e-31\n",
      "adj R Sq. is 0.9538826483868297\n",
      "----------------------------------------------\n",
      "extracted pvalue for State_New York is 0.002580118851408412\n",
      "extracted pvalue for R&D Spend is 1.3210925621291433e-22\n",
      "adj R Sq. is 0.8686442079738934\n",
      "----------------------------------------------\n"
     ]
    }
   ],
   "source": [
    "# Now we select the variable containing lowest p value and add variavles one at a time iterativelty to check in which\n",
    "# combination we get the new variable with lowest p value.\n",
    "\n",
    "x_sel=x[b] #dataframe containing selected variable(s)\n",
    "x_opt=x[a] #dataframe containing optional/trial variable(s)\n",
    "pvalue_df = pd.DataFrame() # Blank dataframe to store p values\n",
    "for i in x_opt:\n",
    "    x_vars=pd.concat([x_sel,x_opt[i]], join = 'outer', axis = 1)\n",
    "    x_vars=sm.add_constant(x_vars)\n",
    "    results = sm.OLS(y,x_vars).fit()\n",
    "    pvalue_df=pvalue_df.append(pd.DataFrame(zip([i],[float(results.pvalues[2])]),columns =['Predictor', 'pvalue']))\n",
    "    print(\"extracted pvalue for {} is {}\".format(i,float(results.pvalues[2])))\n",
    "    print(\"extracted pvalue for\",b[0],\"is\",float(results.pvalues[1]))\n",
    "    print('adj R Sq. is',results.rsquared_adj)\n",
    "    print('----------------------------------------------')"
   ]
  },
  {
   "cell_type": "code",
   "execution_count": 21,
   "id": "a935b115",
   "metadata": {},
   "outputs": [],
   "source": [
    "pvalue_df.sort_values('pvalue',inplace=True)"
   ]
  },
  {
   "cell_type": "code",
   "execution_count": 22,
   "id": "86d6a1fa",
   "metadata": {},
   "outputs": [
    {
     "data": {
      "text/html": [
       "<div>\n",
       "<style scoped>\n",
       "    .dataframe tbody tr th:only-of-type {\n",
       "        vertical-align: middle;\n",
       "    }\n",
       "\n",
       "    .dataframe tbody tr th {\n",
       "        vertical-align: top;\n",
       "    }\n",
       "\n",
       "    .dataframe thead th {\n",
       "        text-align: right;\n",
       "    }\n",
       "</style>\n",
       "<table border=\"1\" class=\"dataframe\">\n",
       "  <thead>\n",
       "    <tr style=\"text-align: right;\">\n",
       "      <th></th>\n",
       "      <th>Predictor</th>\n",
       "      <th>pvalue</th>\n",
       "    </tr>\n",
       "  </thead>\n",
       "  <tbody>\n",
       "    <tr>\n",
       "      <th>0</th>\n",
       "      <td>State_Florida</td>\n",
       "      <td>2.872386e-14</td>\n",
       "    </tr>\n",
       "    <tr>\n",
       "      <th>0</th>\n",
       "      <td>State_New York</td>\n",
       "      <td>2.580119e-03</td>\n",
       "    </tr>\n",
       "    <tr>\n",
       "      <th>0</th>\n",
       "      <td>Marketing Spend</td>\n",
       "      <td>2.272291e-02</td>\n",
       "    </tr>\n",
       "    <tr>\n",
       "      <th>0</th>\n",
       "      <td>Administration</td>\n",
       "      <td>5.121114e-01</td>\n",
       "    </tr>\n",
       "  </tbody>\n",
       "</table>\n",
       "</div>"
      ],
      "text/plain": [
       "         Predictor        pvalue\n",
       "0    State_Florida  2.872386e-14\n",
       "0   State_New York  2.580119e-03\n",
       "0  Marketing Spend  2.272291e-02\n",
       "0   Administration  5.121114e-01"
      ]
     },
     "execution_count": 22,
     "metadata": {},
     "output_type": "execute_result"
    }
   ],
   "source": [
    "pvalue_df"
   ]
  },
  {
   "cell_type": "code",
   "execution_count": 23,
   "id": "a8db4e9f",
   "metadata": {},
   "outputs": [],
   "source": [
    "a=list(pvalue_df[\"Predictor\"])\n",
    "b=b+[a.pop(0)]"
   ]
  },
  {
   "cell_type": "code",
   "execution_count": 24,
   "id": "ef317d60",
   "metadata": {},
   "outputs": [
    {
     "data": {
      "text/plain": [
       "['R&D Spend', 'State_Florida']"
      ]
     },
     "execution_count": 24,
     "metadata": {},
     "output_type": "execute_result"
    }
   ],
   "source": [
    "b"
   ]
  },
  {
   "cell_type": "code",
   "execution_count": 25,
   "id": "913bb6b7",
   "metadata": {},
   "outputs": [
    {
     "data": {
      "text/plain": [
       "['State_New York', 'Marketing Spend', 'Administration']"
      ]
     },
     "execution_count": 25,
     "metadata": {},
     "output_type": "execute_result"
    }
   ],
   "source": [
    "a"
   ]
  },
  {
   "cell_type": "code",
   "execution_count": 26,
   "id": "4aa28974",
   "metadata": {},
   "outputs": [
    {
     "name": "stdout",
     "output_type": "stream",
     "text": [
      "extracted pvalue for State_New York is 0.9977006108844558\n",
      "extracted pvalue for R&D Spend is 1.078480401683906e-30\n",
      "extracted pvalue for State_Florida is 5.033660787665375e-12\n",
      "adj R Sq. is 0.9528801058650875\n",
      "----------------------------------------------\n",
      "extracted pvalue for Marketing Spend is 0.02826112621491504\n",
      "extracted pvalue for R&D Spend is 4.343539069397671e-20\n",
      "extracted pvalue for State_Florida is 6.184998504565829e-14\n",
      "adj R Sq. is 0.9576083089469584\n",
      "----------------------------------------------\n",
      "extracted pvalue for Administration is 0.29613531437881835\n",
      "extracted pvalue for R&D Spend is 1.2565997768907266e-30\n",
      "extracted pvalue for State_Florida is 3.836884857588801e-14\n",
      "adj R Sq. is 0.9539969332273193\n",
      "----------------------------------------------\n"
     ]
    }
   ],
   "source": [
    "x_sel=x[b]\n",
    "x_opt=x[a]\n",
    "pvalue_df = pd.DataFrame()\n",
    "\n",
    "for i in x_opt:\n",
    "    x_vars=pd.concat([x_sel,x_opt[i]], join = 'outer', axis = 1)\n",
    "    x_vars=sm.add_constant(x_vars)\n",
    "    results = sm.OLS(y,x_vars).fit()\n",
    "    pvalue_df=pvalue_df.append(pd.DataFrame(zip([i],[float(results.pvalues[3])]),columns =['Predictor', 'pvalue']))\n",
    "    print(\"extracted pvalue for {} is {}\".format(i,float(results.pvalues[3])))\n",
    "    print(\"extracted pvalue for\",b[0],\"is\",float(results.pvalues[1]))\n",
    "    print(\"extracted pvalue for\",b[1],\"is\",float(results.pvalues[2]))\n",
    "    print('adj R Sq. is',results.rsquared_adj)\n",
    "    print('----------------------------------------------')"
   ]
  },
  {
   "cell_type": "code",
   "execution_count": 27,
   "id": "c19863ee",
   "metadata": {},
   "outputs": [
    {
     "data": {
      "text/html": [
       "<div>\n",
       "<style scoped>\n",
       "    .dataframe tbody tr th:only-of-type {\n",
       "        vertical-align: middle;\n",
       "    }\n",
       "\n",
       "    .dataframe tbody tr th {\n",
       "        vertical-align: top;\n",
       "    }\n",
       "\n",
       "    .dataframe thead th {\n",
       "        text-align: right;\n",
       "    }\n",
       "</style>\n",
       "<table border=\"1\" class=\"dataframe\">\n",
       "  <thead>\n",
       "    <tr style=\"text-align: right;\">\n",
       "      <th></th>\n",
       "      <th>Predictor</th>\n",
       "      <th>pvalue</th>\n",
       "    </tr>\n",
       "  </thead>\n",
       "  <tbody>\n",
       "    <tr>\n",
       "      <th>0</th>\n",
       "      <td>Marketing Spend</td>\n",
       "      <td>0.028261</td>\n",
       "    </tr>\n",
       "    <tr>\n",
       "      <th>0</th>\n",
       "      <td>Administration</td>\n",
       "      <td>0.296135</td>\n",
       "    </tr>\n",
       "    <tr>\n",
       "      <th>0</th>\n",
       "      <td>State_New York</td>\n",
       "      <td>0.997701</td>\n",
       "    </tr>\n",
       "  </tbody>\n",
       "</table>\n",
       "</div>"
      ],
      "text/plain": [
       "         Predictor    pvalue\n",
       "0  Marketing Spend  0.028261\n",
       "0   Administration  0.296135\n",
       "0   State_New York  0.997701"
      ]
     },
     "execution_count": 27,
     "metadata": {},
     "output_type": "execute_result"
    }
   ],
   "source": [
    "pvalue_df.sort_values('pvalue',inplace=True)\n",
    "pvalue_df"
   ]
  },
  {
   "cell_type": "code",
   "execution_count": 28,
   "id": "5e44357b",
   "metadata": {},
   "outputs": [],
   "source": [
    "a=list(pvalue_df[\"Predictor\"])\n",
    "b=b+[a.pop(0)]"
   ]
  },
  {
   "cell_type": "code",
   "execution_count": 29,
   "id": "e9d5dc54",
   "metadata": {},
   "outputs": [
    {
     "data": {
      "text/plain": [
       "['R&D Spend', 'State_Florida', 'Marketing Spend']"
      ]
     },
     "execution_count": 29,
     "metadata": {},
     "output_type": "execute_result"
    }
   ],
   "source": [
    "b"
   ]
  },
  {
   "cell_type": "code",
   "execution_count": 30,
   "id": "f786c2d6",
   "metadata": {},
   "outputs": [
    {
     "data": {
      "text/plain": [
       "['Administration', 'State_New York']"
      ]
     },
     "execution_count": 30,
     "metadata": {},
     "output_type": "execute_result"
    }
   ],
   "source": [
    "a"
   ]
  },
  {
   "cell_type": "code",
   "execution_count": 31,
   "id": "7ffbdb5f",
   "metadata": {},
   "outputs": [
    {
     "name": "stdout",
     "output_type": "stream",
     "text": [
      "extracted pvalue for Administration is 0.7840470304402598\n",
      "extracted pvalue for R&D Spend is 3.919476306002647e-18\n",
      "extracted pvalue for State_Florida is 1.1349121933999249e-13\n",
      "extracted pvalue for Marketing Spend is 0.05396600851380457\n",
      "adj R Sq. is 0.9567393394536166\n",
      "----------------------------------------------\n",
      "extracted pvalue for State_New York is 0.6821410973272577\n",
      "extracted pvalue for R&D Spend is 2.9043372865652533e-19\n",
      "extracted pvalue for State_Florida is 3.1535462578644987e-12\n",
      "extracted pvalue for Marketing Spend is 0.027262951657778048\n",
      "adj R Sq. is 0.9568292829007695\n",
      "----------------------------------------------\n"
     ]
    }
   ],
   "source": [
    "x_sel=x[b]\n",
    "x_opt=x[a]\n",
    "pvalue_df = pd.DataFrame()\n",
    "\n",
    "for i in x_opt:\n",
    "    x_vars=pd.concat([x_sel,x_opt[i]], join = 'outer', axis = 1)\n",
    "    x_vars=sm.add_constant(x_vars)\n",
    "    results = sm.OLS(y,x_vars).fit()\n",
    "    pvalue_df=pvalue_df.append(pd.DataFrame(zip([i],[float(results.pvalues[4])]),columns =['Predictor', 'pvalue']))\n",
    "    print(\"extracted pvalue for {} is {}\".format(i,float(results.pvalues[4])))\n",
    "    print(\"extracted pvalue for\",b[0],\"is\",float(results.pvalues[1]))\n",
    "    print(\"extracted pvalue for\",b[1],\"is\",float(results.pvalues[2]))\n",
    "    print(\"extracted pvalue for\",b[2],\"is\",float(results.pvalues[3]))\n",
    "    print('adj R Sq. is',results.rsquared_adj)\n",
    "    print('----------------------------------------------')\n",
    "    #print(results.summary())\n",
    "    #print(results.pvalues)"
   ]
  },
  {
   "cell_type": "code",
   "execution_count": 32,
   "id": "e67a3126",
   "metadata": {},
   "outputs": [
    {
     "data": {
      "text/html": [
       "<div>\n",
       "<style scoped>\n",
       "    .dataframe tbody tr th:only-of-type {\n",
       "        vertical-align: middle;\n",
       "    }\n",
       "\n",
       "    .dataframe tbody tr th {\n",
       "        vertical-align: top;\n",
       "    }\n",
       "\n",
       "    .dataframe thead th {\n",
       "        text-align: right;\n",
       "    }\n",
       "</style>\n",
       "<table border=\"1\" class=\"dataframe\">\n",
       "  <thead>\n",
       "    <tr style=\"text-align: right;\">\n",
       "      <th></th>\n",
       "      <th>Predictor</th>\n",
       "      <th>pvalue</th>\n",
       "    </tr>\n",
       "  </thead>\n",
       "  <tbody>\n",
       "    <tr>\n",
       "      <th>0</th>\n",
       "      <td>State_New York</td>\n",
       "      <td>0.682141</td>\n",
       "    </tr>\n",
       "    <tr>\n",
       "      <th>0</th>\n",
       "      <td>Administration</td>\n",
       "      <td>0.784047</td>\n",
       "    </tr>\n",
       "  </tbody>\n",
       "</table>\n",
       "</div>"
      ],
      "text/plain": [
       "        Predictor    pvalue\n",
       "0  State_New York  0.682141\n",
       "0  Administration  0.784047"
      ]
     },
     "execution_count": 32,
     "metadata": {},
     "output_type": "execute_result"
    }
   ],
   "source": [
    "pvalue_df.sort_values('pvalue',inplace=True)\n",
    "pvalue_df"
   ]
  },
  {
   "cell_type": "code",
   "execution_count": 33,
   "id": "b4712e41",
   "metadata": {},
   "outputs": [
    {
     "data": {
      "text/plain": [
       "['R&D Spend', 'State_Florida', 'Marketing Spend']"
      ]
     },
     "execution_count": 33,
     "metadata": {},
     "output_type": "execute_result"
    }
   ],
   "source": [
    "b"
   ]
  },
  {
   "cell_type": "markdown",
   "id": "d61206c9",
   "metadata": {},
   "source": [
    "### Using MLXTEND feature selection method"
   ]
  },
  {
   "cell_type": "code",
   "execution_count": 46,
   "id": "cbf05f1b",
   "metadata": {},
   "outputs": [],
   "source": [
    "from mlxtend.feature_selection import SequentialFeatureSelector as sfs\n",
    "from mlxtend.plotting import plot_sequential_feature_selection as plot_sfs\n",
    "\n",
    "from sklearn.linear_model import LinearRegression\n",
    "from sklearn.datasets import load_boston, load_diabetes\n",
    "\n",
    "import matplotlib.pyplot as plt"
   ]
  },
  {
   "cell_type": "code",
   "execution_count": 47,
   "id": "47ca2913",
   "metadata": {},
   "outputs": [],
   "source": [
    "#boston = load_boston()\n",
    "X, y = load_diabetes(return_X_y=True, as_frame=True)\n",
    "lr = LinearRegression()"
   ]
  },
  {
   "cell_type": "code",
   "execution_count": 48,
   "id": "2abdb07e",
   "metadata": {},
   "outputs": [
    {
     "data": {
      "text/html": [
       "<div>\n",
       "<style scoped>\n",
       "    .dataframe tbody tr th:only-of-type {\n",
       "        vertical-align: middle;\n",
       "    }\n",
       "\n",
       "    .dataframe tbody tr th {\n",
       "        vertical-align: top;\n",
       "    }\n",
       "\n",
       "    .dataframe thead th {\n",
       "        text-align: right;\n",
       "    }\n",
       "</style>\n",
       "<table border=\"1\" class=\"dataframe\">\n",
       "  <thead>\n",
       "    <tr style=\"text-align: right;\">\n",
       "      <th></th>\n",
       "      <th>age</th>\n",
       "      <th>sex</th>\n",
       "      <th>bmi</th>\n",
       "      <th>bp</th>\n",
       "      <th>s1</th>\n",
       "      <th>s2</th>\n",
       "      <th>s3</th>\n",
       "      <th>s4</th>\n",
       "      <th>s5</th>\n",
       "      <th>s6</th>\n",
       "    </tr>\n",
       "  </thead>\n",
       "  <tbody>\n",
       "    <tr>\n",
       "      <th>0</th>\n",
       "      <td>0.038076</td>\n",
       "      <td>0.050680</td>\n",
       "      <td>0.061696</td>\n",
       "      <td>0.021872</td>\n",
       "      <td>-0.044223</td>\n",
       "      <td>-0.034821</td>\n",
       "      <td>-0.043401</td>\n",
       "      <td>-0.002592</td>\n",
       "      <td>0.019908</td>\n",
       "      <td>-0.017646</td>\n",
       "    </tr>\n",
       "    <tr>\n",
       "      <th>1</th>\n",
       "      <td>-0.001882</td>\n",
       "      <td>-0.044642</td>\n",
       "      <td>-0.051474</td>\n",
       "      <td>-0.026328</td>\n",
       "      <td>-0.008449</td>\n",
       "      <td>-0.019163</td>\n",
       "      <td>0.074412</td>\n",
       "      <td>-0.039493</td>\n",
       "      <td>-0.068330</td>\n",
       "      <td>-0.092204</td>\n",
       "    </tr>\n",
       "    <tr>\n",
       "      <th>2</th>\n",
       "      <td>0.085299</td>\n",
       "      <td>0.050680</td>\n",
       "      <td>0.044451</td>\n",
       "      <td>-0.005671</td>\n",
       "      <td>-0.045599</td>\n",
       "      <td>-0.034194</td>\n",
       "      <td>-0.032356</td>\n",
       "      <td>-0.002592</td>\n",
       "      <td>0.002864</td>\n",
       "      <td>-0.025930</td>\n",
       "    </tr>\n",
       "    <tr>\n",
       "      <th>3</th>\n",
       "      <td>-0.089063</td>\n",
       "      <td>-0.044642</td>\n",
       "      <td>-0.011595</td>\n",
       "      <td>-0.036656</td>\n",
       "      <td>0.012191</td>\n",
       "      <td>0.024991</td>\n",
       "      <td>-0.036038</td>\n",
       "      <td>0.034309</td>\n",
       "      <td>0.022692</td>\n",
       "      <td>-0.009362</td>\n",
       "    </tr>\n",
       "    <tr>\n",
       "      <th>4</th>\n",
       "      <td>0.005383</td>\n",
       "      <td>-0.044642</td>\n",
       "      <td>-0.036385</td>\n",
       "      <td>0.021872</td>\n",
       "      <td>0.003935</td>\n",
       "      <td>0.015596</td>\n",
       "      <td>0.008142</td>\n",
       "      <td>-0.002592</td>\n",
       "      <td>-0.031991</td>\n",
       "      <td>-0.046641</td>\n",
       "    </tr>\n",
       "  </tbody>\n",
       "</table>\n",
       "</div>"
      ],
      "text/plain": [
       "        age       sex       bmi        bp        s1        s2        s3  \\\n",
       "0  0.038076  0.050680  0.061696  0.021872 -0.044223 -0.034821 -0.043401   \n",
       "1 -0.001882 -0.044642 -0.051474 -0.026328 -0.008449 -0.019163  0.074412   \n",
       "2  0.085299  0.050680  0.044451 -0.005671 -0.045599 -0.034194 -0.032356   \n",
       "3 -0.089063 -0.044642 -0.011595 -0.036656  0.012191  0.024991 -0.036038   \n",
       "4  0.005383 -0.044642 -0.036385  0.021872  0.003935  0.015596  0.008142   \n",
       "\n",
       "         s4        s5        s6  \n",
       "0 -0.002592  0.019908 -0.017646  \n",
       "1 -0.039493 -0.068330 -0.092204  \n",
       "2 -0.002592  0.002864 -0.025930  \n",
       "3  0.034309  0.022692 -0.009362  \n",
       "4 -0.002592 -0.031991 -0.046641  "
      ]
     },
     "execution_count": 48,
     "metadata": {},
     "output_type": "execute_result"
    }
   ],
   "source": [
    "X.head()"
   ]
  },
  {
   "cell_type": "code",
   "execution_count": 49,
   "id": "c3b51e52",
   "metadata": {},
   "outputs": [],
   "source": [
    "sfs_forward = sfs(lr,\n",
    "            k_features=5,\n",
    "            forward=True,\n",
    "            floating=False,\n",
    "            scoring='neg_mean_squared_error',\n",
    "            cv=10)\n",
    "\n",
    "sfs = sfs_forward.fit(X, y)"
   ]
  },
  {
   "cell_type": "code",
   "execution_count": 39,
   "id": "0f31e72d",
   "metadata": {},
   "outputs": [
    {
     "name": "stdout",
     "output_type": "stream",
     "text": [
      "Best subset: ('sex', 'bmi', 'bp', 's3', 's5')\n"
     ]
    }
   ],
   "source": [
    "print('Best subset:', sfs.k_feature_names_)"
   ]
  },
  {
   "cell_type": "code",
   "execution_count": 40,
   "id": "19ff790a",
   "metadata": {},
   "outputs": [
    {
     "data": {
      "image/png": "[encoded data removed]",
      "text/plain": [
       "<Figure size 432x288 with 1 Axes>"
      ]
     },
     "metadata": {
      "needs_background": "light"
     },
     "output_type": "display_data"
    }
   ],
   "source": [
    "fig = plot_sfs(sfs.get_metric_dict(), kind='std_err')\n",
    "plt.title('Sequential Forward Selection (w. StdErr)')\n",
    "plt.grid()\n",
    "plt.show()"
   ]
  },
  {
   "cell_type": "code",
   "execution_count": 51,
   "id": "9bf3ca65",
   "metadata": {},
   "outputs": [
    {
     "name": "stdout",
     "output_type": "stream",
     "text": [
      "Best subset: ('sex', 'bmi', 'bp', 's1', 's5')\n"
     ]
    }
   ],
   "source": [
    "from mlxtend.feature_selection import SequentialFeatureSelector as sfs\n",
    "sfs_back = sfs(lr,\n",
    "            k_features=5,\n",
    "            forward=False,\n",
    "            floating=False,\n",
    "            scoring='neg_mean_squared_error',\n",
    "            cv=10)\n",
    "\n",
    "sfs = sfs_back.fit(X, y)\n",
    "print('Best subset:', sfs.k_feature_names_)"
   ]
  },
  {
   "cell_type": "code",
   "execution_count": 53,
   "id": "0163a19c",
   "metadata": {},
   "outputs": [
    {
     "data": {
      "image/png": "[encoded data removed]",
      "text/plain": [
       "<Figure size 432x288 with 1 Axes>"
      ]
     },
     "metadata": {
      "needs_background": "light"
     },
     "output_type": "display_data"
    }
   ],
   "source": [
    "fig = plot_sfs(sfs.get_metric_dict(), kind='std_err')\n",
    "plt.title('Sequential Backward Selection (w. StdErr)')\n",
    "plt.grid()\n",
    "plt.show()"
   ]
  },
  {
   "cell_type": "markdown",
   "id": "f3954866",
   "metadata": {},
   "source": [
    "***"
   ]
  }
 ],
 "metadata": {
  "kernelspec": {
   "display_name": "Python 3 (ipykernel)",
   "language": "python",
   "name": "python3"
  },
  "language_info": {
   "codemirror_mode": {
    "name": "ipython",
    "version": 3
   },
   "file_extension": ".py",
   "mimetype": "text/x-python",
   "name": "python",
   "nbconvert_exporter": "python",
   "pygments_lexer": "ipython3",
   "version": "3.9.12"
  }
 },
 "nbformat": 4,
 "nbformat_minor": 5
}
