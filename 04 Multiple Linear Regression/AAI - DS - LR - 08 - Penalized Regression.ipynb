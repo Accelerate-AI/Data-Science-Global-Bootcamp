{
 "cells": [
  {
   "cell_type": "markdown",
   "metadata": {},
   "source": [
    "# AccelerateAI - Data Science Global Bootcamp\n",
    "\n",
    "### Reularized Regression - For Variable Selection\n",
    "\n",
    "##### The regularized Linear Regression techniques for feature selection as well as avoiding overfit in linear regression. \n",
    "- Lasso\n",
    "- Ridge \n",
    "- ElasticNet "
   ]
  },
  {
   "cell_type": "code",
   "execution_count": 20,
   "metadata": {},
   "outputs": [],
   "source": [
    "import pandas as pd\n",
    "import numpy as np\n",
    "import matplotlib.pyplot as plt\n",
    "\n",
    "import warnings\n",
    "warnings.filterwarnings('ignore')"
   ]
  },
  {
   "cell_type": "code",
   "execution_count": 21,
   "metadata": {},
   "outputs": [],
   "source": [
    "from sklearn.datasets import make_regression"
   ]
  },
  {
   "cell_type": "code",
   "execution_count": 22,
   "metadata": {},
   "outputs": [],
   "source": [
    "# Create a synthetic data using make_regression\n",
    "X,y = make_regression(n_features=4, n_samples=20, noise=1)"
   ]
  },
  {
   "cell_type": "code",
   "execution_count": 23,
   "metadata": {},
   "outputs": [
    {
     "data": {
      "text/html": [
       "<div>\n",
       "<style scoped>\n",
       "    .dataframe tbody tr th:only-of-type {\n",
       "        vertical-align: middle;\n",
       "    }\n",
       "\n",
       "    .dataframe tbody tr th {\n",
       "        vertical-align: top;\n",
       "    }\n",
       "\n",
       "    .dataframe thead th {\n",
       "        text-align: right;\n",
       "    }\n",
       "</style>\n",
       "<table border=\"1\" class=\"dataframe\">\n",
       "  <thead>\n",
       "    <tr style=\"text-align: right;\">\n",
       "      <th></th>\n",
       "      <th>0</th>\n",
       "      <th>1</th>\n",
       "      <th>2</th>\n",
       "      <th>3</th>\n",
       "    </tr>\n",
       "  </thead>\n",
       "  <tbody>\n",
       "    <tr>\n",
       "      <th>0</th>\n",
       "      <td>1.178690</td>\n",
       "      <td>0.593096</td>\n",
       "      <td>0.464431</td>\n",
       "      <td>-0.840697</td>\n",
       "    </tr>\n",
       "    <tr>\n",
       "      <th>1</th>\n",
       "      <td>-0.543265</td>\n",
       "      <td>0.601259</td>\n",
       "      <td>1.753593</td>\n",
       "      <td>0.043774</td>\n",
       "    </tr>\n",
       "    <tr>\n",
       "      <th>2</th>\n",
       "      <td>-1.013758</td>\n",
       "      <td>0.106946</td>\n",
       "      <td>-2.222882</td>\n",
       "      <td>-0.043008</td>\n",
       "    </tr>\n",
       "    <tr>\n",
       "      <th>3</th>\n",
       "      <td>-2.334185</td>\n",
       "      <td>-0.886827</td>\n",
       "      <td>-1.633101</td>\n",
       "      <td>0.202251</td>\n",
       "    </tr>\n",
       "    <tr>\n",
       "      <th>4</th>\n",
       "      <td>0.906195</td>\n",
       "      <td>0.028679</td>\n",
       "      <td>-0.268049</td>\n",
       "      <td>1.540924</td>\n",
       "    </tr>\n",
       "  </tbody>\n",
       "</table>\n",
       "</div>"
      ],
      "text/plain": [
       "          0         1         2         3\n",
       "0  1.178690  0.593096  0.464431 -0.840697\n",
       "1 -0.543265  0.601259  1.753593  0.043774\n",
       "2 -1.013758  0.106946 -2.222882 -0.043008\n",
       "3 -2.334185 -0.886827 -1.633101  0.202251\n",
       "4  0.906195  0.028679 -0.268049  1.540924"
      ]
     },
     "execution_count": 23,
     "metadata": {},
     "output_type": "execute_result"
    }
   ],
   "source": [
    "X_new = pd.DataFrame(X)\n",
    "X_new.head()"
   ]
  },
  {
   "cell_type": "code",
   "execution_count": 24,
   "metadata": {},
   "outputs": [],
   "source": [
    "# creating 4 random variables \n",
    "randomVar_1 = np.random.uniform(low=-1, high=1, size=20)\n",
    "randomVar_2 = np.random.uniform(low=-1, high=1, size=20)\n",
    "randomVar_3 = np.random.uniform(low=-1, high=1, size=20)\n",
    "randomVar_4 = np.random.uniform(low=-1, high=1, size=20)"
   ]
  },
  {
   "cell_type": "code",
   "execution_count": 25,
   "metadata": {},
   "outputs": [
    {
     "name": "stdout",
     "output_type": "stream",
     "text": [
      "[ 0.39159552 -0.61809344  0.36761     0.56192036  0.49407723  0.36862073\n",
      " -0.29566271  0.92370018  0.86659339 -0.87055173 -0.8024196   0.15951769\n",
      " -0.22738946  0.77151755 -0.86816428  0.10423573 -0.99578341  0.42195214\n",
      "  0.34283144 -0.53679694]\n"
     ]
    }
   ],
   "source": [
    "print(randomVar_1)"
   ]
  },
  {
   "cell_type": "code",
   "execution_count": 26,
   "metadata": {},
   "outputs": [],
   "source": [
    "# append them to the independent variables list \n",
    "X_new[\"rv1\"] = randomVar_1\n",
    "X_new[\"rv2\"] = randomVar_2\n",
    "X_new[\"rv3\"] = randomVar_3\n",
    "X_new[\"rv4\"] = randomVar_4"
   ]
  },
  {
   "cell_type": "code",
   "execution_count": 27,
   "metadata": {},
   "outputs": [
    {
     "data": {
      "text/html": [
       "<div>\n",
       "<style scoped>\n",
       "    .dataframe tbody tr th:only-of-type {\n",
       "        vertical-align: middle;\n",
       "    }\n",
       "\n",
       "    .dataframe tbody tr th {\n",
       "        vertical-align: top;\n",
       "    }\n",
       "\n",
       "    .dataframe thead th {\n",
       "        text-align: right;\n",
       "    }\n",
       "</style>\n",
       "<table border=\"1\" class=\"dataframe\">\n",
       "  <thead>\n",
       "    <tr style=\"text-align: right;\">\n",
       "      <th></th>\n",
       "      <th>0</th>\n",
       "      <th>1</th>\n",
       "      <th>2</th>\n",
       "      <th>3</th>\n",
       "      <th>rv1</th>\n",
       "      <th>rv2</th>\n",
       "      <th>rv3</th>\n",
       "      <th>rv4</th>\n",
       "    </tr>\n",
       "  </thead>\n",
       "  <tbody>\n",
       "    <tr>\n",
       "      <th>0</th>\n",
       "      <td>1.178690</td>\n",
       "      <td>0.593096</td>\n",
       "      <td>0.464431</td>\n",
       "      <td>-0.840697</td>\n",
       "      <td>0.391596</td>\n",
       "      <td>0.399756</td>\n",
       "      <td>-0.730386</td>\n",
       "      <td>-0.746340</td>\n",
       "    </tr>\n",
       "    <tr>\n",
       "      <th>1</th>\n",
       "      <td>-0.543265</td>\n",
       "      <td>0.601259</td>\n",
       "      <td>1.753593</td>\n",
       "      <td>0.043774</td>\n",
       "      <td>-0.618093</td>\n",
       "      <td>0.883054</td>\n",
       "      <td>-0.753855</td>\n",
       "      <td>0.494408</td>\n",
       "    </tr>\n",
       "    <tr>\n",
       "      <th>2</th>\n",
       "      <td>-1.013758</td>\n",
       "      <td>0.106946</td>\n",
       "      <td>-2.222882</td>\n",
       "      <td>-0.043008</td>\n",
       "      <td>0.367610</td>\n",
       "      <td>0.252102</td>\n",
       "      <td>-0.832180</td>\n",
       "      <td>-0.553606</td>\n",
       "    </tr>\n",
       "    <tr>\n",
       "      <th>3</th>\n",
       "      <td>-2.334185</td>\n",
       "      <td>-0.886827</td>\n",
       "      <td>-1.633101</td>\n",
       "      <td>0.202251</td>\n",
       "      <td>0.561920</td>\n",
       "      <td>-0.463852</td>\n",
       "      <td>0.029034</td>\n",
       "      <td>0.396283</td>\n",
       "    </tr>\n",
       "    <tr>\n",
       "      <th>4</th>\n",
       "      <td>0.906195</td>\n",
       "      <td>0.028679</td>\n",
       "      <td>-0.268049</td>\n",
       "      <td>1.540924</td>\n",
       "      <td>0.494077</td>\n",
       "      <td>-0.400245</td>\n",
       "      <td>0.367197</td>\n",
       "      <td>-0.972404</td>\n",
       "    </tr>\n",
       "  </tbody>\n",
       "</table>\n",
       "</div>"
      ],
      "text/plain": [
       "          0         1         2         3       rv1       rv2       rv3  \\\n",
       "0  1.178690  0.593096  0.464431 -0.840697  0.391596  0.399756 -0.730386   \n",
       "1 -0.543265  0.601259  1.753593  0.043774 -0.618093  0.883054 -0.753855   \n",
       "2 -1.013758  0.106946 -2.222882 -0.043008  0.367610  0.252102 -0.832180   \n",
       "3 -2.334185 -0.886827 -1.633101  0.202251  0.561920 -0.463852  0.029034   \n",
       "4  0.906195  0.028679 -0.268049  1.540924  0.494077 -0.400245  0.367197   \n",
       "\n",
       "        rv4  \n",
       "0 -0.746340  \n",
       "1  0.494408  \n",
       "2 -0.553606  \n",
       "3  0.396283  \n",
       "4 -0.972404  "
      ]
     },
     "execution_count": 27,
     "metadata": {},
     "output_type": "execute_result"
    }
   ],
   "source": [
    "X_new.head()"
   ]
  },
  {
   "cell_type": "code",
   "execution_count": 28,
   "metadata": {},
   "outputs": [
    {
     "data": {
      "text/plain": [
       "<AxesSubplot:>"
      ]
     },
     "execution_count": 28,
     "metadata": {},
     "output_type": "execute_result"
    },
    {
     "data": {
      "image/png": "[encoded data removed]",
      "text/plain": [
       "<Figure size 432x432 with 2 Axes>"
      ]
     },
     "metadata": {
      "needs_background": "light"
     },
     "output_type": "display_data"
    }
   ],
   "source": [
    "import seaborn as sn; \n",
    "\n",
    "# Compute the correlation matrix\n",
    "corr = X_new.corr()\n",
    "\n",
    "# Set up the matplotlib figure\n",
    "plt.subplots(figsize=(6, 6))\n",
    "\n",
    "# Draw the heatmap\n",
    "sn.heatmap(corr) "
   ]
  },
  {
   "cell_type": "code",
   "execution_count": 29,
   "metadata": {},
   "outputs": [
    {
     "data": {
      "image/png": "[encoded data removed]",
      "text/plain": [
       "<Figure size 720x576 with 8 Axes>"
      ]
     },
     "metadata": {
      "needs_background": "light"
     },
     "output_type": "display_data"
    }
   ],
   "source": [
    "# check the scatterplot for any relationship \n",
    "fig = plt.figure(1, figsize=(10,8))\n",
    "columns = 4\n",
    "rows = 2\n",
    "\n",
    "for i in range(1, columns*rows+1):\n",
    "    fig.add_subplot(rows, columns, i)\n",
    "    plt.scatter(X_new.iloc[:,i-1], y)\n",
    "\n",
    "plt.show()"
   ]
  },
  {
   "cell_type": "code",
   "execution_count": 30,
   "metadata": {},
   "outputs": [],
   "source": [
    "from sklearn.linear_model import LinearRegression, Lasso, Ridge, ElasticNet\n",
    "\n",
    "lr_model = LinearRegression()\n",
    "ri_model = Ridge(alpha=1.0)\n",
    "la_model = Lasso(alpha=1.0)\n",
    "en_model = ElasticNet(alpha=1.0, l1_ratio=0.5)"
   ]
  },
  {
   "cell_type": "code",
   "execution_count": 31,
   "metadata": {},
   "outputs": [
    {
     "data": {
      "text/plain": [
       "ElasticNet()"
      ]
     },
     "execution_count": 31,
     "metadata": {},
     "output_type": "execute_result"
    }
   ],
   "source": [
    "# train the models with the synthetic data \n",
    "lr_model.fit(X_new, y)\n",
    "ri_model.fit(X_new, y)\n",
    "la_model.fit(X_new, y)\n",
    "en_model.fit(X_new, y)"
   ]
  },
  {
   "cell_type": "code",
   "execution_count": 32,
   "metadata": {},
   "outputs": [],
   "source": [
    "# collect all coefficients in a pandas dataframe\n",
    "coeff = {\"Linear\": lr_model.coef_, \n",
    "         \"Ridge\": ri_model.coef_, \n",
    "         \"Lasso\": la_model.coef_, \n",
    "         \"ElasticNet\": en_model.coef_}\n",
    "df_coeff = pd.DataFrame(coeff)"
   ]
  },
  {
   "cell_type": "code",
   "execution_count": 33,
   "metadata": {},
   "outputs": [
    {
     "data": {
      "text/html": [
       "<div>\n",
       "<style scoped>\n",
       "    .dataframe tbody tr th:only-of-type {\n",
       "        vertical-align: middle;\n",
       "    }\n",
       "\n",
       "    .dataframe tbody tr th {\n",
       "        vertical-align: top;\n",
       "    }\n",
       "\n",
       "    .dataframe thead th {\n",
       "        text-align: right;\n",
       "    }\n",
       "</style>\n",
       "<table border=\"1\" class=\"dataframe\">\n",
       "  <thead>\n",
       "    <tr style=\"text-align: right;\">\n",
       "      <th></th>\n",
       "      <th>Linear</th>\n",
       "      <th>Ridge</th>\n",
       "      <th>Lasso</th>\n",
       "      <th>ElasticNet</th>\n",
       "    </tr>\n",
       "  </thead>\n",
       "  <tbody>\n",
       "    <tr>\n",
       "      <th>0</th>\n",
       "      <td>47.646175</td>\n",
       "      <td>45.426930</td>\n",
       "      <td>46.683884</td>\n",
       "      <td>33.243871</td>\n",
       "    </tr>\n",
       "    <tr>\n",
       "      <th>1</th>\n",
       "      <td>49.397308</td>\n",
       "      <td>46.478832</td>\n",
       "      <td>48.561943</td>\n",
       "      <td>29.437527</td>\n",
       "    </tr>\n",
       "    <tr>\n",
       "      <th>2</th>\n",
       "      <td>74.271164</td>\n",
       "      <td>70.061486</td>\n",
       "      <td>72.943230</td>\n",
       "      <td>47.323639</td>\n",
       "    </tr>\n",
       "    <tr>\n",
       "      <th>3</th>\n",
       "      <td>53.193468</td>\n",
       "      <td>47.265720</td>\n",
       "      <td>50.490302</td>\n",
       "      <td>21.883645</td>\n",
       "    </tr>\n",
       "    <tr>\n",
       "      <th>4</th>\n",
       "      <td>-0.917029</td>\n",
       "      <td>0.328328</td>\n",
       "      <td>0.000000</td>\n",
       "      <td>0.092062</td>\n",
       "    </tr>\n",
       "    <tr>\n",
       "      <th>5</th>\n",
       "      <td>-1.432717</td>\n",
       "      <td>1.070605</td>\n",
       "      <td>0.000000</td>\n",
       "      <td>2.266432</td>\n",
       "    </tr>\n",
       "    <tr>\n",
       "      <th>6</th>\n",
       "      <td>-1.428213</td>\n",
       "      <td>-1.095057</td>\n",
       "      <td>-0.000000</td>\n",
       "      <td>-2.613221</td>\n",
       "    </tr>\n",
       "    <tr>\n",
       "      <th>7</th>\n",
       "      <td>-0.067410</td>\n",
       "      <td>-0.555645</td>\n",
       "      <td>-0.000000</td>\n",
       "      <td>-1.527626</td>\n",
       "    </tr>\n",
       "  </tbody>\n",
       "</table>\n",
       "</div>"
      ],
      "text/plain": [
       "      Linear      Ridge      Lasso  ElasticNet\n",
       "0  47.646175  45.426930  46.683884   33.243871\n",
       "1  49.397308  46.478832  48.561943   29.437527\n",
       "2  74.271164  70.061486  72.943230   47.323639\n",
       "3  53.193468  47.265720  50.490302   21.883645\n",
       "4  -0.917029   0.328328   0.000000    0.092062\n",
       "5  -1.432717   1.070605   0.000000    2.266432\n",
       "6  -1.428213  -1.095057  -0.000000   -2.613221\n",
       "7  -0.067410  -0.555645  -0.000000   -1.527626"
      ]
     },
     "execution_count": 33,
     "metadata": {},
     "output_type": "execute_result"
    }
   ],
   "source": [
    "#displaying the DataFrame\n",
    "#from tabulate import tabulate\n",
    "#print(tabulate(df_coeff, headers = 'keys', tablefmt = 'fancy_grid'))\n",
    "df_coeff"
   ]
  },
  {
   "cell_type": "code",
   "execution_count": 34,
   "metadata": {},
   "outputs": [
    {
     "data": {
      "text/plain": [
       "ElasticNet(alpha=0.1, l1_ratio=0.8)"
      ]
     },
     "execution_count": 34,
     "metadata": {},
     "output_type": "execute_result"
    }
   ],
   "source": [
    "# Try with some other values of alpha\n",
    "\n",
    "ri_model = Ridge(alpha=0.1)\n",
    "en_model = ElasticNet(alpha=0.1, l1_ratio=0.8)\n",
    "\n",
    "ri_model.fit(X_new, y)\n",
    "en_model.fit(X_new, y)"
   ]
  },
  {
   "cell_type": "code",
   "execution_count": 35,
   "metadata": {},
   "outputs": [
    {
     "name": "stdout",
     "output_type": "stream",
     "text": [
      "╒════╤════════════╤═══════════╤═════════╤══════════════╕\n",
      "│    │     Linear │     Ridge │   Lasso │   ElasticNet │\n",
      "╞════╪════════════╪═══════════╪═════════╪══════════════╡\n",
      "│  0 │ 47.6462    │ 47.4192   │ 46.6839 │    46.7267   │\n",
      "├────┼────────────┼───────────┼─────────┼──────────────┤\n",
      "│  1 │ 49.3973    │ 49.1191   │ 48.5619 │    48.1997   │\n",
      "├────┼────────────┼───────────┼─────────┼──────────────┤\n",
      "│  2 │ 74.2712    │ 73.8067   │ 72.9432 │    72.3963   │\n",
      "├────┼────────────┼───────────┼─────────┼──────────────┤\n",
      "│  3 │ 53.1935    │ 52.5155   │ 50.4903 │    50.3581   │\n",
      "├────┼────────────┼───────────┼─────────┼──────────────┤\n",
      "│  4 │ -0.917029  │ -0.701022 │  0      │    -0        │\n",
      "├────┼────────────┼───────────┼─────────┼──────────────┤\n",
      "│  5 │ -1.43272   │ -1.00825  │  0      │     0        │\n",
      "├────┼────────────┼───────────┼─────────┼──────────────┤\n",
      "│  6 │ -1.42821   │ -1.28583  │ -0      │    -0.673583 │\n",
      "├────┼────────────┼───────────┼─────────┼──────────────┤\n",
      "│  7 │ -0.0674104 │ -0.107245 │ -0      │    -0        │\n",
      "╘════╧════════════╧═══════════╧═════════╧══════════════╛\n"
     ]
    }
   ],
   "source": [
    "# collect all coefficients in a pandas dataframe\n",
    "coeff = {\"Linear\": lr_model.coef_, \n",
    "         \"Ridge\": ri_model.coef_, \n",
    "         \"Lasso\": la_model.coef_, \n",
    "         \"ElasticNet\": en_model.coef_}\n",
    "df_coeff = pd.DataFrame(coeff)\n",
    "# displaying the DataFramepip install \n",
    "from tabulate import tabulate\n",
    "print(tabulate(df_coeff, headers = 'keys', tablefmt = 'fancy_grid'))"
   ]
  },
  {
   "cell_type": "code",
   "execution_count": 36,
   "metadata": {},
   "outputs": [
    {
     "name": "stdout",
     "output_type": "stream",
     "text": [
      "Best Alpha: 0.15222879589572394\n",
      "Model Coefficients: [44.37277195 44.91978738 68.02833503 44.55217179  0.35887046  1.35388224\n",
      " -1.15988159 -0.5442876 ]\n"
     ]
    }
   ],
   "source": [
    "# Cross validation can be used to get the best value of alpha.\n",
    "\n",
    "from sklearn.linear_model import ElasticNetCV\n",
    "\n",
    "enCV_model = ElasticNetCV(cv=5, random_state=0)\n",
    "enCV_model.fit(X_new, y)\n",
    "\n",
    "print(\"Best Alpha:\", enCV_model.alpha_ )\n",
    "print(\"Model Coefficients:\", enCV_model.coef_)"
   ]
  },
  {
   "cell_type": "code",
   "execution_count": 37,
   "metadata": {},
   "outputs": [
    {
     "name": "stdout",
     "output_type": "stream",
     "text": [
      "Model Coefficients: [ 0.  0.  0.  0. -0.  0. -0. -0.]\n"
     ]
    }
   ],
   "source": [
    "# How much does the coefficients shrink in Lasso? \n",
    "\n",
    "la_model = Lasso(alpha=1000)   #100, 1000 , 10,000\n",
    "la_model.fit(X_new, y)\n",
    "\n",
    "print(\"Model Coefficients:\", la_model.coef_)"
   ]
  }
 ],
 "metadata": {
  "kernelspec": {
   "display_name": "Python 3 (ipykernel)",
   "language": "python",
   "name": "python3"
  },
  "language_info": {
   "codemirror_mode": {
    "name": "ipython",
    "version": 3
   },
   "file_extension": ".py",
   "mimetype": "text/x-python",
   "name": "python",
   "nbconvert_exporter": "python",
   "pygments_lexer": "ipython3",
   "version": "3.9.12"
  }
 },
 "nbformat": 4,
 "nbformat_minor": 2
}
