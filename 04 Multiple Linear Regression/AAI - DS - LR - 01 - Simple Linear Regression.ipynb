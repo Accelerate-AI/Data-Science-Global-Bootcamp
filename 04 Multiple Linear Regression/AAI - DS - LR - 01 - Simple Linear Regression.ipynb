{
 "cells": [
  {
   "cell_type": "markdown",
   "id": "91bbf98d",
   "metadata": {},
   "source": [
    "# AccelerateAI - Data Science Bootcamp\n",
    "\n",
    "### Simple Linear Regression\n",
    "\n",
    "Our first exercise is to implement what we learn in theory about linear regression.\n",
    "\n",
    "We will write code to find the solution to linear regression equation from first principles."
   ]
  },
  {
   "cell_type": "code",
   "execution_count": 1,
   "id": "271a6ebd",
   "metadata": {},
   "outputs": [],
   "source": [
    "import numpy as np\n",
    "from scipy.stats import pearsonr, linregress\n",
    "import matplotlib.pyplot as plt "
   ]
  },
  {
   "cell_type": "markdown",
   "id": "48bd9b22",
   "metadata": {},
   "source": [
    "#### Linear Regression \n",
    "\n",
    "For the equation y = b_0 + b_1*x, we know that:<br>\n",
    " - b_1 = cov(x,y)/var(x) = corr(x,y)* std(y)/std(x)\n",
    " - b_0 = mean(y) - b_1*mean(x) "
   ]
  },
  {
   "cell_type": "code",
   "execution_count": 2,
   "id": "6e5026a4",
   "metadata": {},
   "outputs": [],
   "source": [
    "def least_squares_fit(X, Y):\n",
    "    \"\"\"\n",
    "    Given two vectors X and Y,\n",
    "    find the least-squares values of b_0 and b_1\n",
    "    \"\"\"\n",
    "    corr, _ = pearsonr(X, Y)\n",
    "    b_1 = corr*np.std(Y)/np.std(X)\n",
    "    b_0 = np.mean(Y) - b_1*np.mean(X)\n",
    "    return b_0, b_1"
   ]
  },
  {
   "cell_type": "code",
   "execution_count": 3,
   "id": "2925c20d",
   "metadata": {},
   "outputs": [],
   "source": [
    "def predict(b_0, b_1, x_i,):\n",
    "    return b_0 + b_1*x_i \n",
    "\n",
    "def residual(b_0, b_1, x_i, y_i):\n",
    "    return y_i - predict(b_0, b_1, x_i) "
   ]
  },
  {
   "cell_type": "code",
   "execution_count": 4,
   "id": "71b634c4",
   "metadata": {},
   "outputs": [],
   "source": [
    "def sum_of_sq_errors(b_0, b_1, X, Y) -> float:\n",
    "    sse  = sum(residual(b_0, b_1, x_i, y_i)**2 for x_i, y_i in zip(X, Y))\n",
    "    return sse"
   ]
  },
  {
   "cell_type": "code",
   "execution_count": 5,
   "id": "b7d3c62a",
   "metadata": {},
   "outputs": [
    {
     "data": {
      "text/plain": [
       "array([ 0,  1,  2,  3,  4,  5,  6,  7,  8,  9, 10, 11, 12, 13, 14, 15, 16,\n",
       "       17, 18, 19])"
      ]
     },
     "execution_count": 5,
     "metadata": {},
     "output_type": "execute_result"
    }
   ],
   "source": [
    "X = np.array(range(20))\n",
    "X"
   ]
  },
  {
   "cell_type": "code",
   "execution_count": 6,
   "id": "20829dba",
   "metadata": {},
   "outputs": [],
   "source": [
    "error = np.random.normal(0, 10, size=20)\n",
    "Y =  5*X + 10 + error"
   ]
  },
  {
   "cell_type": "code",
   "execution_count": 7,
   "id": "68ec298f",
   "metadata": {},
   "outputs": [
    {
     "data": {
      "text/plain": [
       "array([  9.59816107,  19.20973873,  27.5804358 ,  17.95796742,\n",
       "         9.68974542,  24.0633854 ,  41.40617886,  47.33733533,\n",
       "        46.51949317,  50.02637637,  47.52713618,  46.28744551,\n",
       "        61.38922464,  70.16277288,  86.15438392,  87.69133334,\n",
       "        82.86727833, 105.98311731,  82.0549496 , 120.52675054])"
      ]
     },
     "execution_count": 7,
     "metadata": {},
     "output_type": "execute_result"
    }
   ],
   "source": [
    "Y"
   ]
  },
  {
   "cell_type": "code",
   "execution_count": 8,
   "id": "a5f110f7",
   "metadata": {},
   "outputs": [
    {
     "data": {
      "image/png": "[encoded data removed]",
      "text/plain": [
       "<Figure size 432x288 with 1 Axes>"
      ]
     },
     "metadata": {
      "needs_background": "light"
     },
     "output_type": "display_data"
    }
   ],
   "source": [
    "plot = plt.scatter(X,Y)"
   ]
  },
  {
   "cell_type": "code",
   "execution_count": 9,
   "id": "fd57b4d2",
   "metadata": {},
   "outputs": [
    {
     "name": "stdout",
     "output_type": "stream",
     "text": [
      "b_0: 5.051162457347679  b_1: 5.173736635083477\n"
     ]
    }
   ],
   "source": [
    "# Estimate the regression coefficients \n",
    "b_0 , b_1 = least_squares_fit(X,Y)\n",
    "print(\"b_0:\",b_0, \" b_1:\", b_1)"
   ]
  },
  {
   "cell_type": "code",
   "execution_count": 10,
   "id": "593f4920",
   "metadata": {},
   "outputs": [
    {
     "data": {
      "image/png": "[encoded data removed]",
      "text/plain": [
       "<Figure size 432x288 with 1 Axes>"
      ]
     },
     "metadata": {
      "needs_background": "light"
     },
     "output_type": "display_data"
    }
   ],
   "source": [
    "# Let's check the fit \n",
    "Y_pred = b_0 + b_1*X\n",
    "plt.scatter(X,Y)\n",
    "plt.plot(X, Y_pred, '-r', label='y=2x+1')\n",
    "plt.show()"
   ]
  },
  {
   "cell_type": "code",
   "execution_count": 11,
   "id": "fc79f44a",
   "metadata": {},
   "outputs": [
    {
     "name": "stdout",
     "output_type": "stream",
     "text": [
      "SSE: 1846.6957738037554\n"
     ]
    }
   ],
   "source": [
    "SSE = sum_of_sq_errors(b_0 , b_1,X,Y)\n",
    "print(\"SSE:\",SSE)"
   ]
  },
  {
   "cell_type": "code",
   "execution_count": 12,
   "id": "98059dd5",
   "metadata": {},
   "outputs": [
    {
     "name": "stdout",
     "output_type": "stream",
     "text": [
      "b_0: 5.051162457347651  b_1: 5.17373663508348\n"
     ]
    }
   ],
   "source": [
    "# Check with a standard library\n",
    "regr_results = linregress(X, Y)\n",
    "print(\"b_0:\",regr_results.intercept, \" b_1:\",regr_results.slope)"
   ]
  }
 ],
 "metadata": {
  "kernelspec": {
   "display_name": "Python 3 (ipykernel)",
   "language": "python",
   "name": "python3"
  },
  "language_info": {
   "codemirror_mode": {
    "name": "ipython",
    "version": 3
   },
   "file_extension": ".py",
   "mimetype": "text/x-python",
   "name": "python",
   "nbconvert_exporter": "python",
   "pygments_lexer": "ipython3",
   "version": "3.9.7"
  }
 },
 "nbformat": 4,
 "nbformat_minor": 5
}
