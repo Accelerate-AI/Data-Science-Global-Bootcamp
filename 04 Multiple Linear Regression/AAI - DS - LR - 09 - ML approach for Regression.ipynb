{
 "cells": [
  {
   "cell_type": "markdown",
   "id": "832536f3",
   "metadata": {},
   "source": [
    "# AccelerateAI - Data Science Global Bootcamp\n",
    "\n",
    "### Machine Learning approach - using sklearn library"
   ]
  },
  {
   "cell_type": "code",
   "execution_count": 23,
   "id": "4e3aac7a",
   "metadata": {},
   "outputs": [],
   "source": [
    "import numpy as np \n",
    "import pandas as pd\n",
    "import seaborn as sns\n",
    "\n",
    "import warnings\n",
    "warnings.filterwarnings('ignore')"
   ]
  },
  {
   "cell_type": "code",
   "execution_count": 24,
   "id": "f8c8c34e",
   "metadata": {},
   "outputs": [
    {
     "data": {
      "text/html": [
       "<div>\n",
       "<style scoped>\n",
       "    .dataframe tbody tr th:only-of-type {\n",
       "        vertical-align: middle;\n",
       "    }\n",
       "\n",
       "    .dataframe tbody tr th {\n",
       "        vertical-align: top;\n",
       "    }\n",
       "\n",
       "    .dataframe thead th {\n",
       "        text-align: right;\n",
       "    }\n",
       "</style>\n",
       "<table border=\"1\" class=\"dataframe\">\n",
       "  <thead>\n",
       "    <tr style=\"text-align: right;\">\n",
       "      <th></th>\n",
       "      <th>R&amp;D Spend</th>\n",
       "      <th>Administration</th>\n",
       "      <th>Marketing Spend</th>\n",
       "      <th>State</th>\n",
       "      <th>Profit</th>\n",
       "    </tr>\n",
       "  </thead>\n",
       "  <tbody>\n",
       "    <tr>\n",
       "      <th>0</th>\n",
       "      <td>153441.51</td>\n",
       "      <td>101145.55</td>\n",
       "      <td>407934.5400</td>\n",
       "      <td>Florida</td>\n",
       "      <td>221050.39</td>\n",
       "    </tr>\n",
       "    <tr>\n",
       "      <th>1</th>\n",
       "      <td>142107.34</td>\n",
       "      <td>91391.77</td>\n",
       "      <td>366168.4200</td>\n",
       "      <td>Florida</td>\n",
       "      <td>196187.94</td>\n",
       "    </tr>\n",
       "    <tr>\n",
       "      <th>2</th>\n",
       "      <td>165349.20</td>\n",
       "      <td>136897.80</td>\n",
       "      <td>444985.8024</td>\n",
       "      <td>New York</td>\n",
       "      <td>192261.83</td>\n",
       "    </tr>\n",
       "    <tr>\n",
       "      <th>3</th>\n",
       "      <td>162597.70</td>\n",
       "      <td>151377.59</td>\n",
       "      <td>443898.5300</td>\n",
       "      <td>California</td>\n",
       "      <td>191792.06</td>\n",
       "    </tr>\n",
       "    <tr>\n",
       "      <th>4</th>\n",
       "      <td>130298.13</td>\n",
       "      <td>145530.06</td>\n",
       "      <td>323876.6800</td>\n",
       "      <td>Florida</td>\n",
       "      <td>185752.60</td>\n",
       "    </tr>\n",
       "  </tbody>\n",
       "</table>\n",
       "</div>"
      ],
      "text/plain": [
       "   R&D Spend  Administration  Marketing Spend       State     Profit\n",
       "0  153441.51       101145.55      407934.5400     Florida  221050.39\n",
       "1  142107.34        91391.77      366168.4200     Florida  196187.94\n",
       "2  165349.20       136897.80      444985.8024    New York  192261.83\n",
       "3  162597.70       151377.59      443898.5300  California  191792.06\n",
       "4  130298.13       145530.06      323876.6800     Florida  185752.60"
      ]
     },
     "execution_count": 24,
     "metadata": {},
     "output_type": "execute_result"
    }
   ],
   "source": [
    "# Importing the datasets\n",
    "startup_df = pd.read_csv('50_Startups_data.csv')\n",
    "startup_df.head()"
   ]
  },
  {
   "cell_type": "code",
   "execution_count": 25,
   "id": "5702810e",
   "metadata": {},
   "outputs": [],
   "source": [
    "X = startup_df.drop('Profit', axis=1)\n",
    "Y = startup_df.Profit"
   ]
  },
  {
   "cell_type": "code",
   "execution_count": 26,
   "id": "6724bc09",
   "metadata": {},
   "outputs": [
    {
     "data": {
      "text/html": [
       "<div>\n",
       "<style scoped>\n",
       "    .dataframe tbody tr th:only-of-type {\n",
       "        vertical-align: middle;\n",
       "    }\n",
       "\n",
       "    .dataframe tbody tr th {\n",
       "        vertical-align: top;\n",
       "    }\n",
       "\n",
       "    .dataframe thead th {\n",
       "        text-align: right;\n",
       "    }\n",
       "</style>\n",
       "<table border=\"1\" class=\"dataframe\">\n",
       "  <thead>\n",
       "    <tr style=\"text-align: right;\">\n",
       "      <th></th>\n",
       "      <th>R&amp;D Spend</th>\n",
       "      <th>Administration</th>\n",
       "      <th>Marketing Spend</th>\n",
       "      <th>State</th>\n",
       "      <th>Profit</th>\n",
       "      <th>0</th>\n",
       "      <th>1</th>\n",
       "    </tr>\n",
       "  </thead>\n",
       "  <tbody>\n",
       "    <tr>\n",
       "      <th>0</th>\n",
       "      <td>153441.51</td>\n",
       "      <td>101145.55</td>\n",
       "      <td>407934.5400</td>\n",
       "      <td>Florida</td>\n",
       "      <td>221050.39</td>\n",
       "      <td>1.0</td>\n",
       "      <td>0.0</td>\n",
       "    </tr>\n",
       "    <tr>\n",
       "      <th>1</th>\n",
       "      <td>142107.34</td>\n",
       "      <td>91391.77</td>\n",
       "      <td>366168.4200</td>\n",
       "      <td>Florida</td>\n",
       "      <td>196187.94</td>\n",
       "      <td>1.0</td>\n",
       "      <td>0.0</td>\n",
       "    </tr>\n",
       "    <tr>\n",
       "      <th>2</th>\n",
       "      <td>165349.20</td>\n",
       "      <td>136897.80</td>\n",
       "      <td>444985.8024</td>\n",
       "      <td>New York</td>\n",
       "      <td>192261.83</td>\n",
       "      <td>0.0</td>\n",
       "      <td>1.0</td>\n",
       "    </tr>\n",
       "    <tr>\n",
       "      <th>3</th>\n",
       "      <td>162597.70</td>\n",
       "      <td>151377.59</td>\n",
       "      <td>443898.5300</td>\n",
       "      <td>California</td>\n",
       "      <td>191792.06</td>\n",
       "      <td>0.0</td>\n",
       "      <td>0.0</td>\n",
       "    </tr>\n",
       "    <tr>\n",
       "      <th>4</th>\n",
       "      <td>130298.13</td>\n",
       "      <td>145530.06</td>\n",
       "      <td>323876.6800</td>\n",
       "      <td>Florida</td>\n",
       "      <td>185752.60</td>\n",
       "      <td>1.0</td>\n",
       "      <td>0.0</td>\n",
       "    </tr>\n",
       "  </tbody>\n",
       "</table>\n",
       "</div>"
      ],
      "text/plain": [
       "   R&D Spend  Administration  Marketing Spend       State     Profit    0    1\n",
       "0  153441.51       101145.55      407934.5400     Florida  221050.39  1.0  0.0\n",
       "1  142107.34        91391.77      366168.4200     Florida  196187.94  1.0  0.0\n",
       "2  165349.20       136897.80      444985.8024    New York  192261.83  0.0  1.0\n",
       "3  162597.70       151377.59      443898.5300  California  191792.06  0.0  0.0\n",
       "4  130298.13       145530.06      323876.6800     Florida  185752.60  1.0  0.0"
      ]
     },
     "execution_count": 26,
     "metadata": {},
     "output_type": "execute_result"
    }
   ],
   "source": [
    "# Encoding categorical data\n",
    "from sklearn.preprocessing import LabelEncoder, OneHotEncoder\n",
    "\n",
    "# 1. Inatsttiate the OHE\n",
    "ohe = OneHotEncoder(drop='first')\n",
    "\n",
    "# 2. Fit the data\n",
    "ohe.fit(X[\"State\"].to_numpy().reshape(-1,1))\n",
    "\n",
    "# 3. Transform the data to get labels\n",
    "onehotlabels = ohe.transform(X[\"State\"].to_numpy().reshape(-1,1)).toarray()\n",
    "ohe_df = pd.DataFrame(onehotlabels)\n",
    "\n",
    "#ohe_df= ohe.fit_transform(X[['State']]).toarray()\n",
    "\n",
    "# 4. Merge with main dataframe on key values\n",
    "model_df = startup_df.join(ohe_df)\n",
    "model_df.head()"
   ]
  },
  {
   "cell_type": "code",
   "execution_count": 27,
   "id": "297f0692",
   "metadata": {},
   "outputs": [],
   "source": [
    "# Splitting the dataset into the Training set and Test set\n",
    "from sklearn.model_selection import train_test_split\n",
    "\n",
    "X = model_df.drop(columns=['Profit', 'State'], axis=1)\n",
    "Y = model_df.Profit\n",
    "\n",
    "X_Train, X_Test, Y_Train, Y_Test = train_test_split(X, Y, test_size = 0.2, random_state = 0)"
   ]
  },
  {
   "cell_type": "code",
   "execution_count": 28,
   "id": "72d3fc93",
   "metadata": {},
   "outputs": [],
   "source": [
    "# Fitting the Multiple Linear Regression in the Training set\n",
    "from sklearn.linear_model import LinearRegression\n",
    "\n",
    "regressor = LinearRegression()\n",
    "lr_model = regressor.fit(X_Train, Y_Train)"
   ]
  },
  {
   "cell_type": "code",
   "execution_count": 29,
   "id": "ac588b4b",
   "metadata": {},
   "outputs": [
    {
     "name": "stdout",
     "output_type": "stream",
     "text": [
      "LinearRegression()\n"
     ]
    }
   ],
   "source": [
    "print(lr_model)"
   ]
  },
  {
   "cell_type": "code",
   "execution_count": 34,
   "id": "80c312d4",
   "metadata": {},
   "outputs": [
    {
     "name": "stdout",
     "output_type": "stream",
     "text": [
      "Intercept: 42276.20060049133\n",
      "\n",
      "Coefficients: [('R&D Spend', 0.734906407801863), ('Administration', 0.017257185065536668), ('Marketing Spend', 0.05612040138099865), (0, 32851.69675602063), (1, 3559.1277598686543)]\n",
      "R-Squared: 0.9579630663734701\n"
     ]
    }
   ],
   "source": [
    "# Summarize the model coefficients\n",
    "r_squared = lr_model.score(X_Train,Y_Train)\n",
    "\n",
    "print(\"Intercept:\",lr_model.intercept_)\n",
    "print(\"\\nCoefficients:\",list(zip(X_Train.columns, lr_model.coef_)))\n",
    "print(\"R-Squared:\", r_squared)"
   ]
  },
  {
   "cell_type": "code",
   "execution_count": 31,
   "id": "d4daf40d",
   "metadata": {},
   "outputs": [
    {
     "name": "stdout",
     "output_type": "stream",
     "text": [
      "2212.377658681742\n"
     ]
    }
   ],
   "source": [
    "# Predicting the Test set results\n",
    "Y_Pred = regressor.predict(X_Test)\n",
    "\n",
    "# Summarize the fit of the model\n",
    "mse = np.mean( (Y_Test-Y_Pred)**2 )/len(Y_Test)\n",
    "print(np.sqrt(mse))"
   ]
  },
  {
   "cell_type": "code",
   "execution_count": 36,
   "id": "1a21623c",
   "metadata": {},
   "outputs": [
    {
     "data": {
      "image/png": "[encoded data removed]",
      "text/plain": [
       "<Figure size 432x288 with 1 Axes>"
      ]
     },
     "metadata": {
      "needs_background": "light"
     },
     "output_type": "display_data"
    }
   ],
   "source": [
    "#Compare the points using a plot\n",
    "\n",
    "sns.scatterplot(x=X_Test[\"R&D Spend\"], y=Y_Test, color='g')   #Actual\n",
    "Predicated sns.scatterplot(x=X_Test[\"R&D Spend\"], y=Y_Pred, color='r')   #Predicted\n",
    "plt.plot([100000, 100000], [200000, 200000], linewidth=2)\n",
    "plt.show()"
   ]
  },
  {
   "cell_type": "code",
   "execution_count": 40,
   "id": "c189cd8f",
   "metadata": {},
   "outputs": [
    {
     "data": {
      "text/html": [
       "<table class=\"simpletable\">\n",
       "<tr>\n",
       "        <td>Model:</td>               <td>OLS</td>         <td>Adj. R-squared:</td>      <td>0.952</td>  \n",
       "</tr>\n",
       "<tr>\n",
       "  <td>Dependent Variable:</td>      <td>Profit</td>             <td>AIC:</td>          <td>855.9601</td> \n",
       "</tr>\n",
       "<tr>\n",
       "         <td>Date:</td>        <td>2022-09-04 16:04</td>        <td>BIC:</td>          <td>866.0934</td> \n",
       "</tr>\n",
       "<tr>\n",
       "   <td>No. Observations:</td>         <td>40</td>          <td>Log-Likelihood:</td>     <td>-421.98</td> \n",
       "</tr>\n",
       "<tr>\n",
       "       <td>Df Model:</td>              <td>5</td>           <td>F-statistic:</td>        <td>155.0</td>  \n",
       "</tr>\n",
       "<tr>\n",
       "     <td>Df Residuals:</td>           <td>34</td>        <td>Prob (F-statistic):</td>  <td>2.21e-22</td> \n",
       "</tr>\n",
       "<tr>\n",
       "      <td>R-squared:</td>            <td>0.958</td>            <td>Scale:</td>        <td>1.0030e+08</td>\n",
       "</tr>\n",
       "</table>\n",
       "<table class=\"simpletable\">\n",
       "<tr>\n",
       "         <td></td>            <th>Coef.</th>   <th>Std.Err.</th>     <th>t</th>     <th>P>|t|</th>   <th>[0.025</th>     <th>0.975]</th>  \n",
       "</tr>\n",
       "<tr>\n",
       "  <th>const</th>           <td>42276.2006</td> <td>9093.5858</td> <td>4.6490</td>  <td>0.0000</td> <td>23795.8107</td> <td>60756.5905</td>\n",
       "</tr>\n",
       "<tr>\n",
       "  <th>R&D Spend</th>         <td>0.7349</td>    <td>0.0710</td>   <td>10.3558</td> <td>0.0000</td>   <td>0.5907</td>     <td>0.8791</td>  \n",
       "</tr>\n",
       "<tr>\n",
       "  <th>Administration</th>    <td>0.0173</td>    <td>0.0654</td>   <td>0.2637</td>  <td>0.7936</td>   <td>-0.1157</td>    <td>0.1502</td>  \n",
       "</tr>\n",
       "<tr>\n",
       "  <th>Marketing Spend</th>   <td>0.0561</td>    <td>0.0270</td>   <td>2.0790</td>  <td>0.0452</td>   <td>0.0013</td>     <td>0.1110</td>  \n",
       "</tr>\n",
       "<tr>\n",
       "  <th>0</th>               <td>32851.6968</td> <td>4110.0996</td> <td>7.9929</td>  <td>0.0000</td> <td>24498.9695</td> <td>41204.4240</td>\n",
       "</tr>\n",
       "<tr>\n",
       "  <th>1</th>                <td>3559.1278</td> <td>4085.0292</td> <td>0.8713</td>  <td>0.3897</td> <td>-4742.6504</td> <td>11860.9059</td>\n",
       "</tr>\n",
       "</table>\n",
       "<table class=\"simpletable\">\n",
       "<tr>\n",
       "     <td>Omnibus:</td>    <td>12.609</td>  <td>Durbin-Watson:</td>    <td>1.775</td> \n",
       "</tr>\n",
       "<tr>\n",
       "  <td>Prob(Omnibus):</td>  <td>0.002</td> <td>Jarque-Bera (JB):</td> <td>13.973</td> \n",
       "</tr>\n",
       "<tr>\n",
       "       <td>Skew:</td>     <td>-1.039</td>     <td>Prob(JB):</td>      <td>0.001</td> \n",
       "</tr>\n",
       "<tr>\n",
       "     <td>Kurtosis:</td>    <td>5.017</td>  <td>Condition No.:</td>   <td>1545477</td>\n",
       "</tr>\n",
       "</table>"
      ],
      "text/plain": [
       "<class 'statsmodels.iolib.summary2.Summary'>\n",
       "\"\"\"\n",
       "                     Results: Ordinary least squares\n",
       "=========================================================================\n",
       "Model:                OLS                Adj. R-squared:       0.952     \n",
       "Dependent Variable:   Profit             AIC:                  855.9601  \n",
       "Date:                 2022-09-04 16:04   BIC:                  866.0934  \n",
       "No. Observations:     40                 Log-Likelihood:       -421.98   \n",
       "Df Model:             5                  F-statistic:          155.0     \n",
       "Df Residuals:         34                 Prob (F-statistic):   2.21e-22  \n",
       "R-squared:            0.958              Scale:                1.0030e+08\n",
       "-------------------------------------------------------------------------\n",
       "                  Coef.     Std.Err.    t    P>|t|    [0.025     0.975]  \n",
       "-------------------------------------------------------------------------\n",
       "const           42276.2006 9093.5858  4.6490 0.0000 23795.8107 60756.5905\n",
       "R&D Spend           0.7349    0.0710 10.3558 0.0000     0.5907     0.8791\n",
       "Administration      0.0173    0.0654  0.2637 0.7936    -0.1157     0.1502\n",
       "Marketing Spend     0.0561    0.0270  2.0790 0.0452     0.0013     0.1110\n",
       "0               32851.6968 4110.0996  7.9929 0.0000 24498.9695 41204.4240\n",
       "1                3559.1278 4085.0292  0.8713 0.3897 -4742.6504 11860.9059\n",
       "-------------------------------------------------------------------------\n",
       "Omnibus:                 12.609         Durbin-Watson:            1.775  \n",
       "Prob(Omnibus):           0.002          Jarque-Bera (JB):         13.973 \n",
       "Skew:                    -1.039         Prob(JB):                 0.001  \n",
       "Kurtosis:                5.017          Condition No.:            1545477\n",
       "=========================================================================\n",
       "* The condition number is large (2e+06). This might indicate\n",
       "strong multicollinearity or other numerical problems.\n",
       "\"\"\""
      ]
     },
     "execution_count": 40,
     "metadata": {},
     "output_type": "execute_result"
    }
   ],
   "source": [
    "# Compare with Statsmodel\n",
    "import statsmodels.api as sm\n",
    "\n",
    "X, Y = X_Train, Y_Train\n",
    "X = sm.add_constant(X)\n",
    "\n",
    "sm_model = sm.OLS(Y,X).fit()\n",
    "sm_model.summary2()"
   ]
  },
  {
   "cell_type": "markdown",
   "id": "be051f38",
   "metadata": {},
   "source": [
    "***"
   ]
  }
 ],
 "metadata": {
  "kernelspec": {
   "display_name": "Python 3 (ipykernel)",
   "language": "python",
   "name": "python3"
  },
  "language_info": {
   "codemirror_mode": {
    "name": "ipython",
    "version": 3
   },
   "file_extension": ".py",
   "mimetype": "text/x-python",
   "name": "python",
   "nbconvert_exporter": "python",
   "pygments_lexer": "ipython3",
   "version": "3.9.12"
  }
 },
 "nbformat": 4,
 "nbformat_minor": 5
}
