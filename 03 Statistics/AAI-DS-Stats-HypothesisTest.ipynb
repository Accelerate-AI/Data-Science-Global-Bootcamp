{
 "cells": [
  {
   "cell_type": "markdown",
   "id": "0b398782",
   "metadata": {},
   "source": [
    "## AccelerateAI - Data Science Bootcamp \n",
    "### Question on Hypothesis Testing "
   ]
  },
  {
   "cell_type": "code",
   "execution_count": 66,
   "id": "e50cd96d",
   "metadata": {},
   "outputs": [],
   "source": [
    "# Import required libraries\n",
    "import numpy as np                  #data handling\n",
    "import pandas as pd  \n",
    "\n",
    "import math\n",
    "import scipy.stats as st            #Statistics\n",
    "\n",
    "import matplotlib.pyplot as plt     #Visualization\n",
    "import seaborn as sns "
   ]
  },
  {
   "cell_type": "markdown",
   "id": "d89ca3a5",
   "metadata": {},
   "source": [
    "### Q1.  MEASURING STUDENT REACTION TO A NEW TEXTBOOK\n",
    "\n",
    "A required chemistry course at State University has been using the same textbook for a number of years.<br>\n",
    "Over the years, the students have been asked to rate this textbook on 10-point scale, and the average rating has been stable at about 5.2. \n",
    "\n",
    "This year, the faculty decided to experiment with a new textbook. After the course, 50 randomly selected students were asked to rate this new textbook, also on a scale of 1 to 10.(Data in file ***01_Textbook_Ratings.csv.*** ) \n",
    "\n",
    "**Can we conclude that the students like this new textbook any more or less than the previous textbook?**"
   ]
  },
  {
   "cell_type": "code",
   "execution_count": 67,
   "id": "6792b0bf",
   "metadata": {},
   "outputs": [
    {
     "data": {
      "text/html": [
       "<div><div id=2f90a972-49c5-4a55-854a-f51f7fd12f3d style=\"display:none; background-color:#9D6CFF; color:white; width:200px; height:30px; padding-left:5px; border-radius:4px; flex-direction:row; justify-content:space-around; align-items:center;\" onmouseover=\"this.style.backgroundColor='#BA9BF8'\" onmouseout=\"this.style.backgroundColor='#9D6CFF'\" onclick=\"window.commands?.execute('create-mitosheet-from-dataframe-output');\">See Full Dataframe in Mito</div> <script> if (window.commands?.hasCommand('create-mitosheet-from-dataframe-output')) document.getElementById('2f90a972-49c5-4a55-854a-f51f7fd12f3d').style.display = 'flex' </script> <table border=\"1\" class=\"dataframe\">\n",
       "  <thead>\n",
       "    <tr style=\"text-align: right;\">\n",
       "      <th></th>\n",
       "      <th>Student</th>\n",
       "      <th>Rating</th>\n",
       "    </tr>\n",
       "  </thead>\n",
       "  <tbody>\n",
       "    <tr>\n",
       "      <th>32</th>\n",
       "      <td>33</td>\n",
       "      <td>10</td>\n",
       "    </tr>\n",
       "    <tr>\n",
       "      <th>12</th>\n",
       "      <td>13</td>\n",
       "      <td>4</td>\n",
       "    </tr>\n",
       "    <tr>\n",
       "      <th>29</th>\n",
       "      <td>30</td>\n",
       "      <td>8</td>\n",
       "    </tr>\n",
       "    <tr>\n",
       "      <th>22</th>\n",
       "      <td>23</td>\n",
       "      <td>4</td>\n",
       "    </tr>\n",
       "    <tr>\n",
       "      <th>9</th>\n",
       "      <td>10</td>\n",
       "      <td>10</td>\n",
       "    </tr>\n",
       "  </tbody>\n",
       "</table></div>"
      ],
      "text/plain": [
       "    Student  Rating\n",
       "32       33      10\n",
       "12       13       4\n",
       "29       30       8\n",
       "22       23       4\n",
       "9        10      10"
      ]
     },
     "execution_count": 67,
     "metadata": {},
     "output_type": "execute_result"
    }
   ],
   "source": [
    "# Lets read the file \n",
    "rating_df = pd.read_csv(\"01_Textbook_Ratings.csv\")\n",
    "rating_df.sample(5)"
   ]
  },
  {
   "cell_type": "code",
   "execution_count": 68,
   "id": "577e4132",
   "metadata": {},
   "outputs": [
    {
     "name": "stdout",
     "output_type": "stream",
     "text": [
      "<class 'pandas.core.frame.DataFrame'>\n",
      "RangeIndex: 50 entries, 0 to 49\n",
      "Data columns (total 2 columns):\n",
      " #   Column   Non-Null Count  Dtype\n",
      "---  ------   --------------  -----\n",
      " 0   Student  50 non-null     int64\n",
      " 1   Rating   50 non-null     int64\n",
      "dtypes: int64(2)\n",
      "memory usage: 928.0 bytes\n"
     ]
    }
   ],
   "source": [
    "#Step 1: Check for data quality\n",
    "rating_df.info()"
   ]
  },
  {
   "cell_type": "code",
   "execution_count": 69,
   "id": "fc8c9400",
   "metadata": {},
   "outputs": [
    {
     "name": "stdout",
     "output_type": "stream",
     "text": [
      "N: 50\n",
      "Mean rating: 5.68  Std. dev rating: 1.9529151417868642\n"
     ]
    }
   ],
   "source": [
    "# Step 2 : Find the mean and variance \n",
    "print(\"N:\", rating_df.shape[0])\n",
    "\n",
    "mean = rating_df.Rating.mean()\n",
    "sd = rating_df.Rating.std()\n",
    "print(\"Mean rating:\", mean, \" Std. dev rating:\", sd)"
   ]
  },
  {
   "cell_type": "code",
   "execution_count": 70,
   "id": "43665c8d",
   "metadata": {},
   "outputs": [
    {
     "data": {
      "text/plain": [
       "<matplotlib.collections.LineCollection at 0x230ddf19b80>"
      ]
     },
     "execution_count": 70,
     "metadata": {},
     "output_type": "execute_result"
    },
    {
     "data": {
      "image/png": "[encoded data removed]",
      "text/plain": [
       "<Figure size 432x288 with 1 Axes>"
      ]
     },
     "metadata": {
      "needs_background": "light"
     },
     "output_type": "display_data"
    }
   ],
   "source": [
    "# Step 3: The mean follows a normal distribution with population mean = mean and SD = sd/sqrt(N)\n",
    "mean_rating_rv = st.norm.rvs(loc=5.2, scale=sd/math.sqrt(50), size=5000)\n",
    "sns.kdeplot(mean_rating_rv)\n",
    "plt.vlines(x=mean, ymin=0, ymax=0.4,colors=\"g\")"
   ]
  },
  {
   "cell_type": "markdown",
   "id": "e9f4a0ed",
   "metadata": {},
   "source": [
    "The first question is whether the test should be one-tailed or two-tailed. Of course, the faculty have chosen the new textbook with the expectation that it will be preferred by the students, but it is very possible that students will like it less than the previous textbook.\n",
    "\n",
    "#### We will use a one-sample t test, with a two-tailed alternative, to see whether students like the new textbook any more or less than the old textbook.\n",
    "\n",
    "Null Hypothesis: $\\mu$ = 5.2   <br>\n",
    "Alternate hypothesis: $\\mu$ $\\neq$ 5.2"
   ]
  },
  {
   "cell_type": "code",
   "execution_count": 71,
   "id": "66c142a8",
   "metadata": {},
   "outputs": [
    {
     "name": "stdout",
     "output_type": "stream",
     "text": [
      "The p-values is 0.08849715486743326\n"
     ]
    }
   ],
   "source": [
    "p_val = st.ttest_1samp(a=rating_df.Rating, popmean=5.2, alternative='two-sided')\n",
    "\n",
    "print(f'The p-values is {p_val.pvalue}')"
   ]
  },
  {
   "cell_type": "markdown",
   "id": "460ec228",
   "metadata": {},
   "source": [
    "#### Since p-value is not less than 0.05, we do not have a strong evidence to reject the Null hypothesis. Hence we cannot we conclude that the students like this new textbook any more or less than the previous textbook."
   ]
  },
  {
   "cell_type": "markdown",
   "id": "8a2964e6",
   "metadata": {},
   "source": [
    "### Q2. MEASURING EFFECTIVENESS OF SAFETY TRAINING AT A CHEMICAL PLANT\n",
    "\n",
    "The managers of a chemical manufacturing plant want  to determine whether recent safety training workshops\n",
    "have reduced the weekly number of reported safety violations at the facility. \n",
    "\n",
    "The management team has randomly selected weekly safety violation reports for each of 25 weeks prior to the safety training and\n",
    "25 weeks after the safety workshops. These data are provided in the file ***02_Chemicalplant_Safety.xlsx***\n",
    "\n",
    "**Given this evidence, is it possible to conclude that the safety workshops have been effective in reducing the number of safety violations reported per week? Report a p-value and interpret your findings for the management team.**"
   ]
  },
  {
   "cell_type": "code",
   "execution_count": 72,
   "id": "8e437678",
   "metadata": {},
   "outputs": [
    {
     "data": {
      "text/html": [
       "<div><div id=753afacc-d9eb-442b-aa5e-bf695dc3ac27 style=\"display:none; background-color:#9D6CFF; color:white; width:200px; height:30px; padding-left:5px; border-radius:4px; flex-direction:row; justify-content:space-around; align-items:center;\" onmouseover=\"this.style.backgroundColor='#BA9BF8'\" onmouseout=\"this.style.backgroundColor='#9D6CFF'\" onclick=\"window.commands?.execute('create-mitosheet-from-dataframe-output');\">See Full Dataframe in Mito</div> <script> if (window.commands?.hasCommand('create-mitosheet-from-dataframe-output')) document.getElementById('753afacc-d9eb-442b-aa5e-bf695dc3ac27').style.display = 'flex' </script> <table border=\"1\" class=\"dataframe\">\n",
       "  <thead>\n",
       "    <tr style=\"text-align: right;\">\n",
       "      <th></th>\n",
       "      <th>Week</th>\n",
       "      <th>Violations</th>\n",
       "    </tr>\n",
       "  </thead>\n",
       "  <tbody>\n",
       "    <tr>\n",
       "      <th>0</th>\n",
       "      <td>1</td>\n",
       "      <td>1</td>\n",
       "    </tr>\n",
       "    <tr>\n",
       "      <th>1</th>\n",
       "      <td>2</td>\n",
       "      <td>1</td>\n",
       "    </tr>\n",
       "    <tr>\n",
       "      <th>2</th>\n",
       "      <td>3</td>\n",
       "      <td>3</td>\n",
       "    </tr>\n",
       "    <tr>\n",
       "      <th>3</th>\n",
       "      <td>4</td>\n",
       "      <td>2</td>\n",
       "    </tr>\n",
       "    <tr>\n",
       "      <th>4</th>\n",
       "      <td>5</td>\n",
       "      <td>1</td>\n",
       "    </tr>\n",
       "  </tbody>\n",
       "</table></div>"
      ],
      "text/plain": [
       "   Week  Violations\n",
       "0     1           1\n",
       "1     2           1\n",
       "2     3           3\n",
       "3     4           2\n",
       "4     5           1"
      ]
     },
     "execution_count": 72,
     "metadata": {},
     "output_type": "execute_result"
    }
   ],
   "source": [
    "before = pd.read_excel(\"02_Chemicalplant_Safety.xlsx\", sheet_name='Before')\n",
    "before.head()"
   ]
  },
  {
   "cell_type": "code",
   "execution_count": 73,
   "id": "943d492e",
   "metadata": {},
   "outputs": [
    {
     "data": {
      "text/html": [
       "<div><div id=0977db12-1f17-46be-88b7-c3e0d225ffc9 style=\"display:none; background-color:#9D6CFF; color:white; width:200px; height:30px; padding-left:5px; border-radius:4px; flex-direction:row; justify-content:space-around; align-items:center;\" onmouseover=\"this.style.backgroundColor='#BA9BF8'\" onmouseout=\"this.style.backgroundColor='#9D6CFF'\" onclick=\"window.commands?.execute('create-mitosheet-from-dataframe-output');\">See Full Dataframe in Mito</div> <script> if (window.commands?.hasCommand('create-mitosheet-from-dataframe-output')) document.getElementById('0977db12-1f17-46be-88b7-c3e0d225ffc9').style.display = 'flex' </script> <table border=\"1\" class=\"dataframe\">\n",
       "  <thead>\n",
       "    <tr style=\"text-align: right;\">\n",
       "      <th></th>\n",
       "      <th>Week</th>\n",
       "      <th>Violations</th>\n",
       "    </tr>\n",
       "  </thead>\n",
       "  <tbody>\n",
       "    <tr>\n",
       "      <th>0</th>\n",
       "      <td>1</td>\n",
       "      <td>0</td>\n",
       "    </tr>\n",
       "    <tr>\n",
       "      <th>1</th>\n",
       "      <td>2</td>\n",
       "      <td>1</td>\n",
       "    </tr>\n",
       "    <tr>\n",
       "      <th>2</th>\n",
       "      <td>3</td>\n",
       "      <td>1</td>\n",
       "    </tr>\n",
       "    <tr>\n",
       "      <th>3</th>\n",
       "      <td>4</td>\n",
       "      <td>1</td>\n",
       "    </tr>\n",
       "    <tr>\n",
       "      <th>4</th>\n",
       "      <td>5</td>\n",
       "      <td>1</td>\n",
       "    </tr>\n",
       "  </tbody>\n",
       "</table></div>"
      ],
      "text/plain": [
       "   Week  Violations\n",
       "0     1           0\n",
       "1     2           1\n",
       "2     3           1\n",
       "3     4           1\n",
       "4     5           1"
      ]
     },
     "execution_count": 73,
     "metadata": {},
     "output_type": "execute_result"
    }
   ],
   "source": [
    "after = pd.read_excel(\"02_Chemicalplant_Safety.xlsx\", sheet_name='After')\n",
    "after.head()"
   ]
  },
  {
   "cell_type": "code",
   "execution_count": 74,
   "id": "800e7de5",
   "metadata": {},
   "outputs": [
    {
     "name": "stdout",
     "output_type": "stream",
     "text": [
      "Mean Violation(before):1.72 \n",
      "Mean Violation(after) :1.08\n"
     ]
    }
   ],
   "source": [
    "#Mean violation before and after\n",
    "print(f'Mean Violation(before):{before.Violations.mean()} \\nMean Violation(after) :{after.Violations.mean()}')"
   ]
  },
  {
   "cell_type": "markdown",
   "id": "938b78a4",
   "metadata": {},
   "source": [
    "There is a before and after sample. So We will use a two-sample unpaired (independent) t-test, with a two-tailed alternative, to see whether mean violation has changed.<br>\n",
    "Null Hypothesis:  $\\mu$(before) =  $\\mu$(after) <br>\n",
    "Alternate hypothesis:   $\\mu$(before) >   $\\mu$(after)"
   ]
  },
  {
   "cell_type": "code",
   "execution_count": 75,
   "id": "57e39dc5",
   "metadata": {},
   "outputs": [
    {
     "name": "stdout",
     "output_type": "stream",
     "text": [
      "The p-values is 0.005372472303888742\n"
     ]
    }
   ],
   "source": [
    "p_val= st.ttest_ind(before.Violations, after.Violations,  alternative='greater')\n",
    "\n",
    "print(f'The p-values is {p_val.pvalue}')"
   ]
  },
  {
   "cell_type": "markdown",
   "id": "3ee4ec0a",
   "metadata": {},
   "source": [
    "#### Since p-value is  less than 0.05, we reject the Null hypothesis. Hence the violations have reduced after the program."
   ]
  },
  {
   "cell_type": "markdown",
   "id": "72e95566",
   "metadata": {},
   "source": [
    "### Q3. MEASURING THE EFFECTS OF NEW STYLES OF SOFT-DRINK CANS\n",
    "\n",
    "Beer and soft-drink companies have become very concerned about the style of their cans.\n",
    "\n",
    "There are cans with fluted and embossed sides and cans with six-color graphics and holograms. Coca-Cola has even introduced a contoured can, shaped like the old-fashioned Coke bottle minus the neck. \n",
    "\n",
    "Evidently, these companies believe the style of the can makes a difference to consumers, which presumably translates into higher sales.\n",
    "\n",
    "Assume that a soft-drink company is considering a style change to its current can, which has been the company’s trademark for many years. To determine whether this new style is popular with consumers, the company runs a number of focus group sessions around the country. At each of these sessions, randomly selected consumers are allowed to examine the new and traditional styles, exchange ideas, and offer their opinions. \n",
    "\n",
    "Eventually, they fill out a form where, among other questions, they are asked to respond to the following items, each on a scale of 1 to 7, 7 being the best:\n",
    "- Rate the attractiveness of the traditional-style can (AO).\n",
    "- Rate the attractiveness of the new-style can (AN).\n",
    "- Rate the likelihood that you would buy the product with the traditional-style can (WBO).\n",
    "- Rate the likelihood that you would buy the product with the new-style can (WBN).\n",
    "(A and WB stand for “attractiveness” and “would buy,” and O and N stand for “old” and “new.”) \n",
    "\n",
    "**What can the company conclude from these data?**"
   ]
  },
  {
   "cell_type": "code",
   "execution_count": 76,
   "id": "500fd9b0",
   "metadata": {},
   "outputs": [
    {
     "data": {
      "text/html": [
       "<div><div id=ae93ab61-96ec-42b7-b2d6-32e5afd37a21 style=\"display:none; background-color:#9D6CFF; color:white; width:200px; height:30px; padding-left:5px; border-radius:4px; flex-direction:row; justify-content:space-around; align-items:center;\" onmouseover=\"this.style.backgroundColor='#BA9BF8'\" onmouseout=\"this.style.backgroundColor='#9D6CFF'\" onclick=\"window.commands?.execute('create-mitosheet-from-dataframe-output');\">See Full Dataframe in Mito</div> <script> if (window.commands?.hasCommand('create-mitosheet-from-dataframe-output')) document.getElementById('ae93ab61-96ec-42b7-b2d6-32e5afd37a21').style.display = 'flex' </script> <table border=\"1\" class=\"dataframe\">\n",
       "  <thead>\n",
       "    <tr style=\"text-align: right;\">\n",
       "      <th></th>\n",
       "      <th>Consumer</th>\n",
       "      <th>AO</th>\n",
       "      <th>AN</th>\n",
       "      <th>WBO</th>\n",
       "      <th>WBN</th>\n",
       "    </tr>\n",
       "  </thead>\n",
       "  <tbody>\n",
       "    <tr>\n",
       "      <th>0</th>\n",
       "      <td>1</td>\n",
       "      <td>5</td>\n",
       "      <td>7</td>\n",
       "      <td>4</td>\n",
       "      <td>1</td>\n",
       "    </tr>\n",
       "    <tr>\n",
       "      <th>1</th>\n",
       "      <td>2</td>\n",
       "      <td>7</td>\n",
       "      <td>7</td>\n",
       "      <td>6</td>\n",
       "      <td>6</td>\n",
       "    </tr>\n",
       "    <tr>\n",
       "      <th>2</th>\n",
       "      <td>3</td>\n",
       "      <td>6</td>\n",
       "      <td>7</td>\n",
       "      <td>7</td>\n",
       "      <td>6</td>\n",
       "    </tr>\n",
       "    <tr>\n",
       "      <th>3</th>\n",
       "      <td>4</td>\n",
       "      <td>1</td>\n",
       "      <td>3</td>\n",
       "      <td>1</td>\n",
       "      <td>1</td>\n",
       "    </tr>\n",
       "    <tr>\n",
       "      <th>4</th>\n",
       "      <td>5</td>\n",
       "      <td>3</td>\n",
       "      <td>4</td>\n",
       "      <td>1</td>\n",
       "      <td>1</td>\n",
       "    </tr>\n",
       "  </tbody>\n",
       "</table></div>"
      ],
      "text/plain": [
       "   Consumer  AO  AN  WBO  WBN\n",
       "0         1   5   7    4    1\n",
       "1         2   7   7    6    6\n",
       "2         3   6   7    7    6\n",
       "3         4   1   3    1    1\n",
       "4         5   3   4    1    1"
      ]
     },
     "execution_count": 76,
     "metadata": {},
     "output_type": "execute_result"
    }
   ],
   "source": [
    "# Read the data file\n",
    "sdratings = pd.read_csv(\"03_Softdrink_Cans_Rating.csv\") \n",
    "sdratings.head()"
   ]
  },
  {
   "cell_type": "code",
   "execution_count": 77,
   "id": "a50e5d43",
   "metadata": {},
   "outputs": [
    {
     "data": {
      "text/html": [
       "<div><div id=3cdd4899-ddef-46c9-94f0-dad42976136b style=\"display:none; background-color:#9D6CFF; color:white; width:200px; height:30px; padding-left:5px; border-radius:4px; flex-direction:row; justify-content:space-around; align-items:center;\" onmouseover=\"this.style.backgroundColor='#BA9BF8'\" onmouseout=\"this.style.backgroundColor='#9D6CFF'\" onclick=\"window.commands?.execute('create-mitosheet-from-dataframe-output');\">See Full Dataframe in Mito</div> <script> if (window.commands?.hasCommand('create-mitosheet-from-dataframe-output')) document.getElementById('3cdd4899-ddef-46c9-94f0-dad42976136b').style.display = 'flex' </script> <table border=\"1\" class=\"dataframe\">\n",
       "  <thead>\n",
       "    <tr style=\"text-align: right;\">\n",
       "      <th></th>\n",
       "      <th>Consumer</th>\n",
       "      <th>AO</th>\n",
       "      <th>AN</th>\n",
       "      <th>WBO</th>\n",
       "      <th>WBN</th>\n",
       "    </tr>\n",
       "  </thead>\n",
       "  <tbody>\n",
       "    <tr>\n",
       "      <th>count</th>\n",
       "      <td>180.000000</td>\n",
       "      <td>180.000000</td>\n",
       "      <td>180.000000</td>\n",
       "      <td>180.000000</td>\n",
       "      <td>180.000000</td>\n",
       "    </tr>\n",
       "    <tr>\n",
       "      <th>mean</th>\n",
       "      <td>90.500000</td>\n",
       "      <td>4.411111</td>\n",
       "      <td>4.950000</td>\n",
       "      <td>3.861111</td>\n",
       "      <td>4.338889</td>\n",
       "    </tr>\n",
       "    <tr>\n",
       "      <th>std</th>\n",
       "      <td>52.105662</td>\n",
       "      <td>1.710268</td>\n",
       "      <td>1.975478</td>\n",
       "      <td>1.922417</td>\n",
       "      <td>2.066395</td>\n",
       "    </tr>\n",
       "    <tr>\n",
       "      <th>min</th>\n",
       "      <td>1.000000</td>\n",
       "      <td>1.000000</td>\n",
       "      <td>1.000000</td>\n",
       "      <td>1.000000</td>\n",
       "      <td>1.000000</td>\n",
       "    </tr>\n",
       "    <tr>\n",
       "      <th>25%</th>\n",
       "      <td>45.750000</td>\n",
       "      <td>3.000000</td>\n",
       "      <td>3.750000</td>\n",
       "      <td>2.000000</td>\n",
       "      <td>3.000000</td>\n",
       "    </tr>\n",
       "    <tr>\n",
       "      <th>50%</th>\n",
       "      <td>90.500000</td>\n",
       "      <td>5.000000</td>\n",
       "      <td>5.000000</td>\n",
       "      <td>4.000000</td>\n",
       "      <td>4.000000</td>\n",
       "    </tr>\n",
       "    <tr>\n",
       "      <th>75%</th>\n",
       "      <td>135.250000</td>\n",
       "      <td>6.000000</td>\n",
       "      <td>7.000000</td>\n",
       "      <td>5.000000</td>\n",
       "      <td>6.000000</td>\n",
       "    </tr>\n",
       "    <tr>\n",
       "      <th>max</th>\n",
       "      <td>180.000000</td>\n",
       "      <td>7.000000</td>\n",
       "      <td>7.000000</td>\n",
       "      <td>7.000000</td>\n",
       "      <td>7.000000</td>\n",
       "    </tr>\n",
       "  </tbody>\n",
       "</table></div>"
      ],
      "text/plain": [
       "         Consumer          AO          AN         WBO         WBN\n",
       "count  180.000000  180.000000  180.000000  180.000000  180.000000\n",
       "mean    90.500000    4.411111    4.950000    3.861111    4.338889\n",
       "std     52.105662    1.710268    1.975478    1.922417    2.066395\n",
       "min      1.000000    1.000000    1.000000    1.000000    1.000000\n",
       "25%     45.750000    3.000000    3.750000    2.000000    3.000000\n",
       "50%     90.500000    5.000000    5.000000    4.000000    4.000000\n",
       "75%    135.250000    6.000000    7.000000    5.000000    6.000000\n",
       "max    180.000000    7.000000    7.000000    7.000000    7.000000"
      ]
     },
     "execution_count": 77,
     "metadata": {},
     "output_type": "execute_result"
    }
   ],
   "source": [
    "# Let us look at the summary statistics\n",
    "\n",
    "sdratings.describe()"
   ]
  },
  {
   "cell_type": "markdown",
   "id": "73f6e0ec",
   "metadata": {},
   "source": [
    "#### There are several difference of interest. The most important one we care about is the difference between likelihood of buying based on difference in can style.\n",
    "\n",
    "diff = WBO - WBN \n",
    "\n",
    "Since the same person responds to all the question - this is case where we will use a paired t-test (left-tailed). \n",
    "\n",
    "We formulate the hypothesis as follows:\n",
    "- Null Hypothesis:  $\\mu$(WBN) $\\leq$  $\\mu$(WBO) <br>\n",
    "- Alternate hypothesis:   $\\mu$(WBN) $\\gt$  $\\mu$(WBO)"
   ]
  },
  {
   "cell_type": "code",
   "execution_count": 78,
   "id": "566c2c4e",
   "metadata": {},
   "outputs": [
    {
     "name": "stdout",
     "output_type": "stream",
     "text": [
      "The p-values is 2.0084599545902635e-06\n"
     ]
    }
   ],
   "source": [
    "# Calculate the t-test on TWO RELATED samples of scores, a and b.\n",
    "# alternative=‘greater’: mean of the first sample is greater than the mean of the second sample.\n",
    "\n",
    "p_val= st.ttest_rel(sdratings.WBN, sdratings.WBO, alternative='greater')  \n",
    "print(f'The p-values is {p_val.pvalue}')"
   ]
  },
  {
   "cell_type": "markdown",
   "id": "793c66d1",
   "metadata": {},
   "source": [
    "#### Conclusion: Consumer are more likely to purchase the can with new style."
   ]
  },
  {
   "cell_type": "markdown",
   "id": "4e0db383",
   "metadata": {},
   "source": [
    "### Q4. RELATIONSHIP BETWEEN DEMANDS FOR DESKTOPS AND LAPTOPS AT BIG OFFICE\n",
    "\n",
    "Big Office, a chain of large office supply stores, sells an extensive line of desktop and laptop computers. \n",
    "Company executives want to know whether the demands for these two types of computers are related in any way. \n",
    "- They might act as complementary products,where high demand for desktops accompanies high demand for laptops\n",
    "- They might act as substitute products (demand for one takes away demand for the other)\n",
    "- Their demands might be unrelated. \n",
    "\n",
    "Because of limitations in its information system, Big Office does not have the exact demands for these products. \n",
    "However, it does have daily information on categories of demand, listed in aggregate (that is, over all stores). \n",
    "\n",
    "These data appear in Figure 9.32. (See the file PC Demand.xlsx.) Each day’s demand for each type of computer is categorized as Low, MedLow (medium-low),\n",
    "MedHigh (medium-high), or High. The data is based on 250 days. \n",
    "\n",
    "***Based on these data, can Big Office conclude that demands for these two products are independent?***"
   ]
  },
  {
   "cell_type": "code",
   "execution_count": 79,
   "id": "375b8bf8",
   "metadata": {},
   "outputs": [],
   "source": [
    "# Read the data\n",
    "demand_df = pd.read_excel(\"04_Laptop_Demand.xlsx\", sheet_name='Data', index_col=\"Rownames\")"
   ]
  },
  {
   "cell_type": "code",
   "execution_count": 80,
   "id": "f5e7f606",
   "metadata": {},
   "outputs": [
    {
     "data": {
      "text/html": [
       "<div><div id=d0bbbb10-7c80-4107-9ae2-98998916cd76 style=\"display:none; background-color:#9D6CFF; color:white; width:200px; height:30px; padding-left:5px; border-radius:4px; flex-direction:row; justify-content:space-around; align-items:center;\" onmouseover=\"this.style.backgroundColor='#BA9BF8'\" onmouseout=\"this.style.backgroundColor='#9D6CFF'\" onclick=\"window.commands?.execute('create-mitosheet-from-dataframe-output');\">See Full Dataframe in Mito</div> <script> if (window.commands?.hasCommand('create-mitosheet-from-dataframe-output')) document.getElementById('d0bbbb10-7c80-4107-9ae2-98998916cd76').style.display = 'flex' </script> <table border=\"1\" class=\"dataframe\">\n",
       "  <thead>\n",
       "    <tr style=\"text-align: right;\">\n",
       "      <th></th>\n",
       "      <th>Win_Low</th>\n",
       "      <th>Win_MediumLow</th>\n",
       "      <th>Win_MediumHigh</th>\n",
       "      <th>Win_High</th>\n",
       "    </tr>\n",
       "    <tr>\n",
       "      <th>Rownames</th>\n",
       "      <th></th>\n",
       "      <th></th>\n",
       "      <th></th>\n",
       "      <th></th>\n",
       "    </tr>\n",
       "  </thead>\n",
       "  <tbody>\n",
       "    <tr>\n",
       "      <th>Mac_Low</th>\n",
       "      <td>4</td>\n",
       "      <td>17</td>\n",
       "      <td>17</td>\n",
       "      <td>5</td>\n",
       "    </tr>\n",
       "    <tr>\n",
       "      <th>Mac_MediumLow</th>\n",
       "      <td>8</td>\n",
       "      <td>23</td>\n",
       "      <td>22</td>\n",
       "      <td>27</td>\n",
       "    </tr>\n",
       "    <tr>\n",
       "      <th>Mac_MediumHigh</th>\n",
       "      <td>16</td>\n",
       "      <td>20</td>\n",
       "      <td>14</td>\n",
       "      <td>20</td>\n",
       "    </tr>\n",
       "    <tr>\n",
       "      <th>Mac_High</th>\n",
       "      <td>10</td>\n",
       "      <td>17</td>\n",
       "      <td>19</td>\n",
       "      <td>11</td>\n",
       "    </tr>\n",
       "  </tbody>\n",
       "</table></div>"
      ],
      "text/plain": [
       "                Win_Low  Win_MediumLow  Win_MediumHigh  Win_High\n",
       "Rownames                                                        \n",
       "Mac_Low               4             17              17         5\n",
       "Mac_MediumLow         8             23              22        27\n",
       "Mac_MediumHigh       16             20              14        20\n",
       "Mac_High             10             17              19        11"
      ]
     },
     "execution_count": 80,
     "metadata": {},
     "output_type": "execute_result"
    }
   ],
   "source": [
    "demand_df"
   ]
  },
  {
   "cell_type": "markdown",
   "id": "8fd93aa6",
   "metadata": {},
   "source": [
    "#### We will use a Chi-Squared Test of independence. \n",
    "- Null hypothesis:  Win and Mac sales are independent\n",
    "- Alternate hypothesis: Win and Mac sales are not independent. "
   ]
  },
  {
   "cell_type": "code",
   "execution_count": 81,
   "id": "f900b8d1",
   "metadata": {},
   "outputs": [
    {
     "data": {
      "text/plain": [
       "(17.242027507828368,\n",
       " 0.04505802666265925,\n",
       " 9,\n",
       " array([[ 6.536, 13.244, 12.384, 10.836],\n",
       "        [12.16 , 24.64 , 23.04 , 20.16 ],\n",
       "        [10.64 , 21.56 , 20.16 , 17.64 ],\n",
       "        [ 8.664, 17.556, 16.416, 14.364]]))"
      ]
     },
     "execution_count": 81,
     "metadata": {},
     "output_type": "execute_result"
    }
   ],
   "source": [
    "st.chi2_contingency(demand_df)              # return values - Chi-Sq, P-val, dof , expected frequency"
   ]
  },
  {
   "cell_type": "markdown",
   "id": "e134441c",
   "metadata": {},
   "source": [
    "#### We conclude that the demand for Mac and Windows is not independent, at 5% level of confidence."
   ]
  }
 ],
 "metadata": {
  "kernelspec": {
   "display_name": "Python 3 (ipykernel)",
   "language": "python",
   "name": "python3"
  },
  "language_info": {
   "codemirror_mode": {
    "name": "ipython",
    "version": 3
   },
   "file_extension": ".py",
   "mimetype": "text/x-python",
   "name": "python",
   "nbconvert_exporter": "python",
   "pygments_lexer": "ipython3",
   "version": "3.9.7"
  }
 },
 "nbformat": 4,
 "nbformat_minor": 5
}
