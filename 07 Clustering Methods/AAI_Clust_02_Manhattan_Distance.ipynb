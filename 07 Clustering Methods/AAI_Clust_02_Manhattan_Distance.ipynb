{
 "cells": [
  {
   "cell_type": "markdown",
   "metadata": {},
   "source": [
    "# AccelerateAI"
   ]
  },
  {
   "cell_type": "markdown",
   "metadata": {},
   "source": [
    "## Distance Measure - Manhattan Distance"
   ]
  },
  {
   "cell_type": "markdown",
   "metadata": {},
   "source": [
    "The Manhattan distance represents the sum of the absolute differences between coordinates of two points. While the Euclidian distance represents the shortest distance, the Manhattan distance represents the distance a taxi cab would have to take (meaning that only right angles can be used).\n",
    "\n",
    "In a two-dimensional space, the Manhattan distance between two points (x1, y1) and (x2, y2) would be calculated as: \n",
    "\n",
    "```distance = |x2 - x1| + |y2 - y1|```\n",
    "\n",
    "In a multi-dimensional space, this formula can be generalized to the sum of absolute value of the differences.\n",
    "\n",
    "Advantages:\n",
    "- It has been demonstrated to work better with high-dimensional data, especially when compared to the Euclidian distance\n",
    "- It is less influenced by outliers than the Euclidian distance."
   ]
  },
  {
   "cell_type": "markdown",
   "metadata": {},
   "source": [
    "### 1. Compute manually"
   ]
  },
  {
   "cell_type": "code",
   "execution_count": 1,
   "metadata": {},
   "outputs": [],
   "source": [
    "# Calculating Manhattan Distance from Scratch - Approach style 1\n",
    "def manhattan_distance(point1, point2):\n",
    "    distance = 0\n",
    "    for x1, x2 in zip(point1, point2):\n",
    "        difference = x2 - x1\n",
    "        absolute_difference = abs(difference)\n",
    "        distance += absolute_difference\n",
    "\n",
    "    return distance"
   ]
  },
  {
   "cell_type": "code",
   "execution_count": 2,
   "metadata": {},
   "outputs": [],
   "source": [
    "# Calculating Manhattan Distance from Scratch - Approach style 2\n",
    "# This is same as previous method, slightly different representation of codebase\n",
    "def manhattan_distance1(point1, point2):\n",
    "    return sum(abs(value1 - value2) for value1, value2 in zip(point1, point2))"
   ]
  },
  {
   "cell_type": "code",
   "execution_count": 3,
   "metadata": {},
   "outputs": [
    {
     "name": "stdout",
     "output_type": "stream",
     "text": [
      "18\n"
     ]
    }
   ],
   "source": [
    "x1 = (1,2,3,4,5,6)\n",
    "x2 = (4,5,6,7,8,9)\n",
    "print(manhattan_distance(x1, x2))"
   ]
  },
  {
   "cell_type": "code",
   "execution_count": 4,
   "metadata": {},
   "outputs": [
    {
     "name": "stdout",
     "output_type": "stream",
     "text": [
      "18\n"
     ]
    }
   ],
   "source": [
    "x1 = (1,2,3,4,5,6)\n",
    "x2 = (4,5,6,7,8,9)\n",
    "print(manhattan_distance1(x1, x2))"
   ]
  },
  {
   "cell_type": "markdown",
   "metadata": {},
   "source": [
    "### 2. Compute using Scipy"
   ]
  },
  {
   "cell_type": "code",
   "execution_count": 7,
   "metadata": {},
   "outputs": [],
   "source": [
    "from scipy.spatial.distance import cityblock"
   ]
  },
  {
   "cell_type": "code",
   "execution_count": 6,
   "metadata": {},
   "outputs": [
    {
     "name": "stdout",
     "output_type": "stream",
     "text": [
      "18\n"
     ]
    }
   ],
   "source": [
    "x1 = (1,2,3,4,5,6)\n",
    "x2 = (4,5,6,7,8,9)\n",
    "print(cityblock(x1, x2))"
   ]
  },
  {
   "cell_type": "code",
   "execution_count": 9,
   "metadata": {},
   "outputs": [
    {
     "name": "stdout",
     "output_type": "stream",
     "text": [
      "1618\n"
     ]
    }
   ],
   "source": [
    "stanford = (1360,90,20,12,36450,93)\n",
    "mit = (1380,94,30,10,34870,91)\n",
    "print(cityblock(stanford, mit))"
   ]
  },
  {
   "cell_type": "code",
   "execution_count": null,
   "metadata": {},
   "outputs": [],
   "source": []
  }
 ],
 "metadata": {
  "kernelspec": {
   "display_name": "Python 3",
   "language": "python",
   "name": "python3"
  },
  "language_info": {
   "codemirror_mode": {
    "name": "ipython",
    "version": 3
   },
   "file_extension": ".py",
   "mimetype": "text/x-python",
   "name": "python",
   "nbconvert_exporter": "python",
   "pygments_lexer": "ipython3",
   "version": "3.8.5"
  }
 },
 "nbformat": 4,
 "nbformat_minor": 4
}
