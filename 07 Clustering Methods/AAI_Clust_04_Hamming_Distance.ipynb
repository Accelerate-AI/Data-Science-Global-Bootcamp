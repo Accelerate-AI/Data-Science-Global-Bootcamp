{
 "cells": [
  {
   "cell_type": "markdown",
   "metadata": {},
   "source": [
    "# AccelerateAI"
   ]
  },
  {
   "cell_type": "markdown",
   "metadata": {},
   "source": [
    "## Distance Measure - Hamming Distance"
   ]
  },
  {
   "cell_type": "markdown",
   "metadata": {},
   "source": [
    "Hamming distance calculates the distance between two binary vectors, also referred to as binary strings.\n",
    "\n",
    "We typically encounter bitstrings when we perform one-hot encoding on categorical columns of data. For example, in a data center energy optimization analysis, we have a feature named ```Chiller_Temp``` which can hold values such as Hot, Cold, Very Hot, Warm etc. If we represent in binary strings, then:\n",
    "\n",
    "- Hot = [1,0,0,0]\n",
    "- Cold = [0,1,0,0]\n",
    "- Very Hot = [0,0,1,0]\n",
    "- Warm = [0,0,0,1]\n",
    "\n",
    "The distance between Hot and Cold could be calculated as the sum or the average number of bit differences between the two binary strings. This is the Hamming distance.\n",
    "\n",
    "For a one-hot encoded string, it might make more sense to summarize to the sum of the bit differences between the strings, which will always be a 0 or 1.\n",
    "\n",
    "```HammingDistance = sum for i to N abs(v1[i] – v2[i])```\n",
    "\n",
    "For binary strings that may have many 1 bits, it is more common to calculate the average number of bit differences to give a hamming distance score between 0 (identical) and 1 (all different). Thus it comes out to be:\n",
    "\n",
    "```HammingDistance = (sum for i to N abs(v1[i] – v2[i])) / N```"
   ]
  },
  {
   "cell_type": "markdown",
   "metadata": {},
   "source": [
    "### 1. Using manually"
   ]
  },
  {
   "cell_type": "code",
   "execution_count": 1,
   "metadata": {},
   "outputs": [
    {
     "name": "stdout",
     "output_type": "stream",
     "text": [
      "0.5\n"
     ]
    }
   ],
   "source": [
    "# Calculating hamming distance between bit strings\n",
    " \n",
    "# Calculate hamming distance\n",
    "def hamming_distance(a, b):\n",
    "    return sum(abs(e1 - e2) for e1, e2 in zip(a, b)) / len(a)\n",
    " \n",
    "# Define data\n",
    "row1 = [1, 0, 0, 0]\n",
    "row2 = [0, 1, 0, 0]\n",
    "\n",
    "# Calculate distance\n",
    "dist = hamming_distance(row1, row2)\n",
    "print(dist)"
   ]
  },
  {
   "cell_type": "markdown",
   "metadata": {},
   "source": [
    "### 2. Using Scipy"
   ]
  },
  {
   "cell_type": "code",
   "execution_count": 2,
   "metadata": {},
   "outputs": [
    {
     "name": "stdout",
     "output_type": "stream",
     "text": [
      "0.5\n"
     ]
    }
   ],
   "source": [
    "# Calculating hamming distance between bit strings leveraging Scipy\n",
    "from scipy.spatial.distance import hamming\n",
    "\n",
    "# Define data\n",
    "row1 = [1, 0, 0, 0]\n",
    "row2 = [0, 1, 0, 0]\n",
    "\n",
    "# Calculate distance\n",
    "dist = hamming(row1, row2)\n",
    "print(dist)"
   ]
  },
  {
   "cell_type": "code",
   "execution_count": null,
   "metadata": {},
   "outputs": [],
   "source": []
  }
 ],
 "metadata": {
  "kernelspec": {
   "display_name": "Python 3",
   "language": "python",
   "name": "python3"
  },
  "language_info": {
   "codemirror_mode": {
    "name": "ipython",
    "version": 3
   },
   "file_extension": ".py",
   "mimetype": "text/x-python",
   "name": "python",
   "nbconvert_exporter": "python",
   "pygments_lexer": "ipython3",
   "version": "3.8.5"
  }
 },
 "nbformat": 4,
 "nbformat_minor": 4
}
