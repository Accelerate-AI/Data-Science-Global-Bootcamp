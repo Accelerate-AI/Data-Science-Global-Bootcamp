{
 "cells": [
  {
   "cell_type": "markdown",
   "metadata": {
    "id": "u6dqL7f4XJgd"
   },
   "source": [
    "# AccelerateAI: Clustering"
   ]
  },
  {
   "cell_type": "markdown",
   "metadata": {},
   "source": [
    "## Context"
   ]
  },
  {
   "cell_type": "markdown",
   "metadata": {},
   "source": [
    "### Hierarchical Clustering"
   ]
  },
  {
   "cell_type": "markdown",
   "metadata": {},
   "source": [
    "- Hierarchical clustering, also known as hierarchical cluster analysis, is an algorithm that groups similar objects into groups called clusters \n",
    "- The endpoint is a set of clusters, where each cluster is distinct from each other cluster, and the objects within each cluster are broadly similar to each other\n",
    "\n",
    "**Type of Hierarchical Clustering**\n",
    "1. **Agglomerative Clustering** which is a method of clustering which builds a hierarchy of clusters by merging together small clusters, it is a **bottom up approach**\n",
    "\n",
    "2. **Divisive Clustering**, is a **top down approach** where we consider all the observation as a single big cluster and then divide into small clusters  "
   ]
  },
  {
   "cell_type": "markdown",
   "metadata": {},
   "source": [
    "### Dendrogram"
   ]
  },
  {
   "cell_type": "markdown",
   "metadata": {},
   "source": [
    "- The dendrogram is a visual representation of the compound correlation data\n",
    "- The individual compounds are arranged along the bottom of the dendrogram and referred to as leaf nodes\n",
    "- Compound clusters are formed by joining individual compounds or existing compound clusters with the join point referred to as a node"
   ]
  },
  {
   "cell_type": "markdown",
   "metadata": {},
   "source": [
    "### Silhouette Score"
   ]
  },
  {
   "cell_type": "markdown",
   "metadata": {},
   "source": [
    "- Clusters are well apart from each other as the silhouette score is closer to 1\n",
    "- Silhouette Coefficient score is a metric used to **calculate the goodness of a clustering technique** \n",
    "- Its value ranges from -1 to 1.\n",
    "    1. **Score = 1: Means clusters are well apart** from each other and clearly distinguished.\n",
    "    2. **Score = 0: Means clusters are indifferent**, or we can say that the distance between clusters is not significant.\n",
    "    3. **Score = -1: Means clusters are assigned in the wrong way**"
   ]
  },
  {
   "cell_type": "markdown",
   "metadata": {},
   "source": [
    "## Example"
   ]
  },
  {
   "cell_type": "markdown",
   "metadata": {},
   "source": [
    "### Import Libraries"
   ]
  },
  {
   "cell_type": "code",
   "execution_count": 1,
   "metadata": {
    "id": "qcrOZvxZDrFS"
   },
   "outputs": [],
   "source": [
    "import numpy as np\n",
    "import pandas as pd\n",
    "\n",
    "import matplotlib.pyplot as plt\n",
    "\n",
    "from sklearn import datasets\n",
    "from sklearn.cluster import AgglomerativeClustering\n",
    "from sklearn.datasets import load_iris\n",
    "from sklearn.metrics import silhouette_score\n",
    "\n",
    "from scipy.spatial import distance # To calculate distances\n",
    "from IPython.display import Image\n",
    "import scipy.cluster.hierarchy as sch"
   ]
  },
  {
   "cell_type": "markdown",
   "metadata": {},
   "source": [
    "Let us consider a simpler dataset."
   ]
  },
  {
   "cell_type": "code",
   "execution_count": 2,
   "metadata": {
    "colab": {
     "base_uri": "https://localhost:8080/",
     "height": 281
    },
    "id": "-YThM0qSchtV",
    "outputId": "1b8359d1-af06-4ad5-f912-9ea912d3fc4d"
   },
   "outputs": [
    {
     "data": {
      "image/png": "[encoded data removed]",
      "text/plain": [
       "<Figure size 432x288 with 1 Axes>"
      ]
     },
     "metadata": {
      "needs_background": "light"
     },
     "output_type": "display_data"
    }
   ],
   "source": [
    "x_axis = np.array([1,2,4,6,7,11])\n",
    "y_axis = np.array([2,4,3,8,9,10])\n",
    "\n",
    "data = pd.DataFrame({'x':x_axis, 'y':y_axis})\n",
    "\n",
    "plt.plot()\n",
    "plt.xlim([0,21])\n",
    "plt.ylim([0,21])\n",
    "plt.title('Dataset')\n",
    "plt.scatter(x_axis,y_axis)\n",
    "plt.show()"
   ]
  },
  {
   "cell_type": "code",
   "execution_count": 3,
   "metadata": {},
   "outputs": [
    {
     "data": {
      "text/html": [
       "<div>\n",
       "<style scoped>\n",
       "    .dataframe tbody tr th:only-of-type {\n",
       "        vertical-align: middle;\n",
       "    }\n",
       "\n",
       "    .dataframe tbody tr th {\n",
       "        vertical-align: top;\n",
       "    }\n",
       "\n",
       "    .dataframe thead th {\n",
       "        text-align: right;\n",
       "    }\n",
       "</style>\n",
       "<table border=\"1\" class=\"dataframe\">\n",
       "  <thead>\n",
       "    <tr style=\"text-align: right;\">\n",
       "      <th></th>\n",
       "      <th>x</th>\n",
       "      <th>y</th>\n",
       "    </tr>\n",
       "  </thead>\n",
       "  <tbody>\n",
       "    <tr>\n",
       "      <th>0</th>\n",
       "      <td>1</td>\n",
       "      <td>2</td>\n",
       "    </tr>\n",
       "    <tr>\n",
       "      <th>1</th>\n",
       "      <td>2</td>\n",
       "      <td>4</td>\n",
       "    </tr>\n",
       "    <tr>\n",
       "      <th>2</th>\n",
       "      <td>4</td>\n",
       "      <td>3</td>\n",
       "    </tr>\n",
       "    <tr>\n",
       "      <th>3</th>\n",
       "      <td>6</td>\n",
       "      <td>8</td>\n",
       "    </tr>\n",
       "    <tr>\n",
       "      <th>4</th>\n",
       "      <td>7</td>\n",
       "      <td>9</td>\n",
       "    </tr>\n",
       "    <tr>\n",
       "      <th>5</th>\n",
       "      <td>11</td>\n",
       "      <td>10</td>\n",
       "    </tr>\n",
       "  </tbody>\n",
       "</table>\n",
       "</div>"
      ],
      "text/plain": [
       "    x   y\n",
       "0   1   2\n",
       "1   2   4\n",
       "2   4   3\n",
       "3   6   8\n",
       "4   7   9\n",
       "5  11  10"
      ]
     },
     "execution_count": 3,
     "metadata": {},
     "output_type": "execute_result"
    }
   ],
   "source": [
    "data"
   ]
  },
  {
   "cell_type": "markdown",
   "metadata": {},
   "source": [
    "### Dendrogram - Single Linkage"
   ]
  },
  {
   "cell_type": "code",
   "execution_count": 4,
   "metadata": {},
   "outputs": [
    {
     "data": {
      "image/png": "[encoded data removed]",
      "text/plain": [
       "<Figure size 720x288 with 1 Axes>"
      ]
     },
     "metadata": {
      "needs_background": "light"
     },
     "output_type": "display_data"
    }
   ],
   "source": [
    "# Dendrogram (Single Linkage) \n",
    "\n",
    "Z = sch.linkage(data, method = 'single')\n",
    "plt.figure(figsize=(10,4))\n",
    "den = sch.dendrogram(Z)\n",
    "plt.title('Dendrogram (Single Linkage) for the clustering of the dataset')\n",
    "plt.xlabel('Data Points Number')\n",
    "plt.ylabel('Euclidean distance in the space with other variables')\n",
    "\n",
    "plt.show()"
   ]
  },
  {
   "cell_type": "markdown",
   "metadata": {},
   "source": [
    "### Dendrogram - Complete Linkage"
   ]
  },
  {
   "cell_type": "code",
   "execution_count": 5,
   "metadata": {},
   "outputs": [
    {
     "data": {
      "image/png": "[encoded data removed]",
      "text/plain": [
       "<Figure size 720x288 with 1 Axes>"
      ]
     },
     "metadata": {
      "needs_background": "light"
     },
     "output_type": "display_data"
    }
   ],
   "source": [
    "# Dendrogram (Complete Linkage) \n",
    "\n",
    "Z = sch.linkage(data, method = 'complete')\n",
    "plt.figure(figsize=(10,4))\n",
    "den = sch.dendrogram(Z)\n",
    "plt.title('Dendrogram (Complete Linkage) for the clustering of the dataset')\n",
    "plt.xlabel('Data Points Number')\n",
    "plt.ylabel('Euclidean distance in the space with other variables')\n",
    "\n",
    "plt.show()"
   ]
  },
  {
   "cell_type": "markdown",
   "metadata": {},
   "source": [
    "### Dendrogram - Median Linkage"
   ]
  },
  {
   "cell_type": "code",
   "execution_count": 6,
   "metadata": {
    "colab": {
     "base_uri": "https://localhost:8080/",
     "height": 322
    },
    "id": "2HmwV-Ek6Nkh",
    "outputId": "f90526da-4fde-4051-d908-cdaf886f415f"
   },
   "outputs": [
    {
     "data": {
      "image/png": "[encoded data removed]",
      "text/plain": [
       "<Figure size 720x288 with 1 Axes>"
      ]
     },
     "metadata": {
      "needs_background": "light"
     },
     "output_type": "display_data"
    }
   ],
   "source": [
    "# Dendrogram (Median Linkage) \n",
    "\n",
    "Z = sch.linkage(data, method = 'median')\n",
    "plt.figure(figsize=(10,4))\n",
    "den = sch.dendrogram(Z)\n",
    "plt.title('Dendrogram (Median Linkage) for the clustering of the dataset')\n",
    "plt.xlabel('Data Points Number')\n",
    "plt.ylabel('Euclidean distance in the space with other variables')\n",
    "\n",
    "plt.show()"
   ]
  },
  {
   "cell_type": "markdown",
   "metadata": {},
   "source": [
    "### Dendrogram - Average Linkage"
   ]
  },
  {
   "cell_type": "code",
   "execution_count": 7,
   "metadata": {
    "colab": {
     "base_uri": "https://localhost:8080/",
     "height": 322
    },
    "id": "SlEkajEc7Vcc",
    "outputId": "8aade58a-3cd7-4343-a543-379c564f43eb"
   },
   "outputs": [
    {
     "data": {
      "image/png": "[encoded data removed]",
      "text/plain": [
       "<Figure size 720x288 with 1 Axes>"
      ]
     },
     "metadata": {
      "needs_background": "light"
     },
     "output_type": "display_data"
    }
   ],
   "source": [
    "# Dendrogram (Average Linkage) \n",
    "\n",
    "Z = sch.linkage(data, method = 'average')\n",
    "plt.figure(figsize=(10,4))\n",
    "den = sch.dendrogram(Z)\n",
    "plt.title('Dendrogram (Average Linkage) for the clustering of the dataset')\n",
    "plt.xlabel('Data Points Number')\n",
    "plt.ylabel('Euclidean distance in the space with other variables')\n",
    "\n",
    "plt.show()"
   ]
  },
  {
   "cell_type": "markdown",
   "metadata": {},
   "source": [
    "### Agglomerative HC"
   ]
  },
  {
   "cell_type": "code",
   "execution_count": 8,
   "metadata": {
    "colab": {
     "base_uri": "https://localhost:8080/"
    },
    "id": "Tpls6dGi-IZ4",
    "outputId": "5bee69ec-e961-401f-94f5-1c5ccfafc073"
   },
   "outputs": [
    {
     "name": "stdout",
     "output_type": "stream",
     "text": [
      "AgglomerativeClustering(linkage='average')\n",
      "\n",
      "\n",
      "Clusters assigned to each datapoints, cluster = 2 :\n",
      "0    1\n",
      "1    1\n",
      "2    1\n",
      "3    0\n",
      "4    0\n",
      "5    0\n",
      "Name: clusters, dtype: int64\n"
     ]
    }
   ],
   "source": [
    "# Building an Agglomerative Clustering Model : Initialise Model\n",
    "# We analyse the above-created dendrogram \n",
    "# decide that we will be making 2 clusters for this dataset\n",
    "\n",
    "cluster_H = AgglomerativeClustering(n_clusters=2,linkage= 'average')\n",
    "# Model Fit\n",
    "model_clt = cluster_H.fit(data)\n",
    "print(model_clt)\n",
    "print('\\n')\n",
    "\n",
    "data['clusters'] = model_clt.labels_\n",
    "print('Clusters assigned to each datapoints, cluster = 2 :')\n",
    "print(data['clusters'])"
   ]
  },
  {
   "cell_type": "code",
   "execution_count": 9,
   "metadata": {
    "colab": {
     "base_uri": "https://localhost:8080/"
    },
    "id": "3jqLLZ7zBRWn",
    "outputId": "87f74c62-543a-40d0-a82d-0440058cd637"
   },
   "outputs": [
    {
     "name": "stdout",
     "output_type": "stream",
     "text": [
      "For cluster= 2, Silhouette Coefficient is 0.6246482279081483\n",
      "For cluster= 3, Silhouette Coefficient is 0.5466071155359425\n",
      "For cluster= 4, Silhouette Coefficient is 0.2812138638014983\n",
      "For cluster= 5, Silhouette Coefficient is 0.23239832733258955\n",
      "\n",
      "\n",
      "For Cluster = 2, it has highest Silhouette Value. So Number of Cluster = 2\n"
     ]
    }
   ],
   "source": [
    "# Silhouette Score\n",
    "data = pd.DataFrame({'x':x_axis, 'y':y_axis})\n",
    "for k in range(2,6):# Maximum range should be 6, as it contains only 6 data points\n",
    "  cluster_H = AgglomerativeClustering(n_clusters=k,linkage= 'average')\n",
    "  model_clt = cluster_H.fit(data)\n",
    "  label = model_clt.labels_\n",
    "  sil_coeff = silhouette_score(data,label,metric = 'euclidean')\n",
    "  print('For cluster= {}, Silhouette Coefficient is {}'.format(k,sil_coeff))\n",
    "print('\\n')\n",
    "print('For Cluster = 2, it has highest Silhouette Value. So Number of Cluster = 2')"
   ]
  },
  {
   "cell_type": "code",
   "execution_count": null,
   "metadata": {},
   "outputs": [],
   "source": []
  }
 ],
 "metadata": {
  "colab": {
   "authorship_tag": "ABX9TyPg8Fjdl2F0FI/Rn1B8ikxd",
   "collapsed_sections": [],
   "include_colab_link": true,
   "name": "09 Hierarchical Clustering.ipynb",
   "provenance": [],
   "toc_visible": true
  },
  "kernelspec": {
   "display_name": "Python 3",
   "language": "python",
   "name": "python3"
  },
  "language_info": {
   "codemirror_mode": {
    "name": "ipython",
    "version": 3
   },
   "file_extension": ".py",
   "mimetype": "text/x-python",
   "name": "python",
   "nbconvert_exporter": "python",
   "pygments_lexer": "ipython3",
   "version": "3.8.5"
  }
 },
 "nbformat": 4,
 "nbformat_minor": 1
}
