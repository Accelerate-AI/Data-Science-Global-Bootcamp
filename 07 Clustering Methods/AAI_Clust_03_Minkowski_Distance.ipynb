{
 "cells": [
  {
   "cell_type": "markdown",
   "metadata": {},
   "source": [
    "# AccelerateAI"
   ]
  },
  {
   "cell_type": "markdown",
   "metadata": {},
   "source": [
    "## Distance Measure - Minkowski Distance"
   ]
  },
  {
   "cell_type": "markdown",
   "metadata": {},
   "source": [
    "The Minkowski distance or Minkowski metric is a metric in a normed vector space which can be considered as a generalization of both the Euclidean distance and Manhattan Distance.\n",
    "\n",
    "Minkowski distance is applied in machine learning to find out distance similarity.\n",
    "\n",
    "The Minkowski distance measure is calculated as follows:\n",
    "\n",
    "```MinkowskiDistance = (sum for i to N (abs(v1[i] – v2[i]))^p)^(1/p)```\n",
    "\n",
    "where p = order parameter\n",
    "\n",
    "When p is set to 1, the calculation is the same as the Manhattan distance. When p is set to 2, it is the same as the Euclidean distance.\n",
    "\n",
    "It is practical to use Minkowski distance when implementing a machine learning algorithm that uses distance measures as it gives control over the type of distance measure used for real-valued vectors via a hyperparameter “p” that can be tuned.\n"
   ]
  },
  {
   "cell_type": "markdown",
   "metadata": {},
   "source": [
    "### 1. Computing Manually"
   ]
  },
  {
   "cell_type": "code",
   "execution_count": 1,
   "metadata": {},
   "outputs": [
    {
     "name": "stdout",
     "output_type": "stream",
     "text": [
      "9.0\n",
      "4.123105625617661\n"
     ]
    }
   ],
   "source": [
    "# Calculating minkowski distance between vectors using math library\n",
    "from math import sqrt\n",
    " \n",
    "# Define function for calculating minkowski distance\n",
    "def minkowski_distance(a, b, p):\n",
    "    return sum(abs(e1-e2)**p for e1, e2 in zip(a,b))**(1/p)\n",
    " \n",
    "# Define data\n",
    "row1 = [5, 7, 9, 11, 13]\n",
    "row2 = [7, 9, 11, 13, 14]\n",
    "\n",
    "# Calculate distance (p=1)\n",
    "dist = minkowski_distance(row1, row2, 1)\n",
    "print(dist)\n",
    "\n",
    "# Calculate distance (p=2)\n",
    "dist = minkowski_distance(row1, row2, 2)\n",
    "print(dist)"
   ]
  },
  {
   "cell_type": "markdown",
   "metadata": {},
   "source": [
    "### 2. Using Scipy"
   ]
  },
  {
   "cell_type": "code",
   "execution_count": 2,
   "metadata": {},
   "outputs": [
    {
     "name": "stdout",
     "output_type": "stream",
     "text": [
      "9.0\n",
      "4.123105625617661\n"
     ]
    }
   ],
   "source": [
    "# Calculating minkowski distance between vectors leveraging Scipy\n",
    "from scipy.spatial import minkowski_distance\n",
    "\n",
    "# Define data\n",
    "row1 = [5, 7, 9, 11, 13]\n",
    "row2 = [7, 9, 11, 13, 14]\n",
    "\n",
    "# Calculate distance (p=1)\n",
    "dist = minkowski_distance(row1, row2, 1)\n",
    "print(dist)\n",
    "\n",
    "# Calculate distance (p=2)\n",
    "dist = minkowski_distance(row1, row2, 2)\n",
    "print(dist)"
   ]
  },
  {
   "cell_type": "code",
   "execution_count": null,
   "metadata": {},
   "outputs": [],
   "source": []
  }
 ],
 "metadata": {
  "kernelspec": {
   "display_name": "Python 3",
   "language": "python",
   "name": "python3"
  },
  "language_info": {
   "codemirror_mode": {
    "name": "ipython",
    "version": 3
   },
   "file_extension": ".py",
   "mimetype": "text/x-python",
   "name": "python",
   "nbconvert_exporter": "python",
   "pygments_lexer": "ipython3",
   "version": "3.8.5"
  }
 },
 "nbformat": 4,
 "nbformat_minor": 4
}
