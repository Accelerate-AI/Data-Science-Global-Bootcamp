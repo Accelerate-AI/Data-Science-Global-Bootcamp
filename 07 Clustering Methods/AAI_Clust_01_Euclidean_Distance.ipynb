{
 "cells": [
  {
   "cell_type": "markdown",
   "metadata": {},
   "source": [
    "# AccelerateAI"
   ]
  },
  {
   "cell_type": "markdown",
   "metadata": {},
   "source": [
    "## Distance Measure - Euclidean Distance"
   ]
  },
  {
   "cell_type": "markdown",
   "metadata": {},
   "source": [
    "### 1. Using Numpy"
   ]
  },
  {
   "cell_type": "markdown",
   "metadata": {},
   "source": [
    "Euclidean distance is the shortest between the 2 points irrespective of the dimensions.\n",
    "\n",
    "- Method1: Using linalg.norm()\n",
    "- Method2: Using dot()\n",
    "- Method3: Using square() and sum()"
   ]
  },
  {
   "cell_type": "markdown",
   "metadata": {},
   "source": [
    "#### Method1: Using linalg.norm()"
   ]
  },
  {
   "cell_type": "code",
   "execution_count": 1,
   "metadata": {},
   "outputs": [
    {
     "name": "stdout",
     "output_type": "stream",
     "text": [
      "3.7416573867739413\n"
     ]
    }
   ],
   "source": [
    "import numpy as np\n",
    "\n",
    "# Initializing points in numpy arrays\n",
    "point1 = np.array((3, 1, 2))\n",
    "point2 = np.array((1, 4, 1))\n",
    "\n",
    "# Calculating Euclidean distance using linalg.norm()\n",
    "dist = np.linalg.norm(point1 - point2)\n",
    "\n",
    "# printing Euclidean distance\n",
    "print(dist)"
   ]
  },
  {
   "cell_type": "markdown",
   "metadata": {},
   "source": [
    "#### Method2: Using dot()"
   ]
  },
  {
   "cell_type": "code",
   "execution_count": 2,
   "metadata": {},
   "outputs": [
    {
     "name": "stdout",
     "output_type": "stream",
     "text": [
      "3.7416573867739413\n"
     ]
    }
   ],
   "source": [
    "import numpy as np\n",
    " \n",
    "# Initializing points in numpy arrays\n",
    "point1 = np.array((3, 1, 2))\n",
    "point2 = np.array((1, 4, 1))\n",
    " \n",
    "# Subtracting vector\n",
    "temp = point1 - point2\n",
    " \n",
    "# Doing dot product for finding sum of the squares\n",
    "sum_sq = np.dot(temp.T, temp)\n",
    " \n",
    "# Doing squareroot and printing Euclidean distance\n",
    "print(np.sqrt(sum_sq))"
   ]
  },
  {
   "cell_type": "markdown",
   "metadata": {},
   "source": [
    "#### Method3: Using square() and sum()"
   ]
  },
  {
   "cell_type": "code",
   "execution_count": 3,
   "metadata": {},
   "outputs": [
    {
     "name": "stdout",
     "output_type": "stream",
     "text": [
      "3.7416573867739413\n"
     ]
    }
   ],
   "source": [
    "import numpy as np\n",
    " \n",
    "# Initializing points in numpy arrays\n",
    "point1 = np.array((3, 1, 2))\n",
    "point2 = np.array((1, 4, 1))\n",
    " \n",
    "# Finding sum of squares\n",
    "sum_sq = np.sum(np.square(point1 - point2))\n",
    " \n",
    "# Doing squareroot and printing Euclidean distance\n",
    "print(np.sqrt(sum_sq))"
   ]
  },
  {
   "cell_type": "markdown",
   "metadata": {},
   "source": [
    "### 2. Using Pandas"
   ]
  },
  {
   "cell_type": "code",
   "execution_count": 4,
   "metadata": {},
   "outputs": [
    {
     "name": "stdout",
     "output_type": "stream",
     "text": [
      "Series 1:\n",
      "0    3\n",
      "1    1\n",
      "2    2\n",
      "dtype: int64\n",
      "Series 2:\n",
      "0    1\n",
      "1    4\n",
      "2    1\n",
      "dtype: int64\n",
      "Euclidean distance between two series is: 3.7416573867739413\n"
     ]
    }
   ],
   "source": [
    "import pandas as pd\n",
    "import numpy as np\n",
    "  \n",
    "x = pd.Series([3, 1, 2])\n",
    "y = pd.Series([1, 4, 1])\n",
    "  \n",
    "# zip() function creates an iterator which aggregates elements from two or more iterables\n",
    "dist = np.sqrt(np.sum([(a-b)*(a-b) for a, b in zip(x, y)]))    \n",
    "  \n",
    "print(\"Series 1:\")\n",
    "print(x)\n",
    "  \n",
    "print(\"Series 2:\")\n",
    "print(y)\n",
    "  \n",
    "print(\"Euclidean distance between two series is:\", dist)"
   ]
  },
  {
   "cell_type": "code",
   "execution_count": 5,
   "metadata": {},
   "outputs": [
    {
     "name": "stdout",
     "output_type": "stream",
     "text": [
      "Series 1:\n",
      "0    3\n",
      "1    1\n",
      "2    2\n",
      "dtype: int64\n",
      "Series 2:\n",
      "0    1\n",
      "1    4\n",
      "2    1\n",
      "dtype: int64\n",
      "Euclidean distance between two series is: 3.7416573867739413\n"
     ]
    }
   ],
   "source": [
    "import pandas as pd\n",
    "import numpy as np\n",
    "  \n",
    "x = pd.Series([3, 1, 2])\n",
    "y = pd.Series([1, 4, 1])\n",
    "dist = (np.linalg.norm(x-y))\n",
    "  \n",
    "print(\"Series 1:\")\n",
    "print(x)\n",
    "  \n",
    "print(\"Series 2:\")\n",
    "print(y)\n",
    "  \n",
    "print(\"Euclidean distance between two series is:\", dist)"
   ]
  },
  {
   "cell_type": "markdown",
   "metadata": {},
   "source": [
    "### 3. Using Scipy"
   ]
  },
  {
   "cell_type": "code",
   "execution_count": 6,
   "metadata": {},
   "outputs": [],
   "source": [
    "from scipy.spatial import distance"
   ]
  },
  {
   "cell_type": "code",
   "execution_count": 7,
   "metadata": {},
   "outputs": [
    {
     "data": {
      "text/plain": [
       "3.7416573867739413"
      ]
     },
     "execution_count": 7,
     "metadata": {},
     "output_type": "execute_result"
    }
   ],
   "source": [
    "distance.euclidean([3, 1, 2], [1, 4, 1])"
   ]
  },
  {
   "cell_type": "markdown",
   "metadata": {},
   "source": [
    "### 4. Create your own function"
   ]
  },
  {
   "cell_type": "markdown",
   "metadata": {},
   "source": [
    "You can write your own function as well."
   ]
  },
  {
   "cell_type": "code",
   "execution_count": 8,
   "metadata": {},
   "outputs": [],
   "source": [
    "def get_euclidean_distance(p1,p2):\n",
    "    dist = 0\n",
    "    for i in range(len(p1)):\n",
    "        dist = dist + (p1[i] - p2[i])**2\n",
    "        \n",
    "    euclidean_dist = np.sqrt(dist)\n",
    "    print(euclidean_dist)\n"
   ]
  },
  {
   "cell_type": "code",
   "execution_count": 9,
   "metadata": {},
   "outputs": [
    {
     "name": "stdout",
     "output_type": "stream",
     "text": [
      "3.7416573867739413\n"
     ]
    }
   ],
   "source": [
    "get_euclidean_distance((3,1,2),(1,4,1))"
   ]
  },
  {
   "cell_type": "code",
   "execution_count": null,
   "metadata": {},
   "outputs": [],
   "source": []
  }
 ],
 "metadata": {
  "kernelspec": {
   "display_name": "Python 3",
   "language": "python",
   "name": "python3"
  },
  "language_info": {
   "codemirror_mode": {
    "name": "ipython",
    "version": 3
   },
   "file_extension": ".py",
   "mimetype": "text/x-python",
   "name": "python",
   "nbconvert_exporter": "python",
   "pygments_lexer": "ipython3",
   "version": "3.8.5"
  }
 },
 "nbformat": 4,
 "nbformat_minor": 4
}
