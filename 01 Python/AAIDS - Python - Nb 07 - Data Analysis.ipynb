{
 "cells": [
  {
   "cell_type": "markdown",
   "id": "e6ae2f94",
   "metadata": {},
   "source": [
    "### AccelerateAI - Data Science Bootcamp\n",
    "#### Module 01 - Python\n",
    "\n",
    "***Data analysis is the process by which data becomes understanding, knowledge and insight. ~Hadley Wickham***\n",
    "\n",
    "\n",
    "In this notebook we will work with Pandas to do some data transformation.\n",
    "1. Data - Flight, Weather, Planes, Airport \n",
    "2. One table operation & grouped summaries\n",
    "3. Data pipelines\n",
    "4. Grouped mutate/filter & window functions\n",
    "5. Joins (two table verbs)"
   ]
  },
  {
   "cell_type": "markdown",
   "id": "5ff4c149",
   "metadata": {},
   "source": [
    "#### 1. Reading data"
   ]
  },
  {
   "cell_type": "code",
   "execution_count": null,
   "id": "18762064",
   "metadata": {},
   "outputs": [],
   "source": [
    "import numpy as np\n",
    "import pandas as pd\n",
    "\n",
    "#set few options\n",
    "pd.set_option(\"display.precision\", 3)\n",
    "pd.set_option('display.min_rows', 8)\n",
    "pd.set_option('display.width', 2000)"
   ]
  },
  {
   "cell_type": "code",
   "execution_count": null,
   "id": "6237892b",
   "metadata": {},
   "outputs": [],
   "source": [
    "#Flights data - Every flight departing Houston in 2011 . [227,496 x 14]\n",
    "flights = pd.read_csv(\"flights.csv\")\n",
    "\n",
    "# Weather data - Hourly weather data. [8,723 x 14]\n",
    "weather = pd.read_csv(\"weather.csv\")\n",
    "\n",
    "#Planes data - Metadata about the planes\n",
    "planes = pd.read_csv(\"planes.csv\")\n",
    "\n",
    "#Airports data  - Metadata about airports\n",
    "airports =  pd.read_csv(\"airports.csv\")"
   ]
  },
  {
   "cell_type": "markdown",
   "id": "8895ab23",
   "metadata": {},
   "source": [
    "#### Lets have a look at the data and its summary"
   ]
  },
  {
   "cell_type": "code",
   "execution_count": null,
   "id": "4a493a0e",
   "metadata": {},
   "outputs": [],
   "source": [
    "flights.sample(5)"
   ]
  },
  {
   "cell_type": "code",
   "execution_count": null,
   "id": "fdf4ee45",
   "metadata": {},
   "outputs": [],
   "source": [
    "flights.()"
   ]
  },
  {
   "cell_type": "code",
   "execution_count": null,
   "id": "b11060c6",
   "metadata": {},
   "outputs": [],
   "source": [
    "# Convert date string to datetime \n",
    "flights['date'] = to_datetime(flights['date'])\n",
    "flights.info()"
   ]
  },
  {
   "cell_type": "code",
   "execution_count": null,
   "id": "639a524b",
   "metadata": {},
   "outputs": [],
   "source": [
    "# Finding missing values\n",
    "flights.isnull().sum()"
   ]
  },
  {
   "cell_type": "markdown",
   "id": "13ab6076",
   "metadata": {},
   "source": [
    "### What kind of questions can we ask this data?\n",
    "Find all flights: \n",
    "1. Delayed by more than an hour \n",
    "2. To SFO in January \n",
    "3. That departed between midnight and five am. \n",
    "4. Where the arrival delay was more than twice the departure delay"
   ]
  },
  {
   "cell_type": "code",
   "execution_count": null,
   "id": "da129982",
   "metadata": {},
   "outputs": [],
   "source": [
    "# Delayed by more than an hour\n",
    "flights[flights.dep_delay]"
   ]
  },
  {
   "cell_type": "code",
   "execution_count": null,
   "id": "6d0f8e2e",
   "metadata": {},
   "outputs": [],
   "source": [
    "# To SFO in January \n",
    "flights.query(\"dest == 'SFO' and date < '2011-02-01' \")"
   ]
  },
  {
   "cell_type": "code",
   "execution_count": null,
   "id": "3eee1152",
   "metadata": {},
   "outputs": [],
   "source": [
    "# That departed between midnight and five am. \n",
    "flights.query(\"hour >= 0 & hour <= 5\")"
   ]
  },
  {
   "cell_type": "code",
   "execution_count": null,
   "id": "f5e50a5d",
   "metadata": {},
   "outputs": [],
   "source": [
    "# Where the arrival delay was more than twice the departure delay\n",
    "flights[flights.arr_delay > 2*flights.dep_delay ]"
   ]
  },
  {
   "cell_type": "code",
   "execution_count": null,
   "id": "bafd4f4f",
   "metadata": {},
   "outputs": [],
   "source": [
    "# Where the arrival delay was more than twice the departure delay\n",
    "flights.query(\"arr_delay > 2*dep_delay  arr_delay > 0 & dep_delay > 0\")"
   ]
  },
  {
   "cell_type": "markdown",
   "id": "25ec4b5e",
   "metadata": {},
   "source": [
    "#### Select 3 columns - date, destination and distance"
   ]
  },
  {
   "cell_type": "code",
   "execution_count": null,
   "id": "bc5af783",
   "metadata": {},
   "outputs": [],
   "source": [
    "flights[['date', 'dest', 'dist']]"
   ]
  },
  {
   "cell_type": "markdown",
   "id": "ead10d59",
   "metadata": {},
   "source": [
    "#### Ordering Data\n",
    "Order the flights by departure date and time.\n",
    "- Which flights were most delayed?\n",
    "- Which were the longest flights?"
   ]
  },
  {
   "cell_type": "code",
   "execution_count": null,
   "id": "5c9b9a1a",
   "metadata": {},
   "outputs": [],
   "source": [
    "# Order the flights by departure date and time.\n",
    "flights.sort_values(['date', 'hour', 'minute'])           #ascending by default"
   ]
  },
  {
   "cell_type": "code",
   "execution_count": null,
   "id": "90749f10",
   "metadata": {},
   "outputs": [],
   "source": [
    "# Wich flights were most delayed?\n",
    "flights.sort_values('arr_delay', ascending= )"
   ]
  },
  {
   "cell_type": "code",
   "execution_count": null,
   "id": "17da508d",
   "metadata": {},
   "outputs": [],
   "source": [
    "# Which were the longest flights?\n",
    "flights.sort_values('dist', ascending=False)"
   ]
  },
  {
   "cell_type": "markdown",
   "id": "c00000f9",
   "metadata": {},
   "source": [
    "#### Adding new variable\n",
    "- Compute speed in mph from time (in minutes) and distance (in miles). Which flight flew the fastest?\n",
    "- Add a new variable that shows how much time was made up or lost in flight."
   ]
  },
  {
   "cell_type": "code",
   "execution_count": null,
   "id": "5f54306d",
   "metadata": {},
   "outputs": [],
   "source": [
    "# Compute speed in mph from time (in minutes) and distance (in miles). Which flight flew the fastest?\n",
    "flights['avg_speed'] = flights['dist'] / (flights['time'] / 60)\n",
    "flights.sort_values('avg_speed', ascending=False) "
   ]
  },
  {
   "cell_type": "code",
   "execution_count": null,
   "id": "575e382f",
   "metadata": {},
   "outputs": [],
   "source": [
    "# Flights that caught up the most\n",
    "flights['caughtup'] = flights['dep_delay'] - flights['arr_delay'] \n",
    "flights.sort_values('caughtup', ascending=False)"
   ]
  },
  {
   "cell_type": "markdown",
   "id": "ceac89c6",
   "metadata": {},
   "source": [
    "### Summarizing data\n",
    "1. Find the average departure delay on each day\n",
    "2. Which destinations have the highest average delays?\n",
    "3. Find all the daily flights? Where do they fly to?\n",
    "4. On average, how do delays (of non-cancelled flights) vary over the course of a day?"
   ]
  },
  {
   "cell_type": "code",
   "execution_count": null,
   "id": "3b965345",
   "metadata": {},
   "outputs": [],
   "source": [
    "# Average departure delay each day\n",
    "flights_avg_delay = flights.groupby('date').mean('dep_delay')\n",
    "flights_avg_delay['dep_delay']"
   ]
  },
  {
   "cell_type": "code",
   "execution_count": null,
   "id": "87b8e615",
   "metadata": {},
   "outputs": [],
   "source": [
    "# Which destinations have the highest average delays?\n",
    "flights_dest_delay = flights.groupby('dest').agg(mean_dep_delay=('dep_delay',np.mean))\n",
    "flights_dest_delay.sort_values('mean_dep_delay', ascending=False)"
   ]
  },
  {
   "cell_type": "code",
   "execution_count": null,
   "id": "d27f86a6",
   "metadata": {},
   "outputs": [],
   "source": [
    "# Find all the daily flights? Where do they fly to?\n",
    "flights_summary =  flights.groupby(['carrier', 'flight', 'dest']).count()\n",
    "flights_summary.query('date ==  ')"
   ]
  },
  {
   "cell_type": "code",
   "execution_count": null,
   "id": "6dd9ad4a",
   "metadata": {},
   "outputs": [],
   "source": [
    "# On average, how do delays (of non-cancelled flights) vary over the course of a day?\n",
    "flights['fly_time'] = flights.hour + flights.minute/60         \n",
    "delay_df = flights[flights.cancelled == 0].groupby('fly_time').agg({'dep_delay':['count','']})"
   ]
  },
  {
   "cell_type": "code",
   "execution_count": null,
   "id": "1a6a301f",
   "metadata": {},
   "outputs": [],
   "source": [
    "delay_df.head()"
   ]
  },
  {
   "cell_type": "code",
   "execution_count": null,
   "id": "5d833e95",
   "metadata": {},
   "outputs": [],
   "source": [
    "import matplotlib.pyplot as plt\n",
    "\n",
    "df = delay_df[delay_df['dep_delay']['count'] > 30]       # Filter the small values\n",
    "\n",
    "plt.figure(figsize=(8,8))\n",
    "plt.scatter(x= df.index.values, y = df['dep_delay']['mean'], s = 2)\n",
    "plt.xlabel(\"Time of Day\")\n",
    "plt.ylabel(\"Avg Delay (min)\")\n",
    "plt.show()"
   ]
  },
  {
   "cell_type": "markdown",
   "id": "f05f4621",
   "metadata": {},
   "source": [
    "### Groupwise Calculations\n",
    "1. Find aircrafts that are delayed on arrival, by more than 2 S.D. of all delays."
   ]
  },
  {
   "cell_type": "code",
   "execution_count": null,
   "id": "262a50fc",
   "metadata": {},
   "outputs": [],
   "source": [
    "# Calculate avg arr_delay for each \"plane\" \n",
    "summary_df = flights.dropna(axis=0).groupby('plane').agg({'arr_delay':['count','mean']})\n",
    "summary_df.head()"
   ]
  },
  {
   "cell_type": "code",
   "execution_count": null,
   "id": "1718709b",
   "metadata": {},
   "outputs": [],
   "source": [
    "#summary_df.describe()  #Some planes had very few flights.\n",
    "\n",
    "#remove those planes that did not fly much\n",
    "df = summary_df[summary_df['arr_delay']['count'] > 30]"
   ]
  },
  {
   "cell_type": "code",
   "execution_count": null,
   "id": "2188d1be",
   "metadata": {},
   "outputs": [],
   "source": [
    "# How does the distribution of delay look like\n",
    "df['arr_delay']['mean'].plot.hist(alpha=0.6)"
   ]
  },
  {
   "cell_type": "code",
   "execution_count": null,
   "id": "cc54360d",
   "metadata": {},
   "outputs": [],
   "source": [
    "import warnings\n",
    "warnings.filterwarnings(\"ignore\")\n",
    "\n",
    "df[\"z_score\"] = (df['arr_delay']['mean'] - np.mean(df['arr_delay']['mean']) )/ np.std (df['arr_delay']['mean']) "
   ]
  },
  {
   "cell_type": "code",
   "execution_count": null,
   "id": "46122c18",
   "metadata": {},
   "outputs": [],
   "source": [
    "df[df['z_score'] > 2]"
   ]
  },
  {
   "cell_type": "code",
   "execution_count": null,
   "id": "fe3731a9",
   "metadata": {},
   "outputs": [],
   "source": []
  },
  {
   "cell_type": "markdown",
   "id": "c417747f",
   "metadata": {},
   "source": [
    "### Joining Dataset \n",
    "1. What weather conditions are associated with delays leaving in Houston? "
   ]
  },
  {
   "cell_type": "code",
   "execution_count": null,
   "id": "d293987c",
   "metadata": {},
   "outputs": [],
   "source": [
    "weather.head()"
   ]
  },
  {
   "cell_type": "code",
   "execution_count": null,
   "id": "d0c77074",
   "metadata": {},
   "outputs": [],
   "source": [
    "#Let's merge the weather data with flight data\n",
    "weather['date']\n",
    "\n",
    "merged_df = pd.merge(flights, weather,  how='left', left_on=['date','hour'], right_on = ['date','hour'])\n",
    "merged_df.head()"
   ]
  },
  {
   "cell_type": "code",
   "execution_count": null,
   "id": "7cbc9021",
   "metadata": {},
   "outputs": [],
   "source": [
    "# Create scatter plot between delay and visibility, wind speed and precipitation \n",
    "merged_df.plot.scatter(y='dep_delay', x='', s=2)"
   ]
  },
  {
   "cell_type": "code",
   "execution_count": null,
   "id": "f76a9bb6",
   "metadata": {},
   "outputs": [],
   "source": [
    "merged_df.plot.scatter(y='dep_delay', x='precip', s=2)"
   ]
  },
  {
   "cell_type": "code",
   "execution_count": null,
   "id": "9e87e773",
   "metadata": {},
   "outputs": [],
   "source": [
    "merged_df.plot.scatter(y='dep_delay', x='visibility', s=2)"
   ]
  },
  {
   "cell_type": "code",
   "execution_count": null,
   "id": "010241ff",
   "metadata": {},
   "outputs": [],
   "source": [
    "planes.head()"
   ]
  },
  {
   "cell_type": "markdown",
   "id": "9aa56c78",
   "metadata": {},
   "source": [
    "### Other Questions:\n",
    "1. Do older planes cause more delay? \n",
    "2. Which manufacture's planes have the best on time performance?\n",
    "3. Which specific engine types lead to more than twice the average departure delay? "
   ]
  },
  {
   "cell_type": "code",
   "execution_count": null,
   "id": "39dc90dc",
   "metadata": {},
   "outputs": [],
   "source": []
  }
 ],
 "metadata": {
  "kernelspec": {
   "display_name": "Python 3 (ipykernel)",
   "language": "python",
   "name": "python3"
  },
  "language_info": {
   "codemirror_mode": {
    "name": "ipython",
    "version": 3
   },
   "file_extension": ".py",
   "mimetype": "text/x-python",
   "name": "python",
   "nbconvert_exporter": "python",
   "pygments_lexer": "ipython3",
   "version": "3.9.7"
  }
 },
 "nbformat": 4,
 "nbformat_minor": 5
}
