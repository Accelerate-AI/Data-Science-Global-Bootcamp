{
 "cells": [
  {
   "cell_type": "markdown",
   "id": "5f0d34d4",
   "metadata": {},
   "source": [
    "### AccelerateAI - Data Science Bootcamp\n",
    "##### Module 01 - Python\n",
    "\n",
    "In this notebook we will look at some of the basic functionality of **numpy array.**\n",
    "- NumPy stands for numerical python and has ndarray datatype that serves as basis for matrix. \n",
    "- Nympy has all the functionality of matrix operations. "
   ]
  },
  {
   "cell_type": "code",
   "execution_count": null,
   "id": "ab765dbe",
   "metadata": {},
   "outputs": [],
   "source": [
    "# import the numpy library\n",
    "import numpy as np\n",
    "np.set_printoptions(precision=3)    # set print precision to 3 decimal place"
   ]
  },
  {
   "cell_type": "markdown",
   "id": "f51a18ca",
   "metadata": {},
   "source": [
    "#### 1. Construcing an ndarray (Matrix)"
   ]
  },
  {
   "cell_type": "code",
   "execution_count": null,
   "id": "71815a5f",
   "metadata": {},
   "outputs": [],
   "source": [
    "# 1-D array\n",
    "oneD = np.arange(10)\n",
    "oneD"
   ]
  },
  {
   "cell_type": "code",
   "execution_count": null,
   "id": "ef57e2a7",
   "metadata": {},
   "outputs": [],
   "source": [
    "# 2-D array\n",
    "TwoD = np.array([[1, 2, 3], [4, 5, 6]])\n",
    "print(TwoD)"
   ]
  },
  {
   "cell_type": "code",
   "execution_count": null,
   "id": "3a036ebc",
   "metadata": {},
   "outputs": [],
   "source": [
    "# float data type\n",
    "Af = np.array([[1, 2, 3],[4, 5, 6]], dtype=float)\n",
    "print(Af)"
   ]
  },
  {
   "cell_type": "code",
   "execution_count": null,
   "id": "e5fce1de",
   "metadata": {},
   "outputs": [],
   "source": [
    "# Null matrix\n",
    "O = np.zeros((2,3))          # (row,col)\n",
    "print(O)"
   ]
  },
  {
   "cell_type": "code",
   "execution_count": null,
   "id": "a07c23ab",
   "metadata": {},
   "outputs": [],
   "source": [
    "# Matrix with all 1'a \n",
    "M1 = np.ones((3,3))\n",
    "print(M1)"
   ]
  },
  {
   "cell_type": "code",
   "execution_count": null,
   "id": "d2ae61ac",
   "metadata": {},
   "outputs": [],
   "source": [
    "# Identity matrix\n",
    "I4 = np.eye(4)\n",
    "I4"
   ]
  },
  {
   "cell_type": "code",
   "execution_count": null,
   "id": "a427d8ac",
   "metadata": {},
   "outputs": [],
   "source": [
    "R1 = np.random.rand(3,4)\n",
    "R1"
   ]
  },
  {
   "cell_type": "code",
   "execution_count": null,
   "id": "6ba22edd",
   "metadata": {},
   "outputs": [],
   "source": [
    "# Diagonal matrix\n",
    "X = np.array([[0, 1, 2],\n",
    "             [3, 4, 5],\n",
    "             [6, 7, 8]])\n",
    "\n",
    "Mdiag = np.diag(X)\n",
    "print(Mdiag)"
   ]
  },
  {
   "cell_type": "markdown",
   "id": "db56c397",
   "metadata": {},
   "source": [
    "#### 2. Array Attributes"
   ]
  },
  {
   "cell_type": "code",
   "execution_count": null,
   "id": "5bb994b4",
   "metadata": {},
   "outputs": [],
   "source": [
    "#creating array from list\n",
    "data1 = [6, 7.5, 8, 0, 1]\n",
    "arr1 = np.array(data1)\n",
    "print(\"Dimensions:\", arr1.ndim)"
   ]
  },
  {
   "cell_type": "code",
   "execution_count": null,
   "id": "e2d913f6",
   "metadata": {},
   "outputs": [],
   "source": [
    "data2 = [[1, 2, 3, 4], [5, 6, 7, 8]]\n",
    "arr2 = np.array(data2) \n",
    "print(\"Dimensions:\", arr2.ndim)\n",
    "print(\"Shape:\", arr2.shape)  \n",
    "print(\"Data type:\", arr2.dtype)\n",
    "print(\"Num bytes:\",arr2.nbytes)"
   ]
  },
  {
   "cell_type": "code",
   "execution_count": null,
   "id": "a7b13a73",
   "metadata": {},
   "outputs": [],
   "source": [
    "print(\"Maximum Val:\",arr2.max())\n",
    "print(\"Sum:\", arr2.sum())\n",
    "print(\"Average:\", arr2.mean())"
   ]
  },
  {
   "cell_type": "code",
   "execution_count": null,
   "id": "1bdd2067",
   "metadata": {},
   "outputs": [],
   "source": [
    "# Indexing\n",
    "arr = np.arange(10)\n",
    "arr"
   ]
  },
  {
   "cell_type": "code",
   "execution_count": null,
   "id": "214d5413",
   "metadata": {},
   "outputs": [],
   "source": [
    "arr[3]"
   ]
  },
  {
   "cell_type": "code",
   "execution_count": null,
   "id": "2920c794",
   "metadata": {},
   "outputs": [],
   "source": [
    "#Slicing\n",
    "arr[5:8]"
   ]
  },
  {
   "cell_type": "code",
   "execution_count": null,
   "id": "795b0d72",
   "metadata": {},
   "outputs": [],
   "source": [
    "# Slicing in higher dimension\n",
    "big_arr = np.arange(9).reshape(3,3)\n",
    "big_arr"
   ]
  },
  {
   "cell_type": "code",
   "execution_count": null,
   "id": "3dcbae26",
   "metadata": {},
   "outputs": [],
   "source": [
    "big_arr[1:3,1:3]  "
   ]
  },
  {
   "cell_type": "code",
   "execution_count": null,
   "id": "85755d31",
   "metadata": {},
   "outputs": [],
   "source": [
    "#What would be the output?\n",
    "big_arr[1,:3]     "
   ]
  },
  {
   "cell_type": "code",
   "execution_count": null,
   "id": "6d1b9ba0",
   "metadata": {},
   "outputs": [],
   "source": [
    "#broadcasting \n",
    "arr = np.arange(10)\n",
    "arr[5:8] = 12            #slicing creates a view - hence original arr is modified\n",
    "arr"
   ]
  },
  {
   "cell_type": "code",
   "execution_count": null,
   "id": "a98b1c87",
   "metadata": {},
   "outputs": [],
   "source": [
    "#convert to list\n",
    "mylist = arr.tolist()\n",
    "print(mylist, type(mylist))"
   ]
  },
  {
   "cell_type": "markdown",
   "id": "ff599b37",
   "metadata": {},
   "source": [
    "#### 3. Operations on Vectors"
   ]
  },
  {
   "cell_type": "code",
   "execution_count": null,
   "id": "49d78379",
   "metadata": {},
   "outputs": [],
   "source": [
    "A = np.arange(4)\n",
    "B = np.array([2, 3, 2, 4])\n",
    "print(\"A:\",A, \" B:\",B)"
   ]
  },
  {
   "cell_type": "code",
   "execution_count": null,
   "id": "97de04bf",
   "metadata": {},
   "outputs": [],
   "source": [
    "C = A + B  \n",
    "print(\"A + B:\", C)"
   ]
  },
  {
   "cell_type": "code",
   "execution_count": null,
   "id": "89afb912",
   "metadata": {},
   "outputs": [],
   "source": [
    "D = A - B \n",
    "print(\"A - B:\", D)"
   ]
  },
  {
   "cell_type": "code",
   "execution_count": null,
   "id": "e65e0278",
   "metadata": {},
   "outputs": [],
   "source": [
    "# Multiplication \n",
    "E = A * B\n",
    "print(E)"
   ]
  },
  {
   "cell_type": "markdown",
   "id": "7f5430a2",
   "metadata": {},
   "source": [
    "That result of multiplication didn't turn out as expected ! \n",
    "The above (element by element multiplication) is known as - Hadamard product."
   ]
  },
  {
   "cell_type": "code",
   "execution_count": null,
   "id": "041e2123",
   "metadata": {},
   "outputs": [],
   "source": [
    "# Multiplication - let's try again\n",
    "\n",
    "innerp = np.inner(A, B)\n",
    "\n",
    "outerp = np.outer(A, B)\n",
    "\n",
    "dotp = np.dot(A, B)\n",
    "\n",
    "print(\"Inner Product:\", innerp)\n",
    "print(\"Outer Product:\",outerp)\n",
    "print(\"Dot Product:\",dotp)"
   ]
  },
  {
   "cell_type": "markdown",
   "id": "3fb5f6b0",
   "metadata": {},
   "source": [
    "#### 4. Matrix Operations"
   ]
  },
  {
   "cell_type": "code",
   "execution_count": null,
   "id": "3e190e4a",
   "metadata": {},
   "outputs": [],
   "source": [
    "# Generate a range\n",
    "myrange = np.arange(15)\n",
    "print(\"myrange:\",list(myrange))\n",
    "\n",
    "#reshape to form a matrix\n",
    "X = np.arange(15).reshape((3,-1))    # -1=> please figure the second dimension\n",
    "print(\"\\nX:\",X)"
   ]
  },
  {
   "cell_type": "code",
   "execution_count": null,
   "id": "835f19e5",
   "metadata": {},
   "outputs": [],
   "source": [
    "Y = 3 * X \n",
    "print(\"3 * X:\",Y)"
   ]
  },
  {
   "cell_type": "code",
   "execution_count": null,
   "id": "474df645",
   "metadata": {},
   "outputs": [],
   "source": [
    "# Transpose of matrix\n",
    "A = np.ones((3, 2))\n",
    "A.T"
   ]
  },
  {
   "cell_type": "code",
   "execution_count": null,
   "id": "9ccb32dd",
   "metadata": {},
   "outputs": [],
   "source": [
    "B = np.ones((2, 3))\n",
    "B "
   ]
  },
  {
   "cell_type": "code",
   "execution_count": null,
   "id": "d58bb18e",
   "metadata": {},
   "outputs": [],
   "source": [
    "# Matrix dot product\n",
    "np.dot(A, B)"
   ]
  },
  {
   "cell_type": "code",
   "execution_count": null,
   "id": "f87a5fec",
   "metadata": {},
   "outputs": [],
   "source": [
    "np.dot(B, A)"
   ]
  },
  {
   "cell_type": "markdown",
   "id": "591ac49e",
   "metadata": {},
   "source": [
    "Note: $A.B !=  B.A$"
   ]
  },
  {
   "cell_type": "code",
   "execution_count": null,
   "id": "e390d2e1",
   "metadata": {},
   "outputs": [],
   "source": [
    "Z = np.random.randint(0,10,size=(4,4))\n",
    "Z "
   ]
  },
  {
   "cell_type": "code",
   "execution_count": null,
   "id": "d744df6d",
   "metadata": {},
   "outputs": [],
   "source": [
    "# Diagonal elements\n",
    "Z.diagonal()"
   ]
  },
  {
   "cell_type": "code",
   "execution_count": null,
   "id": "b8ef2679",
   "metadata": {},
   "outputs": [],
   "source": [
    "# Trace - sum of diagonal elements\n",
    "Z.trace()"
   ]
  },
  {
   "cell_type": "code",
   "execution_count": null,
   "id": "9f23c50b",
   "metadata": {},
   "outputs": [],
   "source": [
    "Z.diagonal().sum()"
   ]
  },
  {
   "cell_type": "code",
   "execution_count": null,
   "id": "fe3c7ce4",
   "metadata": {},
   "outputs": [],
   "source": [
    "# Matrix Multiplication \n",
    "X1 = np.array([[1, 2],\n",
    "               [1, 3]])\n",
    "\n",
    "X2 = np.array([[2, 2],\n",
    "               [3, 4]])\n",
    "\n",
    "X1 @ X2 "
   ]
  },
  {
   "cell_type": "code",
   "execution_count": null,
   "id": "91aa35e0",
   "metadata": {},
   "outputs": [],
   "source": [
    "# Inverse of a matrix\n",
    "\n",
    "A = np.random.randint(-10,10,(4,4))\n",
    "\n",
    "A_inv = np.linalg.inv(A)             #Inverse\n",
    "\n",
    "np.dot(A, A_inv).round(6)            #Check "
   ]
  },
  {
   "cell_type": "code",
   "execution_count": null,
   "id": "147cf457",
   "metadata": {},
   "outputs": [],
   "source": [
    "# determinant of a matrix\n",
    "A_determinant = np.linalg.det(A)\n",
    "print(\"|A|:\", A_determinant)"
   ]
  },
  {
   "cell_type": "markdown",
   "id": "1eae5f23",
   "metadata": {},
   "source": [
    "Solving a system of linear equations:\n",
    "\\begin{gather*}\n",
    "-2x + 5y + 6z = 12 \\\\\n",
    "-4x - 5y +4z = -20 \\\\\n",
    "8x - 5y + 3z = -42\n",
    "\\end{gather*}"
   ]
  },
  {
   "cell_type": "code",
   "execution_count": null,
   "id": "358a0e75",
   "metadata": {},
   "outputs": [],
   "source": [
    "A = np.array([[-2, 5, 6],\n",
    "             [-4,-5, 4],\n",
    "             [ 8,-5, 3]])\n",
    "\n",
    "B = np.array([12,-20,-42])\n",
    "\n",
    "#We need to find x such that Ax = B \n",
    "\n",
    "x = np.linalg.solve(A,B.T)\n",
    "x"
   ]
  },
  {
   "cell_type": "code",
   "execution_count": null,
   "id": "e3b4778c",
   "metadata": {},
   "outputs": [],
   "source": [
    "#Check \n",
    "A  x "
   ]
  },
  {
   "cell_type": "code",
   "execution_count": null,
   "id": "4afe5d6a",
   "metadata": {},
   "outputs": [],
   "source": [
    "A = np.array([[1,1],[1,2]])\n",
    "\n",
    "np.linalg.eigvals(A)"
   ]
  },
  {
   "cell_type": "code",
   "execution_count": null,
   "id": "c820b4d9",
   "metadata": {},
   "outputs": [],
   "source": []
  },
  {
   "cell_type": "markdown",
   "id": "271041c4",
   "metadata": {},
   "source": [
    "#### That's it folks ! "
   ]
  }
 ],
 "metadata": {
  "kernelspec": {
   "display_name": "Python 3 (ipykernel)",
   "language": "python",
   "name": "python3"
  },
  "language_info": {
   "codemirror_mode": {
    "name": "ipython",
    "version": 3
   },
   "file_extension": ".py",
   "mimetype": "text/x-python",
   "name": "python",
   "nbconvert_exporter": "python",
   "pygments_lexer": "ipython3",
   "version": "3.9.7"
  }
 },
 "nbformat": 4,
 "nbformat_minor": 5
}
