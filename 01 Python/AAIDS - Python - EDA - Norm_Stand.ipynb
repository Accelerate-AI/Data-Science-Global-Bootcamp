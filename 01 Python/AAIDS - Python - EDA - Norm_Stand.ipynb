{
 "cells": [
  {
   "cell_type": "markdown",
   "metadata": {},
   "source": [
    "# AccelerateAI : Data Science Bootcamp"
   ]
  },
  {
   "cell_type": "markdown",
   "metadata": {
    "heading_collapsed": true
   },
   "source": [
    "## Normalization, Standardization"
   ]
  },
  {
   "cell_type": "markdown",
   "metadata": {
    "heading_collapsed": true
   },
   "source": [
    "## Import Libraries"
   ]
  },
  {
   "cell_type": "code",
   "execution_count": 1,
   "metadata": {
    "hidden": true
   },
   "outputs": [],
   "source": [
    "import numpy as np\n",
    "from numpy.random import seed, randint\n",
    "import pandas as pd\n",
    "\n",
    "import matplotlib.pyplot as plt\n",
    "import seaborn as sns\n",
    "\n",
    "from sklearn.model_selection import train_test_split\n",
    "from sklearn.neighbors import KNeighborsRegressor\n",
    "from sklearn.metrics import mean_squared_error\n",
    "\n",
    "from sklearn.preprocessing import StandardScaler\n",
    "from sklearn.preprocessing import MinMaxScaler\n",
    "\n",
    "# A jupyter notebook specific command that let’s you see the plots in the notbook itself.\n",
    "%matplotlib inline \n",
    "\n",
    "import warnings\n",
    "warnings.filterwarnings('ignore')"
   ]
  },
  {
   "cell_type": "markdown",
   "metadata": {},
   "source": [
    "## Use Case 1 (Using a sample Age-Weight dataset)"
   ]
  },
  {
   "cell_type": "markdown",
   "metadata": {
    "heading_collapsed": true
   },
   "source": [
    "## 1a. Normalization"
   ]
  },
  {
   "cell_type": "code",
   "execution_count": 2,
   "metadata": {
    "hidden": true
   },
   "outputs": [
    {
     "data": {
      "text/html": [
       "<div>\n",
       "<style scoped>\n",
       "    .dataframe tbody tr th:only-of-type {\n",
       "        vertical-align: middle;\n",
       "    }\n",
       "\n",
       "    .dataframe tbody tr th {\n",
       "        vertical-align: top;\n",
       "    }\n",
       "\n",
       "    .dataframe thead th {\n",
       "        text-align: right;\n",
       "    }\n",
       "</style>\n",
       "<table border=\"1\" class=\"dataframe\">\n",
       "  <thead>\n",
       "    <tr style=\"text-align: right;\">\n",
       "      <th></th>\n",
       "      <th>Age</th>\n",
       "      <th>Weight</th>\n",
       "    </tr>\n",
       "  </thead>\n",
       "  <tbody>\n",
       "    <tr>\n",
       "      <th>2</th>\n",
       "      <td>15</td>\n",
       "      <td>13</td>\n",
       "    </tr>\n",
       "    <tr>\n",
       "      <th>0</th>\n",
       "      <td>5</td>\n",
       "      <td>5</td>\n",
       "    </tr>\n",
       "    <tr>\n",
       "      <th>12</th>\n",
       "      <td>65</td>\n",
       "      <td>100</td>\n",
       "    </tr>\n",
       "    <tr>\n",
       "      <th>13</th>\n",
       "      <td>70</td>\n",
       "      <td>102</td>\n",
       "    </tr>\n",
       "  </tbody>\n",
       "</table>\n",
       "</div>"
      ],
      "text/plain": [
       "    Age  Weight\n",
       "2    15      13\n",
       "0     5       5\n",
       "12   65     100\n",
       "13   70     102"
      ]
     },
     "execution_count": 2,
     "metadata": {},
     "output_type": "execute_result"
    }
   ],
   "source": [
    "# Create and initialize a nested list\n",
    "students = [[5,5],[10,8],[15,13],[20,17],[25,27],\n",
    "           [30,33],[35,36],[40,40],[45,50],[50,70],\n",
    "           [55,77],[60,80],[65,100],[70,102],[75,108],\n",
    "           [80,109],[85,114],[90,120],[95,124],[97,130]]\n",
    "\n",
    "# Create a dataframe object\n",
    "df = pd.DataFrame(students,columns=['Age','Weight'])\n",
    "\n",
    "df.sample(4)"
   ]
  },
  {
   "cell_type": "code",
   "execution_count": 3,
   "metadata": {
    "hidden": true
   },
   "outputs": [],
   "source": [
    "# Storing the columns Age values into X and Weight as Y\n",
    "X = df['Age']\n",
    "y = df['Weight']\n",
    "X = X.to_numpy()\n",
    "y = y.to_numpy()"
   ]
  },
  {
   "cell_type": "code",
   "execution_count": 4,
   "metadata": {
    "hidden": true
   },
   "outputs": [
    {
     "data": {
      "text/plain": [
       "array([[0.01874369, 0.03748738, 0.05623107, 0.07497476, 0.09371845,\n",
       "        0.11246214, 0.13120583, 0.14994952, 0.16869321, 0.1874369 ,\n",
       "        0.20618059, 0.22492428, 0.24366797, 0.26241166, 0.28115535,\n",
       "        0.29989904, 0.31864273, 0.33738641, 0.3561301 , 0.36362758]])"
      ]
     },
     "execution_count": 4,
     "metadata": {},
     "output_type": "execute_result"
    }
   ],
   "source": [
    "from sklearn.preprocessing import Normalizer\n",
    "normalizer = Normalizer().fit([X])\n",
    "normalizer.transform([X])"
   ]
  },
  {
   "cell_type": "code",
   "execution_count": 5,
   "metadata": {
    "hidden": true
   },
   "outputs": [
    {
     "data": {
      "text/plain": [
       "array([[0.01394219, 0.0223075 , 0.03624969, 0.04740344, 0.07528782,\n",
       "        0.09201844, 0.10038376, 0.11153751, 0.13942188, 0.19519064,\n",
       "        0.2147097 , 0.22307501, 0.27884377, 0.28442064, 0.30115127,\n",
       "        0.30393971, 0.3178819 , 0.33461252, 0.34576627, 0.3624969 ]])"
      ]
     },
     "execution_count": 5,
     "metadata": {},
     "output_type": "execute_result"
    }
   ],
   "source": [
    "normalizer = Normalizer().fit([y])\n",
    "normalizer.transform([y])"
   ]
  },
  {
   "cell_type": "markdown",
   "metadata": {
    "heading_collapsed": true
   },
   "source": [
    "## 1b. Standardization"
   ]
  },
  {
   "cell_type": "markdown",
   "metadata": {
    "heading_collapsed": true,
    "hidden": true
   },
   "source": [
    "### StandardScaler from sklearn"
   ]
  },
  {
   "cell_type": "code",
   "execution_count": 6,
   "metadata": {
    "hidden": true
   },
   "outputs": [
    {
     "data": {
      "text/plain": [
       "array([[0., 0., 0., 0., 0., 0., 0., 0., 0., 0., 0., 0., 0., 0., 0., 0.,\n",
       "        0., 0., 0., 0.]])"
      ]
     },
     "execution_count": 6,
     "metadata": {},
     "output_type": "execute_result"
    }
   ],
   "source": [
    "from sklearn.preprocessing import StandardScaler\n",
    "sc = StandardScaler()\n",
    "sc.fit_transform([X])\n",
    "sc.transform([X])\n",
    "sc.fit_transform([y])\n",
    "sc.transform([y])"
   ]
  },
  {
   "cell_type": "markdown",
   "metadata": {
    "heading_collapsed": true,
    "hidden": true
   },
   "source": [
    "### Z-Score Normalization"
   ]
  },
  {
   "cell_type": "code",
   "execution_count": 7,
   "metadata": {
    "hidden": true
   },
   "outputs": [
    {
     "name": "stdout",
     "output_type": "stream",
     "text": [
      "         Age    Weight\n",
      "0  -1.614199 -1.456394\n",
      "1  -1.443745 -1.387207\n",
      "2  -1.273291 -1.271895\n",
      "3  -1.102837 -1.179645\n",
      "4  -0.932383 -0.949020\n",
      "5  -0.761929 -0.810645\n",
      "6  -0.591475 -0.741458\n",
      "7  -0.421021 -0.649208\n",
      "8  -0.250567 -0.418584\n",
      "9  -0.080113  0.042666\n",
      "10  0.090341  0.204103\n",
      "11  0.260795  0.273290\n",
      "12  0.431249  0.734539\n",
      "13  0.601703  0.780664\n",
      "14  0.772157  0.919039\n",
      "15  0.942611  0.942101\n",
      "16  1.113065  1.057414\n",
      "17  1.283519  1.195788\n",
      "18  1.453973  1.288038\n",
      "19  1.522154  1.426413\n"
     ]
    }
   ],
   "source": [
    "# Calculating the mean and standard deviation\n",
    "df = (df - df.mean())/df.std()\n",
    "print(df)"
   ]
  },
  {
   "cell_type": "markdown",
   "metadata": {
    "heading_collapsed": true,
    "hidden": true
   },
   "source": [
    "### Min-Max Scaling"
   ]
  },
  {
   "cell_type": "code",
   "execution_count": 8,
   "metadata": {
    "hidden": true
   },
   "outputs": [
    {
     "name": "stdout",
     "output_type": "stream",
     "text": [
      "         Age  Weight\n",
      "0   0.000000   0.000\n",
      "1   0.054348   0.024\n",
      "2   0.108696   0.064\n",
      "3   0.163043   0.096\n",
      "4   0.217391   0.176\n",
      "5   0.271739   0.224\n",
      "6   0.326087   0.248\n",
      "7   0.380435   0.280\n",
      "8   0.434783   0.360\n",
      "9   0.489130   0.520\n",
      "10  0.543478   0.576\n",
      "11  0.597826   0.600\n",
      "12  0.652174   0.760\n",
      "13  0.706522   0.776\n",
      "14  0.760870   0.824\n",
      "15  0.815217   0.832\n",
      "16  0.869565   0.872\n",
      "17  0.923913   0.920\n",
      "18  0.978261   0.952\n",
      "19  1.000000   1.000\n"
     ]
    }
   ],
   "source": [
    "# Calculating the minimum and the maximum \n",
    "df = (df-df.min())/(df.max()-df.min())\n",
    "print(df)"
   ]
  },
  {
   "cell_type": "markdown",
   "metadata": {
    "hidden": true
   },
   "source": [
    "Usually, the Z-score normalization is preferred because min-max scaling is prone to overfitting."
   ]
  },
  {
   "cell_type": "markdown",
   "metadata": {
    "hidden": true
   },
   "source": [
    "### Min-Max Scaler from sklearn"
   ]
  },
  {
   "cell_type": "code",
   "execution_count": 9,
   "metadata": {
    "hidden": true
   },
   "outputs": [
    {
     "name": "stdout",
     "output_type": "stream",
     "text": [
      "MinMaxScaler()\n"
     ]
    }
   ],
   "source": [
    "from sklearn.preprocessing import MinMaxScaler\n",
    "data = [[-1, 2], [-0.5, 6], [0, 10], [1, 18]]\n",
    "scaler = MinMaxScaler()\n",
    "print(scaler.fit(data))"
   ]
  },
  {
   "cell_type": "code",
   "execution_count": 10,
   "metadata": {
    "hidden": true
   },
   "outputs": [
    {
     "name": "stdout",
     "output_type": "stream",
     "text": [
      "[ 1. 18.]\n"
     ]
    }
   ],
   "source": [
    "print(scaler.data_max_)"
   ]
  },
  {
   "cell_type": "code",
   "execution_count": 11,
   "metadata": {
    "hidden": true
   },
   "outputs": [
    {
     "name": "stdout",
     "output_type": "stream",
     "text": [
      "[[0.   0.  ]\n",
      " [0.25 0.25]\n",
      " [0.5  0.5 ]\n",
      " [1.   1.  ]]\n"
     ]
    }
   ],
   "source": [
    "print(scaler.transform(data))"
   ]
  },
  {
   "cell_type": "code",
   "execution_count": 12,
   "metadata": {
    "hidden": true
   },
   "outputs": [
    {
     "name": "stdout",
     "output_type": "stream",
     "text": [
      "[[1.5 0. ]]\n"
     ]
    }
   ],
   "source": [
    "print(scaler.transform([[2, 2]]))"
   ]
  },
  {
   "cell_type": "markdown",
   "metadata": {
    "heading_collapsed": true
   },
   "source": [
    "## Use Case 2 (Using Retail Sales dataset)"
   ]
  },
  {
   "cell_type": "markdown",
   "metadata": {
    "heading_collapsed": true
   },
   "source": [
    "## 2a. Normalization from sklearn (Normalizer)"
   ]
  },
  {
   "cell_type": "code",
   "execution_count": 13,
   "metadata": {
    "hidden": true
   },
   "outputs": [
    {
     "data": {
      "text/html": [
       "<div>\n",
       "<style scoped>\n",
       "    .dataframe tbody tr th:only-of-type {\n",
       "        vertical-align: middle;\n",
       "    }\n",
       "\n",
       "    .dataframe tbody tr th {\n",
       "        vertical-align: top;\n",
       "    }\n",
       "\n",
       "    .dataframe thead th {\n",
       "        text-align: right;\n",
       "    }\n",
       "</style>\n",
       "<table border=\"1\" class=\"dataframe\">\n",
       "  <thead>\n",
       "    <tr style=\"text-align: right;\">\n",
       "      <th></th>\n",
       "      <th>Invoice ID</th>\n",
       "      <th>Branch</th>\n",
       "      <th>City</th>\n",
       "      <th>Customer type</th>\n",
       "      <th>Gender</th>\n",
       "      <th>Product line</th>\n",
       "      <th>Unit price</th>\n",
       "      <th>Quantity</th>\n",
       "      <th>Tax 5%</th>\n",
       "      <th>Total</th>\n",
       "      <th>Date</th>\n",
       "      <th>Time</th>\n",
       "      <th>Payment</th>\n",
       "      <th>cogs</th>\n",
       "      <th>gross margin percentage</th>\n",
       "      <th>gross income</th>\n",
       "      <th>Rating</th>\n",
       "    </tr>\n",
       "  </thead>\n",
       "  <tbody>\n",
       "    <tr>\n",
       "      <th>385</th>\n",
       "      <td>525-88-7307</td>\n",
       "      <td>B</td>\n",
       "      <td>Perth</td>\n",
       "      <td>Member</td>\n",
       "      <td>Male</td>\n",
       "      <td>Sports and travel</td>\n",
       "      <td>75.82</td>\n",
       "      <td>1</td>\n",
       "      <td>3.791</td>\n",
       "      <td>79.611</td>\n",
       "      <td>1/31/2019</td>\n",
       "      <td>13:19</td>\n",
       "      <td>Cash</td>\n",
       "      <td>75.82</td>\n",
       "      <td>4.761905</td>\n",
       "      <td>3.791</td>\n",
       "      <td>5.8</td>\n",
       "    </tr>\n",
       "    <tr>\n",
       "      <th>454</th>\n",
       "      <td>187-83-5490</td>\n",
       "      <td>A</td>\n",
       "      <td>Adelaide</td>\n",
       "      <td>Member</td>\n",
       "      <td>Male</td>\n",
       "      <td>Electronic accessories</td>\n",
       "      <td>20.77</td>\n",
       "      <td>4</td>\n",
       "      <td>4.154</td>\n",
       "      <td>87.234</td>\n",
       "      <td>1/31/2019</td>\n",
       "      <td>13:47</td>\n",
       "      <td>Cash</td>\n",
       "      <td>83.08</td>\n",
       "      <td>4.761905</td>\n",
       "      <td>4.154</td>\n",
       "      <td>4.7</td>\n",
       "    </tr>\n",
       "    <tr>\n",
       "      <th>792</th>\n",
       "      <td>744-16-7898</td>\n",
       "      <td>B</td>\n",
       "      <td>Perth</td>\n",
       "      <td>Normal</td>\n",
       "      <td>Female</td>\n",
       "      <td>Home and lifestyle</td>\n",
       "      <td>97.37</td>\n",
       "      <td>10</td>\n",
       "      <td>48.685</td>\n",
       "      <td>1022.385</td>\n",
       "      <td>1/15/2019</td>\n",
       "      <td>13:48</td>\n",
       "      <td>Credit card</td>\n",
       "      <td>973.70</td>\n",
       "      <td>4.761905</td>\n",
       "      <td>48.685</td>\n",
       "      <td>4.9</td>\n",
       "    </tr>\n",
       "    <tr>\n",
       "      <th>21</th>\n",
       "      <td>371-85-5789</td>\n",
       "      <td>B</td>\n",
       "      <td>Perth</td>\n",
       "      <td>Normal</td>\n",
       "      <td>Male</td>\n",
       "      <td>Health and beauty</td>\n",
       "      <td>87.98</td>\n",
       "      <td>3</td>\n",
       "      <td>13.197</td>\n",
       "      <td>277.137</td>\n",
       "      <td>03-05-2019</td>\n",
       "      <td>10:40</td>\n",
       "      <td>Ewallet</td>\n",
       "      <td>263.94</td>\n",
       "      <td>4.761905</td>\n",
       "      <td>13.197</td>\n",
       "      <td>5.1</td>\n",
       "    </tr>\n",
       "    <tr>\n",
       "      <th>566</th>\n",
       "      <td>718-57-9773</td>\n",
       "      <td>C</td>\n",
       "      <td>Hobart</td>\n",
       "      <td>Normal</td>\n",
       "      <td>Female</td>\n",
       "      <td>Sports and travel</td>\n",
       "      <td>49.33</td>\n",
       "      <td>10</td>\n",
       "      <td>24.665</td>\n",
       "      <td>517.965</td>\n",
       "      <td>02-03-2019</td>\n",
       "      <td>16:40</td>\n",
       "      <td>Credit card</td>\n",
       "      <td>493.30</td>\n",
       "      <td>4.761905</td>\n",
       "      <td>24.665</td>\n",
       "      <td>9.4</td>\n",
       "    </tr>\n",
       "  </tbody>\n",
       "</table>\n",
       "</div>"
      ],
      "text/plain": [
       "      Invoice ID Branch      City Customer type  Gender  \\\n",
       "385  525-88-7307      B     Perth        Member    Male   \n",
       "454  187-83-5490      A  Adelaide        Member    Male   \n",
       "792  744-16-7898      B     Perth        Normal  Female   \n",
       "21   371-85-5789      B     Perth        Normal    Male   \n",
       "566  718-57-9773      C    Hobart        Normal  Female   \n",
       "\n",
       "               Product line  Unit price  Quantity  Tax 5%     Total  \\\n",
       "385       Sports and travel       75.82         1   3.791    79.611   \n",
       "454  Electronic accessories       20.77         4   4.154    87.234   \n",
       "792      Home and lifestyle       97.37        10  48.685  1022.385   \n",
       "21        Health and beauty       87.98         3  13.197   277.137   \n",
       "566       Sports and travel       49.33        10  24.665   517.965   \n",
       "\n",
       "           Date   Time      Payment    cogs  gross margin percentage  \\\n",
       "385   1/31/2019  13:19         Cash   75.82                 4.761905   \n",
       "454   1/31/2019  13:47         Cash   83.08                 4.761905   \n",
       "792   1/15/2019  13:48  Credit card  973.70                 4.761905   \n",
       "21   03-05-2019  10:40      Ewallet  263.94                 4.761905   \n",
       "566  02-03-2019  16:40  Credit card  493.30                 4.761905   \n",
       "\n",
       "     gross income  Rating  \n",
       "385         3.791     5.8  \n",
       "454         4.154     4.7  \n",
       "792        48.685     4.9  \n",
       "21         13.197     5.1  \n",
       "566        24.665     9.4  "
      ]
     },
     "execution_count": 13,
     "metadata": {},
     "output_type": "execute_result"
    }
   ],
   "source": [
    "df = pd.read_csv(\"./Retail_Sales.csv\")\n",
    "df.sample(5)"
   ]
  },
  {
   "cell_type": "code",
   "execution_count": 14,
   "metadata": {
    "hidden": true
   },
   "outputs": [],
   "source": [
    "df = df[['Quantity', 'cogs']]"
   ]
  },
  {
   "cell_type": "markdown",
   "metadata": {
    "heading_collapsed": true,
    "hidden": true
   },
   "source": [
    "### Plot with Original Data"
   ]
  },
  {
   "cell_type": "code",
   "execution_count": 15,
   "metadata": {
    "hidden": true
   },
   "outputs": [
    {
     "data": {
      "image/png": "[encoded data removed]",
      "text/plain": [
       "<Figure size 360x360 with 1 Axes>"
      ]
     },
     "metadata": {},
     "output_type": "display_data"
    }
   ],
   "source": [
    "with sns.axes_style(style='ticks'):\n",
    "    my_plot = sns.factorplot(\"Quantity\", \"cogs\", data=df, kind=\"box\")\n",
    "    my_plot.set_axis_labels(\"Quantity\", \"cogs\") \n",
    "    \n",
    "plt.show()"
   ]
  },
  {
   "cell_type": "code",
   "execution_count": 16,
   "metadata": {
    "hidden": true
   },
   "outputs": [
    {
     "data": {
      "image/png": "[encoded data removed]",
      "text/plain": [
       "<Figure size 432x288 with 1 Axes>"
      ]
     },
     "metadata": {
      "needs_background": "light"
     },
     "output_type": "display_data"
    }
   ],
   "source": [
    "sns.kdeplot(\n",
    "   data=df, x=\"Quantity\",\n",
    "   fill=True, common_norm=False, palette=\"crest\",\n",
    "   alpha=.5, linewidth=0,\n",
    ")\n",
    "plt.show()"
   ]
  },
  {
   "cell_type": "code",
   "execution_count": 17,
   "metadata": {
    "hidden": true
   },
   "outputs": [
    {
     "data": {
      "image/png": "[encoded data removed]",
      "text/plain": [
       "<Figure size 432x288 with 1 Axes>"
      ]
     },
     "metadata": {
      "needs_background": "light"
     },
     "output_type": "display_data"
    }
   ],
   "source": [
    "sns.kdeplot(\n",
    "   data=df, x=\"cogs\",\n",
    "   fill=True, common_norm=False, palette=\"crest\",\n",
    "   alpha=.5, linewidth=0,\n",
    ")\n",
    "plt.show()"
   ]
  },
  {
   "cell_type": "code",
   "execution_count": 18,
   "metadata": {
    "hidden": true
   },
   "outputs": [],
   "source": [
    "# Storing the columns Age values into X and Weight as Y\n",
    "X = df['Quantity']\n",
    "y = df['cogs']\n",
    "X = X.to_numpy()\n",
    "y = y.to_numpy()"
   ]
  },
  {
   "cell_type": "code",
   "execution_count": 19,
   "metadata": {
    "hidden": true
   },
   "outputs": [
    {
     "data": {
      "text/plain": [
       "array([[0.03549232, 0.02535166, 0.03549232, 0.04056265, 0.03549232,\n",
       "        0.03549232, 0.03042199, 0.05070332, 0.01014066, 0.01521099,\n",
       "        0.02028133, 0.02028133, 0.02535166, 0.05070332, 0.05070332,\n",
       "        0.03042199, 0.03549232, 0.03042199, 0.01521099, 0.01014066,\n",
       "        0.02535166, 0.01521099, 0.01014066, 0.02535166, 0.01521099,\n",
       "        0.04056265, 0.00507033, 0.01014066, 0.02535166, 0.04563298,\n",
       "        0.02535166, 0.04563298, 0.04056265, 0.01014066, 0.02028133,\n",
       "        0.00507033, 0.02535166, 0.04563298, 0.04056265, 0.04056265,\n",
       "        0.00507033, 0.01014066, 0.03042199, 0.04056265, 0.01014066,\n",
       "        0.02028133, 0.04563298, 0.04563298, 0.03042199, 0.05070332,\n",
       "        0.03549232, 0.02535166, 0.02028133, 0.00507033, 0.01014066,\n",
       "        0.04056265, 0.01014066, 0.04056265, 0.05070332, 0.03042199,\n",
       "        0.01521099, 0.03042199, 0.04563298, 0.05070332, 0.02028133,\n",
       "        0.05070332, 0.01014066, 0.03042199, 0.05070332, 0.00507033,\n",
       "        0.05070332, 0.05070332, 0.01521099, 0.03042199, 0.04563298,\n",
       "        0.05070332, 0.04563298, 0.04563298, 0.05070332, 0.02535166,\n",
       "        0.03042199, 0.01521099, 0.04056265, 0.02028133, 0.02535166,\n",
       "        0.03549232, 0.02535166, 0.03549232, 0.00507033, 0.03042199,\n",
       "        0.02028133, 0.05070332, 0.03549232, 0.04563298, 0.00507033,\n",
       "        0.00507033, 0.05070332, 0.03042199, 0.01521099, 0.03042199,\n",
       "        0.00507033, 0.04563298, 0.04563298, 0.03042199, 0.03549232,\n",
       "        0.05070332, 0.03042199, 0.03042199, 0.04563298, 0.05070332,\n",
       "        0.01014066, 0.01521099, 0.03549232, 0.04563298, 0.04563298,\n",
       "        0.01521099, 0.02535166, 0.00507033, 0.05070332, 0.01014066,\n",
       "        0.04056265, 0.03549232, 0.04563298, 0.04056265, 0.04056265,\n",
       "        0.03549232, 0.02535166, 0.04563298, 0.04056265, 0.04563298,\n",
       "        0.03549232, 0.03042199, 0.02028133, 0.03042199, 0.03042199,\n",
       "        0.01521099, 0.02535166, 0.03042199, 0.05070332, 0.04056265,\n",
       "        0.05070332, 0.05070332, 0.05070332, 0.00507033, 0.03042199,\n",
       "        0.03042199, 0.05070332, 0.02028133, 0.04056265, 0.04056265,\n",
       "        0.02028133, 0.03549232, 0.04563298, 0.03042199, 0.04056265,\n",
       "        0.02535166, 0.00507033, 0.02535166, 0.04563298, 0.03042199,\n",
       "        0.04056265, 0.00507033, 0.03549232, 0.01014066, 0.05070332,\n",
       "        0.04056265, 0.05070332, 0.05070332, 0.03042199, 0.03549232,\n",
       "        0.02535166, 0.02535166, 0.04056265, 0.03042199, 0.04056265,\n",
       "        0.04563298, 0.04056265, 0.03549232, 0.03042199, 0.01521099,\n",
       "        0.03549232, 0.04056265, 0.05070332, 0.04056265, 0.03549232,\n",
       "        0.01521099, 0.04056265, 0.02028133, 0.00507033, 0.02028133,\n",
       "        0.01521099, 0.01014066, 0.04563298, 0.02028133, 0.02535166,\n",
       "        0.00507033, 0.01014066, 0.00507033, 0.02028133, 0.02535166,\n",
       "        0.03042199, 0.02028133, 0.03549232, 0.05070332, 0.02535166,\n",
       "        0.04563298, 0.04563298, 0.05070332, 0.01521099, 0.04563298,\n",
       "        0.04563298, 0.04563298, 0.02535166, 0.01521099, 0.03549232,\n",
       "        0.00507033, 0.02535166, 0.01521099, 0.04056265, 0.01521099,\n",
       "        0.03042199, 0.03549232, 0.02535166, 0.00507033, 0.01014066,\n",
       "        0.01014066, 0.04563298, 0.02028133, 0.03042199, 0.04056265,\n",
       "        0.01014066, 0.01521099, 0.04563298, 0.02028133, 0.05070332,\n",
       "        0.01014066, 0.02535166, 0.02535166, 0.02535166, 0.00507033,\n",
       "        0.04563298, 0.01014066, 0.01014066, 0.02028133, 0.04056265,\n",
       "        0.04056265, 0.01521099, 0.02535166, 0.02028133, 0.03549232,\n",
       "        0.04563298, 0.05070332, 0.01014066, 0.02028133, 0.04056265,\n",
       "        0.02028133, 0.00507033, 0.03042199, 0.02028133, 0.02028133,\n",
       "        0.04563298, 0.02028133, 0.02028133, 0.05070332, 0.00507033,\n",
       "        0.03549232, 0.02028133, 0.05070332, 0.02028133, 0.05070332,\n",
       "        0.02535166, 0.01014066, 0.04563298, 0.01014066, 0.03042199,\n",
       "        0.03549232, 0.05070332, 0.02028133, 0.05070332, 0.05070332,\n",
       "        0.04056265, 0.00507033, 0.00507033, 0.03042199, 0.02028133,\n",
       "        0.02535166, 0.00507033, 0.04563298, 0.03549232, 0.03549232,\n",
       "        0.05070332, 0.03549232, 0.00507033, 0.01014066, 0.05070332,\n",
       "        0.02535166, 0.02028133, 0.03042199, 0.02028133, 0.00507033,\n",
       "        0.01014066, 0.00507033, 0.00507033, 0.02028133, 0.04056265,\n",
       "        0.03549232, 0.03549232, 0.04056265, 0.01521099, 0.01014066,\n",
       "        0.03042199, 0.01014066, 0.02535166, 0.04563298, 0.05070332,\n",
       "        0.01014066, 0.01521099, 0.02535166, 0.03549232, 0.02028133,\n",
       "        0.04563298, 0.00507033, 0.03042199, 0.02535166, 0.03042199,\n",
       "        0.02028133, 0.02535166, 0.02028133, 0.02028133, 0.02028133,\n",
       "        0.04563298, 0.01521099, 0.02535166, 0.01014066, 0.02535166,\n",
       "        0.02535166, 0.04563298, 0.03042199, 0.01521099, 0.04563298,\n",
       "        0.01521099, 0.03549232, 0.03549232, 0.02535166, 0.01521099,\n",
       "        0.04563298, 0.00507033, 0.04056265, 0.03549232, 0.05070332,\n",
       "        0.05070332, 0.03549232, 0.03549232, 0.04563298, 0.00507033,\n",
       "        0.02028133, 0.05070332, 0.05070332, 0.01521099, 0.00507033,\n",
       "        0.04056265, 0.04056265, 0.01014066, 0.03042199, 0.02028133,\n",
       "        0.02028133, 0.04563298, 0.02028133, 0.05070332, 0.04563298,\n",
       "        0.03549232, 0.01014066, 0.03042199, 0.03042199, 0.02535166,\n",
       "        0.02535166, 0.04563298, 0.03549232, 0.02028133, 0.02028133,\n",
       "        0.02028133, 0.01014066, 0.02535166, 0.02028133, 0.02535166,\n",
       "        0.00507033, 0.03042199, 0.05070332, 0.04563298, 0.03549232,\n",
       "        0.01521099, 0.05070332, 0.00507033, 0.05070332, 0.00507033,\n",
       "        0.02535166, 0.02535166, 0.04563298, 0.03042199, 0.04563298,\n",
       "        0.03042199, 0.02028133, 0.00507033, 0.02535166, 0.03549232,\n",
       "        0.02028133, 0.02535166, 0.02028133, 0.02028133, 0.02535166,\n",
       "        0.05070332, 0.01014066, 0.02535166, 0.01521099, 0.04056265,\n",
       "        0.00507033, 0.02028133, 0.00507033, 0.01014066, 0.03549232,\n",
       "        0.01521099, 0.01521099, 0.05070332, 0.04056265, 0.00507033,\n",
       "        0.04563298, 0.03549232, 0.01521099, 0.02535166, 0.05070332,\n",
       "        0.01014066, 0.01014066, 0.03042199, 0.03549232, 0.00507033,\n",
       "        0.04563298, 0.02028133, 0.03042199, 0.02028133, 0.04056265,\n",
       "        0.02535166, 0.04056265, 0.04563298, 0.00507033, 0.03549232,\n",
       "        0.00507033, 0.05070332, 0.01521099, 0.00507033, 0.00507033,\n",
       "        0.03042199, 0.03042199, 0.02535166, 0.00507033, 0.02028133,\n",
       "        0.02535166, 0.04563298, 0.05070332, 0.05070332, 0.00507033,\n",
       "        0.02535166, 0.05070332, 0.02028133, 0.00507033, 0.02535166,\n",
       "        0.05070332, 0.03549232, 0.03042199, 0.00507033, 0.00507033,\n",
       "        0.03042199, 0.02028133, 0.05070332, 0.04056265, 0.02535166,\n",
       "        0.01521099, 0.02535166, 0.02028133, 0.05070332, 0.00507033,\n",
       "        0.04056265, 0.05070332, 0.02535166, 0.05070332, 0.05070332,\n",
       "        0.02028133, 0.05070332, 0.02028133, 0.00507033, 0.04563298,\n",
       "        0.01014066, 0.05070332, 0.04056265, 0.05070332, 0.01014066,\n",
       "        0.04056265, 0.01014066, 0.03042199, 0.00507033, 0.04056265,\n",
       "        0.00507033, 0.00507033, 0.01014066, 0.01014066, 0.00507033,\n",
       "        0.04056265, 0.01521099, 0.03042199, 0.02535166, 0.03042199,\n",
       "        0.03549232, 0.02535166, 0.03549232, 0.03549232, 0.03549232,\n",
       "        0.00507033, 0.02535166, 0.02535166, 0.01014066, 0.02535166,\n",
       "        0.01521099, 0.03042199, 0.03042199, 0.01014066, 0.03042199,\n",
       "        0.02535166, 0.02028133, 0.01014066, 0.05070332, 0.04563298,\n",
       "        0.03042199, 0.04056265, 0.05070332, 0.04563298, 0.02535166,\n",
       "        0.03549232, 0.00507033, 0.00507033, 0.02028133, 0.03042199,\n",
       "        0.01521099, 0.00507033, 0.02028133, 0.03042199, 0.00507033,\n",
       "        0.02028133, 0.05070332, 0.04563298, 0.02535166, 0.03042199,\n",
       "        0.01521099, 0.04563298, 0.04563298, 0.03042199, 0.03549232,\n",
       "        0.01521099, 0.01014066, 0.05070332, 0.03042199, 0.01521099,\n",
       "        0.04563298, 0.05070332, 0.04056265, 0.03042199, 0.01014066,\n",
       "        0.05070332, 0.05070332, 0.04563298, 0.03549232, 0.03549232,\n",
       "        0.02535166, 0.05070332, 0.03549232, 0.01014066, 0.02535166,\n",
       "        0.03549232, 0.02028133, 0.02028133, 0.02028133, 0.01014066,\n",
       "        0.01521099, 0.02028133, 0.01014066, 0.02028133, 0.01521099,\n",
       "        0.02028133, 0.01521099, 0.02535166, 0.05070332, 0.02535166,\n",
       "        0.03042199, 0.03549232, 0.00507033, 0.01521099, 0.01521099,\n",
       "        0.01521099, 0.01521099, 0.04563298, 0.02535166, 0.01014066,\n",
       "        0.00507033, 0.00507033, 0.05070332, 0.03042199, 0.03549232,\n",
       "        0.02028133, 0.03549232, 0.02028133, 0.00507033, 0.01014066,\n",
       "        0.00507033, 0.04563298, 0.01521099, 0.00507033, 0.05070332,\n",
       "        0.04563298, 0.03042199, 0.02535166, 0.03042199, 0.03042199,\n",
       "        0.01521099, 0.00507033, 0.03549232, 0.05070332, 0.00507033,\n",
       "        0.01014066, 0.01014066, 0.05070332, 0.01521099, 0.00507033,\n",
       "        0.05070332, 0.01521099, 0.01014066, 0.01521099, 0.01521099,\n",
       "        0.05070332, 0.03549232, 0.00507033, 0.02535166, 0.01521099,\n",
       "        0.01521099, 0.04056265, 0.01014066, 0.04056265, 0.02535166,\n",
       "        0.04563298, 0.03042199, 0.00507033, 0.01014066, 0.05070332,\n",
       "        0.02535166, 0.03042199, 0.05070332, 0.04563298, 0.02028133,\n",
       "        0.01521099, 0.00507033, 0.01521099, 0.02535166, 0.00507033,\n",
       "        0.01521099, 0.03549232, 0.03042199, 0.05070332, 0.01014066,\n",
       "        0.02028133, 0.01521099, 0.02028133, 0.03042199, 0.01014066,\n",
       "        0.05070332, 0.01014066, 0.01521099, 0.04056265, 0.05070332,\n",
       "        0.01014066, 0.03549232, 0.02028133, 0.05070332, 0.03042199,\n",
       "        0.00507033, 0.00507033, 0.03042199, 0.01014066, 0.03042199,\n",
       "        0.01014066, 0.01014066, 0.05070332, 0.01014066, 0.01521099,\n",
       "        0.04563298, 0.03549232, 0.05070332, 0.03549232, 0.04563298,\n",
       "        0.02535166, 0.02028133, 0.02028133, 0.04563298, 0.05070332,\n",
       "        0.04056265, 0.01521099, 0.05070332, 0.04563298, 0.04563298,\n",
       "        0.03549232, 0.02028133, 0.00507033, 0.04056265, 0.01521099,\n",
       "        0.03042199, 0.02028133, 0.04563298, 0.04563298, 0.04056265,\n",
       "        0.02535166, 0.03549232, 0.01521099, 0.01521099, 0.03042199,\n",
       "        0.03549232, 0.04563298, 0.01521099, 0.03549232, 0.02028133,\n",
       "        0.04056265, 0.01521099, 0.05070332, 0.02028133, 0.03549232,\n",
       "        0.02028133, 0.01521099, 0.00507033, 0.03549232, 0.00507033,\n",
       "        0.05070332, 0.03549232, 0.05070332, 0.04056265, 0.04563298,\n",
       "        0.03549232, 0.00507033, 0.01014066, 0.01014066, 0.04056265,\n",
       "        0.00507033, 0.05070332, 0.02535166, 0.04563298, 0.03549232,\n",
       "        0.02028133, 0.02535166, 0.05070332, 0.02535166, 0.01521099,\n",
       "        0.04056265, 0.04056265, 0.03042199, 0.05070332, 0.02028133,\n",
       "        0.05070332, 0.05070332, 0.04056265, 0.02535166, 0.02028133,\n",
       "        0.04056265, 0.01521099, 0.03042199, 0.02028133, 0.03042199,\n",
       "        0.02028133, 0.03549232, 0.03549232, 0.00507033, 0.01014066,\n",
       "        0.02535166, 0.03549232, 0.00507033, 0.02535166, 0.04563298,\n",
       "        0.04056265, 0.02028133, 0.00507033, 0.04056265, 0.02535166,\n",
       "        0.03549232, 0.04056265, 0.02535166, 0.01521099, 0.03549232,\n",
       "        0.00507033, 0.02028133, 0.05070332, 0.03549232, 0.01014066,\n",
       "        0.01014066, 0.00507033, 0.05070332, 0.00507033, 0.02535166,\n",
       "        0.03042199, 0.04056265, 0.03549232, 0.04563298, 0.04563298,\n",
       "        0.02028133, 0.01014066, 0.02028133, 0.00507033, 0.05070332,\n",
       "        0.04056265, 0.05070332, 0.02535166, 0.00507033, 0.04056265,\n",
       "        0.04056265, 0.03549232, 0.04056265, 0.02028133, 0.02535166,\n",
       "        0.02028133, 0.01014066, 0.00507033, 0.01521099, 0.03549232,\n",
       "        0.02028133, 0.04563298, 0.01521099, 0.05070332, 0.05070332,\n",
       "        0.04056265, 0.02028133, 0.04056265, 0.00507033, 0.03549232,\n",
       "        0.00507033, 0.02535166, 0.03042199, 0.05070332, 0.03042199,\n",
       "        0.01521099, 0.00507033, 0.01014066, 0.01014066, 0.00507033,\n",
       "        0.01521099, 0.00507033, 0.00507033, 0.04563298, 0.03042199,\n",
       "        0.00507033, 0.01014066, 0.03549232, 0.05070332, 0.02535166,\n",
       "        0.04563298, 0.04056265, 0.02028133, 0.03042199, 0.04563298,\n",
       "        0.00507033, 0.01014066, 0.04563298, 0.03549232, 0.01521099,\n",
       "        0.01521099, 0.04056265, 0.01014066, 0.01521099, 0.02028133,\n",
       "        0.03549232, 0.00507033, 0.05070332, 0.03042199, 0.02028133,\n",
       "        0.04056265, 0.00507033, 0.00507033, 0.04056265, 0.04056265,\n",
       "        0.05070332, 0.04056265, 0.05070332, 0.03042199, 0.01014066,\n",
       "        0.03549232, 0.00507033, 0.05070332, 0.04056265, 0.05070332,\n",
       "        0.02535166, 0.04056265, 0.02535166, 0.02535166, 0.03042199,\n",
       "        0.04056265, 0.03549232, 0.03042199, 0.03549232, 0.04563298,\n",
       "        0.04563298, 0.02028133, 0.02535166, 0.03549232, 0.01014066,\n",
       "        0.02028133, 0.05070332, 0.02535166, 0.01014066, 0.05070332,\n",
       "        0.01521099, 0.02028133, 0.04056265, 0.04056265, 0.01521099,\n",
       "        0.03042199, 0.00507033, 0.02028133, 0.01521099, 0.01521099,\n",
       "        0.04563298, 0.03042199, 0.01014066, 0.03549232, 0.03042199,\n",
       "        0.02028133, 0.00507033, 0.04563298, 0.04563298, 0.01014066,\n",
       "        0.03042199, 0.01014066, 0.05070332, 0.03549232, 0.03042199,\n",
       "        0.01521099, 0.03549232, 0.02535166, 0.01521099, 0.03042199,\n",
       "        0.02028133, 0.04563298, 0.05070332, 0.02535166, 0.03549232,\n",
       "        0.03549232, 0.01014066, 0.00507033, 0.02535166, 0.04056265,\n",
       "        0.01521099, 0.01521099, 0.02028133, 0.02028133, 0.03042199,\n",
       "        0.03549232, 0.04563298, 0.03042199, 0.05070332, 0.04563298,\n",
       "        0.00507033, 0.01014066, 0.00507033, 0.01521099, 0.01014066,\n",
       "        0.01014066, 0.04563298, 0.01521099, 0.01521099, 0.02535166,\n",
       "        0.05070332, 0.03549232, 0.03549232, 0.01521099, 0.01014066,\n",
       "        0.01014066, 0.02028133, 0.03042199, 0.00507033, 0.00507033,\n",
       "        0.02028133, 0.02028133, 0.04563298, 0.03549232, 0.03549232,\n",
       "        0.02535166, 0.01014066, 0.04056265, 0.05070332, 0.04056265,\n",
       "        0.02535166, 0.05070332, 0.01014066, 0.05070332, 0.00507033,\n",
       "        0.00507033, 0.05070332, 0.00507033, 0.00507033, 0.03549232]])"
      ]
     },
     "execution_count": 19,
     "metadata": {},
     "output_type": "execute_result"
    }
   ],
   "source": [
    "from sklearn.preprocessing import Normalizer\n",
    "normalizer = Normalizer().fit([X])\n",
    "normalizer.transform([X])"
   ]
  },
  {
   "cell_type": "code",
   "execution_count": 20,
   "metadata": {
    "hidden": true
   },
   "outputs": [
    {
     "data": {
      "text/plain": [
       "array([[0.04277541, 0.00625068, 0.02653347, 0.03810622, 0.04943026,\n",
       "        0.04890337, 0.03379293, 0.06018322, 0.00593323, 0.01346023,\n",
       "        0.00473873, 0.00834842, 0.01920611, 0.03533596, 0.05839965,\n",
       "        0.04600629, 0.03947663, 0.03564359, 0.0134185 , 0.0065943 ,\n",
       "        0.03519688, 0.02159429, 0.00543253, 0.01413766, 0.02175383,\n",
       "        0.03442127, 0.00274244, 0.01434547, 0.03614593, 0.01832741,\n",
       "        0.0385063 , 0.05748578, 0.05483578, 0.01580341, 0.03253625,\n",
       "        0.00557325, 0.02561632, 0.04482816, 0.0359463 , 0.01971418,\n",
       "        0.00709501, 0.0091813 , 0.03393038, 0.06460124, 0.002515  ,\n",
       "        0.03074941, 0.04174291, 0.01473409, 0.00929256, 0.06760386,\n",
       "        0.05234533, 0.01824069, 0.00584815, 0.00126241, 0.00264427,\n",
       "        0.05627573, 0.00725537, 0.0586451 , 0.05919326, 0.01502617,\n",
       "        0.00607232, 0.02735735, 0.04055004, 0.01293497, 0.02478672,\n",
       "        0.01298406, 0.00547671, 0.04791586, 0.06444579, 0.00149967,\n",
       "        0.07320819, 0.05082357, 0.01190901, 0.03726353, 0.05498223,\n",
       "        0.03407601, 0.03610993, 0.01473409, 0.06406944, 0.00833696,\n",
       "        0.04869147, 0.02372967, 0.01259953, 0.02629866, 0.02000789,\n",
       "        0.04756896, 0.03130248, 0.02828022, 0.00347469, 0.03779369,\n",
       "        0.01550561, 0.03670228, 0.01258808, 0.04739061, 0.00734291,\n",
       "        0.00794916, 0.07189097, 0.00611159, 0.01294725, 0.04059668,\n",
       "        0.00398522, 0.05783922, 0.01698728, 0.0285993 , 0.01738163,\n",
       "        0.07254549, 0.01344059, 0.03049905, 0.02502071, 0.06706388,\n",
       "        0.00269826, 0.0241052 , 0.04171591, 0.04275905, 0.05948861,\n",
       "        0.00663194, 0.00897512, 0.00420203, 0.00896694, 0.0087444 ,\n",
       "        0.06516413, 0.03271297, 0.07360418, 0.04183045, 0.03696081,\n",
       "        0.05365683, 0.01319269, 0.02336395, 0.04486088, 0.06647644,\n",
       "        0.02269061, 0.04522578, 0.01140176, 0.04292841, 0.03990943,\n",
       "        0.02214409, 0.01076278, 0.01689646, 0.04247024, 0.04745279,\n",
       "        0.07347   , 0.07404271, 0.05612519, 0.002488  , 0.03826494,\n",
       "        0.02270861, 0.02465909, 0.02164502, 0.04703389, 0.02124576,\n",
       "        0.02995743, 0.01979272, 0.06129264, 0.00808988, 0.05299658,\n",
       "        0.0377536 , 0.0059046 , 0.02056833, 0.07158662, 0.0458443 ,\n",
       "        0.02826222, 0.00521081, 0.02622421, 0.01250135, 0.03264424,\n",
       "        0.02786297, 0.07819892, 0.08098063, 0.02517288, 0.03981452,\n",
       "        0.02863939, 0.03274651, 0.01364677, 0.02596322, 0.01295297,\n",
       "        0.02491762, 0.01451073, 0.01289161, 0.03626702, 0.02130466,\n",
       "        0.03680209, 0.02517943, 0.01268135, 0.02245662, 0.00706719,\n",
       "        0.00443765, 0.06184571, 0.0152078 , 0.00606005, 0.02284606,\n",
       "        0.01890912, 0.0120301 , 0.06465033, 0.00836151, 0.01338087,\n",
       "        0.00607805, 0.00715064, 0.00206911, 0.01358131, 0.02920392,\n",
       "        0.00940056, 0.01881421, 0.03516988, 0.02119012, 0.00726928,\n",
       "        0.01695783, 0.04907682, 0.02334186, 0.00745418, 0.07343482,\n",
       "        0.0193141 , 0.06867073, 0.03778224, 0.01139358, 0.01695783,\n",
       "        0.00149558, 0.01013281, 0.02322896, 0.06209442, 0.01407384,\n",
       "        0.0222619 , 0.03555359, 0.00483118, 0.00102596, 0.00707701,\n",
       "        0.01426202, 0.05107965, 0.01212828, 0.0445238 , 0.04150973,\n",
       "        0.0133146 , 0.00259927, 0.06191852, 0.02415838, 0.04249479,\n",
       "        0.01524053, 0.00712201, 0.01808933, 0.00540798, 0.007338  ,\n",
       "        0.01836423, 0.00978018, 0.01525034, 0.02050288, 0.0614399 ,\n",
       "        0.03114866, 0.01997926, 0.00733882, 0.02543469, 0.0418419 ,\n",
       "        0.03427646, 0.02879075, 0.00235464, 0.00777244, 0.0385513 ,\n",
       "        0.01067524, 0.00542844, 0.01271898, 0.01055415, 0.02157956,\n",
       "        0.0552694 , 0.00538344, 0.01253408, 0.01819569, 0.00445483,\n",
       "        0.05635427, 0.01160793, 0.0610341 , 0.02315041, 0.0290771 ,\n",
       "        0.02758398, 0.00345587, 0.01586068, 0.00196847, 0.04894673,\n",
       "        0.02747271, 0.01785207, 0.03122721, 0.05808057, 0.03601503,\n",
       "        0.0457903 , 0.00302716, 0.00125504, 0.04900564, 0.01560051,\n",
       "        0.02727717, 0.00612468, 0.01748799, 0.02778197, 0.05433835,\n",
       "        0.0329715 , 0.01594986, 0.00511181, 0.0059496 , 0.01481672,\n",
       "        0.02123921, 0.0094382 , 0.03847603, 0.01963891, 0.00724964,\n",
       "        0.01633358, 0.00319161, 0.00397703, 0.01675247, 0.00979164,\n",
       "        0.04134938, 0.02303996, 0.05811494, 0.0064994 , 0.01340296,\n",
       "        0.03923691, 0.01134449, 0.00582115, 0.01145003, 0.06392218,\n",
       "        0.01625994, 0.00517399, 0.03059477, 0.01699219, 0.01442237,\n",
       "        0.01688419, 0.00322515, 0.00749099, 0.02526861, 0.01056397,\n",
       "        0.03198645, 0.04081758, 0.03084758, 0.01673283, 0.0118992 ,\n",
       "        0.01621413, 0.00807516, 0.03150701, 0.00384204, 0.00601341,\n",
       "        0.0116382 , 0.0562561 , 0.02844713, 0.01169548, 0.03152992,\n",
       "        0.01180347, 0.03205436, 0.04404109, 0.03969262, 0.01095914,\n",
       "        0.05738269, 0.0058866 , 0.05841602, 0.01490181, 0.01104504,\n",
       "        0.08124244, 0.02960317, 0.0313442 , 0.01988108, 0.00247409,\n",
       "        0.02917201, 0.03072159, 0.07808438, 0.00674975, 0.00613368,\n",
       "        0.05299003, 0.06183262, 0.01632867, 0.03594303, 0.01349623,\n",
       "        0.02673065, 0.03778878, 0.02157956, 0.01174866, 0.01583123,\n",
       "        0.01503926, 0.0099749 , 0.03441636, 0.02065669, 0.02744489,\n",
       "        0.03955762, 0.02605158, 0.0546877 , 0.03173773, 0.00773971,\n",
       "        0.02694336, 0.0043542 , 0.04078076, 0.02450855, 0.01674756,\n",
       "        0.00620322, 0.02295897, 0.02644266, 0.03981371, 0.0104347 ,\n",
       "        0.01975345, 0.03104885, 0.00628504, 0.0427566 , 0.00652394,\n",
       "        0.03170337, 0.02220054, 0.01000681, 0.02015598, 0.01416711,\n",
       "        0.01935583, 0.01512598, 0.00114378, 0.01626076, 0.05600492,\n",
       "        0.02201155, 0.00564115, 0.02248608, 0.01850004, 0.00974418,\n",
       "        0.02798896, 0.00357859, 0.00857832, 0.00634231, 0.03333476,\n",
       "        0.00786325, 0.01485109, 0.00666875, 0.00936293, 0.01444365,\n",
       "        0.00947419, 0.02062969, 0.07953251, 0.01663793, 0.00133195,\n",
       "        0.02990262, 0.03045078, 0.00512245, 0.02751852, 0.07416543,\n",
       "        0.01130358, 0.00708028, 0.0115163 , 0.05471633, 0.00388131,\n",
       "        0.07307402, 0.02713972, 0.01668538, 0.00557652, 0.02674374,\n",
       "        0.00713428, 0.05787931, 0.06568856, 0.0010456 , 0.01093869,\n",
       "        0.00156676, 0.02263007, 0.01122667, 0.00221474, 0.00320061,\n",
       "        0.03667446, 0.01080451, 0.02602131, 0.00204538, 0.0067972 ,\n",
       "        0.01209228, 0.05699243, 0.06495305, 0.03810131, 0.00293635,\n",
       "        0.01657575, 0.05976597, 0.02420092, 0.00185066, 0.02100195,\n",
       "        0.04463016, 0.02127603, 0.01817278, 0.00176557, 0.00808661,\n",
       "        0.04112193, 0.01310679, 0.03528687, 0.0474986 , 0.02636084,\n",
       "        0.01599813, 0.01360586, 0.0275128 , 0.02811987, 0.00315806,\n",
       "        0.04317876, 0.02683537, 0.01519307, 0.04939999, 0.03025524,\n",
       "        0.01619613, 0.03361784, 0.01215773, 0.00187848, 0.05719861,\n",
       "        0.00567797, 0.01608486, 0.01657248, 0.009916  , 0.01634503,\n",
       "        0.04969125, 0.01034471, 0.04429799, 0.00802852, 0.03372093,\n",
       "        0.00605187, 0.0026099 , 0.01135594, 0.01526834, 0.00723655,\n",
       "        0.01582632, 0.0119041 , 0.04125938, 0.02507225, 0.00782971,\n",
       "        0.05196735, 0.01755344, 0.03108648, 0.05701289, 0.03344031,\n",
       "        0.00421103, 0.0224419 , 0.01611349, 0.00568288, 0.02942073,\n",
       "        0.01121931, 0.0408274 , 0.01837895, 0.01028744, 0.04011069,\n",
       "        0.03739361, 0.01283189, 0.00979491, 0.04447471, 0.07222723,\n",
       "        0.01248336, 0.0567339 , 0.01877658, 0.01200965, 0.01158502,\n",
       "        0.00954701, 0.00605105, 0.00801298, 0.02390639, 0.04294313,\n",
       "        0.00753027, 0.00620813, 0.00660412, 0.00921402, 0.00582524,\n",
       "        0.01270098, 0.02407002, 0.0448797 , 0.02108376, 0.03242825,\n",
       "        0.01405666, 0.03999043, 0.04288423, 0.01090269, 0.01106468,\n",
       "        0.0091993 , 0.01178793, 0.08060428, 0.02045051, 0.01777516,\n",
       "        0.01589014, 0.07297911, 0.02776479, 0.03657628, 0.01624031,\n",
       "        0.06644208, 0.04035941, 0.04840675, 0.0457363 , 0.04236879,\n",
       "        0.03356057, 0.0218201 , 0.00580151, 0.0118452 , 0.0351437 ,\n",
       "        0.04656673, 0.01973381, 0.01039707, 0.02103304, 0.01137394,\n",
       "        0.00668102, 0.0254216 , 0.01521434, 0.00591687, 0.01547779,\n",
       "        0.01692265, 0.01284661, 0.0176148 , 0.04877001, 0.00598069,\n",
       "        0.02284115, 0.01388239, 0.00372913, 0.0184575 , 0.02375912,\n",
       "        0.0036375 , 0.01281225, 0.03435745, 0.01507444, 0.01150648,\n",
       "        0.0067972 , 0.00531717, 0.06345583, 0.02675846, 0.02971772,\n",
       "        0.01039052, 0.03072568, 0.0162943 , 0.00250436, 0.00947256,\n",
       "        0.00236937, 0.07287521, 0.02288042, 0.0066213 , 0.05518432,\n",
       "        0.02851094, 0.03563868, 0.03596185, 0.04836748, 0.02133412,\n",
       "        0.01759353, 0.00749509, 0.05417226, 0.06811111, 0.00747381,\n",
       "        0.01290716, 0.00996018, 0.06756295, 0.01308224, 0.00098915,\n",
       "        0.05251714, 0.01922083, 0.01370731, 0.02447091, 0.01961355,\n",
       "        0.05438253, 0.01657984, 0.00377986, 0.00721201, 0.01286625,\n",
       "        0.02424756, 0.05795785, 0.0091093 , 0.04746588, 0.00492936,\n",
       "        0.01425547, 0.03446545, 0.00275144, 0.00253463, 0.02024107,\n",
       "        0.03095067, 0.02739662, 0.05954506, 0.02748007, 0.01969454,\n",
       "        0.00385104, 0.00815615, 0.02163602, 0.01142549, 0.00453665,\n",
       "        0.01054679, 0.00981618, 0.02883984, 0.07126099, 0.01616667,\n",
       "        0.01591468, 0.01417202, 0.00588087, 0.0234204 , 0.00664666,\n",
       "        0.04584921, 0.01528307, 0.01801815, 0.02201809, 0.03720953,\n",
       "        0.01370731, 0.036699  , 0.02404384, 0.04823003, 0.02380821,\n",
       "        0.00323006, 0.00284799, 0.02421074, 0.00351478, 0.01132976,\n",
       "        0.00803425, 0.01060815, 0.05200171, 0.01192538, 0.01646939,\n",
       "        0.05168345, 0.03152174, 0.03978671, 0.04202517, 0.03873129,\n",
       "        0.03574095, 0.00884913, 0.02035234, 0.05123428, 0.07976977,\n",
       "        0.03953962, 0.0079328 , 0.01617485, 0.05925298, 0.06508477,\n",
       "        0.04110311, 0.01407221, 0.00564361, 0.01022362, 0.00630795,\n",
       "        0.03957562, 0.02471799, 0.05716179, 0.01019826, 0.06460124,\n",
       "        0.01459582, 0.04092557, 0.00293062, 0.01113831, 0.00858077,\n",
       "        0.01463837, 0.06673416, 0.01082905, 0.0210584 , 0.00763826,\n",
       "        0.01865385, 0.0136394 , 0.05705788, 0.03182937, 0.0298838 ,\n",
       "        0.00730446, 0.01374494, 0.00161176, 0.04345693, 0.00439511,\n",
       "        0.06704751, 0.04650373, 0.04807458, 0.05992796, 0.06918616,\n",
       "        0.03184818, 0.00694038, 0.01172084, 0.00616723, 0.02072869,\n",
       "        0.00314334, 0.05336802, 0.00430757, 0.00904957, 0.04652091,\n",
       "        0.00730446, 0.01115959, 0.0142522 , 0.02997707, 0.02083095,\n",
       "        0.06367837, 0.02339259, 0.04738079, 0.01542216, 0.01812696,\n",
       "        0.06316129, 0.05901327, 0.04181081, 0.00437302, 0.01816296,\n",
       "        0.06248059, 0.01866858, 0.0067203 , 0.0312992 , 0.00561088,\n",
       "        0.03126648, 0.04917827, 0.03893828, 0.00428875, 0.01074233,\n",
       "        0.01180593, 0.03740343, 0.0076399 , 0.01032916, 0.06470187,\n",
       "        0.01426856, 0.03101121, 0.00250518, 0.02880548, 0.00415621,\n",
       "        0.04271242, 0.04705353, 0.00449574, 0.01484209, 0.03373811,\n",
       "        0.00379704, 0.02243371, 0.07966341, 0.05303258, 0.00762681,\n",
       "        0.00444747, 0.00498009, 0.02003653, 0.00759081, 0.03546278,\n",
       "        0.0112954 , 0.01976654, 0.03859466, 0.03605103, 0.05565966,\n",
       "        0.02535288, 0.01524707, 0.0164383 , 0.00145222, 0.05087266,\n",
       "        0.0070361 , 0.03293878, 0.02657765, 0.00778471, 0.03182282,\n",
       "        0.03482707, 0.02602376, 0.02217518, 0.03146938, 0.01929201,\n",
       "        0.01730881, 0.00780189, 0.00083206, 0.01686456, 0.03440818,\n",
       "        0.00720301, 0.05309721, 0.01013199, 0.05313894, 0.0607232 ,\n",
       "        0.00691174, 0.0204767 , 0.00775608, 0.00746972, 0.02332632,\n",
       "        0.00428548, 0.01576578, 0.02190846, 0.04571012, 0.01434383,\n",
       "        0.01274844, 0.00493345, 0.00645849, 0.00243318, 0.0017443 ,\n",
       "        0.02301787, 0.00599378, 0.00183102, 0.05366419, 0.04864729,\n",
       "        0.0060625 , 0.01611431, 0.03046223, 0.04319022, 0.03925082,\n",
       "        0.02688364, 0.01382349, 0.00926475, 0.02827041, 0.0350717 ,\n",
       "        0.00705819, 0.00208792, 0.00830587, 0.0292481 , 0.019535  ,\n",
       "        0.00829851, 0.0592538 , 0.01027926, 0.00596678, 0.02113776,\n",
       "        0.01421456, 0.00462256, 0.01753299, 0.04371874, 0.0076219 ,\n",
       "        0.04271405, 0.00428302, 0.00325215, 0.05892   , 0.00791971,\n",
       "        0.02717081, 0.00666303, 0.02617267, 0.01689646, 0.01363695,\n",
       "        0.02610394, 0.00719155, 0.06010959, 0.00797861, 0.06293221,\n",
       "        0.03422328, 0.03790332, 0.03783542, 0.01160957, 0.02476545,\n",
       "        0.06490232, 0.03478616, 0.02320441, 0.04902364, 0.02580123,\n",
       "        0.03301732, 0.01504417, 0.01134367, 0.0066033 , 0.00954292,\n",
       "        0.02565069, 0.0692238 , 0.0339042 , 0.01301515, 0.0400976 ,\n",
       "        0.00715473, 0.01836914, 0.06094901, 0.03360312, 0.02444637,\n",
       "        0.01742172, 0.00350578, 0.03098176, 0.01692837, 0.0064454 ,\n",
       "        0.02635348, 0.00803588, 0.00208301, 0.04761478, 0.01728918,\n",
       "        0.00450965, 0.0072251 , 0.02917365, 0.06498168, 0.00414148,\n",
       "        0.04904982, 0.01363859, 0.0609032 , 0.036699  , 0.03099976,\n",
       "        0.02103958, 0.04518078, 0.0366041 , 0.02260307, 0.02812314,\n",
       "        0.02176937, 0.07350109, 0.03737316, 0.02077696, 0.00577288,\n",
       "        0.05376564, 0.01378585, 0.00440002, 0.014649  , 0.01729899,\n",
       "        0.00979573, 0.00537526, 0.02056833, 0.00688556, 0.03235462,\n",
       "        0.0243801 , 0.03717762, 0.0225908 , 0.01292679, 0.07264694,\n",
       "        0.00752536, 0.00341824, 0.00126813, 0.02376403, 0.0054538 ,\n",
       "        0.00626213, 0.02452   , 0.01988354, 0.00387804, 0.01410902,\n",
       "        0.06924016, 0.02113858, 0.04987124, 0.01965527, 0.01409348,\n",
       "        0.00816842, 0.02443328, 0.0130577 , 0.0020822 , 0.00554461,\n",
       "        0.01950146, 0.0190302 , 0.07177807, 0.0572477 , 0.05519168,\n",
       "        0.02606222, 0.00241518, 0.04058031, 0.06736659, 0.04933126,\n",
       "        0.02313732, 0.0626704 , 0.00949547, 0.01430947, 0.00498663,\n",
       "        0.00330124, 0.07967159, 0.00260499, 0.00538507, 0.05059285]])"
      ]
     },
     "execution_count": 20,
     "metadata": {},
     "output_type": "execute_result"
    }
   ],
   "source": [
    "normalizer = Normalizer().fit([y])\n",
    "normalizer.transform([y])"
   ]
  },
  {
   "cell_type": "markdown",
   "metadata": {
    "heading_collapsed": true
   },
   "source": [
    "## 2b. Standardization"
   ]
  },
  {
   "cell_type": "markdown",
   "metadata": {
    "heading_collapsed": true,
    "hidden": true
   },
   "source": [
    "### StandardScaler from sklearn"
   ]
  },
  {
   "cell_type": "code",
   "execution_count": 21,
   "metadata": {
    "hidden": true
   },
   "outputs": [
    {
     "data": {
      "text/plain": [
       "array([[0., 0., 0., 0., 0., 0., 0., 0., 0., 0., 0., 0., 0., 0., 0., 0.,\n",
       "        0., 0., 0., 0., 0., 0., 0., 0., 0., 0., 0., 0., 0., 0., 0., 0.,\n",
       "        0., 0., 0., 0., 0., 0., 0., 0., 0., 0., 0., 0., 0., 0., 0., 0.,\n",
       "        0., 0., 0., 0., 0., 0., 0., 0., 0., 0., 0., 0., 0., 0., 0., 0.,\n",
       "        0., 0., 0., 0., 0., 0., 0., 0., 0., 0., 0., 0., 0., 0., 0., 0.,\n",
       "        0., 0., 0., 0., 0., 0., 0., 0., 0., 0., 0., 0., 0., 0., 0., 0.,\n",
       "        0., 0., 0., 0., 0., 0., 0., 0., 0., 0., 0., 0., 0., 0., 0., 0.,\n",
       "        0., 0., 0., 0., 0., 0., 0., 0., 0., 0., 0., 0., 0., 0., 0., 0.,\n",
       "        0., 0., 0., 0., 0., 0., 0., 0., 0., 0., 0., 0., 0., 0., 0., 0.,\n",
       "        0., 0., 0., 0., 0., 0., 0., 0., 0., 0., 0., 0., 0., 0., 0., 0.,\n",
       "        0., 0., 0., 0., 0., 0., 0., 0., 0., 0., 0., 0., 0., 0., 0., 0.,\n",
       "        0., 0., 0., 0., 0., 0., 0., 0., 0., 0., 0., 0., 0., 0., 0., 0.,\n",
       "        0., 0., 0., 0., 0., 0., 0., 0., 0., 0., 0., 0., 0., 0., 0., 0.,\n",
       "        0., 0., 0., 0., 0., 0., 0., 0., 0., 0., 0., 0., 0., 0., 0., 0.,\n",
       "        0., 0., 0., 0., 0., 0., 0., 0., 0., 0., 0., 0., 0., 0., 0., 0.,\n",
       "        0., 0., 0., 0., 0., 0., 0., 0., 0., 0., 0., 0., 0., 0., 0., 0.,\n",
       "        0., 0., 0., 0., 0., 0., 0., 0., 0., 0., 0., 0., 0., 0., 0., 0.,\n",
       "        0., 0., 0., 0., 0., 0., 0., 0., 0., 0., 0., 0., 0., 0., 0., 0.,\n",
       "        0., 0., 0., 0., 0., 0., 0., 0., 0., 0., 0., 0., 0., 0., 0., 0.,\n",
       "        0., 0., 0., 0., 0., 0., 0., 0., 0., 0., 0., 0., 0., 0., 0., 0.,\n",
       "        0., 0., 0., 0., 0., 0., 0., 0., 0., 0., 0., 0., 0., 0., 0., 0.,\n",
       "        0., 0., 0., 0., 0., 0., 0., 0., 0., 0., 0., 0., 0., 0., 0., 0.,\n",
       "        0., 0., 0., 0., 0., 0., 0., 0., 0., 0., 0., 0., 0., 0., 0., 0.,\n",
       "        0., 0., 0., 0., 0., 0., 0., 0., 0., 0., 0., 0., 0., 0., 0., 0.,\n",
       "        0., 0., 0., 0., 0., 0., 0., 0., 0., 0., 0., 0., 0., 0., 0., 0.,\n",
       "        0., 0., 0., 0., 0., 0., 0., 0., 0., 0., 0., 0., 0., 0., 0., 0.,\n",
       "        0., 0., 0., 0., 0., 0., 0., 0., 0., 0., 0., 0., 0., 0., 0., 0.,\n",
       "        0., 0., 0., 0., 0., 0., 0., 0., 0., 0., 0., 0., 0., 0., 0., 0.,\n",
       "        0., 0., 0., 0., 0., 0., 0., 0., 0., 0., 0., 0., 0., 0., 0., 0.,\n",
       "        0., 0., 0., 0., 0., 0., 0., 0., 0., 0., 0., 0., 0., 0., 0., 0.,\n",
       "        0., 0., 0., 0., 0., 0., 0., 0., 0., 0., 0., 0., 0., 0., 0., 0.,\n",
       "        0., 0., 0., 0., 0., 0., 0., 0., 0., 0., 0., 0., 0., 0., 0., 0.,\n",
       "        0., 0., 0., 0., 0., 0., 0., 0., 0., 0., 0., 0., 0., 0., 0., 0.,\n",
       "        0., 0., 0., 0., 0., 0., 0., 0., 0., 0., 0., 0., 0., 0., 0., 0.,\n",
       "        0., 0., 0., 0., 0., 0., 0., 0., 0., 0., 0., 0., 0., 0., 0., 0.,\n",
       "        0., 0., 0., 0., 0., 0., 0., 0., 0., 0., 0., 0., 0., 0., 0., 0.,\n",
       "        0., 0., 0., 0., 0., 0., 0., 0., 0., 0., 0., 0., 0., 0., 0., 0.,\n",
       "        0., 0., 0., 0., 0., 0., 0., 0., 0., 0., 0., 0., 0., 0., 0., 0.,\n",
       "        0., 0., 0., 0., 0., 0., 0., 0., 0., 0., 0., 0., 0., 0., 0., 0.,\n",
       "        0., 0., 0., 0., 0., 0., 0., 0., 0., 0., 0., 0., 0., 0., 0., 0.,\n",
       "        0., 0., 0., 0., 0., 0., 0., 0., 0., 0., 0., 0., 0., 0., 0., 0.,\n",
       "        0., 0., 0., 0., 0., 0., 0., 0., 0., 0., 0., 0., 0., 0., 0., 0.,\n",
       "        0., 0., 0., 0., 0., 0., 0., 0., 0., 0., 0., 0., 0., 0., 0., 0.,\n",
       "        0., 0., 0., 0., 0., 0., 0., 0., 0., 0., 0., 0., 0., 0., 0., 0.,\n",
       "        0., 0., 0., 0., 0., 0., 0., 0., 0., 0., 0., 0., 0., 0., 0., 0.,\n",
       "        0., 0., 0., 0., 0., 0., 0., 0., 0., 0., 0., 0., 0., 0., 0., 0.,\n",
       "        0., 0., 0., 0., 0., 0., 0., 0., 0., 0., 0., 0., 0., 0., 0., 0.,\n",
       "        0., 0., 0., 0., 0., 0., 0., 0., 0., 0., 0., 0., 0., 0., 0., 0.,\n",
       "        0., 0., 0., 0., 0., 0., 0., 0., 0., 0., 0., 0., 0., 0., 0., 0.,\n",
       "        0., 0., 0., 0., 0., 0., 0., 0., 0., 0., 0., 0., 0., 0., 0., 0.,\n",
       "        0., 0., 0., 0., 0., 0., 0., 0., 0., 0., 0., 0., 0., 0., 0., 0.,\n",
       "        0., 0., 0., 0., 0., 0., 0., 0., 0., 0., 0., 0., 0., 0., 0., 0.,\n",
       "        0., 0., 0., 0., 0., 0., 0., 0., 0., 0., 0., 0., 0., 0., 0., 0.,\n",
       "        0., 0., 0., 0., 0., 0., 0., 0., 0., 0., 0., 0., 0., 0., 0., 0.,\n",
       "        0., 0., 0., 0., 0., 0., 0., 0., 0., 0., 0., 0., 0., 0., 0., 0.,\n",
       "        0., 0., 0., 0., 0., 0., 0., 0., 0., 0., 0., 0., 0., 0., 0., 0.,\n",
       "        0., 0., 0., 0., 0., 0., 0., 0., 0., 0., 0., 0., 0., 0., 0., 0.,\n",
       "        0., 0., 0., 0., 0., 0., 0., 0., 0., 0., 0., 0., 0., 0., 0., 0.,\n",
       "        0., 0., 0., 0., 0., 0., 0., 0., 0., 0., 0., 0., 0., 0., 0., 0.,\n",
       "        0., 0., 0., 0., 0., 0., 0., 0., 0., 0., 0., 0., 0., 0., 0., 0.,\n",
       "        0., 0., 0., 0., 0., 0., 0., 0., 0., 0., 0., 0., 0., 0., 0., 0.,\n",
       "        0., 0., 0., 0., 0., 0., 0., 0., 0., 0., 0., 0., 0., 0., 0., 0.,\n",
       "        0., 0., 0., 0., 0., 0., 0., 0.]])"
      ]
     },
     "execution_count": 21,
     "metadata": {},
     "output_type": "execute_result"
    }
   ],
   "source": [
    "from sklearn.preprocessing import StandardScaler\n",
    "sc = StandardScaler()\n",
    "sc.fit_transform([X])\n",
    "sc.transform([X])\n",
    "sc.fit_transform([y])\n",
    "sc.transform([y])"
   ]
  },
  {
   "cell_type": "markdown",
   "metadata": {
    "hidden": true
   },
   "source": [
    "### Min-Max Scaling"
   ]
  },
  {
   "cell_type": "code",
   "execution_count": 22,
   "metadata": {
    "hidden": true
   },
   "outputs": [
    {
     "name": "stdout",
     "output_type": "stream",
     "text": [
      "     Quantity      cogs\n",
      "0    0.666667  0.521616\n",
      "1    0.444444  0.067387\n",
      "2    0.666667  0.319628\n",
      "3    0.777778  0.463549\n",
      "4    0.666667  0.604377\n",
      "..        ...       ...\n",
      "995  0.000000  0.030707\n",
      "996  1.000000  0.980465\n",
      "997  0.000000  0.022049\n",
      "998  0.000000  0.056622\n",
      "999  0.666667  0.618835\n",
      "\n",
      "[1000 rows x 2 columns]\n"
     ]
    }
   ],
   "source": [
    "# Calculating the minimum and the maximum \n",
    "df = (df-df.min())/(df.max()-df.min())\n",
    "print(df)"
   ]
  },
  {
   "cell_type": "markdown",
   "metadata": {
    "heading_collapsed": true
   },
   "source": [
    "## Summary"
   ]
  },
  {
   "cell_type": "code",
   "execution_count": 23,
   "metadata": {
    "hidden": true
   },
   "outputs": [
    {
     "data": {
      "text/html": [
       "<div>\n",
       "<style scoped>\n",
       "    .dataframe tbody tr th:only-of-type {\n",
       "        vertical-align: middle;\n",
       "    }\n",
       "\n",
       "    .dataframe tbody tr th {\n",
       "        vertical-align: top;\n",
       "    }\n",
       "\n",
       "    .dataframe thead th {\n",
       "        text-align: right;\n",
       "    }\n",
       "</style>\n",
       "<table border=\"1\" class=\"dataframe\">\n",
       "  <thead>\n",
       "    <tr style=\"text-align: right;\">\n",
       "      <th></th>\n",
       "      <th>Quantity</th>\n",
       "      <th>cogs</th>\n",
       "    </tr>\n",
       "  </thead>\n",
       "  <tbody>\n",
       "    <tr>\n",
       "      <th>144</th>\n",
       "      <td>0.555556</td>\n",
       "      <td>0.465523</td>\n",
       "    </tr>\n",
       "    <tr>\n",
       "      <th>810</th>\n",
       "      <td>0.777778</td>\n",
       "      <td>0.077155</td>\n",
       "    </tr>\n",
       "    <tr>\n",
       "      <th>374</th>\n",
       "      <td>0.444444</td>\n",
       "      <td>0.330963</td>\n",
       "    </tr>\n",
       "  </tbody>\n",
       "</table>\n",
       "</div>"
      ],
      "text/plain": [
       "     Quantity      cogs\n",
       "144  0.555556  0.465523\n",
       "810  0.777778  0.077155\n",
       "374  0.444444  0.330963"
      ]
     },
     "execution_count": 23,
     "metadata": {},
     "output_type": "execute_result"
    }
   ],
   "source": [
    "df.sample(3)"
   ]
  },
  {
   "cell_type": "code",
   "execution_count": 24,
   "metadata": {
    "hidden": true
   },
   "outputs": [
    {
     "data": {
      "image/png": "[encoded data removed]",
      "text/plain": [
       "<Figure size 432x288 with 1 Axes>"
      ]
     },
     "metadata": {
      "needs_background": "light"
     },
     "output_type": "display_data"
    }
   ],
   "source": [
    "sns.kdeplot(\n",
    "   data=df, x=\"Quantity\",\n",
    "   fill=True, common_norm=False, palette=\"crest\",\n",
    "   alpha=.5, linewidth=0,\n",
    ")\n",
    "plt.show()"
   ]
  },
  {
   "cell_type": "code",
   "execution_count": 25,
   "metadata": {
    "hidden": true
   },
   "outputs": [
    {
     "data": {
      "image/png": "[encoded data removed]",
      "text/plain": [
       "<Figure size 432x288 with 1 Axes>"
      ]
     },
     "metadata": {
      "needs_background": "light"
     },
     "output_type": "display_data"
    }
   ],
   "source": [
    "sns.kdeplot(\n",
    "   data=df, x=\"cogs\",\n",
    "   fill=True, common_norm=False, palette=\"crest\",\n",
    "   alpha=.5, linewidth=0,\n",
    ")\n",
    "plt.show()"
   ]
  },
  {
   "cell_type": "code",
   "execution_count": null,
   "metadata": {
    "hidden": true
   },
   "outputs": [],
   "source": []
  }
 ],
 "metadata": {
  "kernelspec": {
   "display_name": "Python 3",
   "language": "python",
   "name": "python3"
  },
  "language_info": {
   "codemirror_mode": {
    "name": "ipython",
    "version": 3
   },
   "file_extension": ".py",
   "mimetype": "text/x-python",
   "name": "python",
   "nbconvert_exporter": "python",
   "pygments_lexer": "ipython3",
   "version": "3.8.5"
  }
 },
 "nbformat": 4,
 "nbformat_minor": 4
}
