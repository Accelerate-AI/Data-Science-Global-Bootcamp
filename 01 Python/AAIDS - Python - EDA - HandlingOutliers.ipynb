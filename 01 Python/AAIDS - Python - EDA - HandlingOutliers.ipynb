{
 "cells": [
  {
   "cell_type": "markdown",
   "metadata": {},
   "source": [
    "# AccelerateAI : Data Science Bootcamp"
   ]
  },
  {
   "cell_type": "markdown",
   "metadata": {
    "heading_collapsed": true
   },
   "source": [
    "## Handling Outliers - Intro"
   ]
  },
  {
   "cell_type": "markdown",
   "metadata": {
    "hidden": true
   },
   "source": [
    "**Different Methods:**\n",
    "- z-Score or Standard Score\n",
    "- LOF (Local Outlier Factor)\n",
    "- Geometric (Angle based and Depth based)\n",
    "- Isolation Forest\n",
    "- ODIN"
   ]
  },
  {
   "cell_type": "markdown",
   "metadata": {
    "hidden": true
   },
   "source": [
    "**Packages in Python:**"
   ]
  },
  {
   "cell_type": "markdown",
   "metadata": {
    "hidden": true
   },
   "source": [
    "There are different methods to detect and handle outliers. PyOD, package_outlier, PyNomaly, sklearn, alibi-detect etc in Python can be used for detection of various methods for outlier detection.\n",
    "\n",
    "**Example: Package_outlier:**\n",
    "\n",
    "Assume data is your desired dataset / dataframe that you are trying to analyze for outliers. You can leverage package_outliers library to detect outliers.\n",
    "\n",
    "- import package_outlier as po\n",
    "- result = po.ZscoreOutlier(data)\n",
    "- result = po.ModifiedZscoreOutlier(data)\n",
    "- result = po.LocalOutlierFactorOutlier(data)\n",
    "- result = po.DepthOutlier(data)\n",
    "- result = po.KmeansOutlier(data)\n",
    "- result = po.OdinOutlier(data)\n",
    "- result = po.RegressionOutlier(data)\n",
    "- result = po.SvmOutlier(data)\n",
    "- result = po.PcaOutlier(data)\n",
    "- result = po.KnnOutlier(data)\n",
    "- result = po.AngleOutlier(data)"
   ]
  },
  {
   "cell_type": "markdown",
   "metadata": {
    "heading_collapsed": true
   },
   "source": [
    "## 1. Z-score "
   ]
  },
  {
   "cell_type": "markdown",
   "metadata": {
    "hidden": true
   },
   "source": [
    "Zscore is a common method to detect anomaly in 1-D. For a given data point zscore is calculated by:\n",
    "zscore = data_point - mean / std_dev"
   ]
  },
  {
   "cell_type": "markdown",
   "metadata": {
    "heading_collapsed": true,
    "hidden": true
   },
   "source": [
    "### Using conventional computation"
   ]
  },
  {
   "cell_type": "code",
   "execution_count": 1,
   "metadata": {
    "hidden": true
   },
   "outputs": [],
   "source": [
    "# Libraries used\n",
    "import numpy as np\n",
    "import scipy.stats as stats\n",
    "\n",
    "import warnings\n",
    "warnings.filterwarnings('ignore')"
   ]
  },
  {
   "cell_type": "code",
   "execution_count": 2,
   "metadata": {
    "hidden": true
   },
   "outputs": [],
   "source": [
    "# Sample data\n",
    "data = [1, 2, 3, 2, 1, 80, 1, 2, 3, 2, 1]"
   ]
  },
  {
   "cell_type": "code",
   "execution_count": 3,
   "metadata": {
    "hidden": true
   },
   "outputs": [
    {
     "name": "stdout",
     "output_type": "stream",
     "text": [
      "[-0.35163644 -0.30717666 -0.26271688 -0.30717666 -0.35163644  3.16068615\n",
      " -0.35163644 -0.30717666 -0.26271688 -0.30717666 -0.35163644]\n"
     ]
    }
   ],
   "source": [
    "# Calculate the z-score from scipy\n",
    "zscores = stats.zscore(data)\n",
    "print(zscores)"
   ]
  },
  {
   "cell_type": "code",
   "execution_count": 4,
   "metadata": {
    "hidden": true
   },
   "outputs": [
    {
     "name": "stdout",
     "output_type": "stream",
     "text": [
      "[80]\n"
     ]
    }
   ],
   "source": [
    "# Add the SD based threshold to be computed\n",
    "threshold = 3\n",
    "\n",
    "mean = np.mean(data)\n",
    "std = np.std(data)\n",
    "\n",
    "z_score_outlier = [i for i in data if (i-mean)/std > threshold]\n",
    "print (z_score_outlier)"
   ]
  },
  {
   "cell_type": "code",
   "execution_count": 5,
   "metadata": {
    "hidden": true
   },
   "outputs": [
    {
     "data": {
      "text/plain": [
       "22.49223924926731"
      ]
     },
     "execution_count": 5,
     "metadata": {},
     "output_type": "execute_result"
    }
   ],
   "source": [
    "# Display the Standard Deviation\n",
    "std"
   ]
  },
  {
   "cell_type": "code",
   "execution_count": 6,
   "metadata": {
    "hidden": true
   },
   "outputs": [
    {
     "name": "stdout",
     "output_type": "stream",
     "text": [
      "[-0.3516364387484696, -0.30717665913659414, -0.26271687952471867, -0.30717665913659414, -0.3516364387484696, 3.160686150589693, -0.3516364387484696, -0.30717665913659414, -0.26271687952471867, -0.30717665913659414, -0.3516364387484696]\n"
     ]
    }
   ],
   "source": [
    "# Calculate the z-score from scratch\n",
    "zscores = [(value - mean) / std for value in data]\n",
    "\n",
    "print(zscores)"
   ]
  },
  {
   "cell_type": "markdown",
   "metadata": {
    "heading_collapsed": true,
    "hidden": true
   },
   "source": [
    "### Using in-built package"
   ]
  },
  {
   "cell_type": "code",
   "execution_count": 7,
   "metadata": {
    "hidden": true
   },
   "outputs": [
    {
     "data": {
      "text/plain": [
       "[80]"
      ]
     },
     "execution_count": 7,
     "metadata": {},
     "output_type": "execute_result"
    }
   ],
   "source": [
    "import package_outlier as po # This is pypi package for outlier detection (check how it is detected)\n",
    "result = po.ZscoreOutlier(data)\n",
    "\n",
    "result"
   ]
  },
  {
   "cell_type": "markdown",
   "metadata": {
    "heading_collapsed": true,
    "hidden": true
   },
   "source": [
    "### Modified Zscore based outlier detection"
   ]
  },
  {
   "cell_type": "markdown",
   "metadata": {
    "hidden": true
   },
   "source": [
    "Mean and standard deviation are themselves prone to outliers that's why we use median instead of mean and median absolute deviation instead of mean absolute deviation.\n",
    "\n",
    "Consider the data (1, 1, 2, 2, 4, 6, 9). It has a median value of 2. The absolute deviations about 2 are (1, 1, 0, 0, 2, 4, 9) which in turn have a median value of 1 (because the sorted absolute deviations are (0, 0, 1, 1, 2, 4, 7)). So the median absolute deviation for this data is 1."
   ]
  },
  {
   "cell_type": "code",
   "execution_count": 8,
   "metadata": {
    "hidden": true
   },
   "outputs": [
    {
     "data": {
      "text/plain": [
       "[1, 1, 2, 2, 4, 6, 11]"
      ]
     },
     "execution_count": 8,
     "metadata": {},
     "output_type": "execute_result"
    }
   ],
   "source": [
    "data_modified = [1,1,2,2,4,6,11]\n",
    "\n",
    "data_modified"
   ]
  },
  {
   "cell_type": "code",
   "execution_count": 9,
   "metadata": {
    "hidden": true
   },
   "outputs": [
    {
     "data": {
      "text/plain": [
       "2.0"
      ]
     },
     "execution_count": 9,
     "metadata": {},
     "output_type": "execute_result"
    }
   ],
   "source": [
    "median_modified = np.median(data_modified)\n",
    "median_modified"
   ]
  },
  {
   "cell_type": "code",
   "execution_count": 10,
   "metadata": {
    "hidden": true
   },
   "outputs": [
    {
     "data": {
      "text/plain": [
       "3.857142857142857"
      ]
     },
     "execution_count": 10,
     "metadata": {},
     "output_type": "execute_result"
    }
   ],
   "source": [
    "mean_modified = np.mean(data_modified)\n",
    "\n",
    "mean_modified"
   ]
  },
  {
   "cell_type": "code",
   "execution_count": 11,
   "metadata": {
    "hidden": true
   },
   "outputs": [
    {
     "data": {
      "text/plain": [
       "[11]"
      ]
     },
     "execution_count": 11,
     "metadata": {},
     "output_type": "execute_result"
    }
   ],
   "source": [
    "result = po.ModifiedZscoreOutlier(data_modified)\n",
    "\n",
    "result"
   ]
  },
  {
   "cell_type": "markdown",
   "metadata": {
    "heading_collapsed": true
   },
   "source": [
    "## 2. LOF"
   ]
  },
  {
   "cell_type": "markdown",
   "metadata": {
    "hidden": true
   },
   "source": [
    "Unsupervised Outlier Detection using the Local Outlier Factor (LOF).\n",
    "\n",
    "The anomaly score of each sample is called the Local Outlier Factor. It measures the local deviation of the density of a given sample with respect to its neighbors. It is local in that the anomaly score depends on how isolated the object is with respect to the surrounding neighborhood. More precisely, locality is given by k-nearest neighbors, whose distance is used to estimate the local density. By comparing the local density of a sample to the local densities of its neighbors, one can identify samples that have a substantially lower density than their neighbors. These are considered outliers."
   ]
  },
  {
   "cell_type": "markdown",
   "metadata": {
    "heading_collapsed": true,
    "hidden": true
   },
   "source": [
    "### Using sklearn library"
   ]
  },
  {
   "cell_type": "code",
   "execution_count": 12,
   "metadata": {
    "hidden": true
   },
   "outputs": [],
   "source": [
    "from sklearn.neighbors import LocalOutlierFactor\n",
    "\n",
    "data = [[-1.1], [0.2], [101.1], [0.3]]\n"
   ]
  },
  {
   "cell_type": "code",
   "execution_count": 13,
   "metadata": {
    "hidden": true
   },
   "outputs": [
    {
     "data": {
      "text/plain": [
       "array([ 1,  1, -1,  1])"
      ]
     },
     "execution_count": 13,
     "metadata": {},
     "output_type": "execute_result"
    }
   ],
   "source": [
    "# parameter: n_neighbors => Number of neighbors to use by default for kneighbors queries. \n",
    "# If n_neighbors is larger than the number of samples provided, all samples will be used.\n",
    "# parameter: metric => can be any of the distance measures\n",
    "\n",
    "clf = LocalOutlierFactor(n_neighbors=2, metric='euclidean')\n",
    "clf.fit_predict(data)"
   ]
  },
  {
   "cell_type": "markdown",
   "metadata": {
    "hidden": true
   },
   "source": [
    "from scikit-learn: [‘cityblock’, ‘cosine’, ‘euclidean’, ‘l1’, ‘l2’, ‘manhattan’]\n",
    "\n",
    "from scipy.spatial.distance: [‘braycurtis’, ‘canberra’, ‘chebyshev’, ‘correlation’, ‘dice’, ‘hamming’, ‘jaccard’, ‘kulsinski’, ‘mahalanobis’, ‘minkowski’, ‘rogerstanimoto’, ‘russellrao’, ‘seuclidean’, ‘sokalmichener’, ‘sokalsneath’, ‘sqeuclidean’, ‘yule’]\n",
    "\n",
    "You can refer to documentation for scipy.spatial.distance for details on these metrics: https://docs.scipy.org/doc/scipy/reference/spatial.distance.html."
   ]
  },
  {
   "cell_type": "code",
   "execution_count": 14,
   "metadata": {
    "hidden": true
   },
   "outputs": [
    {
     "data": {
      "text/plain": [
       "array([ -0.9821,  -1.037 , -73.3697,  -0.9821])"
      ]
     },
     "execution_count": 14,
     "metadata": {},
     "output_type": "execute_result"
    }
   ],
   "source": [
    "clf.negative_outlier_factor_"
   ]
  },
  {
   "cell_type": "code",
   "execution_count": 15,
   "metadata": {
    "hidden": true
   },
   "outputs": [
    {
     "data": {
      "text/plain": [
       "array([ 1,  1, -1,  1])"
      ]
     },
     "execution_count": 15,
     "metadata": {},
     "output_type": "execute_result"
    }
   ],
   "source": [
    "lof = LocalOutlierFactor(n_neighbors=2, metric='euclidean')\n",
    "prediction = lof.fit_predict(data)\n",
    "prediction"
   ]
  },
  {
   "cell_type": "markdown",
   "metadata": {
    "heading_collapsed": true,
    "hidden": true
   },
   "source": [
    "### Another example using sklearn with mpg dataset"
   ]
  },
  {
   "cell_type": "code",
   "execution_count": 16,
   "metadata": {
    "hidden": true
   },
   "outputs": [],
   "source": [
    "import pandas as pd\n",
    "import seaborn as sns\n",
    "from sklearn.neighbors import LocalOutlierFactor\n",
    "mpg = sns.load_dataset('mpg')"
   ]
  },
  {
   "cell_type": "code",
   "execution_count": 17,
   "metadata": {
    "hidden": true
   },
   "outputs": [
    {
     "data": {
      "text/html": [
       "<div>\n",
       "<style scoped>\n",
       "    .dataframe tbody tr th:only-of-type {\n",
       "        vertical-align: middle;\n",
       "    }\n",
       "\n",
       "    .dataframe tbody tr th {\n",
       "        vertical-align: top;\n",
       "    }\n",
       "\n",
       "    .dataframe thead th {\n",
       "        text-align: right;\n",
       "    }\n",
       "</style>\n",
       "<table border=\"1\" class=\"dataframe\">\n",
       "  <thead>\n",
       "    <tr style=\"text-align: right;\">\n",
       "      <th></th>\n",
       "      <th>mpg</th>\n",
       "      <th>cylinders</th>\n",
       "      <th>displacement</th>\n",
       "      <th>horsepower</th>\n",
       "      <th>weight</th>\n",
       "      <th>acceleration</th>\n",
       "      <th>model_year</th>\n",
       "      <th>origin</th>\n",
       "      <th>name</th>\n",
       "    </tr>\n",
       "  </thead>\n",
       "  <tbody>\n",
       "    <tr>\n",
       "      <th>376</th>\n",
       "      <td>37.0</td>\n",
       "      <td>4</td>\n",
       "      <td>91.0</td>\n",
       "      <td>68.0</td>\n",
       "      <td>2025</td>\n",
       "      <td>18.2</td>\n",
       "      <td>82</td>\n",
       "      <td>japan</td>\n",
       "      <td>mazda glc custom l</td>\n",
       "    </tr>\n",
       "    <tr>\n",
       "      <th>106</th>\n",
       "      <td>12.0</td>\n",
       "      <td>8</td>\n",
       "      <td>350.0</td>\n",
       "      <td>180.0</td>\n",
       "      <td>4499</td>\n",
       "      <td>12.5</td>\n",
       "      <td>73</td>\n",
       "      <td>usa</td>\n",
       "      <td>oldsmobile vista cruiser</td>\n",
       "    </tr>\n",
       "    <tr>\n",
       "      <th>390</th>\n",
       "      <td>32.0</td>\n",
       "      <td>4</td>\n",
       "      <td>144.0</td>\n",
       "      <td>96.0</td>\n",
       "      <td>2665</td>\n",
       "      <td>13.9</td>\n",
       "      <td>82</td>\n",
       "      <td>japan</td>\n",
       "      <td>toyota celica gt</td>\n",
       "    </tr>\n",
       "    <tr>\n",
       "      <th>165</th>\n",
       "      <td>20.0</td>\n",
       "      <td>8</td>\n",
       "      <td>262.0</td>\n",
       "      <td>110.0</td>\n",
       "      <td>3221</td>\n",
       "      <td>13.5</td>\n",
       "      <td>75</td>\n",
       "      <td>usa</td>\n",
       "      <td>chevrolet monza 2+2</td>\n",
       "    </tr>\n",
       "  </tbody>\n",
       "</table>\n",
       "</div>"
      ],
      "text/plain": [
       "      mpg  cylinders  displacement  horsepower  weight  acceleration  \\\n",
       "376  37.0          4          91.0        68.0    2025          18.2   \n",
       "106  12.0          8         350.0       180.0    4499          12.5   \n",
       "390  32.0          4         144.0        96.0    2665          13.9   \n",
       "165  20.0          8         262.0       110.0    3221          13.5   \n",
       "\n",
       "     model_year origin                      name  \n",
       "376          82  japan        mazda glc custom l  \n",
       "106          73    usa  oldsmobile vista cruiser  \n",
       "390          82  japan          toyota celica gt  \n",
       "165          75    usa       chevrolet monza 2+2  "
      ]
     },
     "execution_count": 17,
     "metadata": {},
     "output_type": "execute_result"
    }
   ],
   "source": [
    "mpg.sample(4)"
   ]
  },
  {
   "cell_type": "code",
   "execution_count": 18,
   "metadata": {
    "hidden": true
   },
   "outputs": [],
   "source": [
    "mpg = mpg.fillna(method='pad')"
   ]
  },
  {
   "cell_type": "code",
   "execution_count": 19,
   "metadata": {
    "hidden": true
   },
   "outputs": [
    {
     "data": {
      "text/html": [
       "<div>\n",
       "<style scoped>\n",
       "    .dataframe tbody tr th:only-of-type {\n",
       "        vertical-align: middle;\n",
       "    }\n",
       "\n",
       "    .dataframe tbody tr th {\n",
       "        vertical-align: top;\n",
       "    }\n",
       "\n",
       "    .dataframe thead th {\n",
       "        text-align: right;\n",
       "    }\n",
       "</style>\n",
       "<table border=\"1\" class=\"dataframe\">\n",
       "  <thead>\n",
       "    <tr style=\"text-align: right;\">\n",
       "      <th></th>\n",
       "      <th>mpg</th>\n",
       "      <th>cylinders</th>\n",
       "      <th>displacement</th>\n",
       "      <th>horsepower</th>\n",
       "      <th>weight</th>\n",
       "      <th>acceleration</th>\n",
       "      <th>model_year</th>\n",
       "      <th>origin</th>\n",
       "      <th>name</th>\n",
       "      <th>lof</th>\n",
       "      <th>negative_outlier_factor</th>\n",
       "    </tr>\n",
       "  </thead>\n",
       "  <tbody>\n",
       "    <tr>\n",
       "      <th>0</th>\n",
       "      <td>18.0</td>\n",
       "      <td>8</td>\n",
       "      <td>307.0</td>\n",
       "      <td>130.0</td>\n",
       "      <td>3504</td>\n",
       "      <td>12.0</td>\n",
       "      <td>70</td>\n",
       "      <td>usa</td>\n",
       "      <td>chevrolet chevelle malibu</td>\n",
       "      <td>1</td>\n",
       "      <td>-1.059168</td>\n",
       "    </tr>\n",
       "    <tr>\n",
       "      <th>1</th>\n",
       "      <td>15.0</td>\n",
       "      <td>8</td>\n",
       "      <td>350.0</td>\n",
       "      <td>165.0</td>\n",
       "      <td>3693</td>\n",
       "      <td>11.5</td>\n",
       "      <td>70</td>\n",
       "      <td>usa</td>\n",
       "      <td>buick skylark 320</td>\n",
       "      <td>1</td>\n",
       "      <td>-1.002389</td>\n",
       "    </tr>\n",
       "    <tr>\n",
       "      <th>2</th>\n",
       "      <td>18.0</td>\n",
       "      <td>8</td>\n",
       "      <td>318.0</td>\n",
       "      <td>150.0</td>\n",
       "      <td>3436</td>\n",
       "      <td>11.0</td>\n",
       "      <td>70</td>\n",
       "      <td>usa</td>\n",
       "      <td>plymouth satellite</td>\n",
       "      <td>1</td>\n",
       "      <td>-1.020426</td>\n",
       "    </tr>\n",
       "    <tr>\n",
       "      <th>3</th>\n",
       "      <td>16.0</td>\n",
       "      <td>8</td>\n",
       "      <td>304.0</td>\n",
       "      <td>150.0</td>\n",
       "      <td>3433</td>\n",
       "      <td>12.0</td>\n",
       "      <td>70</td>\n",
       "      <td>usa</td>\n",
       "      <td>amc rebel sst</td>\n",
       "      <td>1</td>\n",
       "      <td>-0.986678</td>\n",
       "    </tr>\n",
       "    <tr>\n",
       "      <th>4</th>\n",
       "      <td>17.0</td>\n",
       "      <td>8</td>\n",
       "      <td>302.0</td>\n",
       "      <td>140.0</td>\n",
       "      <td>3449</td>\n",
       "      <td>10.5</td>\n",
       "      <td>70</td>\n",
       "      <td>usa</td>\n",
       "      <td>ford torino</td>\n",
       "      <td>1</td>\n",
       "      <td>-0.985915</td>\n",
       "    </tr>\n",
       "    <tr>\n",
       "      <th>...</th>\n",
       "      <td>...</td>\n",
       "      <td>...</td>\n",
       "      <td>...</td>\n",
       "      <td>...</td>\n",
       "      <td>...</td>\n",
       "      <td>...</td>\n",
       "      <td>...</td>\n",
       "      <td>...</td>\n",
       "      <td>...</td>\n",
       "      <td>...</td>\n",
       "      <td>...</td>\n",
       "    </tr>\n",
       "    <tr>\n",
       "      <th>393</th>\n",
       "      <td>27.0</td>\n",
       "      <td>4</td>\n",
       "      <td>140.0</td>\n",
       "      <td>86.0</td>\n",
       "      <td>2790</td>\n",
       "      <td>15.6</td>\n",
       "      <td>82</td>\n",
       "      <td>usa</td>\n",
       "      <td>ford mustang gl</td>\n",
       "      <td>1</td>\n",
       "      <td>-1.032756</td>\n",
       "    </tr>\n",
       "    <tr>\n",
       "      <th>394</th>\n",
       "      <td>44.0</td>\n",
       "      <td>4</td>\n",
       "      <td>97.0</td>\n",
       "      <td>52.0</td>\n",
       "      <td>2130</td>\n",
       "      <td>24.6</td>\n",
       "      <td>82</td>\n",
       "      <td>europe</td>\n",
       "      <td>vw pickup</td>\n",
       "      <td>1</td>\n",
       "      <td>-0.990920</td>\n",
       "    </tr>\n",
       "    <tr>\n",
       "      <th>395</th>\n",
       "      <td>32.0</td>\n",
       "      <td>4</td>\n",
       "      <td>135.0</td>\n",
       "      <td>84.0</td>\n",
       "      <td>2295</td>\n",
       "      <td>11.6</td>\n",
       "      <td>82</td>\n",
       "      <td>usa</td>\n",
       "      <td>dodge rampage</td>\n",
       "      <td>1</td>\n",
       "      <td>-1.084042</td>\n",
       "    </tr>\n",
       "    <tr>\n",
       "      <th>396</th>\n",
       "      <td>28.0</td>\n",
       "      <td>4</td>\n",
       "      <td>120.0</td>\n",
       "      <td>79.0</td>\n",
       "      <td>2625</td>\n",
       "      <td>18.6</td>\n",
       "      <td>82</td>\n",
       "      <td>usa</td>\n",
       "      <td>ford ranger</td>\n",
       "      <td>1</td>\n",
       "      <td>-0.964386</td>\n",
       "    </tr>\n",
       "    <tr>\n",
       "      <th>397</th>\n",
       "      <td>31.0</td>\n",
       "      <td>4</td>\n",
       "      <td>119.0</td>\n",
       "      <td>82.0</td>\n",
       "      <td>2720</td>\n",
       "      <td>19.4</td>\n",
       "      <td>82</td>\n",
       "      <td>usa</td>\n",
       "      <td>chevy s-10</td>\n",
       "      <td>1</td>\n",
       "      <td>-1.013582</td>\n",
       "    </tr>\n",
       "  </tbody>\n",
       "</table>\n",
       "<p>398 rows × 11 columns</p>\n",
       "</div>"
      ],
      "text/plain": [
       "      mpg  cylinders  displacement  horsepower  weight  acceleration  \\\n",
       "0    18.0          8         307.0       130.0    3504          12.0   \n",
       "1    15.0          8         350.0       165.0    3693          11.5   \n",
       "2    18.0          8         318.0       150.0    3436          11.0   \n",
       "3    16.0          8         304.0       150.0    3433          12.0   \n",
       "4    17.0          8         302.0       140.0    3449          10.5   \n",
       "..    ...        ...           ...         ...     ...           ...   \n",
       "393  27.0          4         140.0        86.0    2790          15.6   \n",
       "394  44.0          4          97.0        52.0    2130          24.6   \n",
       "395  32.0          4         135.0        84.0    2295          11.6   \n",
       "396  28.0          4         120.0        79.0    2625          18.6   \n",
       "397  31.0          4         119.0        82.0    2720          19.4   \n",
       "\n",
       "     model_year  origin                       name  lof  \\\n",
       "0            70     usa  chevrolet chevelle malibu    1   \n",
       "1            70     usa          buick skylark 320    1   \n",
       "2            70     usa         plymouth satellite    1   \n",
       "3            70     usa              amc rebel sst    1   \n",
       "4            70     usa                ford torino    1   \n",
       "..          ...     ...                        ...  ...   \n",
       "393          82     usa            ford mustang gl    1   \n",
       "394          82  europe                  vw pickup    1   \n",
       "395          82     usa              dodge rampage    1   \n",
       "396          82     usa                ford ranger    1   \n",
       "397          82     usa                 chevy s-10    1   \n",
       "\n",
       "     negative_outlier_factor  \n",
       "0                  -1.059168  \n",
       "1                  -1.002389  \n",
       "2                  -1.020426  \n",
       "3                  -0.986678  \n",
       "4                  -0.985915  \n",
       "..                       ...  \n",
       "393                -1.032756  \n",
       "394                -0.990920  \n",
       "395                -1.084042  \n",
       "396                -0.964386  \n",
       "397                -1.013582  \n",
       "\n",
       "[398 rows x 11 columns]"
      ]
     },
     "execution_count": 19,
     "metadata": {},
     "output_type": "execute_result"
    }
   ],
   "source": [
    "# Setting up the model. K is set by passing the n_neighbors parameter with integer. \n",
    "# 20 is often considered good already to detect an outlier. By default the distance metric is Euclidean distance.\n",
    "lof = LocalOutlierFactor(n_neighbors = 20)\n",
    "\n",
    "# Training the model, we drop few columns that was not a continuous variable\n",
    "mpg['lof'] = lof.fit_predict(mpg.drop(['cylinders', 'model_year', 'origin', 'name'], axis = 1))\n",
    "\n",
    "# Getting the negative LOF score\n",
    "mpg['negative_outlier_factor'] = lof.negative_outlier_factor_\n",
    "mpg"
   ]
  },
  {
   "cell_type": "markdown",
   "metadata": {
    "hidden": true
   },
   "source": [
    "Below is the result, where we get the LOF classification and negative LOF score. If lof equal to 1, then it is considered as an inlier; if it is -1, then it is an outlier. Let’s try to get all the outlier data."
   ]
  },
  {
   "cell_type": "code",
   "execution_count": 20,
   "metadata": {
    "hidden": true
   },
   "outputs": [
    {
     "data": {
      "text/html": [
       "<div>\n",
       "<style scoped>\n",
       "    .dataframe tbody tr th:only-of-type {\n",
       "        vertical-align: middle;\n",
       "    }\n",
       "\n",
       "    .dataframe tbody tr th {\n",
       "        vertical-align: top;\n",
       "    }\n",
       "\n",
       "    .dataframe thead th {\n",
       "        text-align: right;\n",
       "    }\n",
       "</style>\n",
       "<table border=\"1\" class=\"dataframe\">\n",
       "  <thead>\n",
       "    <tr style=\"text-align: right;\">\n",
       "      <th></th>\n",
       "      <th>mpg</th>\n",
       "      <th>cylinders</th>\n",
       "      <th>displacement</th>\n",
       "      <th>horsepower</th>\n",
       "      <th>weight</th>\n",
       "      <th>acceleration</th>\n",
       "      <th>model_year</th>\n",
       "      <th>origin</th>\n",
       "      <th>name</th>\n",
       "      <th>lof</th>\n",
       "      <th>negative_outlier_factor</th>\n",
       "    </tr>\n",
       "  </thead>\n",
       "  <tbody>\n",
       "    <tr>\n",
       "      <th>13</th>\n",
       "      <td>14.0</td>\n",
       "      <td>8</td>\n",
       "      <td>455.0</td>\n",
       "      <td>225.0</td>\n",
       "      <td>3086</td>\n",
       "      <td>10.0</td>\n",
       "      <td>70</td>\n",
       "      <td>usa</td>\n",
       "      <td>buick estate wagon (sw)</td>\n",
       "      <td>-1</td>\n",
       "      <td>-2.315950</td>\n",
       "    </tr>\n",
       "    <tr>\n",
       "      <th>42</th>\n",
       "      <td>12.0</td>\n",
       "      <td>8</td>\n",
       "      <td>383.0</td>\n",
       "      <td>180.0</td>\n",
       "      <td>4955</td>\n",
       "      <td>11.5</td>\n",
       "      <td>71</td>\n",
       "      <td>usa</td>\n",
       "      <td>dodge monaco (sw)</td>\n",
       "      <td>-1</td>\n",
       "      <td>-1.614997</td>\n",
       "    </tr>\n",
       "    <tr>\n",
       "      <th>44</th>\n",
       "      <td>13.0</td>\n",
       "      <td>8</td>\n",
       "      <td>400.0</td>\n",
       "      <td>175.0</td>\n",
       "      <td>5140</td>\n",
       "      <td>12.0</td>\n",
       "      <td>71</td>\n",
       "      <td>usa</td>\n",
       "      <td>pontiac safari (sw)</td>\n",
       "      <td>-1</td>\n",
       "      <td>-2.105323</td>\n",
       "    </tr>\n",
       "    <tr>\n",
       "      <th>54</th>\n",
       "      <td>35.0</td>\n",
       "      <td>4</td>\n",
       "      <td>72.0</td>\n",
       "      <td>69.0</td>\n",
       "      <td>1613</td>\n",
       "      <td>18.0</td>\n",
       "      <td>71</td>\n",
       "      <td>japan</td>\n",
       "      <td>datsun 1200</td>\n",
       "      <td>-1</td>\n",
       "      <td>-2.049279</td>\n",
       "    </tr>\n",
       "    <tr>\n",
       "      <th>90</th>\n",
       "      <td>12.0</td>\n",
       "      <td>8</td>\n",
       "      <td>429.0</td>\n",
       "      <td>198.0</td>\n",
       "      <td>4952</td>\n",
       "      <td>11.5</td>\n",
       "      <td>73</td>\n",
       "      <td>usa</td>\n",
       "      <td>mercury marquis brougham</td>\n",
       "      <td>-1</td>\n",
       "      <td>-1.621830</td>\n",
       "    </tr>\n",
       "    <tr>\n",
       "      <th>95</th>\n",
       "      <td>12.0</td>\n",
       "      <td>8</td>\n",
       "      <td>455.0</td>\n",
       "      <td>225.0</td>\n",
       "      <td>4951</td>\n",
       "      <td>11.0</td>\n",
       "      <td>73</td>\n",
       "      <td>usa</td>\n",
       "      <td>buick electra 225 custom</td>\n",
       "      <td>-1</td>\n",
       "      <td>-1.640116</td>\n",
       "    </tr>\n",
       "    <tr>\n",
       "      <th>103</th>\n",
       "      <td>11.0</td>\n",
       "      <td>8</td>\n",
       "      <td>400.0</td>\n",
       "      <td>150.0</td>\n",
       "      <td>4997</td>\n",
       "      <td>14.0</td>\n",
       "      <td>73</td>\n",
       "      <td>usa</td>\n",
       "      <td>chevrolet impala</td>\n",
       "      <td>-1</td>\n",
       "      <td>-1.711404</td>\n",
       "    </tr>\n",
       "    <tr>\n",
       "      <th>104</th>\n",
       "      <td>12.0</td>\n",
       "      <td>8</td>\n",
       "      <td>400.0</td>\n",
       "      <td>167.0</td>\n",
       "      <td>4906</td>\n",
       "      <td>12.5</td>\n",
       "      <td>73</td>\n",
       "      <td>usa</td>\n",
       "      <td>ford country</td>\n",
       "      <td>-1</td>\n",
       "      <td>-1.523431</td>\n",
       "    </tr>\n",
       "    <tr>\n",
       "      <th>144</th>\n",
       "      <td>31.0</td>\n",
       "      <td>4</td>\n",
       "      <td>76.0</td>\n",
       "      <td>52.0</td>\n",
       "      <td>1649</td>\n",
       "      <td>16.5</td>\n",
       "      <td>74</td>\n",
       "      <td>japan</td>\n",
       "      <td>toyota corona</td>\n",
       "      <td>-1</td>\n",
       "      <td>-1.793795</td>\n",
       "    </tr>\n",
       "  </tbody>\n",
       "</table>\n",
       "</div>"
      ],
      "text/plain": [
       "      mpg  cylinders  displacement  horsepower  weight  acceleration  \\\n",
       "13   14.0          8         455.0       225.0    3086          10.0   \n",
       "42   12.0          8         383.0       180.0    4955          11.5   \n",
       "44   13.0          8         400.0       175.0    5140          12.0   \n",
       "54   35.0          4          72.0        69.0    1613          18.0   \n",
       "90   12.0          8         429.0       198.0    4952          11.5   \n",
       "95   12.0          8         455.0       225.0    4951          11.0   \n",
       "103  11.0          8         400.0       150.0    4997          14.0   \n",
       "104  12.0          8         400.0       167.0    4906          12.5   \n",
       "144  31.0          4          76.0        52.0    1649          16.5   \n",
       "\n",
       "     model_year origin                      name  lof  negative_outlier_factor  \n",
       "13           70    usa   buick estate wagon (sw)   -1                -2.315950  \n",
       "42           71    usa         dodge monaco (sw)   -1                -1.614997  \n",
       "44           71    usa       pontiac safari (sw)   -1                -2.105323  \n",
       "54           71  japan               datsun 1200   -1                -2.049279  \n",
       "90           73    usa  mercury marquis brougham   -1                -1.621830  \n",
       "95           73    usa  buick electra 225 custom   -1                -1.640116  \n",
       "103          73    usa          chevrolet impala   -1                -1.711404  \n",
       "104          73    usa              ford country   -1                -1.523431  \n",
       "144          74  japan             toyota corona   -1                -1.793795  "
      ]
     },
     "execution_count": 20,
     "metadata": {},
     "output_type": "execute_result"
    }
   ],
   "source": [
    "mpg[mpg['lof'] == -1]"
   ]
  },
  {
   "cell_type": "markdown",
   "metadata": {
    "hidden": true
   },
   "source": [
    "The contamination or outlier depends on the LOF score. By default, if the score of the negative_outlier_score is less than -1.5, it would be considered as the outlier.\n"
   ]
  },
  {
   "cell_type": "code",
   "execution_count": null,
   "metadata": {
    "hidden": true
   },
   "outputs": [],
   "source": []
  },
  {
   "cell_type": "markdown",
   "metadata": {
    "heading_collapsed": true,
    "hidden": true
   },
   "source": [
    "### Using Package_Outlier library"
   ]
  },
  {
   "cell_type": "code",
   "execution_count": 21,
   "metadata": {
    "hidden": true
   },
   "outputs": [
    {
     "data": {
      "text/plain": [
       "[]"
      ]
     },
     "execution_count": 21,
     "metadata": {},
     "output_type": "execute_result"
    }
   ],
   "source": [
    "data = [[-1.1], [0.2], [101.1], [0.3]]\n",
    "\n",
    "result = po.LocalOutlierFactorOutlier(data)\n",
    "result"
   ]
  },
  {
   "cell_type": "code",
   "execution_count": 22,
   "metadata": {
    "hidden": true
   },
   "outputs": [],
   "source": [
    "data = [[-1.1], [0.2], [101.1], [0.3], [-1.1], [0.2], [2.1], [0.3], [-1.1], [0.2],\n",
    "       [-1.1], [0.2], [0.7], [0.3], [-1.1], [0.2], [2.1], [0.3], [-1.1], [0.2], [1.4], [-1.2]]"
   ]
  },
  {
   "cell_type": "code",
   "execution_count": 23,
   "metadata": {
    "hidden": true
   },
   "outputs": [
    {
     "data": {
      "text/plain": [
       "[[101.1]]"
      ]
     },
     "execution_count": 23,
     "metadata": {},
     "output_type": "execute_result"
    }
   ],
   "source": [
    "result = po.LocalOutlierFactorOutlier(data)\n",
    "result"
   ]
  },
  {
   "cell_type": "markdown",
   "metadata": {
    "heading_collapsed": true
   },
   "source": [
    "## 3. Geometric (Angle-based and Depth-based)"
   ]
  },
  {
   "cell_type": "markdown",
   "metadata": {
    "hidden": true
   },
   "source": [
    "**Angle Based Outlier Detection:**\n",
    "\n",
    "For a normal point the angle it makes with any other two data points varies a lot as you choose different data points. For an anomaly the angle it makes with any other two data points doesn’t vary much as you choose different data points Here we used cosθ to calculate angle between 2 vectors.\n",
    "\n",
    "**Depth Based Outlier Detection:**\n",
    "\n",
    "Outliers lie at the edge of the data space. According to this concept we organize the data in layers in which each layer is labeled by its depth. The outermost layer is depth = 1, the next is depth = 2 and so on. Finally outliers are those points with a depth below a predetermined threshold. This implementation uses a convex hull to implement this depth based method. Convex hull is defined as the smallest convex set that contains the data. This method is typically efficient only for two and three dimensional data. Outliers are points with a depth ≤ n."
   ]
  },
  {
   "cell_type": "markdown",
   "metadata": {
    "heading_collapsed": true,
    "hidden": true
   },
   "source": [
    "### Angle Based and Cluster Based OD using a sample dataset"
   ]
  },
  {
   "cell_type": "code",
   "execution_count": 24,
   "metadata": {
    "hidden": true
   },
   "outputs": [
    {
     "data": {
      "text/html": [
       "<div>\n",
       "<style scoped>\n",
       "    .dataframe tbody tr th:only-of-type {\n",
       "        vertical-align: middle;\n",
       "    }\n",
       "\n",
       "    .dataframe tbody tr th {\n",
       "        vertical-align: top;\n",
       "    }\n",
       "\n",
       "    .dataframe thead th {\n",
       "        text-align: right;\n",
       "    }\n",
       "</style>\n",
       "<table border=\"1\" class=\"dataframe\">\n",
       "  <thead>\n",
       "    <tr style=\"text-align: right;\">\n",
       "      <th></th>\n",
       "      <th>total_bill</th>\n",
       "      <th>tip</th>\n",
       "      <th>sex</th>\n",
       "      <th>smoker</th>\n",
       "      <th>day</th>\n",
       "      <th>time</th>\n",
       "      <th>size</th>\n",
       "    </tr>\n",
       "  </thead>\n",
       "  <tbody>\n",
       "    <tr>\n",
       "      <th>0</th>\n",
       "      <td>16.99</td>\n",
       "      <td>1.01</td>\n",
       "      <td>Female</td>\n",
       "      <td>No</td>\n",
       "      <td>Sun</td>\n",
       "      <td>Dinner</td>\n",
       "      <td>2</td>\n",
       "    </tr>\n",
       "    <tr>\n",
       "      <th>1</th>\n",
       "      <td>10.34</td>\n",
       "      <td>1.66</td>\n",
       "      <td>Male</td>\n",
       "      <td>No</td>\n",
       "      <td>Sun</td>\n",
       "      <td>Dinner</td>\n",
       "      <td>3</td>\n",
       "    </tr>\n",
       "    <tr>\n",
       "      <th>2</th>\n",
       "      <td>21.01</td>\n",
       "      <td>3.50</td>\n",
       "      <td>Male</td>\n",
       "      <td>No</td>\n",
       "      <td>Sun</td>\n",
       "      <td>Dinner</td>\n",
       "      <td>3</td>\n",
       "    </tr>\n",
       "    <tr>\n",
       "      <th>3</th>\n",
       "      <td>23.68</td>\n",
       "      <td>3.31</td>\n",
       "      <td>Male</td>\n",
       "      <td>No</td>\n",
       "      <td>Sun</td>\n",
       "      <td>Dinner</td>\n",
       "      <td>2</td>\n",
       "    </tr>\n",
       "    <tr>\n",
       "      <th>4</th>\n",
       "      <td>24.59</td>\n",
       "      <td>3.61</td>\n",
       "      <td>Female</td>\n",
       "      <td>No</td>\n",
       "      <td>Sun</td>\n",
       "      <td>Dinner</td>\n",
       "      <td>4</td>\n",
       "    </tr>\n",
       "  </tbody>\n",
       "</table>\n",
       "</div>"
      ],
      "text/plain": [
       "   total_bill   tip     sex smoker  day    time  size\n",
       "0       16.99  1.01  Female     No  Sun  Dinner     2\n",
       "1       10.34  1.66    Male     No  Sun  Dinner     3\n",
       "2       21.01  3.50    Male     No  Sun  Dinner     3\n",
       "3       23.68  3.31    Male     No  Sun  Dinner     2\n",
       "4       24.59  3.61  Female     No  Sun  Dinner     4"
      ]
     },
     "execution_count": 24,
     "metadata": {},
     "output_type": "execute_result"
    }
   ],
   "source": [
    "import seaborn as sns\n",
    "import pandas as pd\n",
    "df = sns.load_dataset('tips')\n",
    "df.head()"
   ]
  },
  {
   "cell_type": "code",
   "execution_count": 25,
   "metadata": {
    "hidden": true
   },
   "outputs": [
    {
     "data": {
      "text/plain": [
       "<AxesSubplot:xlabel='total_bill', ylabel='tip'>"
      ]
     },
     "execution_count": 25,
     "metadata": {},
     "output_type": "execute_result"
    },
    {
     "data": {
      "image/png": "[encoded data removed]",
      "text/plain": [
       "<Figure size 432x288 with 1 Axes>"
      ]
     },
     "metadata": {
      "needs_background": "light"
     },
     "output_type": "display_data"
    }
   ],
   "source": [
    "sns.scatterplot(data = df, x = 'total_bill', y = 'tip')"
   ]
  },
  {
   "cell_type": "code",
   "execution_count": 26,
   "metadata": {
    "hidden": true
   },
   "outputs": [],
   "source": [
    "# Let's look at these two for example\n",
    "from pyod.models.abod import ABOD # Angle-Based Outlier Detection\n",
    "from pyod.models.cblof import CBLOF # Cluster-Based Local Outlier Factor"
   ]
  },
  {
   "cell_type": "markdown",
   "metadata": {
    "hidden": true
   },
   "source": [
    "Let’s start with the ABOD model; we need to set the contamination parameter or the fraction number of outliers detected from our data. If I set the contamination to 0.05, I want to detect 5% of outliers from our data. Let’s try it with our code."
   ]
  },
  {
   "cell_type": "code",
   "execution_count": 27,
   "metadata": {
    "hidden": true
   },
   "outputs": [
    {
     "data": {
      "text/plain": [
       "ABOD(contamination=0.05, method='fast', n_neighbors=5)"
      ]
     },
     "execution_count": 27,
     "metadata": {},
     "output_type": "execute_result"
    }
   ],
   "source": [
    "outliers_fraction = 0.05\n",
    "abod_clf = ABOD(contamination=outliers_fraction)\n",
    "abod_clf.fit(df[['total_bill', 'tip']])"
   ]
  },
  {
   "cell_type": "code",
   "execution_count": 28,
   "metadata": {
    "hidden": true
   },
   "outputs": [
    {
     "data": {
      "text/plain": [
       "array([0, 0, 0, 0, 0, 0, 0, 0, 0, 0, 0, 0, 0, 0, 0, 0, 0, 0, 0, 0, 0, 0,\n",
       "       0, 1, 0, 0, 0, 0, 0, 0, 0, 0, 0, 0, 0, 0, 0, 0, 0, 0, 0, 0, 0, 0,\n",
       "       0, 0, 0, 0, 0, 0, 0, 0, 0, 0, 0, 0, 0, 0, 0, 1, 0, 0, 0, 0, 0, 0,\n",
       "       0, 1, 0, 0, 0, 0, 0, 0, 0, 0, 0, 0, 0, 0, 0, 0, 0, 0, 0, 0, 0, 0,\n",
       "       0, 0, 0, 0, 1, 0, 0, 0, 0, 0, 0, 0, 0, 0, 1, 0, 0, 0, 0, 0, 0, 0,\n",
       "       0, 0, 0, 0, 0, 0, 0, 0, 0, 0, 0, 0, 0, 0, 0, 0, 0, 0, 0, 0, 0, 0,\n",
       "       0, 0, 0, 0, 0, 0, 0, 0, 0, 0, 0, 0, 0, 0, 0, 0, 0, 0, 0, 0, 0, 0,\n",
       "       0, 0, 1, 0, 0, 0, 0, 0, 0, 0, 0, 0, 0, 0, 0, 0, 1, 0, 1, 0, 0, 0,\n",
       "       0, 0, 1, 0, 0, 0, 1, 0, 1, 0, 0, 0, 0, 0, 0, 0, 0, 0, 0, 0, 0, 0,\n",
       "       0, 0, 0, 0, 0, 0, 0, 0, 0, 0, 0, 0, 0, 0, 1, 0, 0, 0, 0, 0, 0, 0,\n",
       "       0, 0, 0, 0, 0, 0, 0, 0, 0, 0, 0, 0, 0, 0, 0, 0, 0, 1, 0, 0, 0, 0,\n",
       "       0, 0])"
      ]
     },
     "execution_count": 28,
     "metadata": {},
     "output_type": "execute_result"
    }
   ],
   "source": [
    "#Return the classified inlier/outlier\n",
    "abod_clf.labels_"
   ]
  },
  {
   "cell_type": "code",
   "execution_count": 29,
   "metadata": {
    "hidden": true
   },
   "outputs": [],
   "source": [
    "cblof_clf = CBLOF(contamination=outliers_fraction,check_estimator=False)\n",
    "cblof_clf.fit(df[['total_bill', 'tip']])\n",
    "\n",
    "df['ABOD_Clf'] = abod_clf.labels_\n",
    "df['CBLOF_Clf'] = cblof_clf.labels_"
   ]
  },
  {
   "cell_type": "code",
   "execution_count": 30,
   "metadata": {
    "hidden": true
   },
   "outputs": [
    {
     "data": {
      "text/plain": [
       "<AxesSubplot:xlabel='total_bill', ylabel='tip'>"
      ]
     },
     "execution_count": 30,
     "metadata": {},
     "output_type": "execute_result"
    },
    {
     "data": {
      "image/png": "[encoded data removed]",
      "text/plain": [
       "<Figure size 432x288 with 1 Axes>"
      ]
     },
     "metadata": {
      "needs_background": "light"
     },
     "output_type": "display_data"
    }
   ],
   "source": [
    "sns.scatterplot(data = df, x = 'total_bill', y = 'tip', hue = 'ABOD_Clf')"
   ]
  },
  {
   "cell_type": "code",
   "execution_count": 31,
   "metadata": {
    "hidden": true
   },
   "outputs": [
    {
     "data": {
      "text/plain": [
       "<AxesSubplot:xlabel='total_bill', ylabel='tip'>"
      ]
     },
     "execution_count": 31,
     "metadata": {},
     "output_type": "execute_result"
    },
    {
     "data": {
      "image/png": "[encoded data removed]",
      "text/plain": [
       "<Figure size 432x288 with 1 Axes>"
      ]
     },
     "metadata": {
      "needs_background": "light"
     },
     "output_type": "display_data"
    }
   ],
   "source": [
    "sns.scatterplot(data = df, x = 'total_bill', y = 'tip', hue = 'CBLOF_Clf')"
   ]
  },
  {
   "cell_type": "markdown",
   "metadata": {
    "hidden": true
   },
   "source": [
    "**Inference:** As we could observe, different from ABOD, the CBLOF algorithm classified the outer part as on the one side (right-side) as far as detection of outliers are concerned."
   ]
  },
  {
   "cell_type": "markdown",
   "metadata": {
    "heading_collapsed": true,
    "hidden": true
   },
   "source": [
    "### Bonus example (ABOD and kNN) - please explore these later"
   ]
  },
  {
   "cell_type": "code",
   "execution_count": 32,
   "metadata": {
    "hidden": true
   },
   "outputs": [],
   "source": [
    "import numpy as np\n",
    "from scipy import stats\n",
    "import matplotlib.pyplot as plt\n",
    "\n",
    "from pyod.models.ecod import ECOD # Unsupervised Outlier Detection Using Empirical Cumulative Distribution Functions\n",
    "from pyod.models.abod import ABOD # Angle-Based Outlier Detection\n",
    "from pyod.models.knn import KNN # k Nearest Neighbors (use the distance to the kth nearest neighbor as the outlier score\n",
    "\n",
    "%matplotlib inline\n",
    "import matplotlib.font_manager"
   ]
  },
  {
   "cell_type": "code",
   "execution_count": 33,
   "metadata": {
    "hidden": true
   },
   "outputs": [],
   "source": [
    "from pyod.utils.data import generate_data, get_outliers_inliers\n",
    "\n",
    "#generate random data with two features\n",
    "X_train, Y_train = generate_data(n_train=200,train_only=True, n_features=2)\n",
    "\n",
    "# by default the outlier fraction is 0.1 in generate data function \n",
    "outlier_fraction = 0.1\n",
    "\n",
    "# store outliers and inliers in different numpy arrays\n",
    "x_outliers, x_inliers = get_outliers_inliers(X_train,Y_train)\n",
    "\n",
    "n_inliers = len(x_inliers)\n",
    "n_outliers = len(x_outliers)"
   ]
  },
  {
   "cell_type": "code",
   "execution_count": 34,
   "metadata": {
    "hidden": true
   },
   "outputs": [
    {
     "data": {
      "text/plain": [
       "Text(0, 0.5, 'F2')"
      ]
     },
     "execution_count": 34,
     "metadata": {},
     "output_type": "execute_result"
    },
    {
     "data": {
      "image/png": "[encoded data removed]",
      "text/plain": [
       "<Figure size 432x288 with 1 Axes>"
      ]
     },
     "metadata": {
      "needs_background": "light"
     },
     "output_type": "display_data"
    }
   ],
   "source": [
    "#separate the two features and use it to plot the data \n",
    "F1 = X_train[:,[0]].reshape(-1,1)\n",
    "F2 = X_train[:,[1]].reshape(-1,1)\n",
    "\n",
    "# create a meshgrid \n",
    "xx , yy = np.meshgrid(np.linspace(-10, 10, 200), np.linspace(-10, 10, 200))\n",
    "\n",
    "# scatter plot \n",
    "plt.scatter(F1,F2)\n",
    "plt.xlabel('F1')\n",
    "plt.ylabel('F2') "
   ]
  },
  {
   "cell_type": "code",
   "execution_count": 35,
   "metadata": {
    "hidden": true
   },
   "outputs": [],
   "source": [
    "classifiers = {\n",
    "     'Angle-based Outlier Detector (ABOD)'   : ABOD(contamination=outlier_fraction),\n",
    "     'K Nearest Neighbors (KNN)' :  KNN(contamination=outlier_fraction)\n",
    "}"
   ]
  },
  {
   "cell_type": "code",
   "execution_count": 36,
   "metadata": {
    "hidden": true
   },
   "outputs": [
    {
     "name": "stdout",
     "output_type": "stream",
     "text": [
      "No of Errors :  Angle-based Outlier Detector (ABOD) 2\n",
      "No of Errors :  K Nearest Neighbors (KNN) 0\n"
     ]
    },
    {
     "data": {
      "image/png": "[encoded data removed]",
      "text/plain": [
       "<Figure size 720x720 with 2 Axes>"
      ]
     },
     "metadata": {
      "needs_background": "light"
     },
     "output_type": "display_data"
    }
   ],
   "source": [
    "#set the figure size\n",
    "plt.figure(figsize=(10, 10))\n",
    "\n",
    "for i, (clf_name,clf) in enumerate(classifiers.items()) :\n",
    "    # fit the dataset to the model\n",
    "    clf.fit(X_train)\n",
    "\n",
    "    # predict raw anomaly score\n",
    "    scores_pred = clf.decision_function(X_train)*-1\n",
    "\n",
    "    # prediction of a datapoint category outlier or inlier\n",
    "    y_pred = clf.predict(X_train)\n",
    "\n",
    "    # no of errors in prediction\n",
    "    n_errors = (y_pred != Y_train).sum()\n",
    "    print('No of Errors : ',clf_name, n_errors)\n",
    "\n",
    "    # rest of the code is to create the visualization\n",
    "\n",
    "    # threshold value to consider a datapoint inlier or outlier\n",
    "    threshold = stats.scoreatpercentile(scores_pred,100 *outlier_fraction)\n",
    "\n",
    "    # decision function calculates the raw anomaly score for every point\n",
    "    Z = clf.decision_function(np.c_[xx.ravel(), yy.ravel()]) * -1\n",
    "    Z = Z.reshape(xx.shape)\n",
    "\n",
    "    subplot = plt.subplot(1, 2, i + 1)\n",
    "\n",
    "    # fill blue colormap from minimum anomaly score to threshold value\n",
    "    subplot.contourf(xx, yy, Z, levels = np.linspace(Z.min(), threshold, 10),cmap=plt.cm.Blues_r)\n",
    "\n",
    "    # draw red contour line where anomaly score is equal to threshold\n",
    "    a = subplot.contour(xx, yy, Z, levels=[threshold],linewidths=2, colors='red')\n",
    "\n",
    "    # fill orange contour lines where range of anomaly score is from threshold to maximum anomaly score\n",
    "    subplot.contourf(xx, yy, Z, levels=[threshold, Z.max()],colors='orange')\n",
    "\n",
    "    # scatter plot of inliers with white dots\n",
    "    b = subplot.scatter(X_train[:-n_outliers, 0], X_train[:-n_outliers, 1], c='white',s=20, edgecolor='k') \n",
    "    # scatter plot of outliers with black dots\n",
    "    c = subplot.scatter(X_train[-n_outliers:, 0], X_train[-n_outliers:, 1], c='black',s=20, edgecolor='k')\n",
    "    subplot.axis('tight')\n",
    "\n",
    "    subplot.legend(\n",
    "        [a.collections[0], b, c],\n",
    "        ['learned decision function', 'true inliers', 'true outliers'],\n",
    "        prop=matplotlib.font_manager.FontProperties(size=10),\n",
    "        loc='lower right')\n",
    "\n",
    "    subplot.set_title(clf_name)\n",
    "    subplot.set_xlim((-10, 10))\n",
    "    subplot.set_ylim((-10, 10))\n",
    "plt.show() "
   ]
  },
  {
   "cell_type": "code",
   "execution_count": null,
   "metadata": {
    "hidden": true
   },
   "outputs": [],
   "source": []
  },
  {
   "cell_type": "markdown",
   "metadata": {
    "heading_collapsed": true
   },
   "source": [
    "## 4. Isolation Forest"
   ]
  },
  {
   "cell_type": "markdown",
   "metadata": {
    "heading_collapsed": true,
    "hidden": true
   },
   "source": [
    "### From sklearn.ensemble"
   ]
  },
  {
   "cell_type": "code",
   "execution_count": 37,
   "metadata": {
    "hidden": true
   },
   "outputs": [
    {
     "data": {
      "text/plain": [
       "IsolationForest(n_estimators=5)"
      ]
     },
     "execution_count": 37,
     "metadata": {},
     "output_type": "execute_result"
    }
   ],
   "source": [
    "from sklearn.ensemble import IsolationForest\n",
    "data = [[1, 1], [2, 2.1], [1, 2], [2, 1], [50, 35], [2, 1.5]]\n",
    "iforest = IsolationForest(n_estimators=5)\n",
    "iforest.fit(data)"
   ]
  },
  {
   "cell_type": "code",
   "execution_count": 38,
   "metadata": {
    "hidden": true
   },
   "outputs": [
    {
     "data": {
      "text/plain": [
       "array([1])"
      ]
     },
     "execution_count": 38,
     "metadata": {},
     "output_type": "execute_result"
    }
   ],
   "source": [
    "actual_data = [[2, 2.1]]\n",
    "iforest.predict(actual_data)"
   ]
  },
  {
   "cell_type": "code",
   "execution_count": 39,
   "metadata": {
    "hidden": true
   },
   "outputs": [
    {
     "data": {
      "text/plain": [
       "array([-1])"
      ]
     },
     "execution_count": 39,
     "metadata": {},
     "output_type": "execute_result"
    }
   ],
   "source": [
    "outlier_data = [[50, 35]]\n",
    "iforest.predict(outlier_data)"
   ]
  },
  {
   "cell_type": "markdown",
   "metadata": {
    "heading_collapsed": true,
    "hidden": true
   },
   "source": [
    "### From alibi_detect.od"
   ]
  },
  {
   "cell_type": "markdown",
   "metadata": {
    "hidden": true
   },
   "source": [
    "You can check details from here - https://github.com/SeldonIO/alibi-detect\n",
    "\n",
    "alibi-detect package offers 10 methods for outlier detection. Please refer from here - https://docs.seldon.io/projects/alibi-detect/en/latest/od/methods.html"
   ]
  },
  {
   "cell_type": "code",
   "execution_count": 40,
   "metadata": {
    "hidden": true
   },
   "outputs": [],
   "source": [
    "from alibi_detect.od import IForest\n",
    "\n",
    "od = IForest(\n",
    "    threshold=0.,\n",
    "    n_estimators=100\n",
    ")"
   ]
  },
  {
   "cell_type": "code",
   "execution_count": 41,
   "metadata": {
    "hidden": true
   },
   "outputs": [],
   "source": [
    "od.fit(df[['total_bill', 'tip']])"
   ]
  },
  {
   "cell_type": "code",
   "execution_count": 42,
   "metadata": {
    "hidden": true
   },
   "outputs": [],
   "source": [
    "preds = od.predict(\n",
    "    df[['total_bill', 'tip']],\n",
    "    return_instance_score=True\n",
    ")"
   ]
  },
  {
   "cell_type": "code",
   "execution_count": 43,
   "metadata": {
    "hidden": true
   },
   "outputs": [
    {
     "data": {
      "text/plain": [
       "dict_keys(['instance_score', 'feature_score', 'is_outlier'])"
      ]
     },
     "execution_count": 43,
     "metadata": {},
     "output_type": "execute_result"
    }
   ],
   "source": [
    "preds['data'].keys()"
   ]
  },
  {
   "cell_type": "code",
   "execution_count": 44,
   "metadata": {
    "hidden": true
   },
   "outputs": [
    {
     "data": {
      "text/plain": [
       "<AxesSubplot:xlabel='total_bill', ylabel='tip'>"
      ]
     },
     "execution_count": 44,
     "metadata": {},
     "output_type": "execute_result"
    },
    {
     "data": {
      "image/png": "[encoded data removed]",
      "text/plain": [
       "<Figure size 432x288 with 1 Axes>"
      ]
     },
     "metadata": {
      "needs_background": "light"
     },
     "output_type": "display_data"
    }
   ],
   "source": [
    "df['IF_alibi'] = preds['data']['is_outlier']\n",
    "sns.scatterplot(data = df, x = 'total_bill', y = 'tip', hue = 'IF_alibi')"
   ]
  },
  {
   "cell_type": "code",
   "execution_count": null,
   "metadata": {
    "hidden": true
   },
   "outputs": [],
   "source": []
  },
  {
   "cell_type": "markdown",
   "metadata": {
    "heading_collapsed": true
   },
   "source": [
    "## 5. ODIN"
   ]
  },
  {
   "cell_type": "code",
   "execution_count": 45,
   "metadata": {
    "hidden": true
   },
   "outputs": [
    {
     "name": "stdout",
     "output_type": "stream",
     "text": [
      "[]\n"
     ]
    }
   ],
   "source": [
    "import package_outlier as po\n",
    "data = [[1, 1], [2, 2.1], [1, 2], [2, 1], [50, 35], [2, 1.5]]\n",
    "result = po.LocalOutlierFactorOutlier(data)\n",
    "print (result)"
   ]
  },
  {
   "cell_type": "code",
   "execution_count": null,
   "metadata": {
    "hidden": true
   },
   "outputs": [],
   "source": []
  },
  {
   "cell_type": "markdown",
   "metadata": {},
   "source": [
    "## 6. Others"
   ]
  },
  {
   "cell_type": "markdown",
   "metadata": {},
   "source": [
    "### PyNomaly"
   ]
  },
  {
   "cell_type": "markdown",
   "metadata": {},
   "source": [
    "PyNomaly is a python package to detect outliers based on the LoOP (Local Outlier Probabilities). The LoOP is based on the Local Outlier Factor (LOF), but the scores are normalized to the range [0–1]. \n",
    "\n",
    "Please refer here for details: https://github.com/vc1492a/PyNomaly"
   ]
  },
  {
   "cell_type": "code",
   "execution_count": 46,
   "metadata": {},
   "outputs": [
    {
     "name": "stdout",
     "output_type": "stream",
     "text": [
      "[ ================================================================================== ] 100.00%"
     ]
    }
   ],
   "source": [
    "from PyNomaly import loop\n",
    "m = loop.LocalOutlierProbability(df[['total_bill', 'tip']], use_numba=True, progress_bar=True).fit()\n",
    "scores = m.local_outlier_probabilities"
   ]
  },
  {
   "cell_type": "markdown",
   "metadata": {},
   "source": [
    "We could use_numba here if there are many datasets to predict; otherwise, we could turn it off. The training resulted in the probabilities which we could infer by ourselves.\n",
    "\n",
    "Every data contains probability as an outlier. We could try to infer by our judgment for which dataset is an outlier, for example, the data point with probability higher than 0.5"
   ]
  },
  {
   "cell_type": "code",
   "execution_count": 47,
   "metadata": {},
   "outputs": [
    {
     "data": {
      "text/plain": [
       "array([0.8295626248076023, 0.0, 0.0, 0.0, 0.0, 0.0, 0.1255732852268186,\n",
       "       0.0, 0.021118773498847086, 0.059719629132006714, 0.0, 0.0,\n",
       "       0.18891087655355213, 0.0, 0.06600125149215205, 0.08897813994035836,\n",
       "       0.0, 0.02042050638068777, 0.0, 0.0, 0.18719819974848978, 0.0,\n",
       "       0.134984637364615, 0.3267729747731967, 0.0, 0.014754813315752803,\n",
       "       0.0, 0.0, 0.09586482494356346, 0.0076191098014602105,\n",
       "       0.4044543246790509, 0.04745195520430322, 0.05153640905209837,\n",
       "       0.06091513421871922, 0.0, 0.02668547800735464, 0.0, 0.0,\n",
       "       0.08235121925900075, 0.0, 0.0, 0.015489001395435477,\n",
       "       0.06119981869025085, 0.29147060866687485, 0.0, 0.0,\n",
       "       0.1477323035211392, 0.11948852580728306, 0.011734703518409455, 0.0,\n",
       "       0.11247993297359737, 0.6362082484982707, 0.0, 0.0, 0.0,\n",
       "       0.13388412917733342, 0.07522327357878908, 0.3193641733521854,\n",
       "       0.03471458581750877, 0.1488967758682557, 0.0, 0.027255806435112,\n",
       "       0.07093755060492847, 0.0, 0.0, 0.0, 0.1478468426712015,\n",
       "       0.9910318008073682, 0.3002466336507002, 0.04943248108766862, 0.0,\n",
       "       0.0, 0.0, 0.014117711330579092, 0.016331543838117277,\n",
       "       0.1857411440141878, 0.0, 0.014553248940169225, 0.0,\n",
       "       0.013411003942839518, 0.1727445190167558, 0.0, 0.0, 0.0, 0.0, 0.0,\n",
       "       0.0, 0.1625511049691243, 0.2209106436075957, 0.08052923430325241,\n",
       "       0.0, 0.0, 0.468818840447906, 0.4290433290295369, 0.0, 0.0,\n",
       "       0.02884031416460427, 0.06823481863467774, 0.016635333177919185,\n",
       "       0.032823293874433696, 0.20555791614064978, 0.02258054020211534,\n",
       "       0.1277632413610344, 0.0, 0.0, 0.11205548129681966,\n",
       "       0.06604963984370028, 0.0, 0.0, 0.49647868109626997,\n",
       "       0.05473722377395199, 0.1806560789302885, 0.016998950696069944, 0.0,\n",
       "       0.0, 0.052223112983595874, 0.0, 0.02358858406367562, 0.0, 0.0,\n",
       "       0.09347271783224002, 0.10870111254401293, 0.0, 0.0,\n",
       "       0.11525768088235455, 0.0, 0.0, 0.007176990372832103, 0.0,\n",
       "       0.09863020914838469, 0.31168231023504883, 0.0, 0.07573074808371588,\n",
       "       0.0, 0.0, 0.0, 0.01568734427758974, 0.03535199218181948, 0.0,\n",
       "       0.19740718693516107, 0.09101983164340771, 0.20536295999922832, 0.0,\n",
       "       0.13662444115551778, 0.0, 0.0, 0.4097534904692271, 0.0,\n",
       "       0.05571714841065527, 0.09465345142943675, 0.0, 0.0,\n",
       "       0.01332936326654777, 0.2164365190623809, 0.18706378020548256, 0.0,\n",
       "       0.12876949161076337, 0.0, 0.07281975440653597, 0.08725236319318222,\n",
       "       0.0, 0.06815452424336703, 0.0, 0.027255806435112, 0.0,\n",
       "       0.009264549792859086, 0.1765795436956393, 0.0, 0.0,\n",
       "       0.0802146046021663, 0.5793935480532605, 0.054274811024772746,\n",
       "       0.9475265479895291, 0.00583641904486771, 0.08426790852651776,\n",
       "       0.05151703185743839, 0.10393387392612291, 0.004837748643866388,\n",
       "       0.9535643548909868, 0.007483727314269335, 0.014426910696525306,\n",
       "       0.313285483327258, 0.053775093825693746, 0.5883962686316646, 0.0,\n",
       "       0.38839668541319183, 0.0, 0.06621915678933563, 0.0,\n",
       "       0.11304998484133263, 0.22855148378430853, 0.2430997324964971, 0.0,\n",
       "       0.0, 0.129152360891625, 0.008401950947858755, 0.01623138321026764,\n",
       "       0.0, 0.0, 0.0, 0.246058444644908, 0.0, 0.0, 0.10092593546160714,\n",
       "       0.03775595117992161, 0.07584162899300488, 0.018855070465843383,\n",
       "       0.14261556994711577, 0.10189451569484421, 0.0, 0.07606134540840125,\n",
       "       0.04653636874522245, 0.2777148327368435, 0.06295130380794173,\n",
       "       0.3725377391491064, 0.44802215430167763, 0.0, 0.10736534915564788,\n",
       "       0.0802716051008396, 0.0, 0.03165611636562935, 0.31436282258099185,\n",
       "       0.022343067618243468, 0.032473788000184745, 0.11835543111446717,\n",
       "       0.06085171791527753, 0.0, 0.0, 0.20590018493638249,\n",
       "       0.009314164994229381, 0.07255282625562373, 0.05428355442721371,\n",
       "       0.7625014712558885, 0.023476648624916337, 0.036817144451264654,\n",
       "       0.09813055756156745, 0.455052419844133, 0.3964158484634611, 0.0,\n",
       "       0.1578881893991131, 0.05153152964726883, 0.20934239989873846,\n",
       "       0.15197700952184034, 0.12951878087668614], dtype=object)"
      ]
     },
     "execution_count": 47,
     "metadata": {},
     "output_type": "execute_result"
    }
   ],
   "source": [
    "scores"
   ]
  },
  {
   "cell_type": "code",
   "execution_count": 48,
   "metadata": {},
   "outputs": [
    {
     "data": {
      "text/plain": [
       "<AxesSubplot:xlabel='total_bill', ylabel='tip'>"
      ]
     },
     "execution_count": 48,
     "metadata": {},
     "output_type": "execute_result"
    },
    {
     "data": {
      "image/png": "[encoded data removed]",
      "text/plain": [
       "<Figure size 432x288 with 1 Axes>"
      ]
     },
     "metadata": {
      "needs_background": "light"
     },
     "output_type": "display_data"
    }
   ],
   "source": [
    "df['loop_score'] = scores\n",
    "df['loop_label'] = df['loop_score'].apply(lambda x: 1 if x >0.5 else 0)\n",
    "sns.scatterplot(data = df, x = 'total_bill', y = 'tip', hue = 'loop_label')"
   ]
  },
  {
   "cell_type": "markdown",
   "metadata": {},
   "source": [
    "That's all for now.\n",
    "\n",
    "This is the end of the notebook. \n",
    "\n",
    "As we have noticed there are plethora of methods, packages and we need to practice with sample scenarios to be able to learn these better. Happy Learning!!"
   ]
  },
  {
   "cell_type": "code",
   "execution_count": null,
   "metadata": {},
   "outputs": [],
   "source": []
  }
 ],
 "metadata": {
  "kernelspec": {
   "display_name": "Python 3",
   "language": "python",
   "name": "python3"
  },
  "language_info": {
   "codemirror_mode": {
    "name": "ipython",
    "version": 3
   },
   "file_extension": ".py",
   "mimetype": "text/x-python",
   "name": "python",
   "nbconvert_exporter": "python",
   "pygments_lexer": "ipython3",
   "version": "3.8.5"
  }
 },
 "nbformat": 4,
 "nbformat_minor": 4
}
