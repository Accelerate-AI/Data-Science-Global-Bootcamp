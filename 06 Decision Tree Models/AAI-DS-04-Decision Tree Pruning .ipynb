{
 "cells": [
  {
   "cell_type": "markdown",
   "id": "eb77a486",
   "metadata": {},
   "source": [
    "### AccelerateAI - Tree based models for Classification and Regression\n",
    "\n",
    "In this notebook we will look at various ways of pruning a decision tree. "
   ]
  },
  {
   "cell_type": "code",
   "execution_count": 2,
   "id": "8aef23ea",
   "metadata": {},
   "outputs": [],
   "source": [
    "import numpy as np\n",
    "import pandas as pd\n",
    "import os\n",
    "from sklearn.preprocessing import LabelEncoder\n",
    "from sklearn.datasets import load_breast_cancer\n",
    "from sklearn.model_selection import RandomizedSearchCV, GridSearchCV, train_test_split\n",
    "from sklearn import tree\n",
    "from sklearn.metrics import accuracy_score,confusion_matrix\n",
    "import seaborn as sns\n",
    "import matplotlib.pyplot as plt"
   ]
  },
  {
   "cell_type": "code",
   "execution_count": 4,
   "id": "6154dfa0",
   "metadata": {},
   "outputs": [
    {
     "data": {
      "text/html": [
       "<div><div id=aac0aed8-69eb-4b09-9b83-bffa78a7f2bb style=\"display:none; background-color:#9D6CFF; color:white; width:200px; height:30px; padding-left:5px; border-radius:4px; flex-direction:row; justify-content:space-around; align-items:center;\" onmouseover=\"this.style.backgroundColor='#BA9BF8'\" onmouseout=\"this.style.backgroundColor='#9D6CFF'\" onclick=\"window.commands?.execute('create-mitosheet-from-dataframe-output');\">See Full Dataframe in Mito</div> <script> if (window.commands?.hasCommand('create-mitosheet-from-dataframe-output')) document.getElementById('aac0aed8-69eb-4b09-9b83-bffa78a7f2bb').style.display = 'flex' </script> <table border=\"1\" class=\"dataframe\">\n",
       "  <thead>\n",
       "    <tr style=\"text-align: right;\">\n",
       "      <th></th>\n",
       "      <th>age</th>\n",
       "      <th>sex</th>\n",
       "      <th>chest_pain_type</th>\n",
       "      <th>BP</th>\n",
       "      <th>cholestrol</th>\n",
       "      <th>bloodsugarlevel</th>\n",
       "      <th>ECG_result</th>\n",
       "      <th>Max_heart_rate</th>\n",
       "      <th>Angina</th>\n",
       "      <th>oldpeak</th>\n",
       "      <th>slopepeak</th>\n",
       "      <th>major_vessels</th>\n",
       "      <th>thal</th>\n",
       "      <th>disease</th>\n",
       "    </tr>\n",
       "  </thead>\n",
       "  <tbody>\n",
       "    <tr>\n",
       "      <th>0</th>\n",
       "      <td>70</td>\n",
       "      <td>1</td>\n",
       "      <td>4</td>\n",
       "      <td>130</td>\n",
       "      <td>322</td>\n",
       "      <td>0</td>\n",
       "      <td>2</td>\n",
       "      <td>109</td>\n",
       "      <td>0</td>\n",
       "      <td>2.4</td>\n",
       "      <td>2</td>\n",
       "      <td>3</td>\n",
       "      <td>3</td>\n",
       "      <td>1</td>\n",
       "    </tr>\n",
       "    <tr>\n",
       "      <th>1</th>\n",
       "      <td>67</td>\n",
       "      <td>0</td>\n",
       "      <td>3</td>\n",
       "      <td>115</td>\n",
       "      <td>564</td>\n",
       "      <td>0</td>\n",
       "      <td>2</td>\n",
       "      <td>160</td>\n",
       "      <td>0</td>\n",
       "      <td>1.6</td>\n",
       "      <td>2</td>\n",
       "      <td>0</td>\n",
       "      <td>7</td>\n",
       "      <td>0</td>\n",
       "    </tr>\n",
       "    <tr>\n",
       "      <th>2</th>\n",
       "      <td>57</td>\n",
       "      <td>1</td>\n",
       "      <td>2</td>\n",
       "      <td>124</td>\n",
       "      <td>261</td>\n",
       "      <td>0</td>\n",
       "      <td>0</td>\n",
       "      <td>141</td>\n",
       "      <td>0</td>\n",
       "      <td>0.3</td>\n",
       "      <td>1</td>\n",
       "      <td>0</td>\n",
       "      <td>7</td>\n",
       "      <td>1</td>\n",
       "    </tr>\n",
       "    <tr>\n",
       "      <th>3</th>\n",
       "      <td>64</td>\n",
       "      <td>1</td>\n",
       "      <td>4</td>\n",
       "      <td>128</td>\n",
       "      <td>263</td>\n",
       "      <td>0</td>\n",
       "      <td>0</td>\n",
       "      <td>105</td>\n",
       "      <td>1</td>\n",
       "      <td>0.2</td>\n",
       "      <td>2</td>\n",
       "      <td>1</td>\n",
       "      <td>7</td>\n",
       "      <td>0</td>\n",
       "    </tr>\n",
       "    <tr>\n",
       "      <th>4</th>\n",
       "      <td>74</td>\n",
       "      <td>0</td>\n",
       "      <td>2</td>\n",
       "      <td>120</td>\n",
       "      <td>269</td>\n",
       "      <td>0</td>\n",
       "      <td>2</td>\n",
       "      <td>121</td>\n",
       "      <td>1</td>\n",
       "      <td>0.2</td>\n",
       "      <td>1</td>\n",
       "      <td>1</td>\n",
       "      <td>3</td>\n",
       "      <td>0</td>\n",
       "    </tr>\n",
       "  </tbody>\n",
       "</table></div>"
      ],
      "text/plain": [
       "   age  sex  chest_pain_type   BP  cholestrol  bloodsugarlevel  ECG_result  \\\n",
       "0   70    1                4  130         322                0           2   \n",
       "1   67    0                3  115         564                0           2   \n",
       "2   57    1                2  124         261                0           0   \n",
       "3   64    1                4  128         263                0           0   \n",
       "4   74    0                2  120         269                0           2   \n",
       "\n",
       "   Max_heart_rate  Angina  oldpeak   slopepeak  major_vessels  thal  disease  \n",
       "0             109       0       2.4          2              3     3        1  \n",
       "1             160       0       1.6          2              0     7        0  \n",
       "2             141       0       0.3          1              0     7        1  \n",
       "3             105       1       0.2          2              1     7        0  \n",
       "4             121       1       0.2          1              1     3        0  "
      ]
     },
     "execution_count": 4,
     "metadata": {},
     "output_type": "execute_result"
    }
   ],
   "source": [
    "df = pd.read_excel(\"04_heart_disease.xlsx\", sheet_name=1)\n",
    "df.head()"
   ]
  },
  {
   "cell_type": "code",
   "execution_count": 5,
   "id": "413c4bcd",
   "metadata": {},
   "outputs": [
    {
     "name": "stdout",
     "output_type": "stream",
     "text": [
      "(270, 13)\n",
      "(270,)\n"
     ]
    }
   ],
   "source": [
    "X = df.drop(columns=['disease'])\n",
    "y = df['disease']\n",
    "print(X.shape)\n",
    "print(y.shape)"
   ]
  },
  {
   "cell_type": "code",
   "execution_count": 6,
   "id": "5b6f48f0",
   "metadata": {},
   "outputs": [
    {
     "name": "stdout",
     "output_type": "stream",
     "text": [
      "(202, 13)\n",
      "(68, 13)\n"
     ]
    }
   ],
   "source": [
    "x_train,x_test,y_train,y_test = train_test_split(X,y,stratify=y)\n",
    "print(x_train.shape)\n",
    "print(x_test.shape)"
   ]
  },
  {
   "cell_type": "markdown",
   "id": "587c04cc",
   "metadata": {
    "code_folding": []
   },
   "source": [
    "### 1. Fit a full grown decision tree"
   ]
  },
  {
   "cell_type": "code",
   "execution_count": 19,
   "id": "7470686a",
   "metadata": {},
   "outputs": [
    {
     "name": "stdout",
     "output_type": "stream",
     "text": [
      "Train score: 1.0\n",
      "Test  score: 0.7352941176470589\n"
     ]
    }
   ],
   "source": [
    "clf = tree.DecisionTreeClassifier(random_state=0)\n",
    "clf.fit(x_train,y_train)\n",
    "\n",
    "y_train_pred = clf.predict(x_train)\n",
    "y_test_pred = clf.predict(x_test) \n",
    "\n",
    "print(f'Train score: {accuracy_score(y_train_pred,y_train)}')\n",
    "print(f'Test  score: {accuracy_score(y_test_pred,y_test)}')"
   ]
  },
  {
   "cell_type": "markdown",
   "id": "e71914e7",
   "metadata": {},
   "source": [
    "### 2. Pre-prunning - with hyperparameters"
   ]
  },
  {
   "cell_type": "code",
   "execution_count": 22,
   "id": "00d45938",
   "metadata": {},
   "outputs": [
    {
     "name": "stdout",
     "output_type": "stream",
     "text": [
      "Best params: {'max_depth': 4, 'min_samples_leaf': 5, 'min_samples_split': 3}\n",
      "Train score: 0.8811881188118812\n",
      "Test  score: 0.8382352941176471\n"
     ]
    }
   ],
   "source": [
    "# set hyper-paramteres\n",
    "params = {'max_depth': [2,4,6,8,10,12],\n",
    "         'min_samples_split': [2,3,4,5],\n",
    "         'min_samples_leaf': [1,2,5]}\n",
    "\n",
    "clf = tree.DecisionTreeClassifier()\n",
    "gcv = GridSearchCV(estimator=clf,param_grid=params)\n",
    "gcv.fit(x_train,y_train)\n",
    "\n",
    "model = gcv.best_estimator_\n",
    "model.fit(x_train,y_train)\n",
    "y_train_pred = model.predict(x_train)\n",
    "y_test_pred = model.predict(x_test)\n",
    "\n",
    "print(f'Best params: {gcv.best_params_}')\n",
    "print(f'Train score: {accuracy_score(y_train_pred,y_train)}')\n",
    "print(f'Test  score: {accuracy_score(y_test_pred,y_test)}')"
   ]
  },
  {
   "cell_type": "markdown",
   "id": "f6d22631",
   "metadata": {},
   "source": [
    "### 3.Post pruning "
   ]
  },
  {
   "cell_type": "code",
   "execution_count": 24,
   "id": "57df9f9a",
   "metadata": {},
   "outputs": [
    {
     "name": "stdout",
     "output_type": "stream",
     "text": [
      "Train score 0.8613861386138614\n",
      "Test score 0.8676470588235294\n"
     ]
    }
   ],
   "source": [
    "# cost complexity pruning\n",
    "\n",
    "clf_p = tree.DecisionTreeClassifier(random_state=0,ccp_alpha=0.020)\n",
    "clf_p.fit(x_train,y_train)\n",
    "y_train_pred = clf_p.predict(x_train)\n",
    "y_test_pred = clf_p.predict(x_test)\n",
    "\n",
    "print(f'Train score {accuracy_score(y_train_pred,y_train)}')\n",
    "print(f'Test score {accuracy_score(y_test_pred,y_test)}')"
   ]
  },
  {
   "cell_type": "markdown",
   "id": "cc64c273",
   "metadata": {},
   "source": [
    "Grid search can be run to find the right value of ccp_alpha !"
   ]
  },
  {
   "cell_type": "code",
   "execution_count": null,
   "id": "b590e6a2",
   "metadata": {},
   "outputs": [],
   "source": []
  }
 ],
 "metadata": {
  "kernelspec": {
   "display_name": "Python 3 (ipykernel)",
   "language": "python",
   "name": "python3"
  },
  "language_info": {
   "codemirror_mode": {
    "name": "ipython",
    "version": 3
   },
   "file_extension": ".py",
   "mimetype": "text/x-python",
   "name": "python",
   "nbconvert_exporter": "python",
   "pygments_lexer": "ipython3",
   "version": "3.9.12"
  }
 },
 "nbformat": 4,
 "nbformat_minor": 5
}
