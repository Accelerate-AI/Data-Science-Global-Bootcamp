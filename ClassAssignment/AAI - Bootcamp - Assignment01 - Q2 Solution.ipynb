{
 "cells": [
  {
   "cell_type": "markdown",
   "metadata": {},
   "source": [
    "## AccelerateAI - Data Science Global Bootcamp\n",
    "#### Python Data Analysis: Assignment 01\n",
    "***"
   ]
  },
  {
   "cell_type": "markdown",
   "metadata": {},
   "source": [
    "## Wifi Data Analysis\n",
    "Q2: The demand and usage of the internet is growing across the globe and public wifi is becoming a new normal as we move forward. Wifi providers want to optimize the cost while providing the free and paid wifi. <br>\n",
    "The use case here refers to public WiFi hotspots in New York City. Please refer to the dataset – Wifi Data.xlsx \n",
    "<br>The information comprises of records for every public WiFi hotspot (ones provided by or in partnership with the city) in New York City.<br>\n",
    "Using Python’s Pandas and Seaborn library to answer following business questions:<br>\n",
    " 1. [Get the data provided, check frequency distribution of the features, drop irrelevant and redundant features if any and state your inferences?](#first-bullet)\n",
    " 2. Using appropriate data visualization answer the following:\n",
    "  - a. [Plot the providers vs number of all wi-fi hotspots they have in operation? Who has the highest installations?](#second-bullet)\n",
    "  - b. [Plot providers vs number of free wifi hotspots.](#third-bullet)\n",
    "  - c. [Are there any provider(s) who do not provide free wifi?](#fourth-bullet)\n",
    "  - d. [Which Location type (Location_T) are most common and least common?](#fifth-bullet)\n",
    "  - e. [How many free “indoor” and “outdoor” hotspots are there? Which companies have the highest number of Outdoor Free installations.](#sixth-bullet)"
   ]
  },
  {
   "cell_type": "markdown",
   "metadata": {},
   "source": [
    "<a class=\"anchor\" id=\"first-bullet\"></a>\n",
    "\n",
    "### 1. Get the data provided, check frequency distribution of the features, drop irrelevant and redundant features if any and state your inferences?"
   ]
  },
  {
   "cell_type": "code",
   "execution_count": 76,
   "metadata": {},
   "outputs": [],
   "source": [
    "# Data analysis\n",
    "import pandas as pd\n",
    "\n",
    "# Visualization \n",
    "import matplotlib.pyplot as plt\n",
    "import seaborn as sns "
   ]
  },
  {
   "cell_type": "code",
   "execution_count": 77,
   "metadata": {},
   "outputs": [
    {
     "data": {
      "text/html": [
       "<div><div id=9e88f39f-8309-4d86-a7d9-a7ea519c90c1 style=\"display:none; background-color:#9D6CFF; color:white; width:200px; height:30px; padding-left:5px; border-radius:4px; flex-direction:row; justify-content:space-around; align-items:center;\" onmouseover=\"this.style.backgroundColor='#BA9BF8'\" onmouseout=\"this.style.backgroundColor='#9D6CFF'\" onclick=\"window.commands?.execute('create-mitosheet-from-dataframe-output');\">See Full Dataframe in Mito</div> <script> if (window.commands?.hasCommand('create-mitosheet-from-dataframe-output')) document.getElementById('9e88f39f-8309-4d86-a7d9-a7ea519c90c1').style.display = 'flex' </script> <table border=\"1\" class=\"dataframe\">\n",
       "  <thead>\n",
       "    <tr style=\"text-align: right;\">\n",
       "      <th></th>\n",
       "      <th>OBJECTID</th>\n",
       "      <th>Borough</th>\n",
       "      <th>Type</th>\n",
       "      <th>Provider</th>\n",
       "      <th>Latitude</th>\n",
       "      <th>Longitude</th>\n",
       "      <th>Location_T</th>\n",
       "      <th>City</th>\n",
       "      <th>BoroCode</th>\n",
       "      <th>NTACode</th>\n",
       "    </tr>\n",
       "  </thead>\n",
       "  <tbody>\n",
       "    <tr>\n",
       "      <th>2320</th>\n",
       "      <td>2321</td>\n",
       "      <td>BK</td>\n",
       "      <td>Free</td>\n",
       "      <td>Transit Wireless</td>\n",
       "      <td>40.650782</td>\n",
       "      <td>-73.975776</td>\n",
       "      <td>Subway Station</td>\n",
       "      <td>Brooklyn</td>\n",
       "      <td>3</td>\n",
       "      <td>BK40</td>\n",
       "    </tr>\n",
       "    <tr>\n",
       "      <th>1196</th>\n",
       "      <td>1197</td>\n",
       "      <td>BK</td>\n",
       "      <td>Limited Free</td>\n",
       "      <td>SPECTRUM</td>\n",
       "      <td>40.639292</td>\n",
       "      <td>-74.031896</td>\n",
       "      <td>Outdoor</td>\n",
       "      <td>Brooklyn</td>\n",
       "      <td>3</td>\n",
       "      <td>BK31</td>\n",
       "    </tr>\n",
       "    <tr>\n",
       "      <th>251</th>\n",
       "      <td>252</td>\n",
       "      <td>BK</td>\n",
       "      <td>Free</td>\n",
       "      <td>BPL</td>\n",
       "      <td>40.675255</td>\n",
       "      <td>-74.010351</td>\n",
       "      <td>Library</td>\n",
       "      <td>Brooklyn</td>\n",
       "      <td>3</td>\n",
       "      <td>BK33</td>\n",
       "    </tr>\n",
       "    <tr>\n",
       "      <th>1870</th>\n",
       "      <td>1871</td>\n",
       "      <td>QU</td>\n",
       "      <td>Free</td>\n",
       "      <td>LinkNYC - Citybridge</td>\n",
       "      <td>40.747451</td>\n",
       "      <td>-73.884987</td>\n",
       "      <td>Outdoor Kiosk</td>\n",
       "      <td>Queens</td>\n",
       "      <td>4</td>\n",
       "      <td>QN29</td>\n",
       "    </tr>\n",
       "    <tr>\n",
       "      <th>552</th>\n",
       "      <td>553</td>\n",
       "      <td>BK</td>\n",
       "      <td>Limited Free</td>\n",
       "      <td>SPECTRUM</td>\n",
       "      <td>40.673349</td>\n",
       "      <td>-74.008235</td>\n",
       "      <td>Outdoor TWC Aerial</td>\n",
       "      <td>Brooklyn</td>\n",
       "      <td>3</td>\n",
       "      <td>BK33</td>\n",
       "    </tr>\n",
       "  </tbody>\n",
       "</table></div>"
      ],
      "text/plain": [
       "      OBJECTID Borough          Type              Provider   Latitude  \\\n",
       "2320      2321      BK          Free      Transit Wireless  40.650782   \n",
       "1196      1197      BK  Limited Free              SPECTRUM  40.639292   \n",
       "251        252      BK          Free                   BPL  40.675255   \n",
       "1870      1871      QU          Free  LinkNYC - Citybridge  40.747451   \n",
       "552        553      BK  Limited Free              SPECTRUM  40.673349   \n",
       "\n",
       "      Longitude          Location_T      City  BoroCode NTACode  \n",
       "2320 -73.975776      Subway Station  Brooklyn         3    BK40  \n",
       "1196 -74.031896             Outdoor  Brooklyn         3    BK31  \n",
       "251  -74.010351             Library  Brooklyn         3    BK33  \n",
       "1870 -73.884987       Outdoor Kiosk    Queens         4    QN29  \n",
       "552  -74.008235  Outdoor TWC Aerial  Brooklyn         3    BK33  "
      ]
     },
     "execution_count": 77,
     "metadata": {},
     "output_type": "execute_result"
    }
   ],
   "source": [
    "df = pd.read_excel(\"Wifi Data.xlsx\")\n",
    "df.sample(5)"
   ]
  },
  {
   "cell_type": "code",
   "execution_count": 78,
   "metadata": {},
   "outputs": [
    {
     "data": {
      "text/plain": [
       "(2566, 10)"
      ]
     },
     "execution_count": 78,
     "metadata": {},
     "output_type": "execute_result"
    }
   ],
   "source": [
    "df.shape"
   ]
  },
  {
   "cell_type": "code",
   "execution_count": 94,
   "metadata": {},
   "outputs": [
    {
     "name": "stdout",
     "output_type": "stream",
     "text": [
      "<class 'pandas.core.frame.DataFrame'>\n",
      "RangeIndex: 2566 entries, 0 to 2565\n",
      "Data columns (total 11 columns):\n",
      " #   Column      Non-Null Count  Dtype  \n",
      "---  ------      --------------  -----  \n",
      " 0   OBJECTID    2566 non-null   int64  \n",
      " 1   Borough     2566 non-null   object \n",
      " 2   Type        2566 non-null   object \n",
      " 3   Provider    2566 non-null   object \n",
      " 4   Latitude    2566 non-null   float64\n",
      " 5   Longitude   2566 non-null   float64\n",
      " 6   Location_T  2566 non-null   object \n",
      " 7   City        2566 non-null   object \n",
      " 8   BoroCode    2566 non-null   int64  \n",
      " 9   NTACode     2566 non-null   object \n",
      " 10  Type_free   2566 non-null   int32  \n",
      "dtypes: float64(2), int32(1), int64(2), object(6)\n",
      "memory usage: 210.6+ KB\n"
     ]
    }
   ],
   "source": [
    "df.info()"
   ]
  },
  {
   "cell_type": "code",
   "execution_count": 79,
   "metadata": {},
   "outputs": [
    {
     "data": {
      "text/html": [
       "<div><div id=6ba58053-5c89-4ccb-858c-cc4e176069b5 style=\"display:none; background-color:#9D6CFF; color:white; width:200px; height:30px; padding-left:5px; border-radius:4px; flex-direction:row; justify-content:space-around; align-items:center;\" onmouseover=\"this.style.backgroundColor='#BA9BF8'\" onmouseout=\"this.style.backgroundColor='#9D6CFF'\" onclick=\"window.commands?.execute('create-mitosheet-from-dataframe-output');\">See Full Dataframe in Mito</div> <script> if (window.commands?.hasCommand('create-mitosheet-from-dataframe-output')) document.getElementById('6ba58053-5c89-4ccb-858c-cc4e176069b5').style.display = 'flex' </script> <table border=\"1\" class=\"dataframe\">\n",
       "  <thead>\n",
       "    <tr style=\"text-align: right;\">\n",
       "      <th></th>\n",
       "      <th>count</th>\n",
       "      <th>mean</th>\n",
       "      <th>std</th>\n",
       "      <th>min</th>\n",
       "      <th>25%</th>\n",
       "      <th>50%</th>\n",
       "      <th>75%</th>\n",
       "      <th>max</th>\n",
       "    </tr>\n",
       "  </thead>\n",
       "  <tbody>\n",
       "    <tr>\n",
       "      <th>OBJECTID</th>\n",
       "      <td>2566.0</td>\n",
       "      <td>1283.500000</td>\n",
       "      <td>740.884719</td>\n",
       "      <td>1.000000</td>\n",
       "      <td>642.250000</td>\n",
       "      <td>1283.500000</td>\n",
       "      <td>1924.750000</td>\n",
       "      <td>2566.000000</td>\n",
       "    </tr>\n",
       "    <tr>\n",
       "      <th>Latitude</th>\n",
       "      <td>2566.0</td>\n",
       "      <td>40.738396</td>\n",
       "      <td>0.070845</td>\n",
       "      <td>40.509531</td>\n",
       "      <td>40.693069</td>\n",
       "      <td>40.743196</td>\n",
       "      <td>40.796066</td>\n",
       "      <td>40.903723</td>\n",
       "    </tr>\n",
       "    <tr>\n",
       "      <th>Longitude</th>\n",
       "      <td>2566.0</td>\n",
       "      <td>-73.947564</td>\n",
       "      <td>0.067150</td>\n",
       "      <td>-74.244107</td>\n",
       "      <td>-73.985954</td>\n",
       "      <td>-73.958354</td>\n",
       "      <td>-73.922968</td>\n",
       "      <td>-73.714838</td>\n",
       "    </tr>\n",
       "    <tr>\n",
       "      <th>BoroCode</th>\n",
       "      <td>2566.0</td>\n",
       "      <td>2.196804</td>\n",
       "      <td>1.282300</td>\n",
       "      <td>1.000000</td>\n",
       "      <td>1.000000</td>\n",
       "      <td>2.000000</td>\n",
       "      <td>3.000000</td>\n",
       "      <td>5.000000</td>\n",
       "    </tr>\n",
       "  </tbody>\n",
       "</table></div>"
      ],
      "text/plain": [
       "            count         mean         std        min         25%  \\\n",
       "OBJECTID   2566.0  1283.500000  740.884719   1.000000  642.250000   \n",
       "Latitude   2566.0    40.738396    0.070845  40.509531   40.693069   \n",
       "Longitude  2566.0   -73.947564    0.067150 -74.244107  -73.985954   \n",
       "BoroCode   2566.0     2.196804    1.282300   1.000000    1.000000   \n",
       "\n",
       "                   50%          75%          max  \n",
       "OBJECTID   1283.500000  1924.750000  2566.000000  \n",
       "Latitude     40.743196    40.796066    40.903723  \n",
       "Longitude   -73.958354   -73.922968   -73.714838  \n",
       "BoroCode      2.000000     3.000000     5.000000  "
      ]
     },
     "execution_count": 79,
     "metadata": {},
     "output_type": "execute_result"
    }
   ],
   "source": [
    "df.describe().T"
   ]
  },
  {
   "cell_type": "code",
   "execution_count": 80,
   "metadata": {},
   "outputs": [
    {
     "name": "stdout",
     "output_type": "stream",
     "text": [
      "Borough :------------\n",
      "MN    1204\n",
      "BK     595\n",
      "QU     415\n",
      "BX     257\n",
      "SI      95\n",
      "Name: Borough, dtype: int64\n",
      "BoroCode :------------\n",
      "1    1205\n",
      "3     593\n",
      "4     416\n",
      "2     257\n",
      "5      95\n",
      "Name: BoroCode, dtype: int64\n",
      "Type :------------\n",
      "Free            1983\n",
      "Limited Free     581\n",
      "Partner Site       2\n",
      "Name: Type, dtype: int64\n",
      "Provider :------------\n",
      "LinkNYC - Citybridge       1134\n",
      "SPECTRUM                    343\n",
      "Transit Wireless            276\n",
      "ALTICEUSA                   237\n",
      "Harlem                      128\n",
      "Downtown Brooklyn           100\n",
      "NYPL                         90\n",
      "QPL                          65\n",
      "BPL                          59\n",
      "Manhattan Down Alliance      36\n",
      "Chelsea                      30\n",
      "NYCHA                        28\n",
      "AT&T                         27\n",
      "City Tech                    11\n",
      "Partner                       2\n",
      "Name: Provider, dtype: int64\n",
      "Location_T :------------\n",
      "Outdoor Kiosk         1134\n",
      "Outdoor                696\n",
      "Subway Station         276\n",
      "Library                214\n",
      "Indoor                 125\n",
      "Outdoor TWC Aerial     121\n",
      "Name: Location_T, dtype: int64\n",
      "City :------------\n",
      "New York            1204\n",
      "Brooklyn             595\n",
      "Queens               350\n",
      "Bronx                257\n",
      "Staten Island         95\n",
      "Flushing               9\n",
      "Long Island City       8\n",
      "Jamaica                5\n",
      "Corona                 3\n",
      "Bayside                3\n",
      "Little Neck            2\n",
      "Forest Hills           2\n",
      "Richmond Hill          2\n",
      "Queens Village         1\n",
      "Far Rockaway           1\n",
      "Glen Oaks              1\n",
      "Glendale               1\n",
      "Woodside               1\n",
      "Howard Beach           1\n",
      "Ridgewood              1\n",
      "Broad Channel          1\n",
      "Rockaway Beach         1\n",
      "South Ozone Park       1\n",
      "Ozone Park             1\n",
      "Rockaway Park          1\n",
      "Middle Village         1\n",
      "Saint Albans           1\n",
      "Hollis                 1\n",
      "Bellerose              1\n",
      "Woodhaven              1\n",
      "East Elmhurst          1\n",
      "Maspeth                1\n",
      "Fresh Meadows          1\n",
      "Laurelton              1\n",
      "Arverne                1\n",
      "Cambria Heights        1\n",
      "Briarwood              1\n",
      "Whitestone             1\n",
      "Rego Park              1\n",
      "Jackson Heights        1\n",
      "South Hollis           1\n",
      "Rosedale               1\n",
      "College Point          1\n",
      "Elmhurst               1\n",
      "Name: City, dtype: int64\n",
      "NTACode :------------\n",
      "MN17    138\n",
      "BK38    119\n",
      "MN13    104\n",
      "MN03     99\n",
      "MN11     80\n",
      "       ... \n",
      "QN48      1\n",
      "BK19      1\n",
      "QN66      1\n",
      "QN38      1\n",
      "BX06      1\n",
      "Name: NTACode, Length: 178, dtype: int64\n"
     ]
    }
   ],
   "source": [
    "# Categorical Variables - Let's do a frequency count.\n",
    "\n",
    "cat_var = ['Borough','BoroCode', 'Type', 'Provider','Location_T', 'City','NTACode']\n",
    "\n",
    "for var in cat_var:\n",
    "    print(var, \":------------\")\n",
    "    print(df[var].value_counts())"
   ]
  },
  {
   "cell_type": "code",
   "execution_count": 81,
   "metadata": {},
   "outputs": [
    {
     "data": {
      "image/png": "[encoded data removed]",
      "text/plain": [
       "<Figure size 432x288 with 4 Axes>"
      ]
     },
     "metadata": {
      "needs_background": "light"
     },
     "output_type": "display_data"
    }
   ],
   "source": [
    "df.hist()\n",
    "plt.show() "
   ]
  },
  {
   "cell_type": "markdown",
   "metadata": {},
   "source": [
    "Inferences:\n",
    "- Borough and BoroCode are redundant. One of them can be dropped.\n",
    "- OBJECTID is an ID column and can be dropped as well."
   ]
  },
  {
   "cell_type": "markdown",
   "metadata": {},
   "source": [
    "### 2. Using appropriate data visualization answer the following:\n",
    "\n",
    "- Plot the providers vs number of all wi-fi hotspots they have in operation? Who has the highest installations?\n",
    "- Plot providers vs number of free wifi hotspots.\n",
    "- Are there any provider(s) who do not provide free wifi?\n",
    "- Which Location type (Location_T) are most common and least common?\n",
    "- How many free “indoor” and “outdoor” hotspots are there? Which companies have the highest number of Outdoor Free installations."
   ]
  },
  {
   "cell_type": "markdown",
   "metadata": {},
   "source": [
    "<a class=\"anchor\" id=\"second-bullet\"></a>\n",
    "\n",
    "\n",
    "#### 2a) Plot the providers vs number of all wi-fi hotspots they have in operation? Who has the highest installations?"
   ]
  },
  {
   "cell_type": "code",
   "execution_count": 82,
   "metadata": {},
   "outputs": [
    {
     "data": {
      "image/png": "[encoded data removed]",
      "text/plain": [
       "<Figure size 432x288 with 1 Axes>"
      ]
     },
     "metadata": {
      "needs_background": "light"
     },
     "output_type": "display_data"
    }
   ],
   "source": [
    "sns.histplot(data=df, y=\"Provider\")\n",
    "\n",
    "plt.show()"
   ]
  },
  {
   "cell_type": "markdown",
   "metadata": {},
   "source": [
    "```LinkNYC - Citybridge``` has highest installations."
   ]
  },
  {
   "cell_type": "markdown",
   "metadata": {},
   "source": [
    "<a class=\"anchor\" id=\"third-bullet\"></a>\n",
    "\n",
    "#### 2b) Plot providers vs number of free wifi hotspots."
   ]
  },
  {
   "cell_type": "code",
   "execution_count": 83,
   "metadata": {},
   "outputs": [
    {
     "data": {
      "text/plain": [
       "Free            1983\n",
       "Limited Free     581\n",
       "Partner Site       2\n",
       "Name: Type, dtype: int64"
      ]
     },
     "execution_count": 83,
     "metadata": {},
     "output_type": "execute_result"
    }
   ],
   "source": [
    "df['Type'].value_counts()"
   ]
  },
  {
   "cell_type": "code",
   "execution_count": 84,
   "metadata": {},
   "outputs": [],
   "source": [
    "# Add indicator/flag indicating Provider Type = \"Free\"\n",
    "import numpy as np\n",
    "df['Type_free'] = np.where(df['Type'] == 'Free', 1 , 0)"
   ]
  },
  {
   "cell_type": "code",
   "execution_count": 85,
   "metadata": {},
   "outputs": [
    {
     "data": {
      "image/png": "[encoded data removed]",
      "text/plain": [
       "<Figure size 432x288 with 1 Axes>"
      ]
     },
     "metadata": {
      "needs_background": "light"
     },
     "output_type": "display_data"
    }
   ],
   "source": [
    "df.groupby('Provider')['Type_free'].sum().plot(kind = 'bar')\n",
    "plt.show()"
   ]
  },
  {
   "cell_type": "markdown",
   "metadata": {},
   "source": [
    "<a class=\"anchor\" id=\"fourth-bullet\"></a>\n",
    "\n",
    "\n",
    "#### 2c) Are there any provider(s) who do not provide free wifi?"
   ]
  },
  {
   "cell_type": "code",
   "execution_count": 86,
   "metadata": {},
   "outputs": [],
   "source": [
    "df_NonFree_Wifi = df[(df.Type != \"Free\")]"
   ]
  },
  {
   "cell_type": "code",
   "execution_count": 87,
   "metadata": {},
   "outputs": [
    {
     "data": {
      "text/html": [
       "<div><div id=badff5c4-16e1-4185-ad56-323ce71c4beb style=\"display:none; background-color:#9D6CFF; color:white; width:200px; height:30px; padding-left:5px; border-radius:4px; flex-direction:row; justify-content:space-around; align-items:center;\" onmouseover=\"this.style.backgroundColor='#BA9BF8'\" onmouseout=\"this.style.backgroundColor='#9D6CFF'\" onclick=\"window.commands?.execute('create-mitosheet-from-dataframe-output');\">See Full Dataframe in Mito</div> <script> if (window.commands?.hasCommand('create-mitosheet-from-dataframe-output')) document.getElementById('badff5c4-16e1-4185-ad56-323ce71c4beb').style.display = 'flex' </script> <table border=\"1\" class=\"dataframe\">\n",
       "  <thead>\n",
       "    <tr style=\"text-align: right;\">\n",
       "      <th></th>\n",
       "      <th>OBJECTID</th>\n",
       "      <th>Borough</th>\n",
       "      <th>Type</th>\n",
       "      <th>Latitude</th>\n",
       "      <th>Longitude</th>\n",
       "      <th>Location_T</th>\n",
       "      <th>City</th>\n",
       "      <th>BoroCode</th>\n",
       "      <th>NTACode</th>\n",
       "      <th>Type_free</th>\n",
       "    </tr>\n",
       "    <tr>\n",
       "      <th>Provider</th>\n",
       "      <th></th>\n",
       "      <th></th>\n",
       "      <th></th>\n",
       "      <th></th>\n",
       "      <th></th>\n",
       "      <th></th>\n",
       "      <th></th>\n",
       "      <th></th>\n",
       "      <th></th>\n",
       "      <th></th>\n",
       "    </tr>\n",
       "  </thead>\n",
       "  <tbody>\n",
       "    <tr>\n",
       "      <th>ALTICEUSA</th>\n",
       "      <td>237</td>\n",
       "      <td>2</td>\n",
       "      <td>1</td>\n",
       "      <td>210</td>\n",
       "      <td>210</td>\n",
       "      <td>2</td>\n",
       "      <td>2</td>\n",
       "      <td>2</td>\n",
       "      <td>32</td>\n",
       "      <td>1</td>\n",
       "    </tr>\n",
       "    <tr>\n",
       "      <th>AT&amp;T</th>\n",
       "      <td>1</td>\n",
       "      <td>1</td>\n",
       "      <td>1</td>\n",
       "      <td>1</td>\n",
       "      <td>1</td>\n",
       "      <td>1</td>\n",
       "      <td>1</td>\n",
       "      <td>1</td>\n",
       "      <td>1</td>\n",
       "      <td>1</td>\n",
       "    </tr>\n",
       "    <tr>\n",
       "      <th>Partner</th>\n",
       "      <td>2</td>\n",
       "      <td>1</td>\n",
       "      <td>1</td>\n",
       "      <td>2</td>\n",
       "      <td>2</td>\n",
       "      <td>1</td>\n",
       "      <td>1</td>\n",
       "      <td>1</td>\n",
       "      <td>2</td>\n",
       "      <td>1</td>\n",
       "    </tr>\n",
       "    <tr>\n",
       "      <th>SPECTRUM</th>\n",
       "      <td>343</td>\n",
       "      <td>4</td>\n",
       "      <td>1</td>\n",
       "      <td>265</td>\n",
       "      <td>263</td>\n",
       "      <td>3</td>\n",
       "      <td>4</td>\n",
       "      <td>4</td>\n",
       "      <td>51</td>\n",
       "      <td>1</td>\n",
       "    </tr>\n",
       "  </tbody>\n",
       "</table></div>"
      ],
      "text/plain": [
       "           OBJECTID  Borough  Type  Latitude  Longitude  Location_T  City  \\\n",
       "Provider                                                                    \n",
       "ALTICEUSA       237        2     1       210        210           2     2   \n",
       "AT&T              1        1     1         1          1           1     1   \n",
       "Partner           2        1     1         2          2           1     1   \n",
       "SPECTRUM        343        4     1       265        263           3     4   \n",
       "\n",
       "           BoroCode  NTACode  Type_free  \n",
       "Provider                                 \n",
       "ALTICEUSA         2       32          1  \n",
       "AT&T              1        1          1  \n",
       "Partner           1        2          1  \n",
       "SPECTRUM          4       51          1  "
      ]
     },
     "execution_count": 87,
     "metadata": {},
     "output_type": "execute_result"
    }
   ],
   "source": [
    "df_NonFree_Wifi.groupby(\"Provider\").nunique()"
   ]
  },
  {
   "cell_type": "markdown",
   "metadata": {},
   "source": [
    "Providers are ```ALTICEUSA, AT&T, Partner, SPECTRUM``` (with no \"Free\" wifi)"
   ]
  },
  {
   "cell_type": "markdown",
   "metadata": {},
   "source": [
    "<a class=\"anchor\" id=\"fifth-bullet\"></a>\n",
    "\n",
    "\n",
    "#### 2d) Which Location type (Location_T) are most common and least common?"
   ]
  },
  {
   "cell_type": "code",
   "execution_count": 88,
   "metadata": {},
   "outputs": [
    {
     "data": {
      "text/plain": [
       "Outdoor Kiosk         1134\n",
       "Outdoor                696\n",
       "Subway Station         276\n",
       "Library                214\n",
       "Indoor                 125\n",
       "Outdoor TWC Aerial     121\n",
       "Name: Location_T, dtype: int64"
      ]
     },
     "execution_count": 88,
     "metadata": {},
     "output_type": "execute_result"
    }
   ],
   "source": [
    "df['Location_T'].value_counts()"
   ]
  },
  {
   "cell_type": "code",
   "execution_count": 89,
   "metadata": {},
   "outputs": [
    {
     "data": {
      "image/png": "[encoded data removed]",
      "text/plain": [
       "<Figure size 432x288 with 1 Axes>"
      ]
     },
     "metadata": {
      "needs_background": "light"
     },
     "output_type": "display_data"
    }
   ],
   "source": [
    "sns.histplot(data=df, y=\"Location_T\")\n",
    "\n",
    "plt.show()"
   ]
  },
  {
   "cell_type": "markdown",
   "metadata": {},
   "source": [
    "```Outdoor Kiosk``` is most common and ```Outdoor TWC Aerial``` is least common."
   ]
  },
  {
   "cell_type": "markdown",
   "metadata": {},
   "source": [
    "<a class=\"anchor\" id=\"sixth-bullet\"></a>\n",
    "\n",
    "\n",
    "#### 2e) How many free “indoor” and “outdoor” hotspots are there? Which companies have the highest number of Outdoor Free installations."
   ]
  },
  {
   "cell_type": "code",
   "execution_count": 90,
   "metadata": {},
   "outputs": [
    {
     "data": {
      "text/plain": [
       "(125, 11)"
      ]
     },
     "execution_count": 90,
     "metadata": {},
     "output_type": "execute_result"
    }
   ],
   "source": [
    "df_Indoor = df[(df.Location_T == \"Indoor\")]\n",
    "\n",
    "df_Indoor.shape"
   ]
  },
  {
   "cell_type": "markdown",
   "metadata": {},
   "source": [
    "There are ```125 Indoor``` hotspots."
   ]
  },
  {
   "cell_type": "code",
   "execution_count": 91,
   "metadata": {},
   "outputs": [
    {
     "data": {
      "text/plain": [
       "(696, 11)"
      ]
     },
     "execution_count": 91,
     "metadata": {},
     "output_type": "execute_result"
    }
   ],
   "source": [
    "df_Outdoor = df[(df.Location_T == \"Outdoor\")]\n",
    "\n",
    "df_Outdoor.shape"
   ]
  },
  {
   "cell_type": "markdown",
   "metadata": {},
   "source": [
    "There are ```696 Outdoor``` hotspots."
   ]
  },
  {
   "cell_type": "code",
   "execution_count": 92,
   "metadata": {},
   "outputs": [
    {
     "data": {
      "text/html": [
       "<div><div id=a00007d5-b7c0-4022-a14e-0933ac01a1a4 style=\"display:none; background-color:#9D6CFF; color:white; width:200px; height:30px; padding-left:5px; border-radius:4px; flex-direction:row; justify-content:space-around; align-items:center;\" onmouseover=\"this.style.backgroundColor='#BA9BF8'\" onmouseout=\"this.style.backgroundColor='#9D6CFF'\" onclick=\"window.commands?.execute('create-mitosheet-from-dataframe-output');\">See Full Dataframe in Mito</div> <script> if (window.commands?.hasCommand('create-mitosheet-from-dataframe-output')) document.getElementById('a00007d5-b7c0-4022-a14e-0933ac01a1a4').style.display = 'flex' </script> <table border=\"1\" class=\"dataframe\">\n",
       "  <thead>\n",
       "    <tr style=\"text-align: right;\">\n",
       "      <th></th>\n",
       "      <th>OBJECTID</th>\n",
       "      <th>Borough</th>\n",
       "      <th>Type</th>\n",
       "      <th>Provider</th>\n",
       "      <th>Latitude</th>\n",
       "      <th>Longitude</th>\n",
       "      <th>Location_T</th>\n",
       "      <th>City</th>\n",
       "      <th>BoroCode</th>\n",
       "      <th>NTACode</th>\n",
       "      <th>Type_free</th>\n",
       "    </tr>\n",
       "  </thead>\n",
       "  <tbody>\n",
       "    <tr>\n",
       "      <th>65</th>\n",
       "      <td>66</td>\n",
       "      <td>BK</td>\n",
       "      <td>Free</td>\n",
       "      <td>NYCHA</td>\n",
       "      <td>40.695009</td>\n",
       "      <td>-73.979547</td>\n",
       "      <td>Outdoor</td>\n",
       "      <td>Brooklyn</td>\n",
       "      <td>3</td>\n",
       "      <td>BK68</td>\n",
       "      <td>1</td>\n",
       "    </tr>\n",
       "    <tr>\n",
       "      <th>66</th>\n",
       "      <td>67</td>\n",
       "      <td>BK</td>\n",
       "      <td>Free</td>\n",
       "      <td>NYCHA</td>\n",
       "      <td>40.694623</td>\n",
       "      <td>-73.979909</td>\n",
       "      <td>Outdoor</td>\n",
       "      <td>Brooklyn</td>\n",
       "      <td>3</td>\n",
       "      <td>BK68</td>\n",
       "      <td>1</td>\n",
       "    </tr>\n",
       "    <tr>\n",
       "      <th>67</th>\n",
       "      <td>68</td>\n",
       "      <td>BK</td>\n",
       "      <td>Free</td>\n",
       "      <td>NYCHA</td>\n",
       "      <td>40.694137</td>\n",
       "      <td>-73.979813</td>\n",
       "      <td>Outdoor</td>\n",
       "      <td>Brooklyn</td>\n",
       "      <td>3</td>\n",
       "      <td>BK68</td>\n",
       "      <td>1</td>\n",
       "    </tr>\n",
       "    <tr>\n",
       "      <th>68</th>\n",
       "      <td>69</td>\n",
       "      <td>BK</td>\n",
       "      <td>Free</td>\n",
       "      <td>NYCHA</td>\n",
       "      <td>40.694540</td>\n",
       "      <td>-73.979416</td>\n",
       "      <td>Outdoor</td>\n",
       "      <td>Brooklyn</td>\n",
       "      <td>3</td>\n",
       "      <td>BK68</td>\n",
       "      <td>1</td>\n",
       "    </tr>\n",
       "    <tr>\n",
       "      <th>69</th>\n",
       "      <td>70</td>\n",
       "      <td>BK</td>\n",
       "      <td>Free</td>\n",
       "      <td>NYCHA</td>\n",
       "      <td>40.694626</td>\n",
       "      <td>-73.975180</td>\n",
       "      <td>Outdoor</td>\n",
       "      <td>Brooklyn</td>\n",
       "      <td>3</td>\n",
       "      <td>BK68</td>\n",
       "      <td>1</td>\n",
       "    </tr>\n",
       "    <tr>\n",
       "      <th>...</th>\n",
       "      <td>...</td>\n",
       "      <td>...</td>\n",
       "      <td>...</td>\n",
       "      <td>...</td>\n",
       "      <td>...</td>\n",
       "      <td>...</td>\n",
       "      <td>...</td>\n",
       "      <td>...</td>\n",
       "      <td>...</td>\n",
       "      <td>...</td>\n",
       "      <td>...</td>\n",
       "    </tr>\n",
       "    <tr>\n",
       "      <th>2116</th>\n",
       "      <td>2117</td>\n",
       "      <td>BK</td>\n",
       "      <td>Free</td>\n",
       "      <td>City Tech</td>\n",
       "      <td>40.695038</td>\n",
       "      <td>-73.987331</td>\n",
       "      <td>Outdoor</td>\n",
       "      <td>Brooklyn</td>\n",
       "      <td>3</td>\n",
       "      <td>BK38</td>\n",
       "      <td>1</td>\n",
       "    </tr>\n",
       "    <tr>\n",
       "      <th>2120</th>\n",
       "      <td>2121</td>\n",
       "      <td>BK</td>\n",
       "      <td>Free</td>\n",
       "      <td>Downtown Brooklyn</td>\n",
       "      <td>40.691224</td>\n",
       "      <td>-73.986620</td>\n",
       "      <td>Outdoor</td>\n",
       "      <td>Brooklyn</td>\n",
       "      <td>3</td>\n",
       "      <td>BK38</td>\n",
       "      <td>1</td>\n",
       "    </tr>\n",
       "    <tr>\n",
       "      <th>2518</th>\n",
       "      <td>2519</td>\n",
       "      <td>MN</td>\n",
       "      <td>Free</td>\n",
       "      <td>Chelsea</td>\n",
       "      <td>40.743120</td>\n",
       "      <td>-74.008305</td>\n",
       "      <td>Outdoor</td>\n",
       "      <td>New York</td>\n",
       "      <td>1</td>\n",
       "      <td>MN13</td>\n",
       "      <td>1</td>\n",
       "    </tr>\n",
       "    <tr>\n",
       "      <th>2521</th>\n",
       "      <td>2522</td>\n",
       "      <td>BK</td>\n",
       "      <td>Free</td>\n",
       "      <td>Downtown Brooklyn</td>\n",
       "      <td>40.692723</td>\n",
       "      <td>-73.983025</td>\n",
       "      <td>Outdoor</td>\n",
       "      <td>Brooklyn</td>\n",
       "      <td>3</td>\n",
       "      <td>BK38</td>\n",
       "      <td>1</td>\n",
       "    </tr>\n",
       "    <tr>\n",
       "      <th>2522</th>\n",
       "      <td>2523</td>\n",
       "      <td>BK</td>\n",
       "      <td>Free</td>\n",
       "      <td>Downtown Brooklyn</td>\n",
       "      <td>40.689967</td>\n",
       "      <td>-73.992083</td>\n",
       "      <td>Outdoor</td>\n",
       "      <td>Brooklyn</td>\n",
       "      <td>3</td>\n",
       "      <td>BK09</td>\n",
       "      <td>1</td>\n",
       "    </tr>\n",
       "  </tbody>\n",
       "</table></div>"
      ],
      "text/plain": [
       "      OBJECTID Borough  Type           Provider   Latitude  Longitude  \\\n",
       "65          66      BK  Free              NYCHA  40.695009 -73.979547   \n",
       "66          67      BK  Free              NYCHA  40.694623 -73.979909   \n",
       "67          68      BK  Free              NYCHA  40.694137 -73.979813   \n",
       "68          69      BK  Free              NYCHA  40.694540 -73.979416   \n",
       "69          70      BK  Free              NYCHA  40.694626 -73.975180   \n",
       "...        ...     ...   ...                ...        ...        ...   \n",
       "2116      2117      BK  Free          City Tech  40.695038 -73.987331   \n",
       "2120      2121      BK  Free  Downtown Brooklyn  40.691224 -73.986620   \n",
       "2518      2519      MN  Free            Chelsea  40.743120 -74.008305   \n",
       "2521      2522      BK  Free  Downtown Brooklyn  40.692723 -73.983025   \n",
       "2522      2523      BK  Free  Downtown Brooklyn  40.689967 -73.992083   \n",
       "\n",
       "     Location_T      City  BoroCode NTACode  Type_free  \n",
       "65      Outdoor  Brooklyn         3    BK68          1  \n",
       "66      Outdoor  Brooklyn         3    BK68          1  \n",
       "67      Outdoor  Brooklyn         3    BK68          1  \n",
       "68      Outdoor  Brooklyn         3    BK68          1  \n",
       "69      Outdoor  Brooklyn         3    BK68          1  \n",
       "...         ...       ...       ...     ...        ...  \n",
       "2116    Outdoor  Brooklyn         3    BK38          1  \n",
       "2120    Outdoor  Brooklyn         3    BK38          1  \n",
       "2518    Outdoor  New York         1    MN13          1  \n",
       "2521    Outdoor  Brooklyn         3    BK38          1  \n",
       "2522    Outdoor  Brooklyn         3    BK09          1  \n",
       "\n",
       "[359 rows x 11 columns]"
      ]
     },
     "execution_count": 92,
     "metadata": {},
     "output_type": "execute_result"
    }
   ],
   "source": [
    "# Outdoor and Free installations\n",
    "df_Outdoor_Free = df_Outdoor[(df_Outdoor.Type == \"Free\")]\n",
    "df_Outdoor_Free"
   ]
  },
  {
   "cell_type": "code",
   "execution_count": 93,
   "metadata": {},
   "outputs": [
    {
     "data": {
      "image/png": "[encoded data removed]",
      "text/plain": [
       "<Figure size 432x288 with 1 Axes>"
      ]
     },
     "metadata": {
      "needs_background": "light"
     },
     "output_type": "display_data"
    }
   ],
   "source": [
    "sns.histplot(data=df_Outdoor_Free, y=\"Provider\")\n",
    "\n",
    "plt.show()"
   ]
  },
  {
   "cell_type": "markdown",
   "metadata": {},
   "source": [
    "```Harlem``` and ```Downtown Brooklyn``` have highest no. of Outdoor Free installations."
   ]
  },
  {
   "cell_type": "markdown",
   "metadata": {},
   "source": [
    "That's all. End of the solution file."
   ]
  }
 ],
 "metadata": {
  "kernelspec": {
   "display_name": "Python 3 (ipykernel)",
   "language": "python",
   "name": "python3"
  },
  "language_info": {
   "codemirror_mode": {
    "name": "ipython",
    "version": 3
   },
   "file_extension": ".py",
   "mimetype": "text/x-python",
   "name": "python",
   "nbconvert_exporter": "python",
   "pygments_lexer": "ipython3",
   "version": "3.9.7"
  }
 },
 "nbformat": 4,
 "nbformat_minor": 4
}
