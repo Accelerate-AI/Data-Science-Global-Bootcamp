{
 "cells": [
  {
   "cell_type": "markdown",
   "metadata": {},
   "source": [
    "## AccelerateAI - Data Science Global Bootcamp\n",
    "#### Python Data Analysis: Assignment 01\n",
    "***"
   ]
  },
  {
   "cell_type": "markdown",
   "metadata": {},
   "source": [
    "## Credit Card Data Analysis:\n",
    "Q1: Consider the Credit card dataset provided. The file Credit Card Data.xlsx has 3 tabs with the following data: \n",
    "- Credit Card customer master data \n",
    "- Spend (Transaction) data \n",
    "- Card repayment information <br>\n",
    "\n",
    "Read the data in the excel file using Pandas library and perform the following: \n",
    " 1. [Check the data for any corrupt data, missing values, incorrect data types etc.](#first-bullet) \n",
    " 2. Make the following substitution: <br>\n",
    "   a) [Age of credit card customer can't be less than 18. In case age is less than 18, replace it with mean of age.](#second-bullet)\n",
    " 3. [Answer the following questions:](#third-bullet)\n",
    "   - a) How many unique customers are there? \n",
    "   - b) How many spend categories are there? \n",
    "   - c) Which category has the highest average spend? \n",
    "   - d) What is the average monthly spent by product categories? \n",
    "   - e) Which customers are reaching 90% or more of their spending limit? \n",
    "   - f) Which city has the maximum number of spenders, each month? Is there a need to run campaigns in specific cities? \n",
    "   - g) Which age group spends the most?"
   ]
  },
  {
   "cell_type": "code",
   "execution_count": 91,
   "metadata": {},
   "outputs": [],
   "source": [
    "import numpy as np\n",
    "import pandas as pd "
   ]
  },
  {
   "cell_type": "markdown",
   "metadata": {},
   "source": [
    "##### Read the data in excel file using Pandas library\n",
    "- Credit Card customer acquisition\n",
    "- Spend (Transaction) Data\n",
    "- Payment Information \n"
   ]
  },
  {
   "cell_type": "code",
   "execution_count": 92,
   "metadata": {},
   "outputs": [
    {
     "data": {
      "text/html": [
       "<div><div id=69e55f5c-06f5-4939-9751-ae6c7f3a0477 style=\"display:none; background-color:#9D6CFF; color:white; width:200px; height:30px; padding-left:5px; border-radius:4px; flex-direction:row; justify-content:space-around; align-items:center;\" onmouseover=\"this.style.backgroundColor='#BA9BF8'\" onmouseout=\"this.style.backgroundColor='#9D6CFF'\" onclick=\"window.commands?.execute('create-mitosheet-from-dataframe-output');\">See Full Dataframe in Mito</div> <script> if (window.commands?.hasCommand('create-mitosheet-from-dataframe-output')) document.getElementById('69e55f5c-06f5-4939-9751-ae6c7f3a0477').style.display = 'flex' </script> <table border=\"1\" class=\"dataframe\">\n",
       "  <thead>\n",
       "    <tr style=\"text-align: right;\">\n",
       "      <th></th>\n",
       "      <th>No</th>\n",
       "      <th>Customer</th>\n",
       "      <th>Age</th>\n",
       "      <th>City</th>\n",
       "      <th>Product</th>\n",
       "      <th>Limit</th>\n",
       "      <th>Company</th>\n",
       "      <th>Segment</th>\n",
       "    </tr>\n",
       "  </thead>\n",
       "  <tbody>\n",
       "    <tr>\n",
       "      <th>0</th>\n",
       "      <td>1</td>\n",
       "      <td>A1</td>\n",
       "      <td>47</td>\n",
       "      <td>BANGALORE</td>\n",
       "      <td>Gold</td>\n",
       "      <td>1500000</td>\n",
       "      <td>C1</td>\n",
       "      <td>Self Employed</td>\n",
       "    </tr>\n",
       "    <tr>\n",
       "      <th>1</th>\n",
       "      <td>2</td>\n",
       "      <td>A2</td>\n",
       "      <td>56</td>\n",
       "      <td>CALCUTTA</td>\n",
       "      <td>Silver</td>\n",
       "      <td>300000</td>\n",
       "      <td>C2</td>\n",
       "      <td>Salaried_MNC</td>\n",
       "    </tr>\n",
       "    <tr>\n",
       "      <th>2</th>\n",
       "      <td>3</td>\n",
       "      <td>A3</td>\n",
       "      <td>30</td>\n",
       "      <td>COCHIN</td>\n",
       "      <td>Platimum</td>\n",
       "      <td>540000</td>\n",
       "      <td>C3</td>\n",
       "      <td>Salaried_Pvt</td>\n",
       "    </tr>\n",
       "    <tr>\n",
       "      <th>3</th>\n",
       "      <td>4</td>\n",
       "      <td>A4</td>\n",
       "      <td>22</td>\n",
       "      <td>BOMBAY</td>\n",
       "      <td>Platimum</td>\n",
       "      <td>840084</td>\n",
       "      <td>C4</td>\n",
       "      <td>Govt</td>\n",
       "    </tr>\n",
       "    <tr>\n",
       "      <th>4</th>\n",
       "      <td>5</td>\n",
       "      <td>A5</td>\n",
       "      <td>59</td>\n",
       "      <td>BANGALORE</td>\n",
       "      <td>Platimum</td>\n",
       "      <td>420084</td>\n",
       "      <td>C5</td>\n",
       "      <td>Normal Salary</td>\n",
       "    </tr>\n",
       "  </tbody>\n",
       "</table></div>"
      ],
      "text/plain": [
       "   No Customer  Age       City   Product    Limit Company        Segment\n",
       "0   1       A1   47  BANGALORE      Gold  1500000      C1  Self Employed\n",
       "1   2       A2   56   CALCUTTA    Silver   300000      C2   Salaried_MNC\n",
       "2   3       A3   30     COCHIN  Platimum   540000      C3   Salaried_Pvt\n",
       "3   4       A4   22     BOMBAY  Platimum   840084      C4           Govt\n",
       "4   5       A5   59  BANGALORE  Platimum   420084      C5  Normal Salary"
      ]
     },
     "execution_count": 92,
     "metadata": {},
     "output_type": "execute_result"
    }
   ],
   "source": [
    "# Credit Card customer acquisition: Sheet 0\n",
    "customer_df = pd.read_excel(\"Credit Card Data.xlsx\", sheet_name=0)\n",
    "customer_df.head()"
   ]
  },
  {
   "cell_type": "code",
   "execution_count": 93,
   "metadata": {},
   "outputs": [
    {
     "data": {
      "text/html": [
       "<div><div id=c2bf290e-8a4f-4a18-9238-6d4c7b20812b style=\"display:none; background-color:#9D6CFF; color:white; width:200px; height:30px; padding-left:5px; border-radius:4px; flex-direction:row; justify-content:space-around; align-items:center;\" onmouseover=\"this.style.backgroundColor='#BA9BF8'\" onmouseout=\"this.style.backgroundColor='#9D6CFF'\" onclick=\"window.commands?.execute('create-mitosheet-from-dataframe-output');\">See Full Dataframe in Mito</div> <script> if (window.commands?.hasCommand('create-mitosheet-from-dataframe-output')) document.getElementById('c2bf290e-8a4f-4a18-9238-6d4c7b20812b').style.display = 'flex' </script> <table border=\"1\" class=\"dataframe\">\n",
       "  <thead>\n",
       "    <tr style=\"text-align: right;\">\n",
       "      <th></th>\n",
       "      <th>Sl No:</th>\n",
       "      <th>Customer</th>\n",
       "      <th>Month</th>\n",
       "      <th>Type</th>\n",
       "      <th>Amount</th>\n",
       "    </tr>\n",
       "  </thead>\n",
       "  <tbody>\n",
       "    <tr>\n",
       "      <th>0</th>\n",
       "      <td>1</td>\n",
       "      <td>A1</td>\n",
       "      <td>2004-01-12</td>\n",
       "      <td>JEWELLERY</td>\n",
       "      <td>344054.980813</td>\n",
       "    </tr>\n",
       "    <tr>\n",
       "      <th>1</th>\n",
       "      <td>2</td>\n",
       "      <td>A1</td>\n",
       "      <td>2004-01-03</td>\n",
       "      <td>PETRO</td>\n",
       "      <td>935.495203</td>\n",
       "    </tr>\n",
       "    <tr>\n",
       "      <th>2</th>\n",
       "      <td>3</td>\n",
       "      <td>A1</td>\n",
       "      <td>2004-01-15</td>\n",
       "      <td>CLOTHES</td>\n",
       "      <td>8687.895474</td>\n",
       "    </tr>\n",
       "    <tr>\n",
       "      <th>3</th>\n",
       "      <td>4</td>\n",
       "      <td>A1</td>\n",
       "      <td>2004-01-25</td>\n",
       "      <td>FOOD</td>\n",
       "      <td>341.159711</td>\n",
       "    </tr>\n",
       "    <tr>\n",
       "      <th>4</th>\n",
       "      <td>5</td>\n",
       "      <td>A1</td>\n",
       "      <td>2005-01-17</td>\n",
       "      <td>CAMERA</td>\n",
       "      <td>3406.639477</td>\n",
       "    </tr>\n",
       "  </tbody>\n",
       "</table></div>"
      ],
      "text/plain": [
       "   Sl No: Customer      Month       Type         Amount\n",
       "0       1       A1 2004-01-12  JEWELLERY  344054.980813\n",
       "1       2       A1 2004-01-03      PETRO     935.495203\n",
       "2       3       A1 2004-01-15    CLOTHES    8687.895474\n",
       "3       4       A1 2004-01-25       FOOD     341.159711\n",
       "4       5       A1 2005-01-17     CAMERA    3406.639477"
      ]
     },
     "execution_count": 93,
     "metadata": {},
     "output_type": "execute_result"
    }
   ],
   "source": [
    "# Spend Data: Sheet 1\n",
    "trans_df = pd.read_excel(\"Credit Card Data.xlsx\", sheet_name=1)\n",
    "trans_df.head()"
   ]
  },
  {
   "cell_type": "code",
   "execution_count": 94,
   "metadata": {},
   "outputs": [
    {
     "data": {
      "text/html": [
       "<div><div id=41e0468c-acd0-4ac2-bda3-de08ca86f417 style=\"display:none; background-color:#9D6CFF; color:white; width:200px; height:30px; padding-left:5px; border-radius:4px; flex-direction:row; justify-content:space-around; align-items:center;\" onmouseover=\"this.style.backgroundColor='#BA9BF8'\" onmouseout=\"this.style.backgroundColor='#9D6CFF'\" onclick=\"window.commands?.execute('create-mitosheet-from-dataframe-output');\">See Full Dataframe in Mito</div> <script> if (window.commands?.hasCommand('create-mitosheet-from-dataframe-output')) document.getElementById('41e0468c-acd0-4ac2-bda3-de08ca86f417').style.display = 'flex' </script> <table border=\"1\" class=\"dataframe\">\n",
       "  <thead>\n",
       "    <tr style=\"text-align: right;\">\n",
       "      <th></th>\n",
       "      <th>SL No:</th>\n",
       "      <th>Customer</th>\n",
       "      <th>Month</th>\n",
       "      <th>Amount</th>\n",
       "    </tr>\n",
       "  </thead>\n",
       "  <tbody>\n",
       "    <tr>\n",
       "      <th>0</th>\n",
       "      <td>1</td>\n",
       "      <td>A1</td>\n",
       "      <td>2006-05-15</td>\n",
       "      <td>2.308473e+05</td>\n",
       "    </tr>\n",
       "    <tr>\n",
       "      <th>1</th>\n",
       "      <td>2</td>\n",
       "      <td>A1</td>\n",
       "      <td>2005-08-27</td>\n",
       "      <td>1.835124e+03</td>\n",
       "    </tr>\n",
       "    <tr>\n",
       "      <th>2</th>\n",
       "      <td>3</td>\n",
       "      <td>A1</td>\n",
       "      <td>2004-03-07</td>\n",
       "      <td>4.858701e+03</td>\n",
       "    </tr>\n",
       "    <tr>\n",
       "      <th>3</th>\n",
       "      <td>4</td>\n",
       "      <td>A1</td>\n",
       "      <td>2005-03-01</td>\n",
       "      <td>1.360527e+06</td>\n",
       "    </tr>\n",
       "    <tr>\n",
       "      <th>4</th>\n",
       "      <td>5</td>\n",
       "      <td>A1</td>\n",
       "      <td>2004-02-14</td>\n",
       "      <td>1.902322e+05</td>\n",
       "    </tr>\n",
       "  </tbody>\n",
       "</table></div>"
      ],
      "text/plain": [
       "   SL No: Customer      Month        Amount\n",
       "0       1       A1 2006-05-15  2.308473e+05\n",
       "1       2       A1 2005-08-27  1.835124e+03\n",
       "2       3       A1 2004-03-07  4.858701e+03\n",
       "3       4       A1 2005-03-01  1.360527e+06\n",
       "4       5       A1 2004-02-14  1.902322e+05"
      ]
     },
     "execution_count": 94,
     "metadata": {},
     "output_type": "execute_result"
    }
   ],
   "source": [
    "# Payment Information: Sheet 2\n",
    "payment_df = pd.read_excel(\"Credit Card Data.xlsx\", sheet_name=2)\n",
    "payment_df.head()"
   ]
  },
  {
   "cell_type": "markdown",
   "metadata": {},
   "source": [
    "<a class=\"anchor\" id=\"first-bullet\"></a>\n",
    "\n",
    "### 1. Check the data for any corrupt data, missing values, incorrect data types etc.  "
   ]
  },
  {
   "cell_type": "code",
   "execution_count": 95,
   "metadata": {},
   "outputs": [
    {
     "name": "stdout",
     "output_type": "stream",
     "text": [
      "<class 'pandas.core.frame.DataFrame'>\n",
      "RangeIndex: 100 entries, 0 to 99\n",
      "Data columns (total 8 columns):\n",
      " #   Column    Non-Null Count  Dtype \n",
      "---  ------    --------------  ----- \n",
      " 0   No        100 non-null    int64 \n",
      " 1   Customer  100 non-null    object\n",
      " 2   Age       100 non-null    int64 \n",
      " 3   City      100 non-null    object\n",
      " 4   Product   100 non-null    object\n",
      " 5   Limit     100 non-null    int64 \n",
      " 6   Company   100 non-null    object\n",
      " 7   Segment   100 non-null    object\n",
      "dtypes: int64(3), object(5)\n",
      "memory usage: 6.4+ KB\n"
     ]
    }
   ],
   "source": [
    "# use the pandas info() to check for missing cvalues and data types \n",
    "customer_df.info()"
   ]
  },
  {
   "cell_type": "code",
   "execution_count": 96,
   "metadata": {},
   "outputs": [
    {
     "name": "stdout",
     "output_type": "stream",
     "text": [
      "<class 'pandas.core.frame.DataFrame'>\n",
      "RangeIndex: 1500 entries, 0 to 1499\n",
      "Data columns (total 5 columns):\n",
      " #   Column    Non-Null Count  Dtype         \n",
      "---  ------    --------------  -----         \n",
      " 0   Sl No:    1500 non-null   int64         \n",
      " 1   Customer  1500 non-null   object        \n",
      " 2   Month     1500 non-null   datetime64[ns]\n",
      " 3   Type      1500 non-null   object        \n",
      " 4   Amount    1500 non-null   float64       \n",
      "dtypes: datetime64[ns](1), float64(1), int64(1), object(2)\n",
      "memory usage: 58.7+ KB\n"
     ]
    }
   ],
   "source": [
    "trans_df.info()"
   ]
  },
  {
   "cell_type": "code",
   "execution_count": 97,
   "metadata": {},
   "outputs": [
    {
     "name": "stdout",
     "output_type": "stream",
     "text": [
      "<class 'pandas.core.frame.DataFrame'>\n",
      "RangeIndex: 807 entries, 0 to 806\n",
      "Data columns (total 4 columns):\n",
      " #   Column    Non-Null Count  Dtype         \n",
      "---  ------    --------------  -----         \n",
      " 0   SL No:    807 non-null    int64         \n",
      " 1   Customer  807 non-null    object        \n",
      " 2   Month     803 non-null    datetime64[ns]\n",
      " 3   Amount    807 non-null    float64       \n",
      "dtypes: datetime64[ns](1), float64(1), int64(1), object(1)\n",
      "memory usage: 25.3+ KB\n"
     ]
    }
   ],
   "source": [
    "payment_df.info()"
   ]
  },
  {
   "cell_type": "code",
   "execution_count": 98,
   "metadata": {},
   "outputs": [
    {
     "data": {
      "text/html": [
       "<div><div id=976bddb9-57bb-42b1-a3ae-0f1333ed7521 style=\"display:none; background-color:#9D6CFF; color:white; width:200px; height:30px; padding-left:5px; border-radius:4px; flex-direction:row; justify-content:space-around; align-items:center;\" onmouseover=\"this.style.backgroundColor='#BA9BF8'\" onmouseout=\"this.style.backgroundColor='#9D6CFF'\" onclick=\"window.commands?.execute('create-mitosheet-from-dataframe-output');\">See Full Dataframe in Mito</div> <script> if (window.commands?.hasCommand('create-mitosheet-from-dataframe-output')) document.getElementById('976bddb9-57bb-42b1-a3ae-0f1333ed7521').style.display = 'flex' </script> <table border=\"1\" class=\"dataframe\">\n",
       "  <thead>\n",
       "    <tr style=\"text-align: right;\">\n",
       "      <th></th>\n",
       "      <th>SL No:</th>\n",
       "      <th>Customer</th>\n",
       "      <th>Month</th>\n",
       "      <th>Amount</th>\n",
       "    </tr>\n",
       "  </thead>\n",
       "  <tbody>\n",
       "    <tr>\n",
       "      <th>274</th>\n",
       "      <td>275</td>\n",
       "      <td>A29</td>\n",
       "      <td>NaT</td>\n",
       "      <td>139343.954497</td>\n",
       "    </tr>\n",
       "    <tr>\n",
       "      <th>299</th>\n",
       "      <td>300</td>\n",
       "      <td>A30</td>\n",
       "      <td>NaT</td>\n",
       "      <td>75520.695090</td>\n",
       "    </tr>\n",
       "    <tr>\n",
       "      <th>418</th>\n",
       "      <td>419</td>\n",
       "      <td>A40</td>\n",
       "      <td>NaT</td>\n",
       "      <td>4203.395579</td>\n",
       "    </tr>\n",
       "    <tr>\n",
       "      <th>789</th>\n",
       "      <td>790</td>\n",
       "      <td>A9</td>\n",
       "      <td>NaT</td>\n",
       "      <td>20150.636740</td>\n",
       "    </tr>\n",
       "  </tbody>\n",
       "</table></div>"
      ],
      "text/plain": [
       "     SL No: Customer Month         Amount\n",
       "274     275      A29   NaT  139343.954497\n",
       "299     300      A30   NaT   75520.695090\n",
       "418     419      A40   NaT    4203.395579\n",
       "789     790       A9   NaT   20150.636740"
      ]
     },
     "execution_count": 98,
     "metadata": {},
     "output_type": "execute_result"
    }
   ],
   "source": [
    "# There are 4 missing values in Month column in payments_df. Let's check those rows\n",
    "payment_df[payment_df.Month.isnull()]"
   ]
  },
  {
   "cell_type": "markdown",
   "metadata": {},
   "source": [
    "<a class=\"anchor\" id=\"second-bullet\"></a>\n",
    "\n",
    "### 2. Let's check the age distribution of customers from customer_df"
   ]
  },
  {
   "cell_type": "code",
   "execution_count": 99,
   "metadata": {},
   "outputs": [
    {
     "data": {
      "text/plain": [
       "count    100.000000\n",
       "mean      46.460000\n",
       "std       17.816925\n",
       "min       14.000000\n",
       "25%       30.000000\n",
       "50%       47.500000\n",
       "75%       62.250000\n",
       "max       75.000000\n",
       "Name: Age, dtype: float64"
      ]
     },
     "execution_count": 99,
     "metadata": {},
     "output_type": "execute_result"
    }
   ],
   "source": [
    "customer_df.Age.describe()"
   ]
  },
  {
   "cell_type": "code",
   "execution_count": 100,
   "metadata": {},
   "outputs": [
    {
     "data": {
      "text/html": [
       "<div><div id=c10a14a2-969c-4f42-9ec3-9866508138d3 style=\"display:none; background-color:#9D6CFF; color:white; width:200px; height:30px; padding-left:5px; border-radius:4px; flex-direction:row; justify-content:space-around; align-items:center;\" onmouseover=\"this.style.backgroundColor='#BA9BF8'\" onmouseout=\"this.style.backgroundColor='#9D6CFF'\" onclick=\"window.commands?.execute('create-mitosheet-from-dataframe-output');\">See Full Dataframe in Mito</div> <script> if (window.commands?.hasCommand('create-mitosheet-from-dataframe-output')) document.getElementById('c10a14a2-969c-4f42-9ec3-9866508138d3').style.display = 'flex' </script> <table border=\"1\" class=\"dataframe\">\n",
       "  <thead>\n",
       "    <tr style=\"text-align: right;\">\n",
       "      <th></th>\n",
       "      <th>No</th>\n",
       "      <th>Customer</th>\n",
       "      <th>Age</th>\n",
       "      <th>City</th>\n",
       "      <th>Product</th>\n",
       "      <th>Limit</th>\n",
       "      <th>Company</th>\n",
       "      <th>Segment</th>\n",
       "    </tr>\n",
       "  </thead>\n",
       "  <tbody>\n",
       "    <tr>\n",
       "      <th>46</th>\n",
       "      <td>47</td>\n",
       "      <td>A47</td>\n",
       "      <td>16</td>\n",
       "      <td>CHENNAI</td>\n",
       "      <td>Platimum</td>\n",
       "      <td>1380000</td>\n",
       "      <td>C9</td>\n",
       "      <td>Normal Salary</td>\n",
       "    </tr>\n",
       "    <tr>\n",
       "      <th>69</th>\n",
       "      <td>70</td>\n",
       "      <td>A70</td>\n",
       "      <td>16</td>\n",
       "      <td>BOMBAY</td>\n",
       "      <td>Platimum</td>\n",
       "      <td>420000</td>\n",
       "      <td>C32</td>\n",
       "      <td>Self Employed</td>\n",
       "    </tr>\n",
       "    <tr>\n",
       "      <th>93</th>\n",
       "      <td>94</td>\n",
       "      <td>A94</td>\n",
       "      <td>14</td>\n",
       "      <td>COCHIN</td>\n",
       "      <td>Gold</td>\n",
       "      <td>500000</td>\n",
       "      <td>C17</td>\n",
       "      <td>Govt</td>\n",
       "    </tr>\n",
       "  </tbody>\n",
       "</table></div>"
      ],
      "text/plain": [
       "    No Customer  Age     City   Product    Limit Company        Segment\n",
       "46  47      A47   16  CHENNAI  Platimum  1380000      C9  Normal Salary\n",
       "69  70      A70   16   BOMBAY  Platimum   420000     C32  Self Employed\n",
       "93  94      A94   14   COCHIN      Gold   500000     C17           Govt"
      ]
     },
     "execution_count": 100,
     "metadata": {},
     "output_type": "execute_result"
    }
   ],
   "source": [
    "# Who are those customers with less than?\n",
    "customer_df.query('Age < 18')"
   ]
  },
  {
   "cell_type": "markdown",
   "metadata": {},
   "source": [
    "###### a) Age can't be less than 18. In case age is less than 18, let's replace it with mean of age values."
   ]
  },
  {
   "cell_type": "code",
   "execution_count": 101,
   "metadata": {},
   "outputs": [
    {
     "data": {
      "text/plain": [
       "count    100.000000\n",
       "mean      47.393800\n",
       "std       16.946251\n",
       "min       18.000000\n",
       "25%       33.000000\n",
       "50%       47.500000\n",
       "75%       62.250000\n",
       "max       75.000000\n",
       "Name: Age, dtype: float64"
      ]
     },
     "execution_count": 101,
     "metadata": {},
     "output_type": "execute_result"
    }
   ],
   "source": [
    "customer_df.loc[(customer_df.Age < 18),'Age']=customer_df.Age.mean()\n",
    "\n",
    "#Check the distribution again\n",
    "customer_df.Age.describe()"
   ]
  },
  {
   "cell_type": "markdown",
   "metadata": {},
   "source": [
    "<a class=\"anchor\" id=\"third-bullet\"></a>\n",
    "\n",
    "### 3.Answer the following questions:"
   ]
  },
  {
   "cell_type": "markdown",
   "metadata": {},
   "source": [
    "##### a) How many customers are there?"
   ]
  },
  {
   "cell_type": "code",
   "execution_count": 102,
   "metadata": {},
   "outputs": [
    {
     "name": "stdout",
     "output_type": "stream",
     "text": [
      "# Customer - Customer data: 100\n",
      "# Customer - Transaction data: 100\n",
      "# Customer - Repayment data: 100\n"
     ]
    }
   ],
   "source": [
    "print (\"# Customer - Customer data:\", customer_df.Customer.nunique())\n",
    "print (\"# Customer - Transaction data:\", trans_df.Customer.nunique())\n",
    "print (\"# Customer - Repayment data:\", payment_df.Customer.nunique())"
   ]
  },
  {
   "cell_type": "markdown",
   "metadata": {},
   "source": [
    "##### How many spend categories are there? "
   ]
  },
  {
   "cell_type": "code",
   "execution_count": 103,
   "metadata": {},
   "outputs": [
    {
     "name": "stdout",
     "output_type": "stream",
     "text": [
      "# Spend Categories: 15\n"
     ]
    }
   ],
   "source": [
    "print (\"# Spend Categories:\", trans_df.Type.nunique())"
   ]
  },
  {
   "cell_type": "code",
   "execution_count": 104,
   "metadata": {},
   "outputs": [
    {
     "data": {
      "text/plain": [
       "PETRO           200\n",
       "FOOD            160\n",
       "CAMERA          160\n",
       "AIR TICKET      147\n",
       "TRAIN TICKET    132\n",
       "SHOPPING        113\n",
       "BUS TICKET       99\n",
       "JEWELLERY        95\n",
       "CLOTHES          95\n",
       "RENTAL           76\n",
       "MOVIE TICKET     76\n",
       "BIKE             49\n",
       "AUTO             40\n",
       "CAR              30\n",
       "SANDALS          28\n",
       "Name: Type, dtype: int64"
      ]
     },
     "execution_count": 104,
     "metadata": {},
     "output_type": "execute_result"
    }
   ],
   "source": [
    "# What are those spend categories? \n",
    "trans_df.Type.value_counts()"
   ]
  },
  {
   "cell_type": "markdown",
   "metadata": {},
   "source": [
    "##### Which category has the highest average spend?"
   ]
  },
  {
   "cell_type": "code",
   "execution_count": 105,
   "metadata": {},
   "outputs": [
    {
     "data": {
      "text/plain": [
       "Type\n",
       "CAR             409143.47\n",
       "AIR TICKET      254632.19\n",
       "JEWELLERY       239218.69\n",
       "BIKE            210701.27\n",
       "AUTO             27320.76\n",
       "CLOTHES          25140.16\n",
       "CAMERA           21499.80\n",
       "RENTAL           13106.51\n",
       "BUS TICKET       12681.03\n",
       "SHOPPING          7394.33\n",
       "SANDALS           2516.63\n",
       "MOVIE TICKET      1875.30\n",
       "TRAIN TICKET      1627.49\n",
       "PETRO              549.48\n",
       "FOOD               341.17\n",
       "Name: Amount, dtype: float64"
      ]
     },
     "execution_count": 105,
     "metadata": {},
     "output_type": "execute_result"
    }
   ],
   "source": [
    "# Here we need to group by spend category (Type) and then find the average. \n",
    "# we can sort in a descending order to present the results\n",
    "# The above can be done in one line - this is called chaining. \n",
    "\n",
    "avg_spend_df = trans_df.groupby(\"Type\")['Amount'].mean().sort_values(ascending=False).round(2)\n",
    "avg_spend_df"
   ]
  },
  {
   "cell_type": "code",
   "execution_count": 106,
   "metadata": {},
   "outputs": [
    {
     "data": {
      "image/png": "[encoded data removed]",
      "text/plain": [
       "<Figure size 432x288 with 1 Axes>"
      ]
     },
     "metadata": {
      "needs_background": "light"
     },
     "output_type": "display_data"
    }
   ],
   "source": [
    "# Better to plot and compare\n",
    "avg_spend_df.plot(kind='bar', color=\"orange\").set_title(\"Average Spend per category\")\n",
    "None   # to remove unnessecary print"
   ]
  },
  {
   "cell_type": "markdown",
   "metadata": {},
   "source": [
    "**Car** has the highest spend, followed by **air ticket**. "
   ]
  },
  {
   "cell_type": "code",
   "execution_count": 107,
   "metadata": {},
   "outputs": [
    {
     "data": {
      "text/html": [
       "<div><div id=55a97b2e-d2aa-47fc-9c0f-edce115efdf8 style=\"display:none; background-color:#9D6CFF; color:white; width:200px; height:30px; padding-left:5px; border-radius:4px; flex-direction:row; justify-content:space-around; align-items:center;\" onmouseover=\"this.style.backgroundColor='#BA9BF8'\" onmouseout=\"this.style.backgroundColor='#9D6CFF'\" onclick=\"window.commands?.execute('create-mitosheet-from-dataframe-output');\">See Full Dataframe in Mito</div> <script> if (window.commands?.hasCommand('create-mitosheet-from-dataframe-output')) document.getElementById('55a97b2e-d2aa-47fc-9c0f-edce115efdf8').style.display = 'flex' </script> <table border=\"1\" class=\"dataframe\">\n",
       "  <thead>\n",
       "    <tr style=\"text-align: right;\">\n",
       "      <th></th>\n",
       "      <th>Sl No:</th>\n",
       "      <th>Customer</th>\n",
       "      <th>Month</th>\n",
       "      <th>Type</th>\n",
       "      <th>Amount</th>\n",
       "    </tr>\n",
       "  </thead>\n",
       "  <tbody>\n",
       "    <tr>\n",
       "      <th>1413</th>\n",
       "      <td>1414</td>\n",
       "      <td>A55</td>\n",
       "      <td>2004-01-25</td>\n",
       "      <td>AIR TICKET</td>\n",
       "      <td>212405.177382</td>\n",
       "    </tr>\n",
       "    <tr>\n",
       "      <th>475</th>\n",
       "      <td>476</td>\n",
       "      <td>A28</td>\n",
       "      <td>2005-05-26</td>\n",
       "      <td>AIR TICKET</td>\n",
       "      <td>331262.404505</td>\n",
       "    </tr>\n",
       "    <tr>\n",
       "      <th>1412</th>\n",
       "      <td>1413</td>\n",
       "      <td>A54</td>\n",
       "      <td>2004-01-15</td>\n",
       "      <td>AIR TICKET</td>\n",
       "      <td>485322.421134</td>\n",
       "    </tr>\n",
       "    <tr>\n",
       "      <th>73</th>\n",
       "      <td>74</td>\n",
       "      <td>A72</td>\n",
       "      <td>2004-02-05</td>\n",
       "      <td>AIR TICKET</td>\n",
       "      <td>103324.712610</td>\n",
       "    </tr>\n",
       "    <tr>\n",
       "      <th>1477</th>\n",
       "      <td>1478</td>\n",
       "      <td>A60</td>\n",
       "      <td>2006-07-03</td>\n",
       "      <td>AIR TICKET</td>\n",
       "      <td>190013.076066</td>\n",
       "    </tr>\n",
       "  </tbody>\n",
       "</table></div>"
      ],
      "text/plain": [
       "      Sl No: Customer      Month        Type         Amount\n",
       "1413    1414      A55 2004-01-25  AIR TICKET  212405.177382\n",
       "475      476      A28 2005-05-26  AIR TICKET  331262.404505\n",
       "1412    1413      A54 2004-01-15  AIR TICKET  485322.421134\n",
       "73        74      A72 2004-02-05  AIR TICKET  103324.712610\n",
       "1477    1478      A60 2006-07-03  AIR TICKET  190013.076066"
      ]
     },
     "execution_count": 107,
     "metadata": {},
     "output_type": "execute_result"
    }
   ],
   "source": [
    "#Are air tickets this expensive??\n",
    "trans_df[trans_df['Type'] == 'AIR TICKET'].sample(5)"
   ]
  },
  {
   "cell_type": "code",
   "execution_count": 108,
   "metadata": {},
   "outputs": [
    {
     "data": {
      "text/html": [
       "<div><div id=35cdb2ee-b43b-470a-a68b-25fabd0f1ce3 style=\"display:none; background-color:#9D6CFF; color:white; width:200px; height:30px; padding-left:5px; border-radius:4px; flex-direction:row; justify-content:space-around; align-items:center;\" onmouseover=\"this.style.backgroundColor='#BA9BF8'\" onmouseout=\"this.style.backgroundColor='#9D6CFF'\" onclick=\"window.commands?.execute('create-mitosheet-from-dataframe-output');\">See Full Dataframe in Mito</div> <script> if (window.commands?.hasCommand('create-mitosheet-from-dataframe-output')) document.getElementById('35cdb2ee-b43b-470a-a68b-25fabd0f1ce3').style.display = 'flex' </script> <table border=\"1\" class=\"dataframe\">\n",
       "  <thead>\n",
       "    <tr style=\"text-align: right;\">\n",
       "      <th></th>\n",
       "      <th>Sl No:</th>\n",
       "      <th>Customer</th>\n",
       "      <th>Month</th>\n",
       "      <th>Type</th>\n",
       "      <th>Amount</th>\n",
       "    </tr>\n",
       "  </thead>\n",
       "  <tbody>\n",
       "    <tr>\n",
       "      <th>1225</th>\n",
       "      <td>1226</td>\n",
       "      <td>A41</td>\n",
       "      <td>2005-05-07</td>\n",
       "      <td>JEWELLERY</td>\n",
       "      <td>12822.829938</td>\n",
       "    </tr>\n",
       "    <tr>\n",
       "      <th>1167</th>\n",
       "      <td>1168</td>\n",
       "      <td>A41</td>\n",
       "      <td>2005-02-03</td>\n",
       "      <td>JEWELLERY</td>\n",
       "      <td>161105.162092</td>\n",
       "    </tr>\n",
       "    <tr>\n",
       "      <th>1432</th>\n",
       "      <td>1433</td>\n",
       "      <td>A45</td>\n",
       "      <td>2006-03-23</td>\n",
       "      <td>JEWELLERY</td>\n",
       "      <td>101040.275708</td>\n",
       "    </tr>\n",
       "    <tr>\n",
       "      <th>586</th>\n",
       "      <td>587</td>\n",
       "      <td>A25</td>\n",
       "      <td>2005-05-28</td>\n",
       "      <td>JEWELLERY</td>\n",
       "      <td>107718.549353</td>\n",
       "    </tr>\n",
       "    <tr>\n",
       "      <th>651</th>\n",
       "      <td>652</td>\n",
       "      <td>A32</td>\n",
       "      <td>2004-01-12</td>\n",
       "      <td>JEWELLERY</td>\n",
       "      <td>325750.838404</td>\n",
       "    </tr>\n",
       "  </tbody>\n",
       "</table></div>"
      ],
      "text/plain": [
       "      Sl No: Customer      Month       Type         Amount\n",
       "1225    1226      A41 2005-05-07  JEWELLERY   12822.829938\n",
       "1167    1168      A41 2005-02-03  JEWELLERY  161105.162092\n",
       "1432    1433      A45 2006-03-23  JEWELLERY  101040.275708\n",
       "586      587      A25 2005-05-28  JEWELLERY  107718.549353\n",
       "651      652      A32 2004-01-12  JEWELLERY  325750.838404"
      ]
     },
     "execution_count": 108,
     "metadata": {},
     "output_type": "execute_result"
    }
   ],
   "source": [
    "# Let's compare with some transaction involving purchase of jewellery\n",
    "trans_df[trans_df['Type'] == 'JEWELLERY'].sample(5)"
   ]
  },
  {
   "cell_type": "markdown",
   "metadata": {},
   "source": [
    "##### What is the average monthly spend by product categories? "
   ]
  },
  {
   "cell_type": "code",
   "execution_count": 109,
   "metadata": {},
   "outputs": [
    {
     "data": {
      "text/html": [
       "<div><div id=6a53c7e4-1da2-4405-b52b-00e30569a3c2 style=\"display:none; background-color:#9D6CFF; color:white; width:200px; height:30px; padding-left:5px; border-radius:4px; flex-direction:row; justify-content:space-around; align-items:center;\" onmouseover=\"this.style.backgroundColor='#BA9BF8'\" onmouseout=\"this.style.backgroundColor='#9D6CFF'\" onclick=\"window.commands?.execute('create-mitosheet-from-dataframe-output');\">See Full Dataframe in Mito</div> <script> if (window.commands?.hasCommand('create-mitosheet-from-dataframe-output')) document.getElementById('6a53c7e4-1da2-4405-b52b-00e30569a3c2').style.display = 'flex' </script> <table border=\"1\" class=\"dataframe\">\n",
       "  <thead>\n",
       "    <tr style=\"text-align: right;\">\n",
       "      <th></th>\n",
       "      <th>Sl No:</th>\n",
       "      <th>Customer</th>\n",
       "      <th>Month</th>\n",
       "      <th>Type</th>\n",
       "      <th>Amount</th>\n",
       "    </tr>\n",
       "  </thead>\n",
       "  <tbody>\n",
       "    <tr>\n",
       "      <th>0</th>\n",
       "      <td>1</td>\n",
       "      <td>A1</td>\n",
       "      <td>2004-01-12</td>\n",
       "      <td>JEWELLERY</td>\n",
       "      <td>344054.980813</td>\n",
       "    </tr>\n",
       "    <tr>\n",
       "      <th>1</th>\n",
       "      <td>2</td>\n",
       "      <td>A1</td>\n",
       "      <td>2004-01-03</td>\n",
       "      <td>PETRO</td>\n",
       "      <td>935.495203</td>\n",
       "    </tr>\n",
       "    <tr>\n",
       "      <th>2</th>\n",
       "      <td>3</td>\n",
       "      <td>A1</td>\n",
       "      <td>2004-01-15</td>\n",
       "      <td>CLOTHES</td>\n",
       "      <td>8687.895474</td>\n",
       "    </tr>\n",
       "    <tr>\n",
       "      <th>3</th>\n",
       "      <td>4</td>\n",
       "      <td>A1</td>\n",
       "      <td>2004-01-25</td>\n",
       "      <td>FOOD</td>\n",
       "      <td>341.159711</td>\n",
       "    </tr>\n",
       "    <tr>\n",
       "      <th>4</th>\n",
       "      <td>5</td>\n",
       "      <td>A1</td>\n",
       "      <td>2005-01-17</td>\n",
       "      <td>CAMERA</td>\n",
       "      <td>3406.639477</td>\n",
       "    </tr>\n",
       "  </tbody>\n",
       "</table></div>"
      ],
      "text/plain": [
       "   Sl No: Customer      Month       Type         Amount\n",
       "0       1       A1 2004-01-12  JEWELLERY  344054.980813\n",
       "1       2       A1 2004-01-03      PETRO     935.495203\n",
       "2       3       A1 2004-01-15    CLOTHES    8687.895474\n",
       "3       4       A1 2004-01-25       FOOD     341.159711\n",
       "4       5       A1 2005-01-17     CAMERA    3406.639477"
      ]
     },
     "execution_count": 109,
     "metadata": {},
     "output_type": "execute_result"
    }
   ],
   "source": [
    "# We will use the transaction data now.The Month column has date in trans_df. \n",
    "trans_df.head()"
   ]
  },
  {
   "cell_type": "code",
   "execution_count": 110,
   "metadata": {},
   "outputs": [],
   "source": [
    "#lets create an actual month column from timestamp\n",
    "\n",
    "# Rename Month to TransDate\n",
    "trans_df.rename(columns={'Month':'TransDate'}, inplace=True)\n",
    "\n",
    "# Extract month and add it as a new column\n",
    "trans_df['Month'] = trans_df['TransDate'].apply(lambda x:x.month)\n",
    "\n",
    "\n",
    "# Extract Year and add it as a new column\n",
    "trans_df['Year'] = trans_df['TransDate'].apply(lambda x:x.year)"
   ]
  },
  {
   "cell_type": "code",
   "execution_count": 111,
   "metadata": {},
   "outputs": [
    {
     "data": {
      "text/html": [
       "<div><div id=6ced9bbb-b833-47a8-9b84-e05454ca1f49 style=\"display:none; background-color:#9D6CFF; color:white; width:200px; height:30px; padding-left:5px; border-radius:4px; flex-direction:row; justify-content:space-around; align-items:center;\" onmouseover=\"this.style.backgroundColor='#BA9BF8'\" onmouseout=\"this.style.backgroundColor='#9D6CFF'\" onclick=\"window.commands?.execute('create-mitosheet-from-dataframe-output');\">See Full Dataframe in Mito</div> <script> if (window.commands?.hasCommand('create-mitosheet-from-dataframe-output')) document.getElementById('6ced9bbb-b833-47a8-9b84-e05454ca1f49').style.display = 'flex' </script> <table border=\"1\" class=\"dataframe\">\n",
       "  <thead>\n",
       "    <tr style=\"text-align: right;\">\n",
       "      <th></th>\n",
       "      <th>Sl No:</th>\n",
       "      <th>Customer</th>\n",
       "      <th>TransDate</th>\n",
       "      <th>Type</th>\n",
       "      <th>Amount</th>\n",
       "      <th>Month</th>\n",
       "      <th>Year</th>\n",
       "    </tr>\n",
       "  </thead>\n",
       "  <tbody>\n",
       "    <tr>\n",
       "      <th>37</th>\n",
       "      <td>38</td>\n",
       "      <td>A38</td>\n",
       "      <td>2005-05-24</td>\n",
       "      <td>BIKE</td>\n",
       "      <td>196261.829721</td>\n",
       "      <td>5</td>\n",
       "      <td>2005</td>\n",
       "    </tr>\n",
       "    <tr>\n",
       "      <th>365</th>\n",
       "      <td>366</td>\n",
       "      <td>A13</td>\n",
       "      <td>2005-05-25</td>\n",
       "      <td>FOOD</td>\n",
       "      <td>485.747760</td>\n",
       "      <td>5</td>\n",
       "      <td>2005</td>\n",
       "    </tr>\n",
       "    <tr>\n",
       "      <th>1368</th>\n",
       "      <td>1369</td>\n",
       "      <td>A39</td>\n",
       "      <td>2006-07-03</td>\n",
       "      <td>AIR TICKET</td>\n",
       "      <td>447576.916059</td>\n",
       "      <td>7</td>\n",
       "      <td>2006</td>\n",
       "    </tr>\n",
       "    <tr>\n",
       "      <th>969</th>\n",
       "      <td>970</td>\n",
       "      <td>A31</td>\n",
       "      <td>2004-01-25</td>\n",
       "      <td>SHOPPING</td>\n",
       "      <td>8855.883350</td>\n",
       "      <td>1</td>\n",
       "      <td>2004</td>\n",
       "    </tr>\n",
       "    <tr>\n",
       "      <th>456</th>\n",
       "      <td>457</td>\n",
       "      <td>A28</td>\n",
       "      <td>2004-04-25</td>\n",
       "      <td>TRAIN TICKET</td>\n",
       "      <td>636.981354</td>\n",
       "      <td>4</td>\n",
       "      <td>2004</td>\n",
       "    </tr>\n",
       "  </tbody>\n",
       "</table></div>"
      ],
      "text/plain": [
       "      Sl No: Customer  TransDate          Type         Amount  Month  Year\n",
       "37        38      A38 2005-05-24          BIKE  196261.829721      5  2005\n",
       "365      366      A13 2005-05-25          FOOD     485.747760      5  2005\n",
       "1368    1369      A39 2006-07-03    AIR TICKET  447576.916059      7  2006\n",
       "969      970      A31 2004-01-25      SHOPPING    8855.883350      1  2004\n",
       "456      457      A28 2004-04-25  TRAIN TICKET     636.981354      4  2004"
      ]
     },
     "execution_count": 111,
     "metadata": {},
     "output_type": "execute_result"
    }
   ],
   "source": [
    "trans_df.sample(5)"
   ]
  },
  {
   "cell_type": "code",
   "execution_count": 112,
   "metadata": {},
   "outputs": [],
   "source": [
    "# Group by Month (Year) and get the average \n",
    "spend_df=trans_df.groupby(['Year','Month','Type'], as_index=False)['Amount'].mean().round(2)        #2 decimal places"
   ]
  },
  {
   "cell_type": "code",
   "execution_count": 113,
   "metadata": {},
   "outputs": [
    {
     "data": {
      "text/html": [
       "<div><div id=a97a3297-df8c-430a-915f-5f7609d4d17c style=\"display:none; background-color:#9D6CFF; color:white; width:200px; height:30px; padding-left:5px; border-radius:4px; flex-direction:row; justify-content:space-around; align-items:center;\" onmouseover=\"this.style.backgroundColor='#BA9BF8'\" onmouseout=\"this.style.backgroundColor='#9D6CFF'\" onclick=\"window.commands?.execute('create-mitosheet-from-dataframe-output');\">See Full Dataframe in Mito</div> <script> if (window.commands?.hasCommand('create-mitosheet-from-dataframe-output')) document.getElementById('a97a3297-df8c-430a-915f-5f7609d4d17c').style.display = 'flex' </script> <table border=\"1\" class=\"dataframe\">\n",
       "  <thead>\n",
       "    <tr style=\"text-align: right;\">\n",
       "      <th></th>\n",
       "      <th>Year</th>\n",
       "      <th>Month</th>\n",
       "      <th>Type</th>\n",
       "      <th>Amount</th>\n",
       "    </tr>\n",
       "  </thead>\n",
       "  <tbody>\n",
       "    <tr>\n",
       "      <th>0</th>\n",
       "      <td>2004</td>\n",
       "      <td>1</td>\n",
       "      <td>AIR TICKET</td>\n",
       "      <td>257735.68</td>\n",
       "    </tr>\n",
       "    <tr>\n",
       "      <th>1</th>\n",
       "      <td>2004</td>\n",
       "      <td>1</td>\n",
       "      <td>AUTO</td>\n",
       "      <td>16260.27</td>\n",
       "    </tr>\n",
       "    <tr>\n",
       "      <th>2</th>\n",
       "      <td>2004</td>\n",
       "      <td>1</td>\n",
       "      <td>BIKE</td>\n",
       "      <td>176136.06</td>\n",
       "    </tr>\n",
       "    <tr>\n",
       "      <th>3</th>\n",
       "      <td>2004</td>\n",
       "      <td>1</td>\n",
       "      <td>BUS TICKET</td>\n",
       "      <td>10181.61</td>\n",
       "    </tr>\n",
       "    <tr>\n",
       "      <th>4</th>\n",
       "      <td>2004</td>\n",
       "      <td>1</td>\n",
       "      <td>CAMERA</td>\n",
       "      <td>20912.67</td>\n",
       "    </tr>\n",
       "  </tbody>\n",
       "</table></div>"
      ],
      "text/plain": [
       "   Year  Month        Type     Amount\n",
       "0  2004      1  AIR TICKET  257735.68\n",
       "1  2004      1        AUTO   16260.27\n",
       "2  2004      1        BIKE  176136.06\n",
       "3  2004      1  BUS TICKET   10181.61\n",
       "4  2004      1      CAMERA   20912.67"
      ]
     },
     "execution_count": 113,
     "metadata": {},
     "output_type": "execute_result"
    }
   ],
   "source": [
    "spend_df.head()"
   ]
  },
  {
   "cell_type": "code",
   "execution_count": 114,
   "metadata": {},
   "outputs": [],
   "source": [
    "# pivot the data - Rows = Year, Month;  Columns = Type Spend Category ; Values = Amount\n",
    "\n",
    "spend_pivot = pd.pivot_table(spend_df, index=['Year','Month'], columns='Type', values='Amount')"
   ]
  },
  {
   "cell_type": "code",
   "execution_count": 115,
   "metadata": {},
   "outputs": [
    {
     "data": {
      "text/html": [
       "<div><div id=9889cca9-c250-42cf-abed-0d8ce98a3d77 style=\"display:none; background-color:#9D6CFF; color:white; width:200px; height:30px; padding-left:5px; border-radius:4px; flex-direction:row; justify-content:space-around; align-items:center;\" onmouseover=\"this.style.backgroundColor='#BA9BF8'\" onmouseout=\"this.style.backgroundColor='#9D6CFF'\" onclick=\"window.commands?.execute('create-mitosheet-from-dataframe-output');\">See Full Dataframe in Mito</div> <script> if (window.commands?.hasCommand('create-mitosheet-from-dataframe-output')) document.getElementById('9889cca9-c250-42cf-abed-0d8ce98a3d77').style.display = 'flex' </script> <table border=\"1\" class=\"dataframe\">\n",
       "  <thead>\n",
       "    <tr style=\"text-align: right;\">\n",
       "      <th></th>\n",
       "      <th>Type</th>\n",
       "      <th>AIR TICKET</th>\n",
       "      <th>AUTO</th>\n",
       "      <th>BIKE</th>\n",
       "      <th>BUS TICKET</th>\n",
       "      <th>CAMERA</th>\n",
       "      <th>CAR</th>\n",
       "      <th>CLOTHES</th>\n",
       "      <th>FOOD</th>\n",
       "      <th>JEWELLERY</th>\n",
       "      <th>MOVIE TICKET</th>\n",
       "      <th>PETRO</th>\n",
       "      <th>RENTAL</th>\n",
       "      <th>SANDALS</th>\n",
       "      <th>SHOPPING</th>\n",
       "      <th>TRAIN TICKET</th>\n",
       "    </tr>\n",
       "    <tr>\n",
       "      <th>Year</th>\n",
       "      <th>Month</th>\n",
       "      <th></th>\n",
       "      <th></th>\n",
       "      <th></th>\n",
       "      <th></th>\n",
       "      <th></th>\n",
       "      <th></th>\n",
       "      <th></th>\n",
       "      <th></th>\n",
       "      <th></th>\n",
       "      <th></th>\n",
       "      <th></th>\n",
       "      <th></th>\n",
       "      <th></th>\n",
       "      <th></th>\n",
       "      <th></th>\n",
       "    </tr>\n",
       "  </thead>\n",
       "  <tbody>\n",
       "    <tr>\n",
       "      <th rowspan=\"5\" valign=\"top\">2004</th>\n",
       "      <th>1</th>\n",
       "      <td>257735.68</td>\n",
       "      <td>16260.27</td>\n",
       "      <td>176136.06</td>\n",
       "      <td>10181.61</td>\n",
       "      <td>20912.67</td>\n",
       "      <td>369868.57</td>\n",
       "      <td>22478.24</td>\n",
       "      <td>352.63</td>\n",
       "      <td>281915.60</td>\n",
       "      <td>1801.29</td>\n",
       "      <td>546.67</td>\n",
       "      <td>12517.36</td>\n",
       "      <td>1747.37</td>\n",
       "      <td>8188.24</td>\n",
       "      <td>2140.49</td>\n",
       "    </tr>\n",
       "    <tr>\n",
       "      <th>2</th>\n",
       "      <td>214071.84</td>\n",
       "      <td>NaN</td>\n",
       "      <td>222235.99</td>\n",
       "      <td>22386.40</td>\n",
       "      <td>NaN</td>\n",
       "      <td>NaN</td>\n",
       "      <td>21562.59</td>\n",
       "      <td>335.97</td>\n",
       "      <td>174222.09</td>\n",
       "      <td>NaN</td>\n",
       "      <td>562.31</td>\n",
       "      <td>NaN</td>\n",
       "      <td>NaN</td>\n",
       "      <td>8453.49</td>\n",
       "      <td>NaN</td>\n",
       "    </tr>\n",
       "    <tr>\n",
       "      <th>3</th>\n",
       "      <td>455343.36</td>\n",
       "      <td>NaN</td>\n",
       "      <td>NaN</td>\n",
       "      <td>NaN</td>\n",
       "      <td>14377.59</td>\n",
       "      <td>NaN</td>\n",
       "      <td>18170.60</td>\n",
       "      <td>446.42</td>\n",
       "      <td>156577.20</td>\n",
       "      <td>NaN</td>\n",
       "      <td>494.72</td>\n",
       "      <td>NaN</td>\n",
       "      <td>2372.47</td>\n",
       "      <td>NaN</td>\n",
       "      <td>1705.33</td>\n",
       "    </tr>\n",
       "    <tr>\n",
       "      <th>4</th>\n",
       "      <td>NaN</td>\n",
       "      <td>NaN</td>\n",
       "      <td>NaN</td>\n",
       "      <td>11772.79</td>\n",
       "      <td>35545.00</td>\n",
       "      <td>NaN</td>\n",
       "      <td>NaN</td>\n",
       "      <td>339.78</td>\n",
       "      <td>298115.64</td>\n",
       "      <td>2016.08</td>\n",
       "      <td>580.66</td>\n",
       "      <td>NaN</td>\n",
       "      <td>NaN</td>\n",
       "      <td>7775.57</td>\n",
       "      <td>948.94</td>\n",
       "    </tr>\n",
       "    <tr>\n",
       "      <th>5</th>\n",
       "      <td>NaN</td>\n",
       "      <td>NaN</td>\n",
       "      <td>NaN</td>\n",
       "      <td>2033.75</td>\n",
       "      <td>NaN</td>\n",
       "      <td>NaN</td>\n",
       "      <td>NaN</td>\n",
       "      <td>356.48</td>\n",
       "      <td>94116.63</td>\n",
       "      <td>NaN</td>\n",
       "      <td>NaN</td>\n",
       "      <td>9944.19</td>\n",
       "      <td>746.61</td>\n",
       "      <td>NaN</td>\n",
       "      <td>3329.75</td>\n",
       "    </tr>\n",
       "    <tr>\n",
       "      <th>...</th>\n",
       "      <th>...</th>\n",
       "      <td>...</td>\n",
       "      <td>...</td>\n",
       "      <td>...</td>\n",
       "      <td>...</td>\n",
       "      <td>...</td>\n",
       "      <td>...</td>\n",
       "      <td>...</td>\n",
       "      <td>...</td>\n",
       "      <td>...</td>\n",
       "      <td>...</td>\n",
       "      <td>...</td>\n",
       "      <td>...</td>\n",
       "      <td>...</td>\n",
       "      <td>...</td>\n",
       "      <td>...</td>\n",
       "    </tr>\n",
       "    <tr>\n",
       "      <th rowspan=\"5\" valign=\"top\">2006</th>\n",
       "      <th>8</th>\n",
       "      <td>327284.02</td>\n",
       "      <td>NaN</td>\n",
       "      <td>NaN</td>\n",
       "      <td>17564.60</td>\n",
       "      <td>NaN</td>\n",
       "      <td>NaN</td>\n",
       "      <td>NaN</td>\n",
       "      <td>NaN</td>\n",
       "      <td>NaN</td>\n",
       "      <td>NaN</td>\n",
       "      <td>240.73</td>\n",
       "      <td>14880.83</td>\n",
       "      <td>NaN</td>\n",
       "      <td>NaN</td>\n",
       "      <td>1103.18</td>\n",
       "    </tr>\n",
       "    <tr>\n",
       "      <th>9</th>\n",
       "      <td>303458.31</td>\n",
       "      <td>NaN</td>\n",
       "      <td>NaN</td>\n",
       "      <td>NaN</td>\n",
       "      <td>NaN</td>\n",
       "      <td>NaN</td>\n",
       "      <td>21892.01</td>\n",
       "      <td>NaN</td>\n",
       "      <td>NaN</td>\n",
       "      <td>1214.10</td>\n",
       "      <td>NaN</td>\n",
       "      <td>2787.47</td>\n",
       "      <td>NaN</td>\n",
       "      <td>NaN</td>\n",
       "      <td>972.08</td>\n",
       "    </tr>\n",
       "    <tr>\n",
       "      <th>10</th>\n",
       "      <td>NaN</td>\n",
       "      <td>NaN</td>\n",
       "      <td>NaN</td>\n",
       "      <td>NaN</td>\n",
       "      <td>NaN</td>\n",
       "      <td>490613.35</td>\n",
       "      <td>NaN</td>\n",
       "      <td>296.45</td>\n",
       "      <td>199723.74</td>\n",
       "      <td>NaN</td>\n",
       "      <td>NaN</td>\n",
       "      <td>9945.45</td>\n",
       "      <td>NaN</td>\n",
       "      <td>NaN</td>\n",
       "      <td>419.18</td>\n",
       "    </tr>\n",
       "    <tr>\n",
       "      <th>11</th>\n",
       "      <td>NaN</td>\n",
       "      <td>25194.89</td>\n",
       "      <td>464034.81</td>\n",
       "      <td>4282.07</td>\n",
       "      <td>16338.03</td>\n",
       "      <td>NaN</td>\n",
       "      <td>NaN</td>\n",
       "      <td>116.44</td>\n",
       "      <td>NaN</td>\n",
       "      <td>2108.81</td>\n",
       "      <td>567.36</td>\n",
       "      <td>15862.60</td>\n",
       "      <td>NaN</td>\n",
       "      <td>NaN</td>\n",
       "      <td>1588.78</td>\n",
       "    </tr>\n",
       "    <tr>\n",
       "      <th>12</th>\n",
       "      <td>NaN</td>\n",
       "      <td>2274.23</td>\n",
       "      <td>NaN</td>\n",
       "      <td>NaN</td>\n",
       "      <td>NaN</td>\n",
       "      <td>NaN</td>\n",
       "      <td>18372.14</td>\n",
       "      <td>NaN</td>\n",
       "      <td>459681.33</td>\n",
       "      <td>NaN</td>\n",
       "      <td>361.46</td>\n",
       "      <td>7855.44</td>\n",
       "      <td>3038.05</td>\n",
       "      <td>NaN</td>\n",
       "      <td>720.26</td>\n",
       "    </tr>\n",
       "  </tbody>\n",
       "</table></div>"
      ],
      "text/plain": [
       "Type        AIR TICKET      AUTO       BIKE  BUS TICKET    CAMERA         CAR  \\\n",
       "Year Month                                                                      \n",
       "2004 1       257735.68  16260.27  176136.06    10181.61  20912.67   369868.57   \n",
       "     2       214071.84       NaN  222235.99    22386.40       NaN         NaN   \n",
       "     3       455343.36       NaN        NaN         NaN  14377.59         NaN   \n",
       "     4             NaN       NaN        NaN    11772.79  35545.00         NaN   \n",
       "     5             NaN       NaN        NaN     2033.75       NaN         NaN   \n",
       "     9             NaN       NaN        NaN     4813.98       NaN   389408.87   \n",
       "     11      209883.26       NaN  341651.68     5716.70       NaN   459281.33   \n",
       "2005 1       303015.61       NaN  213492.29         NaN  22898.55         NaN   \n",
       "     2       223150.72  34280.59        NaN    16138.93  14806.78  1307745.09   \n",
       "     4         7531.58       NaN  120955.47         NaN  23899.44         NaN   \n",
       "     5       259520.01   4904.89  187850.43     9868.46  13548.27         NaN   \n",
       "     6       181711.91       NaN        NaN     8962.48  21912.07         NaN   \n",
       "     7       296436.65       NaN        NaN         NaN  27222.86         NaN   \n",
       "     8       227449.28       NaN        NaN    34019.05  29223.32         NaN   \n",
       "     9       289240.16       NaN        NaN         NaN  32782.09         NaN   \n",
       "     10      213797.64       NaN        NaN     4326.49       NaN   175440.27   \n",
       "     11      121396.50       NaN  207172.36    14339.55       NaN         NaN   \n",
       "     12       94397.46   1374.59        NaN         NaN       NaN         NaN   \n",
       "2006 1       385448.78       NaN        NaN         NaN  29510.53         NaN   \n",
       "     2       263273.50       NaN  125723.17    41831.67  20150.64   475406.73   \n",
       "     3       271893.56  31014.27  283637.43    14994.27  23017.28   397509.35   \n",
       "     4       276025.39  39690.40  158209.29     2329.78  16468.37   123053.08   \n",
       "     5       274384.02  25656.11        NaN         NaN  40368.97   361677.78   \n",
       "     6       275155.15       NaN        NaN    13227.41       NaN         NaN   \n",
       "     7       344362.32       NaN        NaN     1762.55  21574.68         NaN   \n",
       "     8       327284.02       NaN        NaN    17564.60       NaN         NaN   \n",
       "     9       303458.31       NaN        NaN         NaN       NaN         NaN   \n",
       "     10            NaN       NaN        NaN         NaN       NaN   490613.35   \n",
       "     11            NaN  25194.89  464034.81     4282.07  16338.03         NaN   \n",
       "     12            NaN   2274.23        NaN         NaN       NaN         NaN   \n",
       "\n",
       "Type         CLOTHES    FOOD  JEWELLERY  MOVIE TICKET   PETRO    RENTAL  \\\n",
       "Year Month                                                                \n",
       "2004 1      22478.24  352.63  281915.60       1801.29  546.67  12517.36   \n",
       "     2      21562.59  335.97  174222.09           NaN  562.31       NaN   \n",
       "     3      18170.60  446.42  156577.20           NaN  494.72       NaN   \n",
       "     4           NaN  339.78  298115.64       2016.08  580.66       NaN   \n",
       "     5           NaN  356.48   94116.63           NaN     NaN   9944.19   \n",
       "     9           NaN  330.85        NaN           NaN  522.57  17341.00   \n",
       "     11          NaN  222.13        NaN           NaN  701.65       NaN   \n",
       "2005 1      11379.71  294.04  145186.79           NaN  706.23  22198.62   \n",
       "     2      24642.46  293.98  246365.70       2252.06  594.15  12783.10   \n",
       "     4      38069.30  156.04   37301.70           NaN  567.59       NaN   \n",
       "     5      23423.02  296.89  212994.88       2183.44  627.40  12910.12   \n",
       "     6      44392.93  293.08  322625.84           NaN  472.98       NaN   \n",
       "     7           NaN  599.36        NaN           NaN  832.19  23881.33   \n",
       "     8           NaN  358.19        NaN       2866.79  590.89       NaN   \n",
       "     9           NaN     NaN  278895.08        954.69  490.23       NaN   \n",
       "     10          NaN     NaN        NaN       3255.54  604.28       NaN   \n",
       "     11     26346.87  304.78  434209.47        409.39  556.93   3438.11   \n",
       "     12          NaN  327.88        NaN       3680.15  356.45  12669.43   \n",
       "2006 1           NaN     NaN        NaN       1452.00  493.78       NaN   \n",
       "     2      30395.12  380.39  315546.04       2936.51  445.00  14860.64   \n",
       "     3      28590.77  340.94  156811.05       1941.25  587.08  12742.97   \n",
       "     4      27704.47  445.88  270115.44       2065.68  375.07  15288.59   \n",
       "     5           NaN  465.22   46430.20       1545.78  499.42  11171.27   \n",
       "     6           NaN     NaN        NaN        638.50     NaN       NaN   \n",
       "     7           NaN  373.71  101116.28           NaN  552.26       NaN   \n",
       "     8           NaN     NaN        NaN           NaN  240.73  14880.83   \n",
       "     9      21892.01     NaN        NaN       1214.10     NaN   2787.47   \n",
       "     10          NaN  296.45  199723.74           NaN     NaN   9945.45   \n",
       "     11          NaN  116.44        NaN       2108.81  567.36  15862.60   \n",
       "     12     18372.14     NaN  459681.33           NaN  361.46   7855.44   \n",
       "\n",
       "Type        SANDALS  SHOPPING  TRAIN TICKET  \n",
       "Year Month                                   \n",
       "2004 1      1747.37   8188.24       2140.49  \n",
       "     2          NaN   8453.49           NaN  \n",
       "     3      2372.47       NaN       1705.33  \n",
       "     4          NaN   7775.57        948.94  \n",
       "     5       746.61       NaN       3329.75  \n",
       "     9          NaN       NaN       2026.36  \n",
       "     11         NaN       NaN           NaN  \n",
       "2005 1          NaN  18674.76           NaN  \n",
       "     2      2825.32   6630.92       1462.98  \n",
       "     4          NaN       NaN       2076.29  \n",
       "     5          NaN   8680.57        895.04  \n",
       "     6          NaN       NaN       2768.85  \n",
       "     7          NaN       NaN           NaN  \n",
       "     8      2710.55   4474.52       1713.42  \n",
       "     9      2732.14       NaN           NaN  \n",
       "     10         NaN   8715.27           NaN  \n",
       "     11     3378.69   6089.72       1693.84  \n",
       "     12         NaN       NaN           NaN  \n",
       "2006 1          NaN   4604.51           NaN  \n",
       "     2       281.95   5428.40       1527.01  \n",
       "     3      3484.35   7530.92       1324.23  \n",
       "     4      2090.23   6341.07       1992.87  \n",
       "     5          NaN  10866.96       2424.86  \n",
       "     6          NaN   7427.83           NaN  \n",
       "     7          NaN       NaN       1715.92  \n",
       "     8          NaN       NaN       1103.18  \n",
       "     9          NaN       NaN        972.08  \n",
       "     10         NaN       NaN        419.18  \n",
       "     11         NaN       NaN       1588.78  \n",
       "     12     3038.05       NaN        720.26  "
      ]
     },
     "execution_count": 115,
     "metadata": {},
     "output_type": "execute_result"
    }
   ],
   "source": [
    "# Monthly spend (for each year) by Spend Categories \n",
    "spend_pivot"
   ]
  },
  {
   "cell_type": "markdown",
   "metadata": {},
   "source": [
    "##### Which customers are reaching 90% or more of their spending limit?"
   ]
  },
  {
   "cell_type": "code",
   "execution_count": 116,
   "metadata": {},
   "outputs": [
    {
     "name": "stdout",
     "output_type": "stream",
     "text": [
      "<class 'pandas.core.frame.DataFrame'>\n",
      "RangeIndex: 807 entries, 0 to 806\n",
      "Data columns (total 4 columns):\n",
      " #   Column    Non-Null Count  Dtype         \n",
      "---  ------    --------------  -----         \n",
      " 0   SL No:    807 non-null    int64         \n",
      " 1   Customer  807 non-null    object        \n",
      " 2   Month     803 non-null    datetime64[ns]\n",
      " 3   Amount    807 non-null    float64       \n",
      "dtypes: datetime64[ns](1), float64(1), int64(1), object(1)\n",
      "memory usage: 25.3+ KB\n"
     ]
    }
   ],
   "source": [
    "# Lets have a look at the repayment data\n",
    "payment_df.info()"
   ]
  },
  {
   "cell_type": "markdown",
   "metadata": {},
   "source": [
    "**4 rows have null in Month. Let's drop those.**"
   ]
  },
  {
   "cell_type": "code",
   "execution_count": 117,
   "metadata": {},
   "outputs": [
    {
     "name": "stdout",
     "output_type": "stream",
     "text": [
      "<class 'pandas.core.frame.DataFrame'>\n",
      "Int64Index: 803 entries, 0 to 806\n",
      "Data columns (total 4 columns):\n",
      " #   Column    Non-Null Count  Dtype         \n",
      "---  ------    --------------  -----         \n",
      " 0   SL No:    803 non-null    int64         \n",
      " 1   Customer  803 non-null    object        \n",
      " 2   Month     803 non-null    datetime64[ns]\n",
      " 3   Amount    803 non-null    float64       \n",
      "dtypes: datetime64[ns](1), float64(1), int64(1), object(1)\n",
      "memory usage: 31.4+ KB\n"
     ]
    }
   ],
   "source": [
    "payment_df.dropna(how=\"any\",axis=0, inplace=True)                                       \n",
    "payment_df.info()                                            # What's wrong with this?? "
   ]
  },
  {
   "cell_type": "markdown",
   "metadata": {},
   "source": [
    "**Who are the top 10 customers in terms of repayment?**"
   ]
  },
  {
   "cell_type": "code",
   "execution_count": 118,
   "metadata": {},
   "outputs": [
    {
     "data": {
      "text/plain": [
       "Customer\n",
       "A47    4.092247e+06\n",
       "A61    2.776651e+06\n",
       "A58    2.711600e+06\n",
       "A56    2.372900e+06\n",
       "A48    2.110238e+06\n",
       "A36    2.068917e+06\n",
       "A44    2.003032e+06\n",
       "A24    1.998198e+06\n",
       "A49    1.919454e+06\n",
       "A42    1.841543e+06\n",
       "Name: Amount, dtype: float64"
      ]
     },
     "execution_count": 118,
     "metadata": {},
     "output_type": "execute_result"
    }
   ],
   "source": [
    "# Group by Customer and sum the Amount \n",
    "topcust_df = payment_df.groupby('Customer')['Amount'].sum().sort_values(ascending=False)\n",
    "topcust_df.head(10)"
   ]
  },
  {
   "cell_type": "markdown",
   "metadata": {},
   "source": [
    "##### To compare spend and card limit, we need to merge (Aggregated) Spend data with Customer data"
   ]
  },
  {
   "cell_type": "code",
   "execution_count": 119,
   "metadata": {},
   "outputs": [],
   "source": [
    "# Aggregate the spend data by Customer and Year-Month \n",
    "monthly_spend_df = trans_df.groupby(['Customer','Year','Month'], as_index=False)['Amount'].sum()"
   ]
  },
  {
   "cell_type": "code",
   "execution_count": 120,
   "metadata": {},
   "outputs": [],
   "source": [
    "# Merge the customer information and aggregated spend data\n",
    "monthly_spend_df = pd.merge(customer_df, monthly_spend_df, on='Customer', how='left') "
   ]
  },
  {
   "cell_type": "code",
   "execution_count": 121,
   "metadata": {},
   "outputs": [
    {
     "data": {
      "text/plain": [
       "array(['A1', 'A4', 'A5', 'A13', 'A15', 'A16', 'A33', 'A48', 'A49', 'A52',\n",
       "       'A53', 'A62', 'A69', 'A96', 'A99'], dtype=object)"
      ]
     },
     "execution_count": 121,
     "metadata": {},
     "output_type": "execute_result"
    }
   ],
   "source": [
    "# Calculate Spend Ratio = Amount Spent / Card Limit \n",
    "\n",
    "monthly_spend_df[\"SpendRatio\"] = monthly_spend_df.Amount/monthly_spend_df.Limit\n",
    "\n",
    "# Who is reaching 90% of spend limit \n",
    "monthly_spend_df.query(\"SpendRatio > 0.9\")['Customer'].unique()"
   ]
  },
  {
   "cell_type": "code",
   "execution_count": 122,
   "metadata": {},
   "outputs": [
    {
     "data": {
      "text/html": [
       "<div><div id=32b0ff44-fa49-4777-a9cf-020947347f4d style=\"display:none; background-color:#9D6CFF; color:white; width:200px; height:30px; padding-left:5px; border-radius:4px; flex-direction:row; justify-content:space-around; align-items:center;\" onmouseover=\"this.style.backgroundColor='#BA9BF8'\" onmouseout=\"this.style.backgroundColor='#9D6CFF'\" onclick=\"window.commands?.execute('create-mitosheet-from-dataframe-output');\">See Full Dataframe in Mito</div> <script> if (window.commands?.hasCommand('create-mitosheet-from-dataframe-output')) document.getElementById('32b0ff44-fa49-4777-a9cf-020947347f4d').style.display = 'flex' </script> <table border=\"1\" class=\"dataframe\">\n",
       "  <thead>\n",
       "    <tr style=\"text-align: right;\">\n",
       "      <th></th>\n",
       "      <th>No</th>\n",
       "      <th>Customer</th>\n",
       "      <th>Age</th>\n",
       "      <th>City</th>\n",
       "      <th>Product</th>\n",
       "      <th>Limit</th>\n",
       "      <th>Company</th>\n",
       "      <th>Segment</th>\n",
       "      <th>Year</th>\n",
       "      <th>Month</th>\n",
       "      <th>Amount</th>\n",
       "      <th>SpendRatio</th>\n",
       "    </tr>\n",
       "  </thead>\n",
       "  <tbody>\n",
       "    <tr>\n",
       "      <th>4</th>\n",
       "      <td>1</td>\n",
       "      <td>A1</td>\n",
       "      <td>47.0</td>\n",
       "      <td>BANGALORE</td>\n",
       "      <td>Gold</td>\n",
       "      <td>1500000</td>\n",
       "      <td>C1</td>\n",
       "      <td>Self Employed</td>\n",
       "      <td>2005</td>\n",
       "      <td>2</td>\n",
       "      <td>1.360527e+06</td>\n",
       "      <td>0.907018</td>\n",
       "    </tr>\n",
       "    <tr>\n",
       "      <th>27</th>\n",
       "      <td>4</td>\n",
       "      <td>A4</td>\n",
       "      <td>22.0</td>\n",
       "      <td>BOMBAY</td>\n",
       "      <td>Platimum</td>\n",
       "      <td>840084</td>\n",
       "      <td>C4</td>\n",
       "      <td>Govt</td>\n",
       "      <td>2004</td>\n",
       "      <td>1</td>\n",
       "      <td>8.214110e+05</td>\n",
       "      <td>0.977772</td>\n",
       "    </tr>\n",
       "    <tr>\n",
       "      <th>38</th>\n",
       "      <td>5</td>\n",
       "      <td>A5</td>\n",
       "      <td>59.0</td>\n",
       "      <td>BANGALORE</td>\n",
       "      <td>Platimum</td>\n",
       "      <td>420084</td>\n",
       "      <td>C5</td>\n",
       "      <td>Normal Salary</td>\n",
       "      <td>2006</td>\n",
       "      <td>3</td>\n",
       "      <td>3.937892e+05</td>\n",
       "      <td>0.937406</td>\n",
       "    </tr>\n",
       "    <tr>\n",
       "      <th>131</th>\n",
       "      <td>13</td>\n",
       "      <td>A13</td>\n",
       "      <td>38.0</td>\n",
       "      <td>BANGALORE</td>\n",
       "      <td>Gold</td>\n",
       "      <td>500000</td>\n",
       "      <td>C13</td>\n",
       "      <td>Salaried_MNC</td>\n",
       "      <td>2006</td>\n",
       "      <td>11</td>\n",
       "      <td>4.624256e+05</td>\n",
       "      <td>0.924851</td>\n",
       "    </tr>\n",
       "    <tr>\n",
       "      <th>155</th>\n",
       "      <td>15</td>\n",
       "      <td>A15</td>\n",
       "      <td>41.0</td>\n",
       "      <td>CALCUTTA</td>\n",
       "      <td>Gold</td>\n",
       "      <td>500000</td>\n",
       "      <td>C15</td>\n",
       "      <td>Govt</td>\n",
       "      <td>2005</td>\n",
       "      <td>9</td>\n",
       "      <td>4.937968e+05</td>\n",
       "      <td>0.987594</td>\n",
       "    </tr>\n",
       "  </tbody>\n",
       "</table></div>"
      ],
      "text/plain": [
       "     No Customer   Age       City   Product    Limit Company        Segment  \\\n",
       "4     1       A1  47.0  BANGALORE      Gold  1500000      C1  Self Employed   \n",
       "27    4       A4  22.0     BOMBAY  Platimum   840084      C4           Govt   \n",
       "38    5       A5  59.0  BANGALORE  Platimum   420084      C5  Normal Salary   \n",
       "131  13      A13  38.0  BANGALORE      Gold   500000     C13   Salaried_MNC   \n",
       "155  15      A15  41.0   CALCUTTA      Gold   500000     C15           Govt   \n",
       "\n",
       "     Year  Month        Amount  SpendRatio  \n",
       "4    2005      2  1.360527e+06    0.907018  \n",
       "27   2004      1  8.214110e+05    0.977772  \n",
       "38   2006      3  3.937892e+05    0.937406  \n",
       "131  2006     11  4.624256e+05    0.924851  \n",
       "155  2005      9  4.937968e+05    0.987594  "
      ]
     },
     "execution_count": 122,
     "metadata": {},
     "output_type": "execute_result"
    }
   ],
   "source": [
    "#Let's look at some of those transactions\n",
    "monthly_spend_df.query(\"SpendRatio > 0.9\").head()"
   ]
  },
  {
   "cell_type": "markdown",
   "metadata": {},
   "source": [
    "##### Which city has the maximum number of spenders, each month? Is there a need to run campaigns in specific cities?"
   ]
  },
  {
   "cell_type": "code",
   "execution_count": 123,
   "metadata": {},
   "outputs": [],
   "source": [
    "# Group the data by City\n",
    "city_spend_df=monthly_spend_df.groupby(['City', 'Month'], as_index=False)['Amount'].sum().round(2) "
   ]
  },
  {
   "cell_type": "code",
   "execution_count": 124,
   "metadata": {},
   "outputs": [
    {
     "data": {
      "text/html": [
       "<div><div id=498e30cb-f925-4f84-8756-0f3109047253 style=\"display:none; background-color:#9D6CFF; color:white; width:200px; height:30px; padding-left:5px; border-radius:4px; flex-direction:row; justify-content:space-around; align-items:center;\" onmouseover=\"this.style.backgroundColor='#BA9BF8'\" onmouseout=\"this.style.backgroundColor='#9D6CFF'\" onclick=\"window.commands?.execute('create-mitosheet-from-dataframe-output');\">See Full Dataframe in Mito</div> <script> if (window.commands?.hasCommand('create-mitosheet-from-dataframe-output')) document.getElementById('498e30cb-f925-4f84-8756-0f3109047253').style.display = 'flex' </script> <table border=\"1\" class=\"dataframe\">\n",
       "  <thead>\n",
       "    <tr style=\"text-align: right;\">\n",
       "      <th>City</th>\n",
       "      <th>BANGALORE</th>\n",
       "      <th>BOMBAY</th>\n",
       "      <th>CALCUTTA</th>\n",
       "      <th>CHENNAI</th>\n",
       "      <th>COCHIN</th>\n",
       "      <th>DELHI</th>\n",
       "      <th>PATNA</th>\n",
       "      <th>TRIVANDRUM</th>\n",
       "    </tr>\n",
       "    <tr>\n",
       "      <th>Month</th>\n",
       "      <th></th>\n",
       "      <th></th>\n",
       "      <th></th>\n",
       "      <th></th>\n",
       "      <th></th>\n",
       "      <th></th>\n",
       "      <th></th>\n",
       "      <th></th>\n",
       "    </tr>\n",
       "  </thead>\n",
       "  <tbody>\n",
       "    <tr>\n",
       "      <th>1</th>\n",
       "      <td>3126274.90</td>\n",
       "      <td>2328805.56</td>\n",
       "      <td>3244926.98</td>\n",
       "      <td>2597978.19</td>\n",
       "      <td>4617419.79</td>\n",
       "      <td>703130.98</td>\n",
       "      <td>1815232.34</td>\n",
       "      <td>814089.04</td>\n",
       "    </tr>\n",
       "    <tr>\n",
       "      <th>2</th>\n",
       "      <td>3971498.30</td>\n",
       "      <td>3008375.45</td>\n",
       "      <td>1658105.86</td>\n",
       "      <td>1969179.47</td>\n",
       "      <td>4149994.83</td>\n",
       "      <td>365936.54</td>\n",
       "      <td>751930.88</td>\n",
       "      <td>670849.37</td>\n",
       "    </tr>\n",
       "    <tr>\n",
       "      <th>3</th>\n",
       "      <td>2027004.09</td>\n",
       "      <td>2897458.18</td>\n",
       "      <td>2176908.20</td>\n",
       "      <td>1166274.69</td>\n",
       "      <td>2020514.68</td>\n",
       "      <td>1011287.40</td>\n",
       "      <td>1029935.01</td>\n",
       "      <td>881084.93</td>\n",
       "    </tr>\n",
       "    <tr>\n",
       "      <th>4</th>\n",
       "      <td>1337310.21</td>\n",
       "      <td>850195.62</td>\n",
       "      <td>1551686.80</td>\n",
       "      <td>1080791.32</td>\n",
       "      <td>2347582.32</td>\n",
       "      <td>1161682.99</td>\n",
       "      <td>148841.06</td>\n",
       "      <td>97370.19</td>\n",
       "    </tr>\n",
       "    <tr>\n",
       "      <th>5</th>\n",
       "      <td>3130804.91</td>\n",
       "      <td>778840.57</td>\n",
       "      <td>1967827.09</td>\n",
       "      <td>1924341.32</td>\n",
       "      <td>2844139.80</td>\n",
       "      <td>1072653.18</td>\n",
       "      <td>895786.43</td>\n",
       "      <td>1438594.96</td>\n",
       "    </tr>\n",
       "  </tbody>\n",
       "</table></div>"
      ],
      "text/plain": [
       "City    BANGALORE      BOMBAY    CALCUTTA     CHENNAI      COCHIN       DELHI  \\\n",
       "Month                                                                           \n",
       "1      3126274.90  2328805.56  3244926.98  2597978.19  4617419.79   703130.98   \n",
       "2      3971498.30  3008375.45  1658105.86  1969179.47  4149994.83   365936.54   \n",
       "3      2027004.09  2897458.18  2176908.20  1166274.69  2020514.68  1011287.40   \n",
       "4      1337310.21   850195.62  1551686.80  1080791.32  2347582.32  1161682.99   \n",
       "5      3130804.91   778840.57  1967827.09  1924341.32  2844139.80  1072653.18   \n",
       "\n",
       "City        PATNA  TRIVANDRUM  \n",
       "Month                          \n",
       "1      1815232.34   814089.04  \n",
       "2       751930.88   670849.37  \n",
       "3      1029935.01   881084.93  \n",
       "4       148841.06    97370.19  \n",
       "5       895786.43  1438594.96  "
      ]
     },
     "execution_count": 124,
     "metadata": {},
     "output_type": "execute_result"
    }
   ],
   "source": [
    "# reshape the data for plotting\n",
    "city_spend_pivot = city_spend_df.pivot(index='Month', columns='City', values='Amount')\n",
    "city_spend_pivot.head()"
   ]
  },
  {
   "cell_type": "code",
   "execution_count": 125,
   "metadata": {},
   "outputs": [
    {
     "data": {
      "text/plain": [
       "<AxesSubplot:xlabel='Month'>"
      ]
     },
     "execution_count": 125,
     "metadata": {},
     "output_type": "execute_result"
    },
    {
     "data": {
      "image/png": "[encoded data removed]",
      "text/plain": [
       "<Figure size 432x288 with 1 Axes>"
      ]
     },
     "metadata": {
      "needs_background": "light"
     },
     "output_type": "display_data"
    }
   ],
   "source": [
    "city_spend_pivot.plot(kind='bar')"
   ]
  },
  {
   "cell_type": "markdown",
   "metadata": {},
   "source": [
    "We see that most cities have very low spend during the month of June - Dec. We need to run campaigns across all the cities.\n",
    "Calcutta is doing well in 9th Month and Bombay in 11th Month. So they can be excluded in those months. "
   ]
  },
  {
   "cell_type": "markdown",
   "metadata": {},
   "source": [
    "##### Which age group spends the most amount of money?"
   ]
  },
  {
   "cell_type": "code",
   "execution_count": 126,
   "metadata": {},
   "outputs": [],
   "source": [
    "# Let's create certain age groups\n",
    "cust_trans_df[\"Age_group\"] = pd.cut(x=cust_trans_df['Age'], bins=[18,30,60,100], labels=[\"GenX\",\"Middle\",\"Senior\"])"
   ]
  },
  {
   "cell_type": "code",
   "execution_count": 127,
   "metadata": {},
   "outputs": [
    {
     "data": {
      "text/html": [
       "<div><div id=13af2222-bb37-4c1f-9bff-8366e882c169 style=\"display:none; background-color:#9D6CFF; color:white; width:200px; height:30px; padding-left:5px; border-radius:4px; flex-direction:row; justify-content:space-around; align-items:center;\" onmouseover=\"this.style.backgroundColor='#BA9BF8'\" onmouseout=\"this.style.backgroundColor='#9D6CFF'\" onclick=\"window.commands?.execute('create-mitosheet-from-dataframe-output');\">See Full Dataframe in Mito</div> <script> if (window.commands?.hasCommand('create-mitosheet-from-dataframe-output')) document.getElementById('13af2222-bb37-4c1f-9bff-8366e882c169').style.display = 'flex' </script> <table border=\"1\" class=\"dataframe\">\n",
       "  <thead>\n",
       "    <tr style=\"text-align: right;\">\n",
       "      <th></th>\n",
       "      <th>Sl No:</th>\n",
       "      <th>Customer</th>\n",
       "      <th>TransDate</th>\n",
       "      <th>Type</th>\n",
       "      <th>Amount</th>\n",
       "      <th>Month</th>\n",
       "      <th>Year</th>\n",
       "      <th>No</th>\n",
       "      <th>Age</th>\n",
       "      <th>City</th>\n",
       "      <th>Product</th>\n",
       "      <th>Limit</th>\n",
       "      <th>Company</th>\n",
       "      <th>Segment</th>\n",
       "      <th>Age_group</th>\n",
       "    </tr>\n",
       "  </thead>\n",
       "  <tbody>\n",
       "    <tr>\n",
       "      <th>945</th>\n",
       "      <td>926</td>\n",
       "      <td>A45</td>\n",
       "      <td>2005-12-03</td>\n",
       "      <td>RENTAL</td>\n",
       "      <td>18601.855910</td>\n",
       "      <td>12</td>\n",
       "      <td>2005</td>\n",
       "      <td>45</td>\n",
       "      <td>65.0</td>\n",
       "      <td>COCHIN</td>\n",
       "      <td>Gold</td>\n",
       "      <td>1500000</td>\n",
       "      <td>C7</td>\n",
       "      <td>Salaried_Pvt</td>\n",
       "      <td>Senior</td>\n",
       "    </tr>\n",
       "    <tr>\n",
       "      <th>829</th>\n",
       "      <td>1139</td>\n",
       "      <td>A41</td>\n",
       "      <td>2005-07-03</td>\n",
       "      <td>PETRO</td>\n",
       "      <td>708.863045</td>\n",
       "      <td>7</td>\n",
       "      <td>2005</td>\n",
       "      <td>41</td>\n",
       "      <td>35.0</td>\n",
       "      <td>COCHIN</td>\n",
       "      <td>Platimum</td>\n",
       "      <td>1500000</td>\n",
       "      <td>C23</td>\n",
       "      <td>Govt</td>\n",
       "      <td>Middle</td>\n",
       "    </tr>\n",
       "    <tr>\n",
       "      <th>226</th>\n",
       "      <td>305</td>\n",
       "      <td>A17</td>\n",
       "      <td>2006-03-28</td>\n",
       "      <td>CAMERA</td>\n",
       "      <td>22184.301214</td>\n",
       "      <td>3</td>\n",
       "      <td>2006</td>\n",
       "      <td>17</td>\n",
       "      <td>26.0</td>\n",
       "      <td>BOMBAY</td>\n",
       "      <td>Gold</td>\n",
       "      <td>500000</td>\n",
       "      <td>C17</td>\n",
       "      <td>Self Employed</td>\n",
       "      <td>GenX</td>\n",
       "    </tr>\n",
       "    <tr>\n",
       "      <th>1288</th>\n",
       "      <td>1189</td>\n",
       "      <td>A60</td>\n",
       "      <td>2004-01-12</td>\n",
       "      <td>CAMERA</td>\n",
       "      <td>31035.419971</td>\n",
       "      <td>1</td>\n",
       "      <td>2004</td>\n",
       "      <td>60</td>\n",
       "      <td>54.0</td>\n",
       "      <td>CALCUTTA</td>\n",
       "      <td>Gold</td>\n",
       "      <td>1500000</td>\n",
       "      <td>C22</td>\n",
       "      <td>Salaried_Pvt</td>\n",
       "      <td>Middle</td>\n",
       "    </tr>\n",
       "    <tr>\n",
       "      <th>891</th>\n",
       "      <td>1141</td>\n",
       "      <td>A43</td>\n",
       "      <td>2005-09-03</td>\n",
       "      <td>PETRO</td>\n",
       "      <td>887.166035</td>\n",
       "      <td>9</td>\n",
       "      <td>2005</td>\n",
       "      <td>43</td>\n",
       "      <td>50.0</td>\n",
       "      <td>BANGALORE</td>\n",
       "      <td>Gold</td>\n",
       "      <td>1500000</td>\n",
       "      <td>C25</td>\n",
       "      <td>Self Employed</td>\n",
       "      <td>Middle</td>\n",
       "    </tr>\n",
       "    <tr>\n",
       "      <th>1090</th>\n",
       "      <td>1003</td>\n",
       "      <td>A50</td>\n",
       "      <td>2006-04-19</td>\n",
       "      <td>AIR TICKET</td>\n",
       "      <td>479179.658267</td>\n",
       "      <td>4</td>\n",
       "      <td>2006</td>\n",
       "      <td>50</td>\n",
       "      <td>58.0</td>\n",
       "      <td>COCHIN</td>\n",
       "      <td>Platimum</td>\n",
       "      <td>1200000</td>\n",
       "      <td>C12</td>\n",
       "      <td>Salaried_Pvt</td>\n",
       "      <td>Middle</td>\n",
       "    </tr>\n",
       "    <tr>\n",
       "      <th>1040</th>\n",
       "      <td>987</td>\n",
       "      <td>A48</td>\n",
       "      <td>2005-02-23</td>\n",
       "      <td>AUTO</td>\n",
       "      <td>42775.250932</td>\n",
       "      <td>2</td>\n",
       "      <td>2005</td>\n",
       "      <td>48</td>\n",
       "      <td>47.0</td>\n",
       "      <td>TRIVANDRUM</td>\n",
       "      <td>Platimum</td>\n",
       "      <td>540054</td>\n",
       "      <td>C10</td>\n",
       "      <td>Self Employed</td>\n",
       "      <td>Middle</td>\n",
       "    </tr>\n",
       "    <tr>\n",
       "      <th>792</th>\n",
       "      <td>979</td>\n",
       "      <td>A40</td>\n",
       "      <td>2004-01-12</td>\n",
       "      <td>BUS TICKET</td>\n",
       "      <td>2856.936535</td>\n",
       "      <td>1</td>\n",
       "      <td>2004</td>\n",
       "      <td>40</td>\n",
       "      <td>64.0</td>\n",
       "      <td>CALCUTTA</td>\n",
       "      <td>Platimum</td>\n",
       "      <td>1500000</td>\n",
       "      <td>C22</td>\n",
       "      <td>Salaried_Pvt</td>\n",
       "      <td>Senior</td>\n",
       "    </tr>\n",
       "    <tr>\n",
       "      <th>1077</th>\n",
       "      <td>1147</td>\n",
       "      <td>A49</td>\n",
       "      <td>2006-03-03</td>\n",
       "      <td>AUTO</td>\n",
       "      <td>19956.909412</td>\n",
       "      <td>3</td>\n",
       "      <td>2006</td>\n",
       "      <td>49</td>\n",
       "      <td>60.0</td>\n",
       "      <td>CALCUTTA</td>\n",
       "      <td>Platimum</td>\n",
       "      <td>780000</td>\n",
       "      <td>C11</td>\n",
       "      <td>Salaried_MNC</td>\n",
       "      <td>Middle</td>\n",
       "    </tr>\n",
       "    <tr>\n",
       "      <th>844</th>\n",
       "      <td>691</td>\n",
       "      <td>A42</td>\n",
       "      <td>2004-11-23</td>\n",
       "      <td>AIR TICKET</td>\n",
       "      <td>370056.533784</td>\n",
       "      <td>11</td>\n",
       "      <td>2004</td>\n",
       "      <td>42</td>\n",
       "      <td>71.0</td>\n",
       "      <td>BOMBAY</td>\n",
       "      <td>Gold</td>\n",
       "      <td>1500000</td>\n",
       "      <td>C24</td>\n",
       "      <td>Normal Salary</td>\n",
       "      <td>Senior</td>\n",
       "    </tr>\n",
       "  </tbody>\n",
       "</table></div>"
      ],
      "text/plain": [
       "      Sl No: Customer  TransDate        Type         Amount  Month  Year  No  \\\n",
       "945      926      A45 2005-12-03      RENTAL   18601.855910     12  2005  45   \n",
       "829     1139      A41 2005-07-03       PETRO     708.863045      7  2005  41   \n",
       "226      305      A17 2006-03-28      CAMERA   22184.301214      3  2006  17   \n",
       "1288    1189      A60 2004-01-12      CAMERA   31035.419971      1  2004  60   \n",
       "891     1141      A43 2005-09-03       PETRO     887.166035      9  2005  43   \n",
       "1090    1003      A50 2006-04-19  AIR TICKET  479179.658267      4  2006  50   \n",
       "1040     987      A48 2005-02-23        AUTO   42775.250932      2  2005  48   \n",
       "792      979      A40 2004-01-12  BUS TICKET    2856.936535      1  2004  40   \n",
       "1077    1147      A49 2006-03-03        AUTO   19956.909412      3  2006  49   \n",
       "844      691      A42 2004-11-23  AIR TICKET  370056.533784     11  2004  42   \n",
       "\n",
       "       Age        City   Product    Limit Company        Segment Age_group  \n",
       "945   65.0      COCHIN      Gold  1500000      C7   Salaried_Pvt    Senior  \n",
       "829   35.0      COCHIN  Platimum  1500000     C23           Govt    Middle  \n",
       "226   26.0      BOMBAY      Gold   500000     C17  Self Employed      GenX  \n",
       "1288  54.0    CALCUTTA      Gold  1500000     C22   Salaried_Pvt    Middle  \n",
       "891   50.0   BANGALORE      Gold  1500000     C25  Self Employed    Middle  \n",
       "1090  58.0      COCHIN  Platimum  1200000     C12   Salaried_Pvt    Middle  \n",
       "1040  47.0  TRIVANDRUM  Platimum   540054     C10  Self Employed    Middle  \n",
       "792   64.0    CALCUTTA  Platimum  1500000     C22   Salaried_Pvt    Senior  \n",
       "1077  60.0    CALCUTTA  Platimum   780000     C11   Salaried_MNC    Middle  \n",
       "844   71.0      BOMBAY      Gold  1500000     C24  Normal Salary    Senior  "
      ]
     },
     "execution_count": 127,
     "metadata": {},
     "output_type": "execute_result"
    }
   ],
   "source": [
    "cust_trans_df.sample(10)"
   ]
  },
  {
   "cell_type": "code",
   "execution_count": 128,
   "metadata": {},
   "outputs": [
    {
     "data": {
      "text/plain": [
       "<AxesSubplot:xlabel='Age_group'>"
      ]
     },
     "execution_count": 128,
     "metadata": {},
     "output_type": "execute_result"
    },
    {
     "data": {
      "image/png": "[encoded data removed]",
      "text/plain": [
       "<Figure size 432x288 with 1 Axes>"
      ]
     },
     "metadata": {
      "needs_background": "light"
     },
     "output_type": "display_data"
    }
   ],
   "source": [
    "spend_age_df = cust_trans_df.groupby('Age_group')['Amount'].sum()\n",
    "spend_age_df.plot(kind='bar')"
   ]
  }
 ],
 "metadata": {
  "kernelspec": {
   "display_name": "Python 3 (ipykernel)",
   "language": "python",
   "name": "python3"
  },
  "language_info": {
   "codemirror_mode": {
    "name": "ipython",
    "version": 3
   },
   "file_extension": ".py",
   "mimetype": "text/x-python",
   "name": "python",
   "nbconvert_exporter": "python",
   "pygments_lexer": "ipython3",
   "version": "3.9.7"
  }
 },
 "nbformat": 4,
 "nbformat_minor": 2
}
