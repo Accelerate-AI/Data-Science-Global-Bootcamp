{
 "cells": [
  {
   "cell_type": "markdown",
   "metadata": {},
   "source": [
    "## AccelerateAI - Data Science Global Bootcamp\n",
    "#### Data Visualization: Assignment 01\n",
    "***"
   ]
  },
  {
   "cell_type": "markdown",
   "metadata": {},
   "source": [
    "## Wifi Data Analysis\n",
    "Q2: The demand and usage of the internet is growing across the globe and public wifi is becoming a new normal as we move forward. Wifi providers want to optimize the cost while providing the free and paid wifi. <br>\n",
    "The use case here refers to public WiFi hotspots in New York City. Please refer to the dataset – Wifi Data.xlsx \n",
    "<br>The information comprises of records for every public WiFi hotspot (ones provided by or in partnership with the city) in New York City.<br>\n",
    "Using Python’s Pandas and Seaborn library to answer following business questions:<br>\n",
    " 1. [Get the data provided, check frequency distribution of the features, drop irrelevant and redundant features if any and state your inferences?](#first-bullet)\n",
    " 2. Using appropriate data visualization answer the following:\n",
    "  - a. [Plot the providers vs number of all wi-fi hotspots they have in operation? Who has the highest installations?](#second-bullet)\n",
    "  - b. [Plot providers vs number of free wifi hotspots.](#third-bullet)\n",
    "  - c. [Are there any provider(s) who do not provide free wifi?](#fourth-bullet)\n",
    "  - d. [Which Location type (Location_T) are most common and least common?](#fifth-bullet)\n",
    "  - e. [How many free “indoor” and “outdoor” hotspots are there? Which companies have the highest number of Outdoor Free installations.](#sixth-bullet)"
   ]
  },
  {
   "cell_type": "markdown",
   "metadata": {},
   "source": [
    "<a class=\"anchor\" id=\"first-bullet\"></a>\n",
    "\n",
    "### 1. Get the data provided, check frequency distribution of the features, drop irrelevant and redundant features if any and state your inferences?"
   ]
  },
  {
   "cell_type": "code",
   "execution_count": 35,
   "metadata": {},
   "outputs": [],
   "source": [
    "# Data analysis\n",
    "import pandas as pd\n",
    "\n",
    "# Visualization \n",
    "import matplotlib.pyplot as plt\n",
    "import seaborn as sns "
   ]
  },
  {
   "cell_type": "code",
   "execution_count": 36,
   "metadata": {},
   "outputs": [
    {
     "data": {
      "text/html": [
       "<div><div id=6f2e2bfe-087c-403e-8f3d-d3a90abbfde4 style=\"display:none; background-color:#9D6CFF; color:white; width:200px; height:30px; padding-left:5px; border-radius:4px; flex-direction:row; justify-content:space-around; align-items:center;\" onmouseover=\"this.style.backgroundColor='#BA9BF8'\" onmouseout=\"this.style.backgroundColor='#9D6CFF'\" onclick=\"window.commands?.execute('create-mitosheet-from-dataframe-output');\">See Full Dataframe in Mito</div> <script> if (window.commands?.hasCommand('create-mitosheet-from-dataframe-output')) document.getElementById('6f2e2bfe-087c-403e-8f3d-d3a90abbfde4').style.display = 'flex' </script> <table border=\"1\" class=\"dataframe\">\n",
       "  <thead>\n",
       "    <tr style=\"text-align: right;\">\n",
       "      <th></th>\n",
       "      <th>OBJECTID</th>\n",
       "      <th>Borough</th>\n",
       "      <th>Type</th>\n",
       "      <th>Provider</th>\n",
       "      <th>Latitude</th>\n",
       "      <th>Longitude</th>\n",
       "      <th>Location_T</th>\n",
       "      <th>City</th>\n",
       "      <th>BoroCode</th>\n",
       "      <th>NTACode</th>\n",
       "    </tr>\n",
       "  </thead>\n",
       "  <tbody>\n",
       "    <tr>\n",
       "      <th>1479</th>\n",
       "      <td>1480</td>\n",
       "      <td>MN</td>\n",
       "      <td>Free</td>\n",
       "      <td>LinkNYC - Citybridge</td>\n",
       "      <td>40.777528</td>\n",
       "      <td>-73.955153</td>\n",
       "      <td>Outdoor Kiosk</td>\n",
       "      <td>New York</td>\n",
       "      <td>1</td>\n",
       "      <td>MN40</td>\n",
       "    </tr>\n",
       "    <tr>\n",
       "      <th>1264</th>\n",
       "      <td>1265</td>\n",
       "      <td>QU</td>\n",
       "      <td>Limited Free</td>\n",
       "      <td>SPECTRUM</td>\n",
       "      <td>40.595714</td>\n",
       "      <td>-73.747247</td>\n",
       "      <td>Outdoor TWC Aerial</td>\n",
       "      <td>Queens</td>\n",
       "      <td>4</td>\n",
       "      <td>QN15</td>\n",
       "    </tr>\n",
       "    <tr>\n",
       "      <th>1965</th>\n",
       "      <td>1966</td>\n",
       "      <td>MN</td>\n",
       "      <td>Free</td>\n",
       "      <td>LinkNYC - Citybridge</td>\n",
       "      <td>40.719504</td>\n",
       "      <td>-73.989474</td>\n",
       "      <td>Outdoor Kiosk</td>\n",
       "      <td>New York</td>\n",
       "      <td>1</td>\n",
       "      <td>MN27</td>\n",
       "    </tr>\n",
       "    <tr>\n",
       "      <th>2008</th>\n",
       "      <td>2009</td>\n",
       "      <td>MN</td>\n",
       "      <td>Free</td>\n",
       "      <td>LinkNYC - Citybridge</td>\n",
       "      <td>40.745039</td>\n",
       "      <td>-73.998529</td>\n",
       "      <td>Outdoor Kiosk</td>\n",
       "      <td>New York</td>\n",
       "      <td>1</td>\n",
       "      <td>MN13</td>\n",
       "    </tr>\n",
       "    <tr>\n",
       "      <th>239</th>\n",
       "      <td>240</td>\n",
       "      <td>QU</td>\n",
       "      <td>Free</td>\n",
       "      <td>LinkNYC - Citybridge</td>\n",
       "      <td>40.706357</td>\n",
       "      <td>-73.792205</td>\n",
       "      <td>Outdoor Kiosk</td>\n",
       "      <td>Queens</td>\n",
       "      <td>4</td>\n",
       "      <td>QN61</td>\n",
       "    </tr>\n",
       "  </tbody>\n",
       "</table></div>"
      ],
      "text/plain": [
       "      OBJECTID Borough          Type              Provider   Latitude  \\\n",
       "1479      1480      MN          Free  LinkNYC - Citybridge  40.777528   \n",
       "1264      1265      QU  Limited Free              SPECTRUM  40.595714   \n",
       "1965      1966      MN          Free  LinkNYC - Citybridge  40.719504   \n",
       "2008      2009      MN          Free  LinkNYC - Citybridge  40.745039   \n",
       "239        240      QU          Free  LinkNYC - Citybridge  40.706357   \n",
       "\n",
       "      Longitude          Location_T      City  BoroCode NTACode  \n",
       "1479 -73.955153       Outdoor Kiosk  New York         1    MN40  \n",
       "1264 -73.747247  Outdoor TWC Aerial    Queens         4    QN15  \n",
       "1965 -73.989474       Outdoor Kiosk  New York         1    MN27  \n",
       "2008 -73.998529       Outdoor Kiosk  New York         1    MN13  \n",
       "239  -73.792205       Outdoor Kiosk    Queens         4    QN61  "
      ]
     },
     "execution_count": 36,
     "metadata": {},
     "output_type": "execute_result"
    }
   ],
   "source": [
    "df = pd.read_excel(\"Wifi Data.xlsx\")\n",
    "df.sample(5)"
   ]
  },
  {
   "cell_type": "code",
   "execution_count": 37,
   "metadata": {},
   "outputs": [
    {
     "data": {
      "text/plain": [
       "(2566, 10)"
      ]
     },
     "execution_count": 37,
     "metadata": {},
     "output_type": "execute_result"
    }
   ],
   "source": [
    "# Shape of dataframe\n",
    "df.shape"
   ]
  },
  {
   "cell_type": "code",
   "execution_count": 38,
   "metadata": {},
   "outputs": [
    {
     "name": "stdout",
     "output_type": "stream",
     "text": [
      "<class 'pandas.core.frame.DataFrame'>\n",
      "RangeIndex: 2566 entries, 0 to 2565\n",
      "Data columns (total 10 columns):\n",
      " #   Column      Non-Null Count  Dtype  \n",
      "---  ------      --------------  -----  \n",
      " 0   OBJECTID    2566 non-null   int64  \n",
      " 1   Borough     2566 non-null   object \n",
      " 2   Type        2566 non-null   object \n",
      " 3   Provider    2566 non-null   object \n",
      " 4   Latitude    2566 non-null   float64\n",
      " 5   Longitude   2566 non-null   float64\n",
      " 6   Location_T  2566 non-null   object \n",
      " 7   City        2566 non-null   object \n",
      " 8   BoroCode    2566 non-null   int64  \n",
      " 9   NTACode     2566 non-null   object \n",
      "dtypes: float64(2), int64(2), object(6)\n",
      "memory usage: 200.6+ KB\n"
     ]
    }
   ],
   "source": [
    "# Any missing values\n",
    "df.info()"
   ]
  },
  {
   "cell_type": "code",
   "execution_count": 39,
   "metadata": {},
   "outputs": [
    {
     "data": {
      "text/html": [
       "<div><div id=c16bd78f-68b8-40bb-9bb8-a3c1aeac8fbf style=\"display:none; background-color:#9D6CFF; color:white; width:200px; height:30px; padding-left:5px; border-radius:4px; flex-direction:row; justify-content:space-around; align-items:center;\" onmouseover=\"this.style.backgroundColor='#BA9BF8'\" onmouseout=\"this.style.backgroundColor='#9D6CFF'\" onclick=\"window.commands?.execute('create-mitosheet-from-dataframe-output');\">See Full Dataframe in Mito</div> <script> if (window.commands?.hasCommand('create-mitosheet-from-dataframe-output')) document.getElementById('c16bd78f-68b8-40bb-9bb8-a3c1aeac8fbf').style.display = 'flex' </script> <table border=\"1\" class=\"dataframe\">\n",
       "  <thead>\n",
       "    <tr style=\"text-align: right;\">\n",
       "      <th></th>\n",
       "      <th>count</th>\n",
       "      <th>mean</th>\n",
       "      <th>std</th>\n",
       "      <th>min</th>\n",
       "      <th>25%</th>\n",
       "      <th>50%</th>\n",
       "      <th>75%</th>\n",
       "      <th>max</th>\n",
       "    </tr>\n",
       "  </thead>\n",
       "  <tbody>\n",
       "    <tr>\n",
       "      <th>OBJECTID</th>\n",
       "      <td>2566.0</td>\n",
       "      <td>1283.500000</td>\n",
       "      <td>740.884719</td>\n",
       "      <td>1.000000</td>\n",
       "      <td>642.250000</td>\n",
       "      <td>1283.500000</td>\n",
       "      <td>1924.750000</td>\n",
       "      <td>2566.000000</td>\n",
       "    </tr>\n",
       "    <tr>\n",
       "      <th>Latitude</th>\n",
       "      <td>2566.0</td>\n",
       "      <td>40.738396</td>\n",
       "      <td>0.070845</td>\n",
       "      <td>40.509531</td>\n",
       "      <td>40.693069</td>\n",
       "      <td>40.743196</td>\n",
       "      <td>40.796066</td>\n",
       "      <td>40.903723</td>\n",
       "    </tr>\n",
       "    <tr>\n",
       "      <th>Longitude</th>\n",
       "      <td>2566.0</td>\n",
       "      <td>-73.947564</td>\n",
       "      <td>0.067150</td>\n",
       "      <td>-74.244107</td>\n",
       "      <td>-73.985954</td>\n",
       "      <td>-73.958354</td>\n",
       "      <td>-73.922968</td>\n",
       "      <td>-73.714838</td>\n",
       "    </tr>\n",
       "    <tr>\n",
       "      <th>BoroCode</th>\n",
       "      <td>2566.0</td>\n",
       "      <td>2.196804</td>\n",
       "      <td>1.282300</td>\n",
       "      <td>1.000000</td>\n",
       "      <td>1.000000</td>\n",
       "      <td>2.000000</td>\n",
       "      <td>3.000000</td>\n",
       "      <td>5.000000</td>\n",
       "    </tr>\n",
       "  </tbody>\n",
       "</table></div>"
      ],
      "text/plain": [
       "            count         mean         std        min         25%  \\\n",
       "OBJECTID   2566.0  1283.500000  740.884719   1.000000  642.250000   \n",
       "Latitude   2566.0    40.738396    0.070845  40.509531   40.693069   \n",
       "Longitude  2566.0   -73.947564    0.067150 -74.244107  -73.985954   \n",
       "BoroCode   2566.0     2.196804    1.282300   1.000000    1.000000   \n",
       "\n",
       "                   50%          75%          max  \n",
       "OBJECTID   1283.500000  1924.750000  2566.000000  \n",
       "Latitude     40.743196    40.796066    40.903723  \n",
       "Longitude   -73.958354   -73.922968   -73.714838  \n",
       "BoroCode      2.000000     3.000000     5.000000  "
      ]
     },
     "execution_count": 39,
     "metadata": {},
     "output_type": "execute_result"
    }
   ],
   "source": [
    "# Numerical columns distribution\n",
    "df.describe().T"
   ]
  },
  {
   "cell_type": "code",
   "execution_count": 40,
   "metadata": {},
   "outputs": [
    {
     "name": "stdout",
     "output_type": "stream",
     "text": [
      "Borough :------------\n",
      "MN    1204\n",
      "BK     595\n",
      "QU     415\n",
      "BX     257\n",
      "SI      95\n",
      "Name: Borough, dtype: int64\n",
      "BoroCode :------------\n",
      "1    1205\n",
      "3     593\n",
      "4     416\n",
      "2     257\n",
      "5      95\n",
      "Name: BoroCode, dtype: int64\n",
      "Type :------------\n",
      "Free            1983\n",
      "Limited Free     581\n",
      "Partner Site       2\n",
      "Name: Type, dtype: int64\n",
      "Provider :------------\n",
      "LinkNYC - Citybridge       1134\n",
      "SPECTRUM                    343\n",
      "Transit Wireless            276\n",
      "ALTICEUSA                   237\n",
      "Harlem                      128\n",
      "Downtown Brooklyn           100\n",
      "NYPL                         90\n",
      "QPL                          65\n",
      "BPL                          59\n",
      "Manhattan Down Alliance      36\n",
      "Chelsea                      30\n",
      "NYCHA                        28\n",
      "AT&T                         27\n",
      "City Tech                    11\n",
      "Partner                       2\n",
      "Name: Provider, dtype: int64\n",
      "Location_T :------------\n",
      "Outdoor Kiosk         1134\n",
      "Outdoor                696\n",
      "Subway Station         276\n",
      "Library                214\n",
      "Indoor                 125\n",
      "Outdoor TWC Aerial     121\n",
      "Name: Location_T, dtype: int64\n",
      "City :------------\n",
      "New York            1204\n",
      "Brooklyn             595\n",
      "Queens               350\n",
      "Bronx                257\n",
      "Staten Island         95\n",
      "Flushing               9\n",
      "Long Island City       8\n",
      "Jamaica                5\n",
      "Corona                 3\n",
      "Bayside                3\n",
      "Little Neck            2\n",
      "Forest Hills           2\n",
      "Richmond Hill          2\n",
      "Queens Village         1\n",
      "Far Rockaway           1\n",
      "Glen Oaks              1\n",
      "Glendale               1\n",
      "Woodside               1\n",
      "Howard Beach           1\n",
      "Ridgewood              1\n",
      "Broad Channel          1\n",
      "Rockaway Beach         1\n",
      "South Ozone Park       1\n",
      "Ozone Park             1\n",
      "Rockaway Park          1\n",
      "Middle Village         1\n",
      "Saint Albans           1\n",
      "Hollis                 1\n",
      "Bellerose              1\n",
      "Woodhaven              1\n",
      "East Elmhurst          1\n",
      "Maspeth                1\n",
      "Fresh Meadows          1\n",
      "Laurelton              1\n",
      "Arverne                1\n",
      "Cambria Heights        1\n",
      "Briarwood              1\n",
      "Whitestone             1\n",
      "Rego Park              1\n",
      "Jackson Heights        1\n",
      "South Hollis           1\n",
      "Rosedale               1\n",
      "College Point          1\n",
      "Elmhurst               1\n",
      "Name: City, dtype: int64\n",
      "NTACode :------------\n",
      "MN17    138\n",
      "BK38    119\n",
      "MN13    104\n",
      "MN03     99\n",
      "MN11     80\n",
      "       ... \n",
      "QN48      1\n",
      "BK19      1\n",
      "QN66      1\n",
      "QN38      1\n",
      "BX06      1\n",
      "Name: NTACode, Length: 178, dtype: int64\n"
     ]
    }
   ],
   "source": [
    "# Categorical column - frequency distribution\n",
    "\n",
    "cat_var = ['Borough','BoroCode', 'Type', 'Provider','Location_T', 'City','NTACode']\n",
    "for var in cat_var:\n",
    "    print(var, \":------------\")\n",
    "    print(df[var].value_counts())"
   ]
  },
  {
   "cell_type": "code",
   "execution_count": 41,
   "metadata": {},
   "outputs": [
    {
     "data": {
      "image/png": "[encoded data removed]",
      "text/plain": [
       "<Figure size 576x432 with 4 Axes>"
      ]
     },
     "metadata": {},
     "output_type": "display_data"
    }
   ],
   "source": [
    "df.hist()\n",
    "plt.show() "
   ]
  },
  {
   "cell_type": "markdown",
   "metadata": {},
   "source": [
    "Inferences:\n",
    "- Borough and BoroCode are redundant. One of them can be dropped.\n",
    "- OBJECTID is an ID column and can be dropped as well."
   ]
  },
  {
   "cell_type": "markdown",
   "metadata": {},
   "source": [
    "### 2. Using appropriate data visualization answer the following:\n",
    "\n",
    "- Plot the providers vs number of all wi-fi hotspots they have in operation? Who has the highest installations?\n",
    "- Plot providers vs number of free wifi hotspots.\n",
    "- Are there any provider(s) who do not provide free wifi?\n",
    "- Which Location type (Location_T) are most common and least common?\n",
    "- How many free “indoor” and “outdoor” hotspots are there? Which companies have the highest number of Outdoor Free installations."
   ]
  },
  {
   "cell_type": "markdown",
   "metadata": {},
   "source": [
    "<a class=\"anchor\" id=\"second-bullet\"></a>\n",
    "\n",
    "\n",
    "#### 2a) Plot the providers vs number of all wi-fi hotspots they have in operation? Who has the highest installations?"
   ]
  },
  {
   "cell_type": "code",
   "execution_count": 42,
   "metadata": {},
   "outputs": [
    {
     "data": {
      "image/png": "[encoded data removed]",
      "text/plain": [
       "<Figure size 576x432 with 1 Axes>"
      ]
     },
     "metadata": {},
     "output_type": "display_data"
    }
   ],
   "source": [
    "sns.set_theme(style=\"white\", palette=\"Set2\")      # Set look and feel\n",
    "sns.set(rc={'figure.figsize':(8,6)})              # Set figure size - sets for entire notebook\n",
    "\n",
    "# Plot a horizontal histogram\n",
    "sns.histplot(data=df, y=\"Provider\", )  # providing y values will plot horizontal barplot\n",
    "plt.show()"
   ]
  },
  {
   "cell_type": "markdown",
   "metadata": {},
   "source": [
    "```LinkNYC - Citybridge``` has highest installations."
   ]
  },
  {
   "cell_type": "markdown",
   "metadata": {},
   "source": [
    "<a class=\"anchor\" id=\"third-bullet\"></a>\n",
    "\n",
    "#### 2b) Plot providers vs number of free wifi hotspots."
   ]
  },
  {
   "cell_type": "code",
   "execution_count": 43,
   "metadata": {},
   "outputs": [
    {
     "data": {
      "text/plain": [
       "Free            1983\n",
       "Limited Free     581\n",
       "Partner Site       2\n",
       "Name: Type, dtype: int64"
      ]
     },
     "execution_count": 43,
     "metadata": {},
     "output_type": "execute_result"
    }
   ],
   "source": [
    "df['Type'].value_counts()"
   ]
  },
  {
   "cell_type": "code",
   "execution_count": 44,
   "metadata": {},
   "outputs": [],
   "source": [
    "# Add indicator/flag indicating Provider Type = \"Free\"\n",
    "import numpy as np\n",
    "df['Type_free'] = np.where(df['Type'] == 'Free', 1 , 0)"
   ]
  },
  {
   "cell_type": "code",
   "execution_count": 45,
   "metadata": {},
   "outputs": [
    {
     "data": {
      "image/png": "[encoded data removed]",
      "text/plain": [
       "<Figure size 576x432 with 1 Axes>"
      ]
     },
     "metadata": {},
     "output_type": "display_data"
    }
   ],
   "source": [
    "df.groupby('Provider')['Type_free'].sum().plot(kind = 'bar')\n",
    "plt.show()"
   ]
  },
  {
   "cell_type": "markdown",
   "metadata": {},
   "source": [
    "<a class=\"anchor\" id=\"fourth-bullet\"></a>\n",
    "\n",
    "\n",
    "#### 2c) Are there any provider(s) who do not provide free wifi?"
   ]
  },
  {
   "cell_type": "code",
   "execution_count": 46,
   "metadata": {},
   "outputs": [],
   "source": [
    "df_NonFree_Wifi = df[(df.Type != \"Free\")]"
   ]
  },
  {
   "cell_type": "code",
   "execution_count": 47,
   "metadata": {},
   "outputs": [
    {
     "data": {
      "text/html": [
       "<div><div id=66d5a1e9-17ae-4a51-ad5f-0dfcb279b76d style=\"display:none; background-color:#9D6CFF; color:white; width:200px; height:30px; padding-left:5px; border-radius:4px; flex-direction:row; justify-content:space-around; align-items:center;\" onmouseover=\"this.style.backgroundColor='#BA9BF8'\" onmouseout=\"this.style.backgroundColor='#9D6CFF'\" onclick=\"window.commands?.execute('create-mitosheet-from-dataframe-output');\">See Full Dataframe in Mito</div> <script> if (window.commands?.hasCommand('create-mitosheet-from-dataframe-output')) document.getElementById('66d5a1e9-17ae-4a51-ad5f-0dfcb279b76d').style.display = 'flex' </script> <table border=\"1\" class=\"dataframe\">\n",
       "  <thead>\n",
       "    <tr style=\"text-align: right;\">\n",
       "      <th></th>\n",
       "      <th>OBJECTID</th>\n",
       "      <th>Borough</th>\n",
       "      <th>Type</th>\n",
       "      <th>Latitude</th>\n",
       "      <th>Longitude</th>\n",
       "      <th>Location_T</th>\n",
       "      <th>City</th>\n",
       "      <th>BoroCode</th>\n",
       "      <th>NTACode</th>\n",
       "      <th>Type_free</th>\n",
       "    </tr>\n",
       "    <tr>\n",
       "      <th>Provider</th>\n",
       "      <th></th>\n",
       "      <th></th>\n",
       "      <th></th>\n",
       "      <th></th>\n",
       "      <th></th>\n",
       "      <th></th>\n",
       "      <th></th>\n",
       "      <th></th>\n",
       "      <th></th>\n",
       "      <th></th>\n",
       "    </tr>\n",
       "  </thead>\n",
       "  <tbody>\n",
       "    <tr>\n",
       "      <th>ALTICEUSA</th>\n",
       "      <td>237</td>\n",
       "      <td>2</td>\n",
       "      <td>1</td>\n",
       "      <td>210</td>\n",
       "      <td>210</td>\n",
       "      <td>2</td>\n",
       "      <td>2</td>\n",
       "      <td>2</td>\n",
       "      <td>32</td>\n",
       "      <td>1</td>\n",
       "    </tr>\n",
       "    <tr>\n",
       "      <th>AT&amp;T</th>\n",
       "      <td>1</td>\n",
       "      <td>1</td>\n",
       "      <td>1</td>\n",
       "      <td>1</td>\n",
       "      <td>1</td>\n",
       "      <td>1</td>\n",
       "      <td>1</td>\n",
       "      <td>1</td>\n",
       "      <td>1</td>\n",
       "      <td>1</td>\n",
       "    </tr>\n",
       "    <tr>\n",
       "      <th>Partner</th>\n",
       "      <td>2</td>\n",
       "      <td>1</td>\n",
       "      <td>1</td>\n",
       "      <td>2</td>\n",
       "      <td>2</td>\n",
       "      <td>1</td>\n",
       "      <td>1</td>\n",
       "      <td>1</td>\n",
       "      <td>2</td>\n",
       "      <td>1</td>\n",
       "    </tr>\n",
       "    <tr>\n",
       "      <th>SPECTRUM</th>\n",
       "      <td>343</td>\n",
       "      <td>4</td>\n",
       "      <td>1</td>\n",
       "      <td>265</td>\n",
       "      <td>263</td>\n",
       "      <td>3</td>\n",
       "      <td>4</td>\n",
       "      <td>4</td>\n",
       "      <td>51</td>\n",
       "      <td>1</td>\n",
       "    </tr>\n",
       "  </tbody>\n",
       "</table></div>"
      ],
      "text/plain": [
       "           OBJECTID  Borough  Type  Latitude  Longitude  Location_T  City  \\\n",
       "Provider                                                                    \n",
       "ALTICEUSA       237        2     1       210        210           2     2   \n",
       "AT&T              1        1     1         1          1           1     1   \n",
       "Partner           2        1     1         2          2           1     1   \n",
       "SPECTRUM        343        4     1       265        263           3     4   \n",
       "\n",
       "           BoroCode  NTACode  Type_free  \n",
       "Provider                                 \n",
       "ALTICEUSA         2       32          1  \n",
       "AT&T              1        1          1  \n",
       "Partner           1        2          1  \n",
       "SPECTRUM          4       51          1  "
      ]
     },
     "execution_count": 47,
     "metadata": {},
     "output_type": "execute_result"
    }
   ],
   "source": [
    "df_NonFree_Wifi.groupby(\"Provider\").nunique()"
   ]
  },
  {
   "cell_type": "markdown",
   "metadata": {},
   "source": [
    "Providers are ```ALTICEUSA, AT&T, Partner, SPECTRUM``` (with no \"Free\" wifi)"
   ]
  },
  {
   "cell_type": "markdown",
   "metadata": {},
   "source": [
    "<a class=\"anchor\" id=\"fifth-bullet\"></a>\n",
    "\n",
    "\n",
    "#### 2d) Which Location type (Location_T) are most common and least common?"
   ]
  },
  {
   "cell_type": "code",
   "execution_count": 48,
   "metadata": {},
   "outputs": [
    {
     "data": {
      "text/plain": [
       "Outdoor Kiosk         1134\n",
       "Outdoor                696\n",
       "Subway Station         276\n",
       "Library                214\n",
       "Indoor                 125\n",
       "Outdoor TWC Aerial     121\n",
       "Name: Location_T, dtype: int64"
      ]
     },
     "execution_count": 48,
     "metadata": {},
     "output_type": "execute_result"
    }
   ],
   "source": [
    "df['Location_T'].value_counts()"
   ]
  },
  {
   "cell_type": "code",
   "execution_count": 49,
   "metadata": {},
   "outputs": [
    {
     "data": {
      "image/png": "[encoded data removed]",
      "text/plain": [
       "<Figure size 576x432 with 1 Axes>"
      ]
     },
     "metadata": {},
     "output_type": "display_data"
    }
   ],
   "source": [
    "sns.histplot(data=df, y=\"Location_T\")\n",
    "plt.show()"
   ]
  },
  {
   "cell_type": "markdown",
   "metadata": {},
   "source": [
    "```Outdoor Kiosk``` is most common and ```Outdoor TWC Aerial``` is least common."
   ]
  },
  {
   "cell_type": "markdown",
   "metadata": {},
   "source": [
    "<a class=\"anchor\" id=\"sixth-bullet\"></a>\n",
    "\n",
    "\n",
    "#### 2e) How many free “indoor” and “outdoor” hotspots are there? Which companies have the highest number of Outdoor Free installations."
   ]
  },
  {
   "cell_type": "code",
   "execution_count": 55,
   "metadata": {},
   "outputs": [
    {
     "data": {
      "text/plain": [
       "(125, 11)"
      ]
     },
     "execution_count": 55,
     "metadata": {},
     "output_type": "execute_result"
    }
   ],
   "source": [
    "# Indoor\n",
    "df_Indoor = df[df.Location_T=='Indoor']\n",
    "\n",
    "df_Indoor.shape"
   ]
  },
  {
   "cell_type": "markdown",
   "metadata": {},
   "source": [
    "There are ```125 Indoor``` hotspots."
   ]
  },
  {
   "cell_type": "code",
   "execution_count": 56,
   "metadata": {},
   "outputs": [
    {
     "data": {
      "text/plain": [
       "(696, 11)"
      ]
     },
     "execution_count": 56,
     "metadata": {},
     "output_type": "execute_result"
    }
   ],
   "source": [
    "# Outdoor - what are those?\n",
    "\n",
    "#The question asks for \"Outdoor\", so consider only that.\n",
    "# If it was any Outdoor - we may add Outdoor Kiosk and Outdoor TWC Aerial as well \n",
    "\n",
    "df_Outdoor = df[df.Location_T== 'Outdoor']     # ~ is negation operator\n",
    "df_Outdoor.shape"
   ]
  },
  {
   "cell_type": "markdown",
   "metadata": {},
   "source": [
    "There are ```696 Outdoor``` hotspots."
   ]
  },
  {
   "cell_type": "code",
   "execution_count": 57,
   "metadata": {},
   "outputs": [
    {
     "data": {
      "text/plain": [
       "(359, 11)"
      ]
     },
     "execution_count": 57,
     "metadata": {},
     "output_type": "execute_result"
    }
   ],
   "source": [
    "# Outdoor and Free installations\n",
    "df_Outdoor_Free = df_Outdoor[(df_Outdoor.Type == \"Free\")]\n",
    "\n",
    "df_Outdoor_Free.shape"
   ]
  },
  {
   "cell_type": "code",
   "execution_count": 58,
   "metadata": {},
   "outputs": [
    {
     "data": {
      "image/png": "[encoded data removed]",
      "text/plain": [
       "<Figure size 576x432 with 1 Axes>"
      ]
     },
     "metadata": {},
     "output_type": "display_data"
    }
   ],
   "source": [
    "ax = sns.histplot(data=df_Outdoor_Free, y=\"Provider\")       # providing values against y - will print a horizantal plot\n",
    "ax.bar_label(ax.containers[0])                              # annotate each bar \n",
    "plt.show()"
   ]
  },
  {
   "cell_type": "markdown",
   "metadata": {},
   "source": [
    "```Harlem``` and ```Downtown Brooklyn``` have highest no. of Outdoor Free installations."
   ]
  },
  {
   "cell_type": "markdown",
   "metadata": {},
   "source": [
    "That's all. End of the solution file."
   ]
  }
 ],
 "metadata": {
  "kernelspec": {
   "display_name": "Python 3 (ipykernel)",
   "language": "python",
   "name": "python3"
  },
  "language_info": {
   "codemirror_mode": {
    "name": "ipython",
    "version": 3
   },
   "file_extension": ".py",
   "mimetype": "text/x-python",
   "name": "python",
   "nbconvert_exporter": "python",
   "pygments_lexer": "ipython3",
   "version": "3.9.7"
  }
 },
 "nbformat": 4,
 "nbformat_minor": 4
}
