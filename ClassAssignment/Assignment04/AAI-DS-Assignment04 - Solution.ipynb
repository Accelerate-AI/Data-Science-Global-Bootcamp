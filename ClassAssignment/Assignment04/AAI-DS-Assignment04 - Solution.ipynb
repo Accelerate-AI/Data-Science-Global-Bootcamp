{
 "cells": [
  {
   "cell_type": "markdown",
   "id": "8f2a142a",
   "metadata": {},
   "source": [
    "\n",
    "# AccelerateAI - Data Science Global Bootcamp\n",
    "### Hypothesis Testing - Assignment Solution"
   ]
  },
  {
   "cell_type": "code",
   "execution_count": 85,
   "id": "ae01fb01",
   "metadata": {},
   "outputs": [],
   "source": [
    "import numpy as np\n",
    "import scipy.stats as st\n",
    "import pandas as pd\n",
    "import math"
   ]
  },
  {
   "cell_type": "markdown",
   "id": "84b34d8d",
   "metadata": {},
   "source": [
    "### Q1 \n",
    "A company named Outel Semiconductors has developed a new microprocessor. It wants to test how fast one of these new chips can conduct a certain benchmark calculation. Suppose that the time it takes to complete the calculation is normally distributed.  After 10 runs, the sample average time to completion is 32.7 nanoseconds, and the sample variance is 16 nanoseconds. Can Outel claim that true average time to completion is 30 nanoseconds at 95% confidence level?\n",
    "\n",
    "Solution: This is a one sample test on mean. \n",
    "Null Hypothesis:       µ = 30 \n",
    "Alternate Hypothesis:  µ <30  ( this is what Outel wants to prove) \n",
    "\n",
    "N = 10, hence we will conduct a one sample t-test (with dof = 9) \n",
    "\n",
    "Sample mean x ̅=32.7 \n",
    "Sample s.d.        = 16\n",
    "\n",
    "t = ((x ̅-30))/(16/√10)"
   ]
  },
  {
   "cell_type": "code",
   "execution_count": 86,
   "id": "bbcfa8b8",
   "metadata": {},
   "outputs": [
    {
     "name": "stdout",
     "output_type": "stream",
     "text": [
      "0.5651375378113244\n"
     ]
    }
   ],
   "source": [
    "p_val = st.t.cdf(x=32.7, loc=30, scale=16, df=9)\n",
    "print(p_val)"
   ]
  },
  {
   "cell_type": "markdown",
   "id": "70aa7e74",
   "metadata": {},
   "source": [
    "***"
   ]
  },
  {
   "cell_type": "markdown",
   "id": "457b758b",
   "metadata": {},
   "source": [
    "### Q4\n",
    "The table below contains data from a survey of 500 randomly selected households. Researchers would like to use the available sample information to\n",
    "test whether home ownership rates vary by household location. For example, is there a nonzero difference between the proportions of individuals who own their homes (as opposed to those who rent their homes) in households located in the SW and NW sectors of this community? \n",
    "Use the sample data to test for a difference in home ownership rates in these two sectors. Use a 5% significance level. Interpret and summarize your results. \n",
    "\n",
    "Solution: <br>\n",
    "Here we are to compare proportion for 2 independent samples. \n",
    "\n",
    "Home ownership proportion in NW sector, pa = 89/129 = 0.6899 <br>\n",
    "Home ownership proportion in NW sector, pb = 106/123 = 0.8618\n",
    "\n",
    "Null Hypothesis, H0: pa = pb <br>\n",
    "Alternate Hypothesis, Ha: pa ≠pb \n",
    "\n",
    "The pooled proportion:<br>\n",
    "Pc = (89+106)/(129+123)=0.7736 <br>\n",
    "Z = (pa-pb)/√(pc(1-pc)(1/na+1/nb))= -3.2597"
   ]
  },
  {
   "cell_type": "code",
   "execution_count": 87,
   "id": "9518d3c7",
   "metadata": {},
   "outputs": [
    {
     "data": {
      "text/plain": [
       "0.0005576505769978424"
      ]
     },
     "execution_count": 87,
     "metadata": {},
     "output_type": "execute_result"
    }
   ],
   "source": [
    "st.norm.cdf(x=-3.2597)"
   ]
  },
  {
   "cell_type": "markdown",
   "id": "4e659c23",
   "metadata": {},
   "source": [
    "***"
   ]
  },
  {
   "cell_type": "markdown",
   "id": "a58f1bde",
   "metadata": {},
   "source": [
    "### Q5\n",
    "Twenty people have rated a new beer on a taste scale of 0 to 100. Their ratings are in the file Q5_Beer_Taste.xlsx. Marketing has determined that the beer will be a success if the average taste rating exceeds 76. Using a 5% significance level, is there sufficient evidence to conclude that the beer will be a success? Discuss your result in terms of a p-value. Assume ratings are at least approximately normally distributed."
   ]
  },
  {
   "cell_type": "code",
   "execution_count": 88,
   "id": "c7a2373c",
   "metadata": {},
   "outputs": [
    {
     "data": {
      "text/html": [
       "<div>\n",
       "<style scoped>\n",
       "    .dataframe tbody tr th:only-of-type {\n",
       "        vertical-align: middle;\n",
       "    }\n",
       "\n",
       "    .dataframe tbody tr th {\n",
       "        vertical-align: top;\n",
       "    }\n",
       "\n",
       "    .dataframe thead th {\n",
       "        text-align: right;\n",
       "    }\n",
       "</style>\n",
       "<table border=\"1\" class=\"dataframe\">\n",
       "  <thead>\n",
       "    <tr style=\"text-align: right;\">\n",
       "      <th></th>\n",
       "      <th>Person</th>\n",
       "      <th>Rating</th>\n",
       "    </tr>\n",
       "  </thead>\n",
       "  <tbody>\n",
       "    <tr>\n",
       "      <th>21</th>\n",
       "      <td>22</td>\n",
       "      <td>76</td>\n",
       "    </tr>\n",
       "    <tr>\n",
       "      <th>18</th>\n",
       "      <td>19</td>\n",
       "      <td>77</td>\n",
       "    </tr>\n",
       "    <tr>\n",
       "      <th>58</th>\n",
       "      <td>59</td>\n",
       "      <td>100</td>\n",
       "    </tr>\n",
       "    <tr>\n",
       "      <th>32</th>\n",
       "      <td>33</td>\n",
       "      <td>48</td>\n",
       "    </tr>\n",
       "    <tr>\n",
       "      <th>4</th>\n",
       "      <td>5</td>\n",
       "      <td>94</td>\n",
       "    </tr>\n",
       "  </tbody>\n",
       "</table>\n",
       "</div>"
      ],
      "text/plain": [
       "    Person  Rating\n",
       "21      22      76\n",
       "18      19      77\n",
       "58      59     100\n",
       "32      33      48\n",
       "4        5      94"
      ]
     },
     "execution_count": 88,
     "metadata": {},
     "output_type": "execute_result"
    }
   ],
   "source": [
    "# Lets read the file \n",
    "beer_df = pd.read_excel(\"Q5_Beer_Taste.xlsx\", sheet_name=0)\n",
    "beer_df.sample(5)"
   ]
  },
  {
   "cell_type": "code",
   "execution_count": 89,
   "id": "02fafe3f",
   "metadata": {},
   "outputs": [
    {
     "name": "stdout",
     "output_type": "stream",
     "text": [
      "<class 'pandas.core.frame.DataFrame'>\n",
      "RangeIndex: 60 entries, 0 to 59\n",
      "Data columns (total 2 columns):\n",
      " #   Column  Non-Null Count  Dtype\n",
      "---  ------  --------------  -----\n",
      " 0   Person  60 non-null     int64\n",
      " 1   Rating  60 non-null     int64\n",
      "dtypes: int64(2)\n",
      "memory usage: 1.1 KB\n"
     ]
    }
   ],
   "source": [
    "#Step 1: Check for data quality\n",
    "beer_df.info()"
   ]
  },
  {
   "cell_type": "code",
   "execution_count": 90,
   "id": "251ad4b0",
   "metadata": {},
   "outputs": [
    {
     "name": "stdout",
     "output_type": "stream",
     "text": [
      "N: 60\n",
      "Mean rating: 79.75  Std. dev rating: 14.502629802433788\n"
     ]
    }
   ],
   "source": [
    "# Step 2 : Find the mean and variance \n",
    "print(\"N:\", beer_df.shape[0])\n",
    "\n",
    "mean = beer_df.Rating.mean()\n",
    "sd = beer_df.Rating.std()\n",
    "print(\"Mean rating:\", mean, \" Std. dev rating:\", sd)"
   ]
  },
  {
   "cell_type": "markdown",
   "id": "cccfacc5",
   "metadata": {},
   "source": [
    "We will use a one-sample right tailed  t-test, to check rating is greater than 76.\n",
    "- Null Hypothesis: $\\mu$  $\\le\\$ 76\n",
    "\n",
    "- Alternate hypothesis: $\\mu$  $\\gt$ 76"
   ]
  },
  {
   "cell_type": "code",
   "execution_count": 91,
   "id": "7d908b98",
   "metadata": {},
   "outputs": [
    {
     "name": "stdout",
     "output_type": "stream",
     "text": [
      "The p-values is 0.024894435454756912\n"
     ]
    }
   ],
   "source": [
    "p_val = st.ttest_1samp(a=beer_df.Rating, popmean=76, alternative='greater')\n",
    "\n",
    "print(f'The p-values is {p_val.pvalue}')"
   ]
  },
  {
   "cell_type": "markdown",
   "id": "57cfa681",
   "metadata": {},
   "source": [
    "***Since p-value is less than 0.05, we reject the Null hypothesis. Hence we have sufficient evidence to conclude that the new beer will be a success.***\n",
    "\n",
    "***"
   ]
  },
  {
   "cell_type": "markdown",
   "id": "257a0a12",
   "metadata": {},
   "source": [
    "### Q6\n",
    "A market research consultant hired by a leading soft drink company wants to determine the proportion of consumers who favor its low-calorie drink over the\n",
    "leading competitor’s low-calorie drink in a particular urban location. A random sample of 250 consumers from the market under investigation is provided in the\n",
    "file Q6_Lowcalorie_Drink.xlsx.\n",
    "\n",
    " 1. Find a 95% confidence interval for the proportion of all consumers in this market who prefer this company’s drink over the competitors. What does this confidence interval tell us?\n",
    " 2. Does the confidence interval in part a support the claim made by one of the company’s marketing managers that more than half of the consumers in this urban location favor its drink over the competitor’s? Explain your answer.\n",
    " 3. Comment on the sample size used in this study. Specifically, is the sample unnecessarily large? Is it too small? Explain your reasoning."
   ]
  },
  {
   "cell_type": "code",
   "execution_count": 92,
   "id": "ae831b07",
   "metadata": {},
   "outputs": [
    {
     "data": {
      "text/html": [
       "<div>\n",
       "<style scoped>\n",
       "    .dataframe tbody tr th:only-of-type {\n",
       "        vertical-align: middle;\n",
       "    }\n",
       "\n",
       "    .dataframe tbody tr th {\n",
       "        vertical-align: top;\n",
       "    }\n",
       "\n",
       "    .dataframe thead th {\n",
       "        text-align: right;\n",
       "    }\n",
       "</style>\n",
       "<table border=\"1\" class=\"dataframe\">\n",
       "  <thead>\n",
       "    <tr style=\"text-align: right;\">\n",
       "      <th></th>\n",
       "      <th>Consumer</th>\n",
       "      <th>Gender</th>\n",
       "      <th>Age</th>\n",
       "      <th>Preference</th>\n",
       "    </tr>\n",
       "  </thead>\n",
       "  <tbody>\n",
       "    <tr>\n",
       "      <th>3</th>\n",
       "      <td>4</td>\n",
       "      <td>F</td>\n",
       "      <td>Over 60</td>\n",
       "      <td>Competing brand</td>\n",
       "    </tr>\n",
       "    <tr>\n",
       "      <th>137</th>\n",
       "      <td>138</td>\n",
       "      <td>F</td>\n",
       "      <td>Between 20 and 40</td>\n",
       "      <td>Competing brand</td>\n",
       "    </tr>\n",
       "    <tr>\n",
       "      <th>131</th>\n",
       "      <td>132</td>\n",
       "      <td>M</td>\n",
       "      <td>Over 60</td>\n",
       "      <td>Competing brand</td>\n",
       "    </tr>\n",
       "    <tr>\n",
       "      <th>228</th>\n",
       "      <td>229</td>\n",
       "      <td>F</td>\n",
       "      <td>Over 60</td>\n",
       "      <td>Competing brand</td>\n",
       "    </tr>\n",
       "    <tr>\n",
       "      <th>46</th>\n",
       "      <td>47</td>\n",
       "      <td>M</td>\n",
       "      <td>Between 20 and 40</td>\n",
       "      <td>Our brand</td>\n",
       "    </tr>\n",
       "  </tbody>\n",
       "</table>\n",
       "</div>"
      ],
      "text/plain": [
       "     Consumer Gender                Age       Preference\n",
       "3           4      F            Over 60  Competing brand\n",
       "137       138      F  Between 20 and 40  Competing brand\n",
       "131       132      M            Over 60  Competing brand\n",
       "228       229      F            Over 60  Competing brand\n",
       "46         47      M  Between 20 and 40        Our brand"
      ]
     },
     "execution_count": 92,
     "metadata": {},
     "output_type": "execute_result"
    }
   ],
   "source": [
    "# Lets read the file \n",
    "drink_df = pd.read_excel(\"Q6_LowcalorieDrink.xlsx\", sheet_name=0)\n",
    "drink_df.sample(5)"
   ]
  },
  {
   "cell_type": "code",
   "execution_count": 93,
   "id": "cc9f7889",
   "metadata": {},
   "outputs": [
    {
     "data": {
      "text/plain": [
       "Our brand          134\n",
       "Competing brand    116\n",
       "Name: Preference, dtype: int64"
      ]
     },
     "execution_count": 93,
     "metadata": {},
     "output_type": "execute_result"
    }
   ],
   "source": [
    "# Preference of each drink\n",
    "drink_df[\"Preference\"].value_counts()"
   ]
  },
  {
   "cell_type": "code",
   "execution_count": 94,
   "id": "19075e46",
   "metadata": {},
   "outputs": [
    {
     "name": "stdout",
     "output_type": "stream",
     "text": [
      "Sample proportion=0.536, Sample sd =0.032\n",
      "\n",
      "95% CI = [ 0.474 to  0.598 ]\n"
     ]
    }
   ],
   "source": [
    "#Proportion standard deviation \n",
    "n = len(drink_df)\n",
    "p = len(drink_df[drink_df[\"Preference\"] == \"Our brand\"]) / n\n",
    "sd= math.sqrt(p*(1-p)/n)\n",
    "print(f'Sample proportion={p:0.3f}, Sample sd ={sd:.3f}\\n')\n",
    "\n",
    "#95% CI = mean -/+ t_val*sd\n",
    "\n",
    "print(f'95% CI = [ {p - 1.96*sd:.3f} to  {p + 1.96*sd:.3f} ]')"
   ]
  },
  {
   "cell_type": "markdown",
   "id": "d0fd5ec0",
   "metadata": {},
   "source": [
    "***2) No, the given data does not supports the that more than half of the consumers favor its drink over the competitor’s, as the 95% CI includes value from 47.4% to 59.8%.***\n",
    "\n",
    "***3)The sample size is considerable small. This is observed from the fact that the 95% CI is too large - almost 20 percentage point wide***\n",
    "\n",
    "***"
   ]
  },
  {
   "cell_type": "markdown",
   "id": "017b409c",
   "metadata": {},
   "source": [
    "### Q7\n",
    "A large buyer of household batteries wants to decide which of two equally priced brands to purchase. To do this, he takes a random sample of 100 batteries of each brand. The lifetimes, measured in hours, of the batteries are recorded in the file Q7_Battery_life.csv. Before testing for the difference between the mean lifetimes of these two batteries, he must first determine whether the underlying population variances are equal.<br>\n",
    " a. Perform a test for equal population variances.  Report a p-value and interpret its meaning.<br>\n",
    " b. Based on your conclusion in part a, which test statistic should be used in performing a test for the difference between population means?"
   ]
  },
  {
   "cell_type": "code",
   "execution_count": 95,
   "id": "084c9005",
   "metadata": {},
   "outputs": [],
   "source": [
    "# Lets read the file \n",
    "brand1 = pd.read_excel(\"Q7_Battery_life.xlsx\", sheet_name=\"Brand1\")\n",
    "brand2 = pd.read_excel(\"Q7_Battery_life.xlsx\", sheet_name=\"Brand2\")"
   ]
  },
  {
   "cell_type": "code",
   "execution_count": 96,
   "id": "a0500a6a",
   "metadata": {},
   "outputs": [
    {
     "data": {
      "text/html": [
       "<div>\n",
       "<style scoped>\n",
       "    .dataframe tbody tr th:only-of-type {\n",
       "        vertical-align: middle;\n",
       "    }\n",
       "\n",
       "    .dataframe tbody tr th {\n",
       "        vertical-align: top;\n",
       "    }\n",
       "\n",
       "    .dataframe thead th {\n",
       "        text-align: right;\n",
       "    }\n",
       "</style>\n",
       "<table border=\"1\" class=\"dataframe\">\n",
       "  <thead>\n",
       "    <tr style=\"text-align: right;\">\n",
       "      <th></th>\n",
       "      <th>Battery</th>\n",
       "      <th>Lifetime</th>\n",
       "    </tr>\n",
       "  </thead>\n",
       "  <tbody>\n",
       "    <tr>\n",
       "      <th>0</th>\n",
       "      <td>1</td>\n",
       "      <td>110.65</td>\n",
       "    </tr>\n",
       "    <tr>\n",
       "      <th>1</th>\n",
       "      <td>2</td>\n",
       "      <td>92.24</td>\n",
       "    </tr>\n",
       "    <tr>\n",
       "      <th>2</th>\n",
       "      <td>3</td>\n",
       "      <td>96.63</td>\n",
       "    </tr>\n",
       "    <tr>\n",
       "      <th>3</th>\n",
       "      <td>4</td>\n",
       "      <td>99.45</td>\n",
       "    </tr>\n",
       "    <tr>\n",
       "      <th>4</th>\n",
       "      <td>5</td>\n",
       "      <td>102.55</td>\n",
       "    </tr>\n",
       "  </tbody>\n",
       "</table>\n",
       "</div>"
      ],
      "text/plain": [
       "   Battery  Lifetime\n",
       "0        1    110.65\n",
       "1        2     92.24\n",
       "2        3     96.63\n",
       "3        4     99.45\n",
       "4        5    102.55"
      ]
     },
     "execution_count": 96,
     "metadata": {},
     "output_type": "execute_result"
    }
   ],
   "source": [
    "brand2.head()"
   ]
  },
  {
   "cell_type": "markdown",
   "id": "f1f0aa0d",
   "metadata": {},
   "source": [
    "***To check for equal variance, we will perform the F-test.***\n",
    "\n",
    "This test is phrased in terms of the ratio of population variances:\n",
    "- The null hypothesis is that this ratio is 1 (equal variances)\n",
    "- The alternative is that it is not 1 (unequal variances).\n",
    "\n",
    "The test statistic F test for equal variances is simply:\n",
    "\n",
    "- F = Var(X) / Var(Y) with degree of freedom df1 = len(X) - 1, df2 = len(Y) - 1"
   ]
  },
  {
   "cell_type": "code",
   "execution_count": 97,
   "id": "b62c47e7",
   "metadata": {},
   "outputs": [],
   "source": [
    "#define F-test function\n",
    "def f_test(x, y):\n",
    "    x = np.array(x)\n",
    "    y = np.array(y)\n",
    "    \n",
    "    f_stat = np.var(x, ddof=1)/np.var(y, ddof=1)   #calculate F test statistic \n",
    "    dfx = x.size-1                                 #degrees of freedom numerator \n",
    "    dfy = y.size-1                                 #degrees of freedom denominator \n",
    "    p = 1 - st.f.cdf(f_stat, dfn=dfx, dfd=dfy)     #p-value of F test statistic \n",
    "    \n",
    "    return f_stat, p"
   ]
  },
  {
   "cell_type": "code",
   "execution_count": 98,
   "id": "18a0b4a4",
   "metadata": {},
   "outputs": [
    {
     "name": "stdout",
     "output_type": "stream",
     "text": [
      "p-value corresponding to F-Test of equal variance: 1.000\n"
     ]
    }
   ],
   "source": [
    "#perform F-test\n",
    "_, p_val = f_test(brand1.Lifetime, brand2.Lifetime)\n",
    "\n",
    "print(f'p-value corresponding to F-Test of equal variance: {p_val:.3f}')"
   ]
  },
  {
   "cell_type": "markdown",
   "id": "455c5600",
   "metadata": {},
   "source": [
    "\n",
    "**a) The p-value is 1.0, hence we fail to reject the Null hypothesis. The population variances are equal.** <br>\n",
    "**b) To test the difference in population means, we will use a 2 sample independent t-test** \n",
    "\n",
    "***"
   ]
  }
 ],
 "metadata": {
  "kernelspec": {
   "display_name": "Python 3 (ipykernel)",
   "language": "python",
   "name": "python3"
  },
  "language_info": {
   "codemirror_mode": {
    "name": "ipython",
    "version": 3
   },
   "file_extension": ".py",
   "mimetype": "text/x-python",
   "name": "python",
   "nbconvert_exporter": "python",
   "pygments_lexer": "ipython3",
   "version": "3.9.12"
  }
 },
 "nbformat": 4,
 "nbformat_minor": 5
}
