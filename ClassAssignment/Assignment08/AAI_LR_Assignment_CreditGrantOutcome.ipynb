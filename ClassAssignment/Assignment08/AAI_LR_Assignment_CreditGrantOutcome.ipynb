{
 "cells": [
  {
   "cell_type": "markdown",
   "metadata": {},
   "source": [
    "# AccelerateAI: Logistic Regression"
   ]
  },
  {
   "cell_type": "markdown",
   "metadata": {},
   "source": [
    "## Assignment : Credit Grant Outcome"
   ]
  },
  {
   "cell_type": "markdown",
   "metadata": {},
   "source": [
    "A group of 20 customers possess portfolio ranging from 0.5 to 6.5 million USD in one of the largest Financial Services majors in South America. As an analyst you are tasked to find out how the portfolio amount affect the probability of a customer getting a credit grant? Please refer to the dataset provided in GitHub - CreditGrantOutcome.csv.\n",
    "\n",
    "Portfolio Value is given in million USD = X; And Credit Grant Decision = y which is either 0 or 1, i.e. 1 for getting a grant.\n",
    "\n",
    "- Find out the Odds ratio for every customer data that is captured here. What is the Odds ratio when Portfolio Value X=2 mUSD?\n",
    "- Find out optimum values of coefficients beta_0 and beta_1?\n",
    "\n"
   ]
  },
  {
   "cell_type": "code",
   "execution_count": 1,
   "metadata": {},
   "outputs": [],
   "source": [
    "import pandas as pd \n",
    "import statsmodels.api as sm\n",
    "from statsmodels.api import Logit, add_constant\n",
    "\n",
    "import warnings\n",
    "warnings.filterwarnings('ignore')"
   ]
  },
  {
   "cell_type": "code",
   "execution_count": 2,
   "metadata": {},
   "outputs": [
    {
     "data": {
      "text/html": [
       "<div>\n",
       "<style scoped>\n",
       "    .dataframe tbody tr th:only-of-type {\n",
       "        vertical-align: middle;\n",
       "    }\n",
       "\n",
       "    .dataframe tbody tr th {\n",
       "        vertical-align: top;\n",
       "    }\n",
       "\n",
       "    .dataframe thead th {\n",
       "        text-align: right;\n",
       "    }\n",
       "</style>\n",
       "<table border=\"1\" class=\"dataframe\">\n",
       "  <thead>\n",
       "    <tr style=\"text-align: right;\">\n",
       "      <th></th>\n",
       "      <th>PortfolioValue</th>\n",
       "      <th>CreditGrantDecision</th>\n",
       "    </tr>\n",
       "  </thead>\n",
       "  <tbody>\n",
       "    <tr>\n",
       "      <th>10</th>\n",
       "      <td>2.75</td>\n",
       "      <td>1</td>\n",
       "    </tr>\n",
       "    <tr>\n",
       "      <th>14</th>\n",
       "      <td>4.00</td>\n",
       "      <td>1</td>\n",
       "    </tr>\n",
       "    <tr>\n",
       "      <th>16</th>\n",
       "      <td>4.50</td>\n",
       "      <td>1</td>\n",
       "    </tr>\n",
       "    <tr>\n",
       "      <th>6</th>\n",
       "      <td>1.75</td>\n",
       "      <td>1</td>\n",
       "    </tr>\n",
       "    <tr>\n",
       "      <th>17</th>\n",
       "      <td>4.75</td>\n",
       "      <td>1</td>\n",
       "    </tr>\n",
       "  </tbody>\n",
       "</table>\n",
       "</div>"
      ],
      "text/plain": [
       "    PortfolioValue  CreditGrantDecision\n",
       "10            2.75                    1\n",
       "14            4.00                    1\n",
       "16            4.50                    1\n",
       "6             1.75                    1\n",
       "17            4.75                    1"
      ]
     },
     "execution_count": 2,
     "metadata": {},
     "output_type": "execute_result"
    }
   ],
   "source": [
    "df = pd.read_csv('./CreditGrantOutcome.csv') \n",
    "\n",
    "df.sample(5)"
   ]
  },
  {
   "cell_type": "code",
   "execution_count": 3,
   "metadata": {},
   "outputs": [
    {
     "data": {
      "text/plain": [
       "Index(['PortfolioValue', 'CreditGrantDecision'], dtype='object')"
      ]
     },
     "execution_count": 3,
     "metadata": {},
     "output_type": "execute_result"
    }
   ],
   "source": [
    "df.columns"
   ]
  },
  {
   "cell_type": "code",
   "execution_count": 4,
   "metadata": {},
   "outputs": [],
   "source": [
    "y = df[['CreditGrantDecision']]\n",
    "X = df[['PortfolioValue']]"
   ]
  },
  {
   "cell_type": "code",
   "execution_count": 5,
   "metadata": {},
   "outputs": [
    {
     "name": "stdout",
     "output_type": "stream",
     "text": [
      "Optimization terminated successfully.\n",
      "         Current function value: 0.639808\n",
      "         Iterations 5\n",
      "                            Logit Regression Results                           \n",
      "===============================================================================\n",
      "Dep. Variable:     CreditGrantDecision   No. Observations:                   20\n",
      "Model:                           Logit   Df Residuals:                       19\n",
      "Method:                            MLE   Df Model:                            0\n",
      "Date:                 Mon, 19 Sep 2022   Pseudo R-squ.:                 0.07695\n",
      "Time:                         15:27:51   Log-Likelihood:                -12.796\n",
      "converged:                        True   LL-Null:                       -13.863\n",
      "Covariance Type:             nonrobust   LLR p-value:                       nan\n",
      "==================================================================================\n",
      "                     coef    std err          z      P>|z|      [0.025      0.975]\n",
      "----------------------------------------------------------------------------------\n",
      "PortfolioValue     0.2179      0.157      1.390      0.165      -0.089       0.525\n",
      "==================================================================================\n"
     ]
    }
   ],
   "source": [
    "log_reg1 = sm.Logit(y, X).fit()\n",
    "\n",
    "# print the model summary\n",
    "print(log_reg1.summary())"
   ]
  },
  {
   "cell_type": "markdown",
   "metadata": {},
   "source": [
    "Above approach is not complete as we need to add constant term to X.\n",
    "\n",
    "So let's re-execute after including intercept/constant term. (we have intentionally fitted above model here to showcase what problem that we see at times. If we refer the statistical significance at feature level is not accurate when we don't include the intercept/constant term.)\n",
    "\n",
    "Now, let's do that below and see how it looks as below."
   ]
  },
  {
   "cell_type": "code",
   "execution_count": 6,
   "metadata": {},
   "outputs": [
    {
     "name": "stdout",
     "output_type": "stream",
     "text": [
      "Optimization terminated successfully.\n",
      "         Current function value: 0.401494\n",
      "         Iterations 7\n",
      "                            Logit Regression Results                           \n",
      "===============================================================================\n",
      "Dep. Variable:     CreditGrantDecision   No. Observations:                   20\n",
      "Model:                           Logit   Df Residuals:                       18\n",
      "Method:                            MLE   Df Model:                            1\n",
      "Date:                 Mon, 19 Sep 2022   Pseudo R-squ.:                  0.4208\n",
      "Time:                         15:27:51   Log-Likelihood:                -8.0299\n",
      "converged:                        True   LL-Null:                       -13.863\n",
      "Covariance Type:             nonrobust   LLR p-value:                 0.0006365\n",
      "==================================================================================\n",
      "                     coef    std err          z      P>|z|      [0.025      0.975]\n",
      "----------------------------------------------------------------------------------\n",
      "const             -4.0777      1.761     -2.316      0.021      -7.529      -0.626\n",
      "PortfolioValue     1.5046      0.629      2.393      0.017       0.272       2.737\n",
      "==================================================================================\n"
     ]
    }
   ],
   "source": [
    "# add intercept manually\n",
    "X_const = add_constant(X)\n",
    "# build model and fit training data\n",
    "log_reg2 = Logit(y, X_const).fit()\n",
    "# print the model summary\n",
    "print(log_reg2.summary())"
   ]
  },
  {
   "cell_type": "markdown",
   "metadata": {},
   "source": [
    "Hence beta_0 = -4.077 and beta_1 = 1.504\n",
    "\n",
    "For X=2, Odds Ratio = exp(-4.077 + 2 * 1.504)\n",
    "                    = exp(-1.069)\n",
    "                    = 0.3437"
   ]
  },
  {
   "cell_type": "code",
   "execution_count": 8,
   "metadata": {},
   "outputs": [
    {
     "data": {
      "text/plain": [
       "0.3437639668467007"
      ]
     },
     "execution_count": 8,
     "metadata": {},
     "output_type": "execute_result"
    }
   ],
   "source": [
    "import numpy as np\n",
    "np.exp(-4.077 + 2 * 1.5046)"
   ]
  },
  {
   "cell_type": "markdown",
   "metadata": {},
   "source": [
    "So, we can generate odds ratio for every customer data. For X=2, odds ratio is approx. 34.37%\n",
    "\n",
    "Secondly, beta_0 = -4.077 and beta_1 = 1.504"
   ]
  },
  {
   "cell_type": "code",
   "execution_count": null,
   "metadata": {},
   "outputs": [],
   "source": []
  }
 ],
 "metadata": {
  "kernelspec": {
   "display_name": "Python 3",
   "language": "python",
   "name": "python3"
  },
  "language_info": {
   "codemirror_mode": {
    "name": "ipython",
    "version": 3
   },
   "file_extension": ".py",
   "mimetype": "text/x-python",
   "name": "python",
   "nbconvert_exporter": "python",
   "pygments_lexer": "ipython3",
   "version": "3.8.5"
  }
 },
 "nbformat": 4,
 "nbformat_minor": 4
}
