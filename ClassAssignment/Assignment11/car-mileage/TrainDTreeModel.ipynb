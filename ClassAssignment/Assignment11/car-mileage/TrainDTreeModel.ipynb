{
 "cells": [
  {
   "cell_type": "markdown",
   "id": "a59c347d",
   "metadata": {},
   "source": [
    "### AccelerateAI - Model Deployment\n",
    "\n",
    "We are interested in deployeing a model to predic the mileage of cars. <br>\n",
    "400 cars were measured and its data is available in the file Car_mileage_data.csv. <br>\n",
    "\n",
    " 1) Train a decision tree and identify the features that impact the mileage of cars. <br>\n",
    " 2) Deploy the model on GCP and share the link to predict mileage based on important features of the car."
   ]
  },
  {
   "cell_type": "code",
   "execution_count": null,
   "id": "e66a5a02",
   "metadata": {},
   "outputs": [],
   "source": [
    "# Import required libraries \n",
    "import numpy as np\n",
    "import pandas as pd\n",
    "import matplotlib.pyplot as plt\n",
    "from sklearn.tree import DecisionTreeRegressor\n",
    "from sklearn.model_selection import GridSearchCV"
   ]
  },
  {
   "cell_type": "code",
   "execution_count": null,
   "id": "f3301cfa",
   "metadata": {},
   "outputs": [],
   "source": [
    "# Read the data\n",
    "cars_df = pd.read_csv(\"Car_mileage_data.csv\")\n",
    "cars_df.sample(5)"
   ]
  },
  {
   "cell_type": "code",
   "execution_count": null,
   "id": "1d418d05",
   "metadata": {},
   "outputs": [],
   "source": [
    "#Check for missing values\n",
    "cars_df.info()"
   ]
  },
  {
   "cell_type": "code",
   "execution_count": null,
   "id": "04be2da8",
   "metadata": {},
   "outputs": [],
   "source": [
    "# hp is incorrectly coded as object - convert to numeric\n",
    "cars_df['hp'] = pd.to_numeric(cars_df['hp'], errors='coerce')\n",
    "cars_df.dropna(inplace=True)\n",
    "\n",
    "\n",
    "#cylinders and origin needs to be converted to dummy vaiable\n",
    "onehot_car_df = pd.get_dummies(cars_df,columns = [\"cylinders\", \"origin\"])\n",
    "onehot_car_df.sample(3)"
   ]
  },
  {
   "cell_type": "markdown",
   "id": "4f9974d6",
   "metadata": {},
   "source": [
    "### Identify the features that impact the mileage of cars"
   ]
  },
  {
   "cell_type": "code",
   "execution_count": null,
   "id": "1f7beeac",
   "metadata": {},
   "outputs": [],
   "source": [
    "X_vars = onehot_car_df.drop(columns='mpg', axis=1)\n",
    "Y_var = onehot_car_df['mpg']\n",
    "\n",
    "# Train an decision tree regressor\n",
    "dtree_reg = DecisionTreeRegressor()\n",
    "dtree_reg.fit(X_vars, Y_var)\n",
    "\n",
    "feature_imp = pd.Series(dtree_reg.feature_importances_ ,X_vars.columns)\n",
    "feature_imp.sort_values(ascending=False)"
   ]
  },
  {
   "cell_type": "markdown",
   "id": "3e7373d3",
   "metadata": {},
   "source": [
    "#### The top 4 variables that impact mileage are \"displacement\", \"hp\", \"acceleration\" and \"weight\". "
   ]
  },
  {
   "cell_type": "code",
   "execution_count": null,
   "id": "1cde9590",
   "metadata": {},
   "outputs": [],
   "source": [
    "X_train = X_vars[[\"displacement\", \"hp\", \"acceleration\", \"weight\"]]\n",
    "Y_train  = onehot_car_df['mpg']"
   ]
  },
  {
   "cell_type": "code",
   "execution_count": null,
   "id": "db35436c",
   "metadata": {},
   "outputs": [],
   "source": [
    "# Check for the best paramteres\n",
    "\n",
    "params = {'min_samples_split':[2,4,5,10,15,20],\n",
    "          'min_samples_leaf':[5,10,15,20,30],\n",
    "          'max_depth':[1,2,3,4,5,6,7,10,15]\n",
    "         }\n",
    "\n",
    "dtree_reg_cv = GridSearchCV(DecisionTreeRegressor(), param_grid=params, cv=5)\n",
    "dtree_reg_cv.fit(X_train, Y_train) "
   ]
  },
  {
   "cell_type": "code",
   "execution_count": null,
   "id": "96e4c22b",
   "metadata": {},
   "outputs": [],
   "source": [
    "# Model parameters\n",
    "dtree_reg_cv.best_params_ "
   ]
  },
  {
   "cell_type": "code",
   "execution_count": null,
   "id": "81b7141c",
   "metadata": {},
   "outputs": [],
   "source": [
    "# Model accuracy overall\n",
    "dtree_reg_cv.score(X_train, Y_train)"
   ]
  },
  {
   "cell_type": "markdown",
   "id": "1c7a1041",
   "metadata": {},
   "source": [
    "### Save the model as pickle file"
   ]
  },
  {
   "cell_type": "code",
   "execution_count": null,
   "id": "b26c79f7",
   "metadata": {},
   "outputs": [],
   "source": []
  }
 ],
 "metadata": {
  "kernelspec": {
   "display_name": "Python 3 (ipykernel)",
   "language": "python",
   "name": "python3"
  },
  "language_info": {
   "codemirror_mode": {
    "name": "ipython",
    "version": 3
   },
   "file_extension": ".py",
   "mimetype": "text/x-python",
   "name": "python",
   "nbconvert_exporter": "python",
   "pygments_lexer": "ipython3",
   "version": "3.9.12"
  }
 },
 "nbformat": 4,
 "nbformat_minor": 5
}
