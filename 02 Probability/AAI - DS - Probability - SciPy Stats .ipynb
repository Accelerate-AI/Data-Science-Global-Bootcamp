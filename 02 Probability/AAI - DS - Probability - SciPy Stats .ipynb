{
 "cells": [
  {
   "cell_type": "markdown",
   "id": "aecbbbce",
   "metadata": {},
   "source": [
    "### AccelerateAI - Data Science Bootcamp\n",
    "##### Scipy has stats modules that defines all functions required for probability calculations."
   ]
  },
  {
   "cell_type": "markdown",
   "id": "1a63f867",
   "metadata": {},
   "source": [
    "### 1. Dicrete Probability Distributions"
   ]
  },
  {
   "cell_type": "code",
   "execution_count": null,
   "id": "bd3abccf",
   "metadata": {},
   "outputs": [],
   "source": [
    "from scipy.stats import binom, poisson, hypergeom\n",
    "from scipy.stats import norm , expon, t\n",
    "import matplotlib.pyplot as plt\n",
    "import numpy as np\n",
    "np.set_printoptions(precision=3)"
   ]
  },
  {
   "cell_type": "code",
   "execution_count": null,
   "id": "9435fff6",
   "metadata": {},
   "outputs": [],
   "source": [
    "# Binomial distribution\n",
    "n, p = 5, 0.4\n",
    "\n",
    "x = np.arange(binom.ppf(0.01, n, p),\n",
    "              binom.ppf(0.99, n, p))\n",
    "fig, ax = plt.subplots(1, 1)\n",
    "ax.plot(x, binom.pmf(x, n, p), 'bo', ms=8, label='binom pmf')\n",
    "ax.vlines(x, 0, binom.pmf(x, n, p), colors='b', lw=5, alpha=0.5)"
   ]
  },
  {
   "cell_type": "code",
   "execution_count": null,
   "id": "1b7abb09",
   "metadata": {},
   "outputs": [],
   "source": [
    "mean, var, skew, kurt = binom.stats(n, p, moments='mvsk')\n",
    "print(f'Mean: {mean}, Variance: {var}, Skewness: {skew} , Kurtosis: {kurt}') "
   ]
  },
  {
   "cell_type": "code",
   "execution_count": null,
   "id": "5c841dea",
   "metadata": {},
   "outputs": [],
   "source": [
    "# Poisson Distribution \n",
    "\n",
    "\n",
    "f, (ax1, ax2, ax3) = plt.subplots(1, 3, sharey=True, figsize=(12,3))\n",
    "\n",
    "\n",
    "mu = 2\n",
    "x = np.arange(poisson.ppf(0.01, mu), poisson.ppf(0.99, mu))\n",
    "\n",
    "ax1.plot(x, poisson.pmf(x, mu), 'bo', ms=8, label='poisson pmf')\n",
    "ax1.vlines(x, 0, poisson.pmf(x, mu), colors='b', lw=5, alpha=0.5)\n",
    "ax1.set_title(\"Mu = 2\")\n",
    "\n",
    "mu = 5\n",
    "x = np.arange(poisson.ppf(0.01, mu),\n",
    "              poisson.ppf(0.99, mu))\n",
    "ax2.plot(x, poisson.pmf(x, mu), 'bo', ms=8, label='poisson pmf')\n",
    "ax2.vlines(x, 0, poisson.pmf(x, mu), colors='b', lw=5, alpha=0.5)\n",
    "ax2.set_title(\"Mu = 5\")\n",
    "\n",
    "mu = 10\n",
    "x = np.arange(poisson.ppf(0.01, mu),\n",
    "              poisson.ppf(0.99, mu))\n",
    "ax3.plot(x, poisson.pmf(x, mu), 'bo', ms=8, label='poisson pmf')\n",
    "ax3.vlines(x, 0, poisson.pmf(x, mu), colors='b', lw=5, alpha=0.5)\n",
    "ax3.set_title(\"Mu = 10\")\n",
    "\n",
    "None"
   ]
  },
  {
   "cell_type": "code",
   "execution_count": null,
   "id": "48a976c6",
   "metadata": {},
   "outputs": [],
   "source": [
    "# Hypergeometric distribution \n",
    "\n",
    "[M, n, N] = [20, 7, 12]\n",
    "rv = hypergeom(M, n, N)\n",
    "x = np.arange(0, n+1)\n",
    "pmf = rv.pmf(x)\n",
    "\n",
    "fig = plt.figure()\n",
    "ax = fig.add_subplot(111)\n",
    "ax.plot(x, pmf, 'bo')\n",
    "ax.vlines(x, 0, pmf, lw=2)\n",
    "ax.set_ylabel('hypergeom PMF')\n",
    "plt.show()"
   ]
  },
  {
   "cell_type": "markdown",
   "id": "648e29d6",
   "metadata": {},
   "source": [
    "### 2. Continious Probability Distribution "
   ]
  },
  {
   "cell_type": "code",
   "execution_count": null,
   "id": "c7058642",
   "metadata": {},
   "outputs": [],
   "source": [
    "# Normal(Gaussian) distribution \n",
    "\n",
    "r = norm.rvs(loc=10, scale=5, size=5000)\n",
    "\n",
    "fig, ax = plt.subplots(1, 1)\n",
    "ax.hist(r, alpha=0.7, bins=20)\n",
    "plt.show()"
   ]
  },
  {
   "cell_type": "code",
   "execution_count": null,
   "id": "2252640d",
   "metadata": {},
   "outputs": [],
   "source": [
    "# Exponential Distribution \n",
    "f, (ax1, ax2) = plt.subplots(1, 2, sharey=True, sharex=True, figsize=(8,3))\n",
    "\n",
    "r1 = expon.rvs(scale=0.5, size=1000)               #scale = 1/lambda \n",
    "ax1.hist(r1, histtype='stepfilled', alpha=0.5)\n",
    "\n",
    "r2 = expon.rvs(scale=0.1, size=1000)\n",
    "ax2.hist(r2, histtype='stepfilled', alpha=0.5)\n",
    "\n",
    "plt.show()"
   ]
  },
  {
   "cell_type": "code",
   "execution_count": null,
   "id": "cac14b2c",
   "metadata": {},
   "outputs": [],
   "source": [
    "# T-distribution \n",
    "df = 2.5\n",
    "rv = t(df)\n",
    "\n",
    "x = np.linspace(t.ppf(0.01, df),\n",
    "                t.ppf(0.99, df), 100)\n",
    "\n",
    "fig, ax = plt.subplots(1, 1)\n",
    "ax.plot(x, t.pdf(x, df),\n",
    "       'r-', lw=3, alpha=0.6, label='t pdf')\n",
    "\n",
    "ax.plot(x, norm.pdf(x),\n",
    "       'b-', lw=2, alpha=0.6, label='Norm pdf')\n",
    "\n",
    "ax.legend(loc='best', frameon=False)"
   ]
  },
  {
   "cell_type": "code",
   "execution_count": null,
   "id": "ab56fb5b",
   "metadata": {},
   "outputs": [],
   "source": []
  }
 ],
 "metadata": {
  "kernelspec": {
   "display_name": "Python 3 (ipykernel)",
   "language": "python",
   "name": "python3"
  },
  "language_info": {
   "codemirror_mode": {
    "name": "ipython",
    "version": 3
   },
   "file_extension": ".py",
   "mimetype": "text/x-python",
   "name": "python",
   "nbconvert_exporter": "python",
   "pygments_lexer": "ipython3",
   "version": "3.9.7"
  }
 },
 "nbformat": 4,
 "nbformat_minor": 5
}
