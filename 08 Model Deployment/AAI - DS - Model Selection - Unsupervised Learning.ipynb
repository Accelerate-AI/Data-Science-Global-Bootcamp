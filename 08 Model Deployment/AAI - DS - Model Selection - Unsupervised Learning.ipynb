{
 "cells": [
  {
   "cell_type": "markdown",
   "id": "1c665d49",
   "metadata": {},
   "source": [
    "## AccelerateAI Data Science Global Bootcamp\n",
    "\n",
    "### Model Selection Methods\n",
    "\n",
    "we will look at an example of finding the Optimal number of cluster for K-Means using BIC."
   ]
  },
  {
   "cell_type": "code",
   "execution_count": 1,
   "id": "200e1565",
   "metadata": {},
   "outputs": [],
   "source": [
    "from sklearn import cluster\n",
    "from scipy.spatial import distance\n",
    "import sklearn.datasets\n",
    "from sklearn.preprocessing import StandardScaler\n",
    "import numpy as np"
   ]
  },
  {
   "cell_type": "code",
   "execution_count": 2,
   "id": "fd3dd9aa",
   "metadata": {},
   "outputs": [],
   "source": [
    "def compute_bic(kmeans,X):\n",
    "    \"\"\"\n",
    "    Computes the BIC metric for a given clusters\n",
    "\n",
    "    Parameters:\n",
    "    -----------------------------------------\n",
    "    kmeans:  List of clustering object from scikit learn\n",
    "\n",
    "    X     :  multidimension np array of data points\n",
    "\n",
    "    Returns:\n",
    "    -----------------------------------------\n",
    "    BIC value\n",
    "    \"\"\"\n",
    "    # assign centers and labels\n",
    "    centers = [kmeans.cluster_centers_]\n",
    "    labels  = kmeans.labels_\n",
    "    #number of clusters\n",
    "    m = kmeans.n_clusters\n",
    "    # size of the clusters\n",
    "    n = np.bincount(labels)\n",
    "    #size of data set\n",
    "    N, d = X.shape\n",
    "\n",
    "    #compute variance for all clusters beforehand\n",
    "    cl_var = (1.0 / (N - m) / d) * sum([sum(distance.cdist(X[np.where(labels == i)], [centers[0][i]], \n",
    "             'euclidean')) for i in range(m)])\n",
    "\n",
    "    const_term = 0.5 * m * np.log(N) * (d+1)\n",
    "\n",
    "    BIC = np.sum([n[i] * np.log(n[i]) -\n",
    "               n[i] * np.log(N) -\n",
    "             ((n[i] * d) / 2) * np.log(2*np.pi*cl_var) -\n",
    "             ((n[i] - 1) * d/ 2) for i in range(m)]) - const_term\n",
    "\n",
    "    return(-BIC)"
   ]
  },
  {
   "cell_type": "code",
   "execution_count": 3,
   "id": "04be1596",
   "metadata": {},
   "outputs": [],
   "source": [
    "#Iris data from sklearn\n",
    "iris = sklearn.datasets.load_iris()\n",
    "\n",
    "X = iris.data[:, :4]  # extract only the features\n",
    "Y = iris.target"
   ]
  },
  {
   "cell_type": "code",
   "execution_count": 4,
   "id": "c00fdc44",
   "metadata": {},
   "outputs": [
    {
     "name": "stderr",
     "output_type": "stream",
     "text": [
      "C:\\Users\\sachi\\anaconda3\\lib\\site-packages\\sklearn\\cluster\\_kmeans.py:1036: UserWarning: KMeans is known to have a memory leak on Windows with MKL, when there are less chunks than available threads. You can avoid it by setting the environment variable OMP_NUM_THREADS=1.\n",
      "  warnings.warn(\n"
     ]
    }
   ],
   "source": [
    "ks = range(1,10)\n",
    "\n",
    "# run 9 times kmeans and save each result in the KMeans object\n",
    "KMeans = [cluster.KMeans(n_clusters = i, init=\"k-means++\").fit(X) for i in ks]\n",
    "\n",
    "# now run for each cluster the BIC computation\n",
    "BIC = [compute_bic(kmeansi,X) for kmeansi in KMeans]"
   ]
  },
  {
   "cell_type": "code",
   "execution_count": 5,
   "id": "7854e8e7",
   "metadata": {
    "scrolled": true
   },
   "outputs": [
    {
     "data": {
      "text/plain": [
       "Text(0, 0.5, '# BIC')"
      ]
     },
     "execution_count": 5,
     "metadata": {},
     "output_type": "execute_result"
    },
    {
     "data": {
      "image/png": "[encoded data removed]",
      "text/plain": [
       "<Figure size 432x288 with 1 Axes>"
      ]
     },
     "metadata": {
      "needs_background": "light"
     },
     "output_type": "display_data"
    }
   ],
   "source": [
    "import matplotlib.pyplot as plt\n",
    "\n",
    "plt.plot(ks,BIC,'b-o')\n",
    "plt.title(\"iris data  (cluster vs BIC)\")\n",
    "plt.xlabel(\"# clusters\")\n",
    "plt.ylabel(\"# BIC\")"
   ]
  },
  {
   "cell_type": "markdown",
   "id": "c672167a",
   "metadata": {},
   "source": [
    "### The optimal number of clusters is 3 "
   ]
  },
  {
   "cell_type": "markdown",
   "id": "31ba3310",
   "metadata": {},
   "source": [
    "***"
   ]
  }
 ],
 "metadata": {
  "kernelspec": {
   "display_name": "Python 3 (ipykernel)",
   "language": "python",
   "name": "python3"
  },
  "language_info": {
   "codemirror_mode": {
    "name": "ipython",
    "version": 3
   },
   "file_extension": ".py",
   "mimetype": "text/x-python",
   "name": "python",
   "nbconvert_exporter": "python",
   "pygments_lexer": "ipython3",
   "version": "3.9.12"
  }
 },
 "nbformat": 4,
 "nbformat_minor": 5
}
