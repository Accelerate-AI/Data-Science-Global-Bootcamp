{
 "cells": [
  {
   "cell_type": "markdown",
   "id": "d0c9ba21",
   "metadata": {},
   "source": [
    "### AccelerateAI - Model Selection and Deployment\n",
    "\n",
    "*** Problem Statement ***\n",
    "<br>\n",
    "The HR function in Unitech Pvt Ltd, wants to create a system to predict the annual salaries of employees using the potential explanatory variables from historical data in file MLR_Q13_EmpSalary.csv. \n",
    "\n",
    "1) Estimate the appropriate multiple linear regression equation to estimate the salary of an Unitech employee using all explanatory variables.<br>\n",
    "2) What would be the estimated salary of a Sr. Data Scientist (joining engineering) with 10 years of work experience. This woman has 18 years of total education, and will be supervising 4 junior employees.<br>\n",
    "3) Train and save a model as pickle file for deployment on Cloud, and make it accessible to all HR recruiters."
   ]
  },
  {
   "cell_type": "code",
   "execution_count": 2,
   "id": "0968ccc1",
   "metadata": {},
   "outputs": [],
   "source": [
    "# required libraries \n",
    "import numpy as np                  # math calculations\n",
    "import pandas as pd                 # loading data\n",
    "import statsmodels.api as sm        # modeling \n",
    "import seaborn as sbn               # visualization maacha! "
   ]
  },
  {
   "cell_type": "code",
   "execution_count": 3,
   "id": "0d2668a1",
   "metadata": {},
   "outputs": [
    {
     "data": {
      "text/html": [
       "<div>\n",
       "<style scoped>\n",
       "    .dataframe tbody tr th:only-of-type {\n",
       "        vertical-align: middle;\n",
       "    }\n",
       "\n",
       "    .dataframe tbody tr th {\n",
       "        vertical-align: top;\n",
       "    }\n",
       "\n",
       "    .dataframe thead th {\n",
       "        text-align: right;\n",
       "    }\n",
       "</style>\n",
       "<table border=\"1\" class=\"dataframe\">\n",
       "  <thead>\n",
       "    <tr style=\"text-align: right;\">\n",
       "      <th></th>\n",
       "      <th>Employee</th>\n",
       "      <th>Salary</th>\n",
       "      <th>PreviousExp</th>\n",
       "      <th>YearsEmployed</th>\n",
       "      <th>YearsEducation</th>\n",
       "      <th>DirectRepotees</th>\n",
       "      <th>Female</th>\n",
       "      <th>Male</th>\n",
       "      <th>Engineering</th>\n",
       "      <th>Sales</th>\n",
       "      <th>Other</th>\n",
       "    </tr>\n",
       "  </thead>\n",
       "  <tbody>\n",
       "    <tr>\n",
       "      <th>0</th>\n",
       "      <td>1</td>\n",
       "      <td>$65,487</td>\n",
       "      <td>0</td>\n",
       "      <td>27</td>\n",
       "      <td>22</td>\n",
       "      <td>44</td>\n",
       "      <td>0</td>\n",
       "      <td>1</td>\n",
       "      <td>1</td>\n",
       "      <td>0</td>\n",
       "      <td>0</td>\n",
       "    </tr>\n",
       "    <tr>\n",
       "      <th>1</th>\n",
       "      <td>2</td>\n",
       "      <td>$46,184</td>\n",
       "      <td>3</td>\n",
       "      <td>20</td>\n",
       "      <td>14</td>\n",
       "      <td>1</td>\n",
       "      <td>1</td>\n",
       "      <td>0</td>\n",
       "      <td>1</td>\n",
       "      <td>0</td>\n",
       "      <td>0</td>\n",
       "    </tr>\n",
       "    <tr>\n",
       "      <th>2</th>\n",
       "      <td>3</td>\n",
       "      <td>$32,782</td>\n",
       "      <td>1</td>\n",
       "      <td>0</td>\n",
       "      <td>17</td>\n",
       "      <td>0</td>\n",
       "      <td>1</td>\n",
       "      <td>0</td>\n",
       "      <td>0</td>\n",
       "      <td>1</td>\n",
       "      <td>0</td>\n",
       "    </tr>\n",
       "    <tr>\n",
       "      <th>3</th>\n",
       "      <td>4</td>\n",
       "      <td>$54,899</td>\n",
       "      <td>5</td>\n",
       "      <td>12</td>\n",
       "      <td>18</td>\n",
       "      <td>0</td>\n",
       "      <td>0</td>\n",
       "      <td>1</td>\n",
       "      <td>1</td>\n",
       "      <td>0</td>\n",
       "      <td>0</td>\n",
       "    </tr>\n",
       "    <tr>\n",
       "      <th>4</th>\n",
       "      <td>5</td>\n",
       "      <td>$34,869</td>\n",
       "      <td>5</td>\n",
       "      <td>7</td>\n",
       "      <td>14</td>\n",
       "      <td>1</td>\n",
       "      <td>0</td>\n",
       "      <td>1</td>\n",
       "      <td>1</td>\n",
       "      <td>0</td>\n",
       "      <td>0</td>\n",
       "    </tr>\n",
       "  </tbody>\n",
       "</table>\n",
       "</div>"
      ],
      "text/plain": [
       "   Employee   Salary  PreviousExp  YearsEmployed  YearsEducation  \\\n",
       "0         1  $65,487            0             27              22   \n",
       "1         2  $46,184            3             20              14   \n",
       "2         3  $32,782            1              0              17   \n",
       "3         4  $54,899            5             12              18   \n",
       "4         5  $34,869            5              7              14   \n",
       "\n",
       "   DirectRepotees  Female  Male  Engineering  Sales  Other  \n",
       "0              44       0     1            1      0      0  \n",
       "1               1       1     0            1      0      0  \n",
       "2               0       1     0            0      1      0  \n",
       "3               0       0     1            1      0      0  \n",
       "4               1       0     1            1      0      0  "
      ]
     },
     "execution_count": 3,
     "metadata": {},
     "output_type": "execute_result"
    }
   ],
   "source": [
    "# Read the EmpSalary dataset \n",
    "salary_df = pd.read_csv(\"MLR_Q13_EmpSalary.csv\")       \n",
    "salary_df.head(5) "
   ]
  },
  {
   "cell_type": "markdown",
   "id": "afbdb28d",
   "metadata": {},
   "source": [
    "We see that Male/Female and Engineering/Sales/Other are Dummy encoded variables. \n",
    "We will drop the unwanted variable Employee and one among from each group of Dummy encoded variables(to avoid multicollinearity)"
   ]
  },
  {
   "cell_type": "code",
   "execution_count": 4,
   "id": "7f6701ae",
   "metadata": {},
   "outputs": [],
   "source": [
    "X = salary_df.drop([\"Employee\", \"Salary\",\"Female\", \"Other\"], axis=1)"
   ]
  },
  {
   "cell_type": "code",
   "execution_count": 5,
   "id": "66716119",
   "metadata": {},
   "outputs": [
    {
     "data": {
      "text/html": [
       "<div>\n",
       "<style scoped>\n",
       "    .dataframe tbody tr th:only-of-type {\n",
       "        vertical-align: middle;\n",
       "    }\n",
       "\n",
       "    .dataframe tbody tr th {\n",
       "        vertical-align: top;\n",
       "    }\n",
       "\n",
       "    .dataframe thead th {\n",
       "        text-align: right;\n",
       "    }\n",
       "</style>\n",
       "<table border=\"1\" class=\"dataframe\">\n",
       "  <thead>\n",
       "    <tr style=\"text-align: right;\">\n",
       "      <th></th>\n",
       "      <th>PreviousExp</th>\n",
       "      <th>YearsEmployed</th>\n",
       "      <th>YearsEducation</th>\n",
       "      <th>DirectRepotees</th>\n",
       "      <th>Male</th>\n",
       "      <th>Engineering</th>\n",
       "      <th>Sales</th>\n",
       "    </tr>\n",
       "  </thead>\n",
       "  <tbody>\n",
       "    <tr>\n",
       "      <th>0</th>\n",
       "      <td>0</td>\n",
       "      <td>27</td>\n",
       "      <td>22</td>\n",
       "      <td>44</td>\n",
       "      <td>1</td>\n",
       "      <td>1</td>\n",
       "      <td>0</td>\n",
       "    </tr>\n",
       "    <tr>\n",
       "      <th>1</th>\n",
       "      <td>3</td>\n",
       "      <td>20</td>\n",
       "      <td>14</td>\n",
       "      <td>1</td>\n",
       "      <td>0</td>\n",
       "      <td>1</td>\n",
       "      <td>0</td>\n",
       "    </tr>\n",
       "    <tr>\n",
       "      <th>2</th>\n",
       "      <td>1</td>\n",
       "      <td>0</td>\n",
       "      <td>17</td>\n",
       "      <td>0</td>\n",
       "      <td>0</td>\n",
       "      <td>0</td>\n",
       "      <td>1</td>\n",
       "    </tr>\n",
       "    <tr>\n",
       "      <th>3</th>\n",
       "      <td>5</td>\n",
       "      <td>12</td>\n",
       "      <td>18</td>\n",
       "      <td>0</td>\n",
       "      <td>1</td>\n",
       "      <td>1</td>\n",
       "      <td>0</td>\n",
       "    </tr>\n",
       "    <tr>\n",
       "      <th>4</th>\n",
       "      <td>5</td>\n",
       "      <td>7</td>\n",
       "      <td>14</td>\n",
       "      <td>1</td>\n",
       "      <td>1</td>\n",
       "      <td>1</td>\n",
       "      <td>0</td>\n",
       "    </tr>\n",
       "  </tbody>\n",
       "</table>\n",
       "</div>"
      ],
      "text/plain": [
       "   PreviousExp  YearsEmployed  YearsEducation  DirectRepotees  Male  \\\n",
       "0            0             27              22              44     1   \n",
       "1            3             20              14               1     0   \n",
       "2            1              0              17               0     0   \n",
       "3            5             12              18               0     1   \n",
       "4            5              7              14               1     1   \n",
       "\n",
       "   Engineering  Sales  \n",
       "0            1      0  \n",
       "1            1      0  \n",
       "2            0      1  \n",
       "3            1      0  \n",
       "4            1      0  "
      ]
     },
     "execution_count": 5,
     "metadata": {},
     "output_type": "execute_result"
    }
   ],
   "source": [
    "X.head()"
   ]
  },
  {
   "cell_type": "code",
   "execution_count": 6,
   "id": "cd1bd10f",
   "metadata": {},
   "outputs": [],
   "source": [
    "# Make salary  numeric datatype\n",
    "salary_df[\"Salary\"] = salary_df[\"Salary\"].apply(lambda x: int(x.replace('$','').replace(',',''))) "
   ]
  },
  {
   "cell_type": "code",
   "execution_count": 7,
   "id": "36bce871",
   "metadata": {},
   "outputs": [
    {
     "data": {
      "text/html": [
       "<div>\n",
       "<style scoped>\n",
       "    .dataframe tbody tr th:only-of-type {\n",
       "        vertical-align: middle;\n",
       "    }\n",
       "\n",
       "    .dataframe tbody tr th {\n",
       "        vertical-align: top;\n",
       "    }\n",
       "\n",
       "    .dataframe thead th {\n",
       "        text-align: right;\n",
       "    }\n",
       "</style>\n",
       "<table border=\"1\" class=\"dataframe\">\n",
       "  <thead>\n",
       "    <tr style=\"text-align: right;\">\n",
       "      <th></th>\n",
       "      <th>PreviousExp</th>\n",
       "      <th>YearsEmployed</th>\n",
       "      <th>YearsEducation</th>\n",
       "      <th>DirectRepotees</th>\n",
       "      <th>Male</th>\n",
       "      <th>Engineering</th>\n",
       "      <th>Sales</th>\n",
       "    </tr>\n",
       "  </thead>\n",
       "  <tbody>\n",
       "    <tr>\n",
       "      <th>PreviousExp</th>\n",
       "      <td>1.000000</td>\n",
       "      <td>0.031277</td>\n",
       "      <td>0.080169</td>\n",
       "      <td>0.216198</td>\n",
       "      <td>-0.217145</td>\n",
       "      <td>-0.032948</td>\n",
       "      <td>0.156045</td>\n",
       "    </tr>\n",
       "    <tr>\n",
       "      <th>YearsEmployed</th>\n",
       "      <td>0.031277</td>\n",
       "      <td>1.000000</td>\n",
       "      <td>0.607486</td>\n",
       "      <td>0.345444</td>\n",
       "      <td>-0.209393</td>\n",
       "      <td>0.076349</td>\n",
       "      <td>0.033222</td>\n",
       "    </tr>\n",
       "    <tr>\n",
       "      <th>YearsEducation</th>\n",
       "      <td>0.080169</td>\n",
       "      <td>0.607486</td>\n",
       "      <td>1.000000</td>\n",
       "      <td>0.504609</td>\n",
       "      <td>-0.192692</td>\n",
       "      <td>0.103040</td>\n",
       "      <td>-0.012239</td>\n",
       "    </tr>\n",
       "    <tr>\n",
       "      <th>DirectRepotees</th>\n",
       "      <td>0.216198</td>\n",
       "      <td>0.345444</td>\n",
       "      <td>0.504609</td>\n",
       "      <td>1.000000</td>\n",
       "      <td>-0.100337</td>\n",
       "      <td>0.178719</td>\n",
       "      <td>-0.083201</td>\n",
       "    </tr>\n",
       "    <tr>\n",
       "      <th>Male</th>\n",
       "      <td>-0.217145</td>\n",
       "      <td>-0.209393</td>\n",
       "      <td>-0.192692</td>\n",
       "      <td>-0.100337</td>\n",
       "      <td>1.000000</td>\n",
       "      <td>-0.003799</td>\n",
       "      <td>-0.082572</td>\n",
       "    </tr>\n",
       "    <tr>\n",
       "      <th>Engineering</th>\n",
       "      <td>-0.032948</td>\n",
       "      <td>0.076349</td>\n",
       "      <td>0.103040</td>\n",
       "      <td>0.178719</td>\n",
       "      <td>-0.003799</td>\n",
       "      <td>1.000000</td>\n",
       "      <td>-0.483046</td>\n",
       "    </tr>\n",
       "    <tr>\n",
       "      <th>Sales</th>\n",
       "      <td>0.156045</td>\n",
       "      <td>0.033222</td>\n",
       "      <td>-0.012239</td>\n",
       "      <td>-0.083201</td>\n",
       "      <td>-0.082572</td>\n",
       "      <td>-0.483046</td>\n",
       "      <td>1.000000</td>\n",
       "    </tr>\n",
       "  </tbody>\n",
       "</table>\n",
       "</div>"
      ],
      "text/plain": [
       "                PreviousExp  YearsEmployed  YearsEducation  DirectRepotees  \\\n",
       "PreviousExp        1.000000       0.031277        0.080169        0.216198   \n",
       "YearsEmployed      0.031277       1.000000        0.607486        0.345444   \n",
       "YearsEducation     0.080169       0.607486        1.000000        0.504609   \n",
       "DirectRepotees     0.216198       0.345444        0.504609        1.000000   \n",
       "Male              -0.217145      -0.209393       -0.192692       -0.100337   \n",
       "Engineering       -0.032948       0.076349        0.103040        0.178719   \n",
       "Sales              0.156045       0.033222       -0.012239       -0.083201   \n",
       "\n",
       "                    Male  Engineering     Sales  \n",
       "PreviousExp    -0.217145    -0.032948  0.156045  \n",
       "YearsEmployed  -0.209393     0.076349  0.033222  \n",
       "YearsEducation -0.192692     0.103040 -0.012239  \n",
       "DirectRepotees -0.100337     0.178719 -0.083201  \n",
       "Male            1.000000    -0.003799 -0.082572  \n",
       "Engineering    -0.003799     1.000000 -0.483046  \n",
       "Sales          -0.082572    -0.483046  1.000000  "
      ]
     },
     "execution_count": 7,
     "metadata": {},
     "output_type": "execute_result"
    }
   ],
   "source": [
    "# Check for correlation among X variables\n",
    "X.corr()"
   ]
  },
  {
   "cell_type": "markdown",
   "id": "8e64eb18",
   "metadata": {},
   "source": [
    "None seem to be **strongly correlated**. Now let's check for multicollinearity. "
   ]
  },
  {
   "cell_type": "code",
   "execution_count": 8,
   "id": "15b66ab2",
   "metadata": {},
   "outputs": [
    {
     "data": {
      "text/plain": [
       "PreviousExp       2.756377\n",
       "YearsEmployed     4.320725\n",
       "YearsEducation    9.802773\n",
       "DirectRepotees    1.620989\n",
       "Male              1.923437\n",
       "Engineering       2.401963\n",
       "Sales             1.704261\n",
       "dtype: float64"
      ]
     },
     "execution_count": 8,
     "metadata": {},
     "output_type": "execute_result"
    }
   ],
   "source": [
    "# Check for multicollinearity\n",
    "from statsmodels.stats.outliers_influence import variance_inflation_factor\n",
    "pd.Series([variance_inflation_factor(X.values, i) \n",
    "               for i in range(X.shape[1])], \n",
    "               index=X.columns)"
   ]
  },
  {
   "cell_type": "markdown",
   "id": "250949f9",
   "metadata": {},
   "source": [
    "**YearsEducation** has high multi-collinearity. So we should drop that variable from model. "
   ]
  },
  {
   "cell_type": "code",
   "execution_count": 9,
   "id": "c1e86ac7",
   "metadata": {},
   "outputs": [
    {
     "data": {
      "text/html": [
       "<div>\n",
       "<style scoped>\n",
       "    .dataframe tbody tr th:only-of-type {\n",
       "        vertical-align: middle;\n",
       "    }\n",
       "\n",
       "    .dataframe tbody tr th {\n",
       "        vertical-align: top;\n",
       "    }\n",
       "\n",
       "    .dataframe thead th {\n",
       "        text-align: right;\n",
       "    }\n",
       "</style>\n",
       "<table border=\"1\" class=\"dataframe\">\n",
       "  <thead>\n",
       "    <tr style=\"text-align: right;\">\n",
       "      <th></th>\n",
       "      <th>PreviousExp</th>\n",
       "      <th>YearsEmployed</th>\n",
       "      <th>DirectRepotees</th>\n",
       "      <th>Male</th>\n",
       "      <th>Engineering</th>\n",
       "      <th>Sales</th>\n",
       "    </tr>\n",
       "  </thead>\n",
       "  <tbody>\n",
       "    <tr>\n",
       "      <th>0</th>\n",
       "      <td>0</td>\n",
       "      <td>27</td>\n",
       "      <td>44</td>\n",
       "      <td>1</td>\n",
       "      <td>1</td>\n",
       "      <td>0</td>\n",
       "    </tr>\n",
       "    <tr>\n",
       "      <th>1</th>\n",
       "      <td>3</td>\n",
       "      <td>20</td>\n",
       "      <td>1</td>\n",
       "      <td>0</td>\n",
       "      <td>1</td>\n",
       "      <td>0</td>\n",
       "    </tr>\n",
       "    <tr>\n",
       "      <th>2</th>\n",
       "      <td>1</td>\n",
       "      <td>0</td>\n",
       "      <td>0</td>\n",
       "      <td>0</td>\n",
       "      <td>0</td>\n",
       "      <td>1</td>\n",
       "    </tr>\n",
       "    <tr>\n",
       "      <th>3</th>\n",
       "      <td>5</td>\n",
       "      <td>12</td>\n",
       "      <td>0</td>\n",
       "      <td>1</td>\n",
       "      <td>1</td>\n",
       "      <td>0</td>\n",
       "    </tr>\n",
       "    <tr>\n",
       "      <th>4</th>\n",
       "      <td>5</td>\n",
       "      <td>7</td>\n",
       "      <td>1</td>\n",
       "      <td>1</td>\n",
       "      <td>1</td>\n",
       "      <td>0</td>\n",
       "    </tr>\n",
       "  </tbody>\n",
       "</table>\n",
       "</div>"
      ],
      "text/plain": [
       "   PreviousExp  YearsEmployed  DirectRepotees  Male  Engineering  Sales\n",
       "0            0             27              44     1            1      0\n",
       "1            3             20               1     0            1      0\n",
       "2            1              0               0     0            0      1\n",
       "3            5             12               0     1            1      0\n",
       "4            5              7               1     1            1      0"
      ]
     },
     "execution_count": 9,
     "metadata": {},
     "output_type": "execute_result"
    }
   ],
   "source": [
    "X.drop(\"YearsEducation\", axis=1, inplace=True)\n",
    "X.head()"
   ]
  },
  {
   "cell_type": "code",
   "execution_count": 10,
   "id": "19dcced8",
   "metadata": {},
   "outputs": [
    {
     "name": "stdout",
     "output_type": "stream",
     "text": [
      "                            OLS Regression Results                            \n",
      "==============================================================================\n",
      "Dep. Variable:                 Salary   R-squared:                       0.756\n",
      "Model:                            OLS   Adj. R-squared:                  0.718\n",
      "Method:                 Least Squares   F-statistic:                     20.11\n",
      "Date:                Sat, 10 Sep 2022   Prob (F-statistic):           1.50e-10\n",
      "Time:                        12:04:27   Log-Likelihood:                -460.40\n",
      "No. Observations:                  46   AIC:                             934.8\n",
      "Df Residuals:                      39   BIC:                             947.6\n",
      "Df Model:                           6                                         \n",
      "Covariance Type:            nonrobust                                         \n",
      "==================================================================================\n",
      "                     coef    std err          t      P>|t|      [0.025      0.975]\n",
      "----------------------------------------------------------------------------------\n",
      "const           3.087e+04   2499.928     12.348      0.000    2.58e+04    3.59e+04\n",
      "PreviousExp      -87.3136    248.813     -0.351      0.728    -590.585     415.957\n",
      "YearsEmployed    950.2210    125.133      7.594      0.000     697.115    1203.327\n",
      "DirectRepotees   279.6804     94.677      2.954      0.005      88.178     471.183\n",
      "Male           -2451.7794   1807.372     -1.357      0.183   -6107.534    1203.975\n",
      "Engineering     1329.6157   2002.993      0.664      0.511   -2721.819    5381.051\n",
      "Sales          -6798.4614   2429.720     -2.798      0.008   -1.17e+04   -1883.889\n",
      "==============================================================================\n",
      "Omnibus:                        5.059   Durbin-Watson:                   1.993\n",
      "Prob(Omnibus):                  0.080   Jarque-Bera (JB):                3.843\n",
      "Skew:                           0.590   Prob(JB):                        0.146\n",
      "Kurtosis:                       3.784   Cond. No.                         58.7\n",
      "==============================================================================\n",
      "\n",
      "Notes:\n",
      "[1] Standard Errors assume that the covariance matrix of the errors is correctly specified.\n"
     ]
    }
   ],
   "source": [
    "# Fit an OLS model\n",
    "Y = salary_df[\"Salary\"]\n",
    "X1 = sm.add_constant(X)\n",
    "\n",
    "model1 = sm.OLS(Y, X1).fit()\n",
    "print(model1.summary())"
   ]
  },
  {
   "cell_type": "markdown",
   "id": "927d4b7c",
   "metadata": {},
   "source": [
    "**PreviousExp** has the highest p-value. We will remove it and retrain the model. "
   ]
  },
  {
   "cell_type": "code",
   "execution_count": 11,
   "id": "87b0a7eb",
   "metadata": {},
   "outputs": [
    {
     "name": "stdout",
     "output_type": "stream",
     "text": [
      "                            OLS Regression Results                            \n",
      "==============================================================================\n",
      "Dep. Variable:                 Salary   R-squared:                       0.755\n",
      "Model:                            OLS   Adj. R-squared:                  0.724\n",
      "Method:                 Least Squares   F-statistic:                     24.65\n",
      "Date:                Sat, 10 Sep 2022   Prob (F-statistic):           3.01e-11\n",
      "Time:                        12:04:27   Log-Likelihood:                -460.47\n",
      "No. Observations:                  46   AIC:                             932.9\n",
      "Df Residuals:                      40   BIC:                             943.9\n",
      "Df Model:                           5                                         \n",
      "Covariance Type:            nonrobust                                         \n",
      "==================================================================================\n",
      "                     coef    std err          t      P>|t|      [0.025      0.975]\n",
      "----------------------------------------------------------------------------------\n",
      "const           3.044e+04   2151.287     14.148      0.000    2.61e+04    3.48e+04\n",
      "YearsEmployed    954.5467    123.152      7.751      0.000     705.647    1203.446\n",
      "DirectRepotees   271.9458     91.061      2.986      0.005      87.905     455.987\n",
      "Male           -2322.9716   1750.202     -1.327      0.192   -5860.262    1214.319\n",
      "Engineering     1321.7106   1980.792      0.667      0.508   -2681.618    5325.040\n",
      "Sales          -6930.3353   2374.026     -2.919      0.006   -1.17e+04   -2132.250\n",
      "==============================================================================\n",
      "Omnibus:                        5.333   Durbin-Watson:                   2.004\n",
      "Prob(Omnibus):                  0.069   Jarque-Bera (JB):                4.126\n",
      "Skew:                           0.603   Prob(JB):                        0.127\n",
      "Kurtosis:                       3.836   Cond. No.                         55.7\n",
      "==============================================================================\n",
      "\n",
      "Notes:\n",
      "[1] Standard Errors assume that the covariance matrix of the errors is correctly specified.\n"
     ]
    }
   ],
   "source": [
    "# Fit an OLS model\n",
    "Y = salary_df[\"Salary\"]\n",
    "X2 = X1.drop(columns=\"PreviousExp\", axis=1)\n",
    "\n",
    "model2 = sm.OLS(Y, X2).fit()\n",
    "print(model2.summary())"
   ]
  },
  {
   "cell_type": "markdown",
   "id": "489472bc",
   "metadata": {},
   "source": [
    "**Engineering** has a high p-value. We will remove it and retrain the model."
   ]
  },
  {
   "cell_type": "code",
   "execution_count": 12,
   "id": "92f39514",
   "metadata": {},
   "outputs": [
    {
     "name": "stdout",
     "output_type": "stream",
     "text": [
      "                            OLS Regression Results                            \n",
      "==============================================================================\n",
      "Dep. Variable:                 Salary   R-squared:                       0.752\n",
      "Model:                            OLS   Adj. R-squared:                  0.728\n",
      "Method:                 Least Squares   F-statistic:                     31.12\n",
      "Date:                Sat, 10 Sep 2022   Prob (F-statistic):           6.20e-12\n",
      "Time:                        12:04:27   Log-Likelihood:                -460.73\n",
      "No. Observations:                  46   AIC:                             931.5\n",
      "Df Residuals:                      41   BIC:                             940.6\n",
      "Df Model:                           4                                         \n",
      "Covariance Type:            nonrobust                                         \n",
      "==================================================================================\n",
      "                     coef    std err          t      P>|t|      [0.025      0.975]\n",
      "----------------------------------------------------------------------------------\n",
      "const           3.113e+04   1868.963     16.657      0.000    2.74e+04    3.49e+04\n",
      "YearsEmployed    958.5626    122.170      7.846      0.000     711.835    1205.290\n",
      "DirectRepotees   279.8339     89.677      3.120      0.003      98.727     460.941\n",
      "Male           -2351.1361   1737.815     -1.353      0.183   -5860.726    1158.453\n",
      "Sales          -7690.4985   2068.688     -3.718      0.001   -1.19e+04   -3512.699\n",
      "==============================================================================\n",
      "Omnibus:                        5.476   Durbin-Watson:                   2.039\n",
      "Prob(Omnibus):                  0.065   Jarque-Bera (JB):                4.375\n",
      "Skew:                           0.569   Prob(JB):                        0.112\n",
      "Kurtosis:                       3.994   Cond. No.                         43.9\n",
      "==============================================================================\n",
      "\n",
      "Notes:\n",
      "[1] Standard Errors assume that the covariance matrix of the errors is correctly specified.\n"
     ]
    }
   ],
   "source": [
    "# Fit an OLS model\n",
    "Y = salary_df[\"Salary\"]\n",
    "X3 = X2.drop(columns=\"Engineering\", axis=1)\n",
    "\n",
    "model3 = sm.OLS(Y, X3).fit()\n",
    "print(model3.summary())"
   ]
  },
  {
   "cell_type": "markdown",
   "id": "1c81d34b",
   "metadata": {},
   "source": [
    "**Male** has a high p-value. We will remove it and retrain the model."
   ]
  },
  {
   "cell_type": "code",
   "execution_count": 13,
   "id": "a14a2cf4",
   "metadata": {},
   "outputs": [
    {
     "name": "stdout",
     "output_type": "stream",
     "text": [
      "                            OLS Regression Results                            \n",
      "==============================================================================\n",
      "Dep. Variable:                 Salary   R-squared:                       0.741\n",
      "Model:                            OLS   Adj. R-squared:                  0.723\n",
      "Method:                 Least Squares   F-statistic:                     40.10\n",
      "Date:                Sat, 10 Sep 2022   Prob (F-statistic):           2.15e-12\n",
      "Time:                        12:04:27   Log-Likelihood:                -461.73\n",
      "No. Observations:                  46   AIC:                             931.5\n",
      "Df Residuals:                      42   BIC:                             938.8\n",
      "Df Model:                           3                                         \n",
      "Covariance Type:            nonrobust                                         \n",
      "==================================================================================\n",
      "                     coef    std err          t      P>|t|      [0.025      0.975]\n",
      "----------------------------------------------------------------------------------\n",
      "const           2.962e+04   1513.081     19.576      0.000    2.66e+04    3.27e+04\n",
      "YearsEmployed    988.6827    121.306      8.150      0.000     743.877    1233.488\n",
      "DirectRepotees   284.5220     90.492      3.144      0.003     101.902     467.142\n",
      "Sales          -7464.0658   2082.190     -3.585      0.001   -1.17e+04   -3262.036\n",
      "==============================================================================\n",
      "Omnibus:                        5.493   Durbin-Watson:                   2.095\n",
      "Prob(Omnibus):                  0.064   Jarque-Bera (JB):                4.284\n",
      "Skew:                           0.678   Prob(JB):                        0.117\n",
      "Kurtosis:                       3.628   Cond. No.                         38.8\n",
      "==============================================================================\n",
      "\n",
      "Notes:\n",
      "[1] Standard Errors assume that the covariance matrix of the errors is correctly specified.\n"
     ]
    }
   ],
   "source": [
    "# Fit an OLS model\n",
    "Y = salary_df[\"Salary\"]\n",
    "X4 = X3.drop(columns=\"Male\", axis=1)\n",
    "\n",
    "model4 = sm.OLS(Y, X4).fit()\n",
    "print(model4.summary())"
   ]
  },
  {
   "cell_type": "markdown",
   "id": "df266383",
   "metadata": {},
   "source": [
    "The variables YearsEmployed, DirectRepotees and Sales are significant."
   ]
  },
  {
   "cell_type": "markdown",
   "id": "6ba0c503",
   "metadata": {},
   "source": [
    "1) Estimate the appropriate multiple linear regression equation to predict the salary of an Unitech employee using all explanatory variables.<br>\n",
    "    **Regression Eqn: Salary = 2962 + 988.7 * YearsEmployed + 284.5 * DirectRepotees  - 7464 * Sales**"
   ]
  },
  {
   "cell_type": "markdown",
   "id": "2b180c32",
   "metadata": {},
   "source": [
    "2) What would be the estimated salary of a Sr. Data Scientist (joining engineering) with 10 years of work experience. This woman has 18 years of total education, and will be supervising 4 junior employees."
   ]
  },
  {
   "cell_type": "code",
   "execution_count": 14,
   "id": "c4115a47",
   "metadata": {},
   "outputs": [
    {
     "name": "stdout",
     "output_type": "stream",
     "text": [
      "Predicted Salary:$ 40645.2\n"
     ]
    }
   ],
   "source": [
    "new_emp = {\n",
    "    'const' : 1,\n",
    "    'YearsEmployed' :10,\n",
    "    'DirectRepotees' : 4,\n",
    "    'Sales'  : 0 \n",
    "    }\n",
    "  \n",
    "x = pd.DataFrame(new_emp, index=[0])\n",
    "\n",
    "predicted_sal = model4.predict(x)\n",
    "\n",
    "print(\"Predicted Salary:$\",predicted_sal[0].round(1))"
   ]
  },
  {
   "cell_type": "markdown",
   "id": "43a84890",
   "metadata": {},
   "source": [
    "### 3)  Train and save a model as pickle file for deployment on Cloud."
   ]
  },
  {
   "cell_type": "code",
   "execution_count": 16,
   "id": "a7e3caca",
   "metadata": {},
   "outputs": [],
   "source": [
    "# Fitting the Multiple Linear Regression in the Training set\n",
    "from sklearn.linear_model import LinearRegression\n",
    "\n",
    "X_Train = salary_df[[\"YearsEmployed\", \"DirectRepotees\", \"Sales\"]]\n",
    "Y_Train = salary_df[\"Salary\"]\n",
    "\n",
    "regressor = LinearRegression()\n",
    "lr_model = regressor.fit(X_Train, Y_Train)"
   ]
  },
  {
   "cell_type": "code",
   "execution_count": 18,
   "id": "35ec991c",
   "metadata": {},
   "outputs": [
    {
     "name": "stdout",
     "output_type": "stream",
     "text": [
      "Predicted Salary:$ 40645.2\n"
     ]
    },
    {
     "name": "stderr",
     "output_type": "stream",
     "text": [
      "C:\\Users\\sachi\\anaconda3\\lib\\site-packages\\sklearn\\base.py:450: UserWarning: X does not have valid feature names, but LinearRegression was fitted with feature names\n",
      "  warnings.warn(\n"
     ]
    }
   ],
   "source": [
    "# Save the model as pkl file\n",
    "import pickle\n",
    "\n",
    "# create an iterator object with write permission - model.pkl\n",
    "with open('lrmodel.pkl', 'wb') as files:\n",
    "    pickle.dump(lr_model, files)\n",
    "    \n",
    "# load saved model\n",
    "with open('lrmodel.pkl' , 'rb') as f:\n",
    "    saved_model = pickle.load(f)\n",
    "\n",
    "# check prediction\n",
    "''' YearsEmployed  :10,\n",
    "    DirectRepotees : 4,\n",
    "    Sales          : 0 \n",
    "'''        \n",
    "x = np.array([10,4,0]).reshape(1,3)\n",
    "predicted_sal = saved_model.predict(x)\n",
    "\n",
    "print(\"Predicted Salary:$\",predicted_sal[0].round(1))"
   ]
  },
  {
   "cell_type": "markdown",
   "id": "bbfd1ecd",
   "metadata": {},
   "source": [
    "***"
   ]
  }
 ],
 "metadata": {
  "kernelspec": {
   "display_name": "Python 3 (ipykernel)",
   "language": "python",
   "name": "python3"
  },
  "language_info": {
   "codemirror_mode": {
    "name": "ipython",
    "version": 3
   },
   "file_extension": ".py",
   "mimetype": "text/x-python",
   "name": "python",
   "nbconvert_exporter": "python",
   "pygments_lexer": "ipython3",
   "version": "3.9.12"
  },
  "vscode": {
   "interpreter": {
    "hash": "bdffa51944fa960781d10881c5304259322212ab6a9148e8d75157315cb9cd6c"
   }
  }
 },
 "nbformat": 4,
 "nbformat_minor": 5
}
