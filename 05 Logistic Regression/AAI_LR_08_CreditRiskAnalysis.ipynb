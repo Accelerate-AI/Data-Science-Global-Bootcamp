{
 "cells": [
  {
   "cell_type": "markdown",
   "metadata": {},
   "source": [
    "# AccelerateAI: Logistic Regression"
   ]
  },
  {
   "cell_type": "markdown",
   "metadata": {},
   "source": [
    "## Credit Risk Analysis"
   ]
  },
  {
   "cell_type": "markdown",
   "metadata": {},
   "source": [
    "Credit Risk analysis is important to understand and score customers better for subsequent decision making by leaders.\n",
    "\n",
    "The goal of credit risk / scoring models is to predict the creditworthiness of a customer and determine whether they will be able to meet a given financial obligation or default on it. Such models allow a financial institution to minimize the risk of loss by setting decision rules regarding which customers receive loan and credit card approvals and so on for various products and services. \n",
    "\n",
    "Logistic regression can be used to predict default events and model the influence of different variables on a consumer’s creditworthines.\n",
    "\n",
    "We will use a sample dataset to analyze credit risk class - good or bad, based on multiple features.\n"
   ]
  },
  {
   "cell_type": "markdown",
   "metadata": {
    "heading_collapsed": true
   },
   "source": [
    "### Import Libraries and Load Dataset"
   ]
  },
  {
   "cell_type": "code",
   "execution_count": 58,
   "metadata": {
    "hidden": true
   },
   "outputs": [],
   "source": [
    "import numpy as np\n",
    "import pandas as pd \n",
    "\n",
    "import statsmodels.api as sm\n",
    "import matplotlib.pyplot as plt\n",
    "import seaborn as sns\n",
    "\n",
    "from sklearn import preprocessing"
   ]
  },
  {
   "cell_type": "code",
   "execution_count": 59,
   "metadata": {
    "hidden": true
   },
   "outputs": [
    {
     "data": {
      "text/html": [
       "<div>\n",
       "<style scoped>\n",
       "    .dataframe tbody tr th:only-of-type {\n",
       "        vertical-align: middle;\n",
       "    }\n",
       "\n",
       "    .dataframe tbody tr th {\n",
       "        vertical-align: top;\n",
       "    }\n",
       "\n",
       "    .dataframe thead th {\n",
       "        text-align: right;\n",
       "    }\n",
       "</style>\n",
       "<table border=\"1\" class=\"dataframe\">\n",
       "  <thead>\n",
       "    <tr style=\"text-align: right;\">\n",
       "      <th></th>\n",
       "      <th>Id</th>\n",
       "      <th>Age</th>\n",
       "      <th>Sex</th>\n",
       "      <th>Job</th>\n",
       "      <th>Housing</th>\n",
       "      <th>Saving accounts</th>\n",
       "      <th>Checking account</th>\n",
       "      <th>Credit amount</th>\n",
       "      <th>Duration</th>\n",
       "      <th>Purpose</th>\n",
       "      <th>Risk</th>\n",
       "    </tr>\n",
       "  </thead>\n",
       "  <tbody>\n",
       "    <tr>\n",
       "      <th>0</th>\n",
       "      <td>0</td>\n",
       "      <td>67</td>\n",
       "      <td>male</td>\n",
       "      <td>2</td>\n",
       "      <td>own</td>\n",
       "      <td>NaN</td>\n",
       "      <td>little</td>\n",
       "      <td>1169</td>\n",
       "      <td>6</td>\n",
       "      <td>radio/TV</td>\n",
       "      <td>good</td>\n",
       "    </tr>\n",
       "    <tr>\n",
       "      <th>1</th>\n",
       "      <td>1</td>\n",
       "      <td>22</td>\n",
       "      <td>female</td>\n",
       "      <td>2</td>\n",
       "      <td>own</td>\n",
       "      <td>little</td>\n",
       "      <td>moderate</td>\n",
       "      <td>5951</td>\n",
       "      <td>48</td>\n",
       "      <td>radio/TV</td>\n",
       "      <td>bad</td>\n",
       "    </tr>\n",
       "    <tr>\n",
       "      <th>2</th>\n",
       "      <td>2</td>\n",
       "      <td>49</td>\n",
       "      <td>male</td>\n",
       "      <td>1</td>\n",
       "      <td>own</td>\n",
       "      <td>little</td>\n",
       "      <td>NaN</td>\n",
       "      <td>2096</td>\n",
       "      <td>12</td>\n",
       "      <td>education</td>\n",
       "      <td>good</td>\n",
       "    </tr>\n",
       "    <tr>\n",
       "      <th>3</th>\n",
       "      <td>3</td>\n",
       "      <td>45</td>\n",
       "      <td>male</td>\n",
       "      <td>2</td>\n",
       "      <td>free</td>\n",
       "      <td>little</td>\n",
       "      <td>little</td>\n",
       "      <td>7882</td>\n",
       "      <td>42</td>\n",
       "      <td>furniture/equipment</td>\n",
       "      <td>good</td>\n",
       "    </tr>\n",
       "    <tr>\n",
       "      <th>4</th>\n",
       "      <td>4</td>\n",
       "      <td>53</td>\n",
       "      <td>male</td>\n",
       "      <td>2</td>\n",
       "      <td>free</td>\n",
       "      <td>little</td>\n",
       "      <td>little</td>\n",
       "      <td>4870</td>\n",
       "      <td>24</td>\n",
       "      <td>car</td>\n",
       "      <td>bad</td>\n",
       "    </tr>\n",
       "  </tbody>\n",
       "</table>\n",
       "</div>"
      ],
      "text/plain": [
       "   Id  Age     Sex  Job Housing Saving accounts Checking account  \\\n",
       "0   0   67    male    2     own             NaN           little   \n",
       "1   1   22  female    2     own          little         moderate   \n",
       "2   2   49    male    1     own          little              NaN   \n",
       "3   3   45    male    2    free          little           little   \n",
       "4   4   53    male    2    free          little           little   \n",
       "\n",
       "   Credit amount  Duration              Purpose  Risk  \n",
       "0           1169         6             radio/TV  good  \n",
       "1           5951        48             radio/TV   bad  \n",
       "2           2096        12            education  good  \n",
       "3           7882        42  furniture/equipment  good  \n",
       "4           4870        24                  car   bad  "
      ]
     },
     "execution_count": 59,
     "metadata": {},
     "output_type": "execute_result"
    }
   ],
   "source": [
    "df = pd.read_csv('./LR_credit_scoring.csv') \n",
    "\n",
    "df.head()"
   ]
  },
  {
   "cell_type": "markdown",
   "metadata": {
    "hidden": true
   },
   "source": [
    "Our dataset here includes the following:\n",
    "- Id\n",
    "- Age of customer\n",
    "- Sex\n",
    "- Job Type: 0/1/2/3 (Unemployed, PartTime Employment, Contractual Employment, FullTime Employment etc.)\n",
    "- Housing Type: Own/Rent/Free\n",
    "- Saving Accounts: Little/Moderate/Rich/Quite Rich\n",
    "- Checking Account: Little/Moderate/Rich\n",
    "- Credit Amount\n",
    "- Duration of association with the Bank/Financial Institution (4 months to 72 months)\n",
    "- Purpose: Credit requested for what purpose (Business / Car / Domestic appliances / Education / Furniture/Equipment / Radio/TV / Repairs / Vacation/others)\n",
    "- Risk: Good/Bad i.e. 0/1"
   ]
  },
  {
   "cell_type": "markdown",
   "metadata": {
    "heading_collapsed": true
   },
   "source": [
    "### EDA, Feature Engg"
   ]
  },
  {
   "cell_type": "code",
   "execution_count": 60,
   "metadata": {
    "hidden": true
   },
   "outputs": [],
   "source": [
    "# Rename some columns by removing unwanted spaces or meaningful names\n",
    "df.rename(columns={'Saving accounts':'SavingAccounts',\n",
    "                   'Checking account':'CheckingAccount',\n",
    "                   'Credit amount':'CreditAmount'} , inplace=True)\n",
    "\n",
    "# Handle IDness: Remove the Id field which is not relevant\n",
    "df.drop(columns='Id', inplace=True)"
   ]
  },
  {
   "cell_type": "code",
   "execution_count": 61,
   "metadata": {
    "hidden": true
   },
   "outputs": [
    {
     "data": {
      "text/html": [
       "<div>\n",
       "<style scoped>\n",
       "    .dataframe tbody tr th:only-of-type {\n",
       "        vertical-align: middle;\n",
       "    }\n",
       "\n",
       "    .dataframe tbody tr th {\n",
       "        vertical-align: top;\n",
       "    }\n",
       "\n",
       "    .dataframe thead th {\n",
       "        text-align: right;\n",
       "    }\n",
       "</style>\n",
       "<table border=\"1\" class=\"dataframe\">\n",
       "  <thead>\n",
       "    <tr style=\"text-align: right;\">\n",
       "      <th></th>\n",
       "      <th>Age</th>\n",
       "      <th>Sex</th>\n",
       "      <th>Job</th>\n",
       "      <th>Housing</th>\n",
       "      <th>SavingAccounts</th>\n",
       "      <th>CheckingAccount</th>\n",
       "      <th>CreditAmount</th>\n",
       "      <th>Duration</th>\n",
       "      <th>Purpose</th>\n",
       "      <th>Risk</th>\n",
       "    </tr>\n",
       "  </thead>\n",
       "  <tbody>\n",
       "    <tr>\n",
       "      <th>0</th>\n",
       "      <td>67</td>\n",
       "      <td>male</td>\n",
       "      <td>2</td>\n",
       "      <td>own</td>\n",
       "      <td>NaN</td>\n",
       "      <td>little</td>\n",
       "      <td>1169</td>\n",
       "      <td>6</td>\n",
       "      <td>radio/TV</td>\n",
       "      <td>good</td>\n",
       "    </tr>\n",
       "    <tr>\n",
       "      <th>1</th>\n",
       "      <td>22</td>\n",
       "      <td>female</td>\n",
       "      <td>2</td>\n",
       "      <td>own</td>\n",
       "      <td>little</td>\n",
       "      <td>moderate</td>\n",
       "      <td>5951</td>\n",
       "      <td>48</td>\n",
       "      <td>radio/TV</td>\n",
       "      <td>bad</td>\n",
       "    </tr>\n",
       "    <tr>\n",
       "      <th>2</th>\n",
       "      <td>49</td>\n",
       "      <td>male</td>\n",
       "      <td>1</td>\n",
       "      <td>own</td>\n",
       "      <td>little</td>\n",
       "      <td>NaN</td>\n",
       "      <td>2096</td>\n",
       "      <td>12</td>\n",
       "      <td>education</td>\n",
       "      <td>good</td>\n",
       "    </tr>\n",
       "    <tr>\n",
       "      <th>3</th>\n",
       "      <td>45</td>\n",
       "      <td>male</td>\n",
       "      <td>2</td>\n",
       "      <td>free</td>\n",
       "      <td>little</td>\n",
       "      <td>little</td>\n",
       "      <td>7882</td>\n",
       "      <td>42</td>\n",
       "      <td>furniture/equipment</td>\n",
       "      <td>good</td>\n",
       "    </tr>\n",
       "    <tr>\n",
       "      <th>4</th>\n",
       "      <td>53</td>\n",
       "      <td>male</td>\n",
       "      <td>2</td>\n",
       "      <td>free</td>\n",
       "      <td>little</td>\n",
       "      <td>little</td>\n",
       "      <td>4870</td>\n",
       "      <td>24</td>\n",
       "      <td>car</td>\n",
       "      <td>bad</td>\n",
       "    </tr>\n",
       "  </tbody>\n",
       "</table>\n",
       "</div>"
      ],
      "text/plain": [
       "   Age     Sex  Job Housing SavingAccounts CheckingAccount  CreditAmount  \\\n",
       "0   67    male    2     own            NaN          little          1169   \n",
       "1   22  female    2     own         little        moderate          5951   \n",
       "2   49    male    1     own         little             NaN          2096   \n",
       "3   45    male    2    free         little          little          7882   \n",
       "4   53    male    2    free         little          little          4870   \n",
       "\n",
       "   Duration              Purpose  Risk  \n",
       "0         6             radio/TV  good  \n",
       "1        48             radio/TV   bad  \n",
       "2        12            education  good  \n",
       "3        42  furniture/equipment  good  \n",
       "4        24                  car   bad  "
      ]
     },
     "execution_count": 61,
     "metadata": {},
     "output_type": "execute_result"
    }
   ],
   "source": [
    "df.head()"
   ]
  },
  {
   "cell_type": "code",
   "execution_count": 62,
   "metadata": {
    "hidden": true
   },
   "outputs": [
    {
     "data": {
      "text/plain": [
       "577"
      ]
     },
     "execution_count": 62,
     "metadata": {},
     "output_type": "execute_result"
    }
   ],
   "source": [
    "# Check for missing values and handle it accordingly\n",
    "df.isnull().sum().sum()"
   ]
  },
  {
   "cell_type": "code",
   "execution_count": 63,
   "metadata": {
    "hidden": true
   },
   "outputs": [],
   "source": [
    "df_fill_next = df.fillna(method='bfill')"
   ]
  },
  {
   "cell_type": "code",
   "execution_count": 64,
   "metadata": {
    "hidden": true
   },
   "outputs": [
    {
     "data": {
      "text/plain": [
       "0"
      ]
     },
     "execution_count": 64,
     "metadata": {},
     "output_type": "execute_result"
    }
   ],
   "source": [
    "df_fill_next.isnull().sum().sum()"
   ]
  },
  {
   "cell_type": "code",
   "execution_count": 65,
   "metadata": {
    "hidden": true
   },
   "outputs": [
    {
     "data": {
      "text/html": [
       "<div>\n",
       "<style scoped>\n",
       "    .dataframe tbody tr th:only-of-type {\n",
       "        vertical-align: middle;\n",
       "    }\n",
       "\n",
       "    .dataframe tbody tr th {\n",
       "        vertical-align: top;\n",
       "    }\n",
       "\n",
       "    .dataframe thead th {\n",
       "        text-align: right;\n",
       "    }\n",
       "</style>\n",
       "<table border=\"1\" class=\"dataframe\">\n",
       "  <thead>\n",
       "    <tr style=\"text-align: right;\">\n",
       "      <th></th>\n",
       "      <th>Age</th>\n",
       "      <th>Sex</th>\n",
       "      <th>Job</th>\n",
       "      <th>Housing</th>\n",
       "      <th>SavingAccounts</th>\n",
       "      <th>CheckingAccount</th>\n",
       "      <th>CreditAmount</th>\n",
       "      <th>Duration</th>\n",
       "      <th>Purpose</th>\n",
       "      <th>Risk</th>\n",
       "    </tr>\n",
       "  </thead>\n",
       "  <tbody>\n",
       "    <tr>\n",
       "      <th>0</th>\n",
       "      <td>67</td>\n",
       "      <td>male</td>\n",
       "      <td>2</td>\n",
       "      <td>own</td>\n",
       "      <td>little</td>\n",
       "      <td>little</td>\n",
       "      <td>1169</td>\n",
       "      <td>6</td>\n",
       "      <td>radio/TV</td>\n",
       "      <td>good</td>\n",
       "    </tr>\n",
       "    <tr>\n",
       "      <th>1</th>\n",
       "      <td>22</td>\n",
       "      <td>female</td>\n",
       "      <td>2</td>\n",
       "      <td>own</td>\n",
       "      <td>little</td>\n",
       "      <td>moderate</td>\n",
       "      <td>5951</td>\n",
       "      <td>48</td>\n",
       "      <td>radio/TV</td>\n",
       "      <td>bad</td>\n",
       "    </tr>\n",
       "    <tr>\n",
       "      <th>2</th>\n",
       "      <td>49</td>\n",
       "      <td>male</td>\n",
       "      <td>1</td>\n",
       "      <td>own</td>\n",
       "      <td>little</td>\n",
       "      <td>little</td>\n",
       "      <td>2096</td>\n",
       "      <td>12</td>\n",
       "      <td>education</td>\n",
       "      <td>good</td>\n",
       "    </tr>\n",
       "    <tr>\n",
       "      <th>3</th>\n",
       "      <td>45</td>\n",
       "      <td>male</td>\n",
       "      <td>2</td>\n",
       "      <td>free</td>\n",
       "      <td>little</td>\n",
       "      <td>little</td>\n",
       "      <td>7882</td>\n",
       "      <td>42</td>\n",
       "      <td>furniture/equipment</td>\n",
       "      <td>good</td>\n",
       "    </tr>\n",
       "    <tr>\n",
       "      <th>4</th>\n",
       "      <td>53</td>\n",
       "      <td>male</td>\n",
       "      <td>2</td>\n",
       "      <td>free</td>\n",
       "      <td>little</td>\n",
       "      <td>little</td>\n",
       "      <td>4870</td>\n",
       "      <td>24</td>\n",
       "      <td>car</td>\n",
       "      <td>bad</td>\n",
       "    </tr>\n",
       "  </tbody>\n",
       "</table>\n",
       "</div>"
      ],
      "text/plain": [
       "   Age     Sex  Job Housing SavingAccounts CheckingAccount  CreditAmount  \\\n",
       "0   67    male    2     own         little          little          1169   \n",
       "1   22  female    2     own         little        moderate          5951   \n",
       "2   49    male    1     own         little          little          2096   \n",
       "3   45    male    2    free         little          little          7882   \n",
       "4   53    male    2    free         little          little          4870   \n",
       "\n",
       "   Duration              Purpose  Risk  \n",
       "0         6             radio/TV  good  \n",
       "1        48             radio/TV   bad  \n",
       "2        12            education  good  \n",
       "3        42  furniture/equipment  good  \n",
       "4        24                  car   bad  "
      ]
     },
     "execution_count": 65,
     "metadata": {},
     "output_type": "execute_result"
    }
   ],
   "source": [
    "df_fill_next.head()"
   ]
  },
  {
   "cell_type": "code",
   "execution_count": 66,
   "metadata": {
    "hidden": true
   },
   "outputs": [
    {
     "data": {
      "text/html": [
       "<div>\n",
       "<style scoped>\n",
       "    .dataframe tbody tr th:only-of-type {\n",
       "        vertical-align: middle;\n",
       "    }\n",
       "\n",
       "    .dataframe tbody tr th {\n",
       "        vertical-align: top;\n",
       "    }\n",
       "\n",
       "    .dataframe thead th {\n",
       "        text-align: right;\n",
       "    }\n",
       "</style>\n",
       "<table border=\"1\" class=\"dataframe\">\n",
       "  <thead>\n",
       "    <tr style=\"text-align: right;\">\n",
       "      <th></th>\n",
       "      <th>Age</th>\n",
       "      <th>Job</th>\n",
       "      <th>CreditAmount</th>\n",
       "      <th>Duration</th>\n",
       "      <th>Risk</th>\n",
       "      <th>Sex_male</th>\n",
       "      <th>Housing_own</th>\n",
       "      <th>Housing_rent</th>\n",
       "      <th>SavingAccounts_moderate</th>\n",
       "      <th>SavingAccounts_quite rich</th>\n",
       "      <th>SavingAccounts_rich</th>\n",
       "      <th>CheckingAccount_moderate</th>\n",
       "      <th>CheckingAccount_rich</th>\n",
       "      <th>Purpose_car</th>\n",
       "      <th>Purpose_domestic appliances</th>\n",
       "      <th>Purpose_education</th>\n",
       "      <th>Purpose_furniture/equipment</th>\n",
       "      <th>Purpose_radio/TV</th>\n",
       "      <th>Purpose_repairs</th>\n",
       "      <th>Purpose_vacation/others</th>\n",
       "    </tr>\n",
       "  </thead>\n",
       "  <tbody>\n",
       "    <tr>\n",
       "      <th>0</th>\n",
       "      <td>67</td>\n",
       "      <td>2</td>\n",
       "      <td>1169</td>\n",
       "      <td>6</td>\n",
       "      <td>0</td>\n",
       "      <td>1</td>\n",
       "      <td>1</td>\n",
       "      <td>0</td>\n",
       "      <td>0</td>\n",
       "      <td>0</td>\n",
       "      <td>0</td>\n",
       "      <td>0</td>\n",
       "      <td>0</td>\n",
       "      <td>0</td>\n",
       "      <td>0</td>\n",
       "      <td>0</td>\n",
       "      <td>0</td>\n",
       "      <td>1</td>\n",
       "      <td>0</td>\n",
       "      <td>0</td>\n",
       "    </tr>\n",
       "    <tr>\n",
       "      <th>1</th>\n",
       "      <td>22</td>\n",
       "      <td>2</td>\n",
       "      <td>5951</td>\n",
       "      <td>48</td>\n",
       "      <td>1</td>\n",
       "      <td>0</td>\n",
       "      <td>1</td>\n",
       "      <td>0</td>\n",
       "      <td>0</td>\n",
       "      <td>0</td>\n",
       "      <td>0</td>\n",
       "      <td>1</td>\n",
       "      <td>0</td>\n",
       "      <td>0</td>\n",
       "      <td>0</td>\n",
       "      <td>0</td>\n",
       "      <td>0</td>\n",
       "      <td>1</td>\n",
       "      <td>0</td>\n",
       "      <td>0</td>\n",
       "    </tr>\n",
       "    <tr>\n",
       "      <th>2</th>\n",
       "      <td>49</td>\n",
       "      <td>1</td>\n",
       "      <td>2096</td>\n",
       "      <td>12</td>\n",
       "      <td>0</td>\n",
       "      <td>1</td>\n",
       "      <td>1</td>\n",
       "      <td>0</td>\n",
       "      <td>0</td>\n",
       "      <td>0</td>\n",
       "      <td>0</td>\n",
       "      <td>0</td>\n",
       "      <td>0</td>\n",
       "      <td>0</td>\n",
       "      <td>0</td>\n",
       "      <td>1</td>\n",
       "      <td>0</td>\n",
       "      <td>0</td>\n",
       "      <td>0</td>\n",
       "      <td>0</td>\n",
       "    </tr>\n",
       "    <tr>\n",
       "      <th>3</th>\n",
       "      <td>45</td>\n",
       "      <td>2</td>\n",
       "      <td>7882</td>\n",
       "      <td>42</td>\n",
       "      <td>0</td>\n",
       "      <td>1</td>\n",
       "      <td>0</td>\n",
       "      <td>0</td>\n",
       "      <td>0</td>\n",
       "      <td>0</td>\n",
       "      <td>0</td>\n",
       "      <td>0</td>\n",
       "      <td>0</td>\n",
       "      <td>0</td>\n",
       "      <td>0</td>\n",
       "      <td>0</td>\n",
       "      <td>1</td>\n",
       "      <td>0</td>\n",
       "      <td>0</td>\n",
       "      <td>0</td>\n",
       "    </tr>\n",
       "    <tr>\n",
       "      <th>4</th>\n",
       "      <td>53</td>\n",
       "      <td>2</td>\n",
       "      <td>4870</td>\n",
       "      <td>24</td>\n",
       "      <td>1</td>\n",
       "      <td>1</td>\n",
       "      <td>0</td>\n",
       "      <td>0</td>\n",
       "      <td>0</td>\n",
       "      <td>0</td>\n",
       "      <td>0</td>\n",
       "      <td>0</td>\n",
       "      <td>0</td>\n",
       "      <td>1</td>\n",
       "      <td>0</td>\n",
       "      <td>0</td>\n",
       "      <td>0</td>\n",
       "      <td>0</td>\n",
       "      <td>0</td>\n",
       "      <td>0</td>\n",
       "    </tr>\n",
       "  </tbody>\n",
       "</table>\n",
       "</div>"
      ],
      "text/plain": [
       "   Age  Job  CreditAmount  Duration  Risk  Sex_male  Housing_own  \\\n",
       "0   67    2          1169         6     0         1            1   \n",
       "1   22    2          5951        48     1         0            1   \n",
       "2   49    1          2096        12     0         1            1   \n",
       "3   45    2          7882        42     0         1            0   \n",
       "4   53    2          4870        24     1         1            0   \n",
       "\n",
       "   Housing_rent  SavingAccounts_moderate  SavingAccounts_quite rich  \\\n",
       "0             0                        0                          0   \n",
       "1             0                        0                          0   \n",
       "2             0                        0                          0   \n",
       "3             0                        0                          0   \n",
       "4             0                        0                          0   \n",
       "\n",
       "   SavingAccounts_rich  CheckingAccount_moderate  CheckingAccount_rich  \\\n",
       "0                    0                         0                     0   \n",
       "1                    0                         1                     0   \n",
       "2                    0                         0                     0   \n",
       "3                    0                         0                     0   \n",
       "4                    0                         0                     0   \n",
       "\n",
       "   Purpose_car  Purpose_domestic appliances  Purpose_education  \\\n",
       "0            0                            0                  0   \n",
       "1            0                            0                  0   \n",
       "2            0                            0                  1   \n",
       "3            0                            0                  0   \n",
       "4            1                            0                  0   \n",
       "\n",
       "   Purpose_furniture/equipment  Purpose_radio/TV  Purpose_repairs  \\\n",
       "0                            0                 1                0   \n",
       "1                            0                 1                0   \n",
       "2                            0                 0                0   \n",
       "3                            1                 0                0   \n",
       "4                            0                 0                0   \n",
       "\n",
       "   Purpose_vacation/others  \n",
       "0                        0  \n",
       "1                        0  \n",
       "2                        0  \n",
       "3                        0  \n",
       "4                        0  "
      ]
     },
     "execution_count": 66,
     "metadata": {},
     "output_type": "execute_result"
    }
   ],
   "source": [
    "# Encoding: Handle Categorical features by converting them to dummies, before passing to model\n",
    "df_encoded = pd.get_dummies(df_fill_next, columns = ['Sex', 'Housing','SavingAccounts','CheckingAccount','Purpose'], drop_first=True)\n",
    "df_encoded['Risk'].replace(['good','bad'],[0,1],inplace=True)\n",
    "\n",
    "df_encoded.head()"
   ]
  },
  {
   "cell_type": "code",
   "execution_count": 67,
   "metadata": {
    "hidden": true
   },
   "outputs": [
    {
     "data": {
      "text/plain": [
       "Index(['Age', 'Job', 'CreditAmount', 'Duration', 'Risk', 'Sex_male',\n",
       "       'Housing_own', 'Housing_rent', 'SavingAccounts_moderate',\n",
       "       'SavingAccounts_quite rich', 'SavingAccounts_rich',\n",
       "       'CheckingAccount_moderate', 'CheckingAccount_rich', 'Purpose_car',\n",
       "       'Purpose_domestic appliances', 'Purpose_education',\n",
       "       'Purpose_furniture/equipment', 'Purpose_radio/TV', 'Purpose_repairs',\n",
       "       'Purpose_vacation/others'],\n",
       "      dtype='object')"
      ]
     },
     "execution_count": 67,
     "metadata": {},
     "output_type": "execute_result"
    }
   ],
   "source": [
    "df_encoded.columns"
   ]
  },
  {
   "cell_type": "code",
   "execution_count": 68,
   "metadata": {
    "hidden": true
   },
   "outputs": [],
   "source": [
    "# Setup X and Y from the dataframe\n",
    "y = df_encoded['Risk']\n",
    "X = df_encoded.drop(columns='Risk')\n",
    "X_const = sm.add_constant(X)"
   ]
  },
  {
   "cell_type": "code",
   "execution_count": 69,
   "metadata": {
    "hidden": true
   },
   "outputs": [
    {
     "data": {
      "image/png": "[encoded data removed]",
      "text/plain": [
       "<Figure size 432x288 with 1 Axes>"
      ]
     },
     "metadata": {},
     "output_type": "display_data"
    }
   ],
   "source": [
    "# Distribution of the Risk Feature\n",
    "# 0 is for Good Risk\n",
    "# 1 is for Bad Risk\n",
    "y_freq = y.value_counts()\n",
    "plt.pie(y_freq, labels=y_freq.index)\n",
    "plt.show() "
   ]
  },
  {
   "cell_type": "markdown",
   "metadata": {},
   "source": [
    "### Modeling using Logit"
   ]
  },
  {
   "cell_type": "markdown",
   "metadata": {
    "heading_collapsed": true
   },
   "source": [
    "#### Step 1: Model Diagnostics - start with all features"
   ]
  },
  {
   "cell_type": "code",
   "execution_count": 70,
   "metadata": {
    "hidden": true
   },
   "outputs": [
    {
     "name": "stdout",
     "output_type": "stream",
     "text": [
      "Optimization terminated successfully.\n",
      "         Current function value: 0.559760\n",
      "         Iterations 6\n"
     ]
    }
   ],
   "source": [
    "# Considering the dependent and independent variables\n",
    "# We will use X_cost (all features with constant term considered for Logit) and y\n",
    "\n",
    "model_LogReg = sm.Logit(y, X_const).fit()"
   ]
  },
  {
   "cell_type": "code",
   "execution_count": 71,
   "metadata": {
    "hidden": true
   },
   "outputs": [
    {
     "name": "stdout",
     "output_type": "stream",
     "text": [
      "                              Results: Logit\n",
      "===========================================================================\n",
      "Model:                  Logit               Pseudo R-squared:    0.084     \n",
      "Dependent Variable:     Risk                AIC:                 1159.5198 \n",
      "Date:                   2022-09-15 15:45    BIC:                 1257.6749 \n",
      "No. Observations:       1000                Log-Likelihood:      -559.76   \n",
      "Df Model:               19                  LL-Null:             -610.86   \n",
      "Df Residuals:           980                 LLR p-value:         2.1281e-13\n",
      "Converged:              1.0000              Scale:               1.0000    \n",
      "No. Iterations:         6.0000                                             \n",
      "---------------------------------------------------------------------------\n",
      "                             Coef.  Std.Err.    z    P>|z|   [0.025  0.975]\n",
      "---------------------------------------------------------------------------\n",
      "const                        0.0698   0.5645  0.1236 0.9016 -1.0366  1.1762\n",
      "Age                         -0.0181   0.0073 -2.4768 0.0133 -0.0324 -0.0038\n",
      "Job                         -0.0387   0.1185 -0.3262 0.7443 -0.2709  0.1936\n",
      "CreditAmount                 0.0000   0.0000  0.2967 0.7667 -0.0001  0.0001\n",
      "Duration                     0.0359   0.0077  4.6397 0.0000  0.0207  0.0511\n",
      "Sex_male                    -0.3556   0.1630 -2.1822 0.0291 -0.6750 -0.0362\n",
      "Housing_own                 -0.5053   0.2445 -2.0668 0.0388 -0.9845 -0.0261\n",
      "Housing_rent                -0.0634   0.2935 -0.2161 0.8289 -0.6386  0.5118\n",
      "SavingAccounts_moderate     -0.0681   0.2276 -0.2992 0.7648 -0.5142  0.3780\n",
      "SavingAccounts_quite rich   -0.6614   0.3041 -2.1749 0.0296 -1.2574 -0.0654\n",
      "SavingAccounts_rich         -0.7731   0.3817 -2.0253 0.0428 -1.5212 -0.0249\n",
      "CheckingAccount_moderate    -0.3266   0.1583 -2.0632 0.0391 -0.6368 -0.0163\n",
      "CheckingAccount_rich        -0.7228   0.2784 -2.5959 0.0094 -1.2685 -0.1771\n",
      "Purpose_car                 -0.0681   0.2653 -0.2567 0.7974 -0.5881  0.4519\n",
      "Purpose_domestic appliances  0.0867   0.6926  0.1252 0.9003 -1.2707  1.4442\n",
      "Purpose_education            0.2902   0.3704  0.7833 0.4334 -0.4359  1.0162\n",
      "Purpose_furniture/equipment -0.0728   0.2914 -0.2498 0.8027 -0.6439  0.4983\n",
      "Purpose_radio/TV            -0.4626   0.2776 -1.6662 0.0957 -1.0068  0.0815\n",
      "Purpose_repairs              0.3553   0.5176  0.6865 0.4924 -0.6592  1.3698\n",
      "Purpose_vacation/others     -0.0098   0.6703 -0.0147 0.9883 -1.3236  1.3039\n",
      "===========================================================================\n",
      "\n"
     ]
    }
   ],
   "source": [
    "print(model_LogReg.summary2())"
   ]
  },
  {
   "cell_type": "code",
   "execution_count": 72,
   "metadata": {
    "hidden": true
   },
   "outputs": [
    {
     "data": {
      "text/plain": [
       "2.1281318530268376e-13"
      ]
     },
     "execution_count": 72,
     "metadata": {},
     "output_type": "execute_result"
    }
   ],
   "source": [
    "# LLR p-value for Overall Model Significance\n",
    "model_LogReg.llr_pvalue"
   ]
  },
  {
   "cell_type": "code",
   "execution_count": 73,
   "metadata": {
    "hidden": true
   },
   "outputs": [],
   "source": [
    "def get_significant_vars(model, alpha=0.05):\n",
    "    \n",
    "    #store the variable and p-values in a dataframe\n",
    "    p_vals = pd.DataFrame(model.pvalues)  \n",
    "    p_vals['vars'] = p_vals.index\n",
    "    p_vals.columns = ['pval', 'name']\n",
    "    \n",
    "    #return those that are significant at alpha value\n",
    "    return list(p_vals[p_vals.pval <= alpha]['name'])"
   ]
  },
  {
   "cell_type": "code",
   "execution_count": 74,
   "metadata": {
    "hidden": true
   },
   "outputs": [],
   "source": [
    "significant_vars = get_significant_vars(model_LogReg)"
   ]
  },
  {
   "cell_type": "code",
   "execution_count": 75,
   "metadata": {
    "hidden": true
   },
   "outputs": [
    {
     "data": {
      "text/plain": [
       "['Age',\n",
       " 'Duration',\n",
       " 'Sex_male',\n",
       " 'Housing_own',\n",
       " 'SavingAccounts_quite rich',\n",
       " 'SavingAccounts_rich',\n",
       " 'CheckingAccount_moderate',\n",
       " 'CheckingAccount_rich']"
      ]
     },
     "execution_count": 75,
     "metadata": {},
     "output_type": "execute_result"
    }
   ],
   "source": [
    "significant_vars"
   ]
  },
  {
   "cell_type": "markdown",
   "metadata": {
    "hidden": true
   },
   "source": [
    "LLR p-value < 0.05 indicates Overall Model is Significant.\n",
    "\n",
    "Some of the individual features are not statistically significant. We can remove features that are not significant and select specific features retrain our model."
   ]
  },
  {
   "cell_type": "markdown",
   "metadata": {
    "heading_collapsed": true
   },
   "source": [
    "#### Step 2: Model Diagnostics - with selected features"
   ]
  },
  {
   "cell_type": "code",
   "execution_count": 79,
   "metadata": {
    "hidden": true
   },
   "outputs": [],
   "source": [
    "# Defining the dependent and independent variables\n",
    "X_refined = X[significant_vars]\n",
    "\n",
    "X_const_refined = sm.add_constant(X_refined)"
   ]
  },
  {
   "cell_type": "code",
   "execution_count": 80,
   "metadata": {
    "hidden": true
   },
   "outputs": [
    {
     "name": "stdout",
     "output_type": "stream",
     "text": [
      "Optimization terminated successfully.\n",
      "         Current function value: 0.564573\n",
      "         Iterations 6\n"
     ]
    }
   ],
   "source": [
    "model_LogReg_modified = sm.Logit(y, X_const_refined).fit()"
   ]
  },
  {
   "cell_type": "code",
   "execution_count": 81,
   "metadata": {
    "hidden": true
   },
   "outputs": [
    {
     "name": "stdout",
     "output_type": "stream",
     "text": [
      "                             Results: Logit\n",
      "=========================================================================\n",
      "Model:                  Logit              Pseudo R-squared:   0.076     \n",
      "Dependent Variable:     Risk               AIC:                1147.1453 \n",
      "Date:                   2022-09-15 15:47   BIC:                1191.3151 \n",
      "No. Observations:       1000               Log-Likelihood:     -564.57   \n",
      "Df Model:               8                  LL-Null:            -610.86   \n",
      "Df Residuals:           991                LLR p-value:        1.3886e-16\n",
      "Converged:              1.0000             Scale:              1.0000    \n",
      "No. Iterations:         6.0000                                           \n",
      "-------------------------------------------------------------------------\n",
      "                           Coef.  Std.Err.    z    P>|z|   [0.025  0.975]\n",
      "-------------------------------------------------------------------------\n",
      "const                     -0.2255   0.3051 -0.7393 0.4597 -0.8234  0.3724\n",
      "Age                       -0.0155   0.0068 -2.2945 0.0218 -0.0288 -0.0023\n",
      "Duration                   0.0373   0.0059  6.3211 0.0000  0.0257  0.0488\n",
      "Sex_male                  -0.3532   0.1587 -2.2257 0.0260 -0.6643 -0.0422\n",
      "Housing_own               -0.5179   0.1556 -3.3287 0.0009 -0.8229 -0.2130\n",
      "SavingAccounts_quite rich -0.6779   0.2996 -2.2628 0.0236 -1.2650 -0.0907\n",
      "SavingAccounts_rich       -0.7559   0.3794 -1.9925 0.0463 -1.4994 -0.0124\n",
      "CheckingAccount_moderate  -0.3235   0.1527 -2.1186 0.0341 -0.6227 -0.0242\n",
      "CheckingAccount_rich      -0.7816   0.2748 -2.8442 0.0045 -1.3202 -0.2430\n",
      "=========================================================================\n",
      "\n"
     ]
    }
   ],
   "source": [
    "print(model_LogReg_modified.summary2())"
   ]
  },
  {
   "cell_type": "markdown",
   "metadata": {
    "hidden": true
   },
   "source": [
    "Since all features seem to be statistically significant, we can go ahead with this as final model.\n",
    "\n",
    "LLR (Log Likelhood Ratio p-value) indicates Overall Model is significant and we can go ahead with this."
   ]
  },
  {
   "cell_type": "markdown",
   "metadata": {
    "heading_collapsed": true
   },
   "source": [
    "#### Step 3: Final Model"
   ]
  },
  {
   "cell_type": "code",
   "execution_count": 82,
   "metadata": {
    "hidden": true
   },
   "outputs": [
    {
     "name": "stdout",
     "output_type": "stream",
     "text": [
      "                             Results: Logit\n",
      "=========================================================================\n",
      "Model:                  Logit              Pseudo R-squared:   0.076     \n",
      "Dependent Variable:     Risk               AIC:                1147.1453 \n",
      "Date:                   2022-09-15 15:48   BIC:                1191.3151 \n",
      "No. Observations:       1000               Log-Likelihood:     -564.57   \n",
      "Df Model:               8                  LL-Null:            -610.86   \n",
      "Df Residuals:           991                LLR p-value:        1.3886e-16\n",
      "Converged:              1.0000             Scale:              1.0000    \n",
      "No. Iterations:         6.0000                                           \n",
      "-------------------------------------------------------------------------\n",
      "                           Coef.  Std.Err.    z    P>|z|   [0.025  0.975]\n",
      "-------------------------------------------------------------------------\n",
      "const                     -0.2255   0.3051 -0.7393 0.4597 -0.8234  0.3724\n",
      "Age                       -0.0155   0.0068 -2.2945 0.0218 -0.0288 -0.0023\n",
      "Duration                   0.0373   0.0059  6.3211 0.0000  0.0257  0.0488\n",
      "Sex_male                  -0.3532   0.1587 -2.2257 0.0260 -0.6643 -0.0422\n",
      "Housing_own               -0.5179   0.1556 -3.3287 0.0009 -0.8229 -0.2130\n",
      "SavingAccounts_quite rich -0.6779   0.2996 -2.2628 0.0236 -1.2650 -0.0907\n",
      "SavingAccounts_rich       -0.7559   0.3794 -1.9925 0.0463 -1.4994 -0.0124\n",
      "CheckingAccount_moderate  -0.3235   0.1527 -2.1186 0.0341 -0.6227 -0.0242\n",
      "CheckingAccount_rich      -0.7816   0.2748 -2.8442 0.0045 -1.3202 -0.2430\n",
      "=========================================================================\n",
      "\n"
     ]
    }
   ],
   "source": [
    "print(model_LogReg_modified.summary2())"
   ]
  },
  {
   "cell_type": "code",
   "execution_count": 83,
   "metadata": {
    "hidden": true
   },
   "outputs": [
    {
     "data": {
      "text/plain": [
       "const                        0.305059\n",
       "Age                          0.006777\n",
       "Duration                     0.005897\n",
       "Sex_male                     0.158713\n",
       "Housing_own                  0.155597\n",
       "SavingAccounts_quite rich    0.299571\n",
       "SavingAccounts_rich          0.379364\n",
       "CheckingAccount_moderate     0.152682\n",
       "CheckingAccount_rich         0.274796\n",
       "dtype: float64"
      ]
     },
     "execution_count": 83,
     "metadata": {},
     "output_type": "execute_result"
    }
   ],
   "source": [
    "# standard error\n",
    "model_LogReg_modified.bse"
   ]
  },
  {
   "cell_type": "markdown",
   "metadata": {
    "heading_collapsed": true
   },
   "source": [
    "#### Answer BQs"
   ]
  },
  {
   "cell_type": "code",
   "execution_count": 84,
   "metadata": {
    "hidden": true
   },
   "outputs": [],
   "source": [
    "# Defining the dependent and independent variables\n",
    "X = df_encoded[['Age', 'Duration','Sex_male', 'Housing_own','CheckingAccount_moderate', 'CheckingAccount_rich']]\n",
    "\n",
    "# Add constant term\n",
    "X_const = sm.add_constant(X)"
   ]
  },
  {
   "cell_type": "code",
   "execution_count": 85,
   "metadata": {
    "hidden": true
   },
   "outputs": [
    {
     "name": "stdout",
     "output_type": "stream",
     "text": [
      "Optimization terminated successfully.\n",
      "         Current function value: 0.569370\n",
      "         Iterations 6\n"
     ]
    }
   ],
   "source": [
    "model_LR_for_BQ = sm.Logit(y, X_const).fit()"
   ]
  },
  {
   "cell_type": "code",
   "execution_count": 86,
   "metadata": {
    "hidden": true
   },
   "outputs": [
    {
     "name": "stdout",
     "output_type": "stream",
     "text": [
      "                             Results: Logit\n",
      "========================================================================\n",
      "Model:                 Logit              Pseudo R-squared:   0.068     \n",
      "Dependent Variable:    Risk               AIC:                1152.7400 \n",
      "Date:                  2022-09-15 15:49   BIC:                1187.0942 \n",
      "No. Observations:      1000               Log-Likelihood:     -569.37   \n",
      "Df Model:              6                  LL-Null:            -610.86   \n",
      "Df Residuals:          993                LLR p-value:        8.6122e-16\n",
      "Converged:             1.0000             Scale:              1.0000    \n",
      "No. Iterations:        6.0000                                           \n",
      "------------------------------------------------------------------------\n",
      "                          Coef.  Std.Err.    z    P>|z|   [0.025  0.975]\n",
      "------------------------------------------------------------------------\n",
      "const                    -0.3033   0.3024 -1.0027 0.3160 -0.8960  0.2895\n",
      "Age                      -0.0162   0.0068 -2.3935 0.0167 -0.0294 -0.0029\n",
      "Duration                  0.0377   0.0059  6.4260 0.0000  0.0262  0.0491\n",
      "Sex_male                 -0.3285   0.1575 -2.0858 0.0370 -0.6372 -0.0198\n",
      "Housing_own              -0.5210   0.1547 -3.3670 0.0008 -0.8243 -0.2177\n",
      "CheckingAccount_moderate -0.3374   0.1515 -2.2266 0.0260 -0.6344 -0.0404\n",
      "CheckingAccount_rich     -0.8113   0.2731 -2.9708 0.0030 -1.3465 -0.2760\n",
      "========================================================================\n",
      "\n"
     ]
    }
   ],
   "source": [
    "print(model_LR_for_BQ.summary2())"
   ]
  },
  {
   "cell_type": "markdown",
   "metadata": {
    "hidden": true
   },
   "source": [
    "**1) Find the probability that a customer will have bad credit risk profile considering male, owns housing and rich status as per checking accounts?**\n",
    "\n",
    "log (p / 1-p) = -0.3033 - 0.3285 * 1 - 0.5210 * 1 - 0.8113 * 1\n",
    "              = -1.9638\n",
    "              \n",
    "=> p / 1-p = exp (-1.9638) = 0.1403\n",
    "\n",
    "=> 1.1403p = 0.1403\n",
    "\n",
    "=> p = 12.3%"
   ]
  },
  {
   "cell_type": "markdown",
   "metadata": {
    "hidden": true
   },
   "source": [
    "**Therefore, we can infer - Male Customer who owns housing and is having \"rich\" status as per checking accounts has a probability of default or credit risk of 12.3%**\n",
    "\n",
    "Similarly we can provide interpretation for any situations.\n",
    "\n",
    "The computations are captured below which are used above."
   ]
  },
  {
   "cell_type": "code",
   "execution_count": 87,
   "metadata": {
    "hidden": true
   },
   "outputs": [
    {
     "data": {
      "text/plain": [
       "-1.9638"
      ]
     },
     "execution_count": 87,
     "metadata": {},
     "output_type": "execute_result"
    }
   ],
   "source": [
    "-0.303 - 0.3285 * 1 - 0.5210 * 1 - 0.8113 * 1"
   ]
  },
  {
   "cell_type": "code",
   "execution_count": 88,
   "metadata": {
    "hidden": true
   },
   "outputs": [
    {
     "data": {
      "text/plain": [
       "0.14032417463236974"
      ]
     },
     "execution_count": 88,
     "metadata": {},
     "output_type": "execute_result"
    }
   ],
   "source": [
    "np.exp(-1.9638)"
   ]
  },
  {
   "cell_type": "code",
   "execution_count": 89,
   "metadata": {
    "hidden": true
   },
   "outputs": [
    {
     "data": {
      "text/plain": [
       "0.12303779707094624"
      ]
     },
     "execution_count": 89,
     "metadata": {},
     "output_type": "execute_result"
    }
   ],
   "source": [
    "0.1403/1.1403"
   ]
  },
  {
   "cell_type": "markdown",
   "metadata": {
    "hidden": true
   },
   "source": [
    "**2) Find the probability that a customer will have bad credit risk profile considering female, owns housing and rich status as per checking accounts?**\n",
    "\n",
    "log (p / 1-p) = -0.303 - 0.3285 * 0 - 0.5210 * 1 - 0.8113 * 1\n",
    "              = -1.6353\n",
    "              \n",
    "=> p = 16.31%"
   ]
  },
  {
   "cell_type": "code",
   "execution_count": 90,
   "metadata": {
    "hidden": true
   },
   "outputs": [
    {
     "data": {
      "text/plain": [
       "-1.6353"
      ]
     },
     "execution_count": 90,
     "metadata": {},
     "output_type": "execute_result"
    }
   ],
   "source": [
    "-0.303 - 0.3285 * 0 - 0.5210 * 1 - 0.8113 * 1"
   ]
  },
  {
   "cell_type": "code",
   "execution_count": 91,
   "metadata": {
    "hidden": true
   },
   "outputs": [
    {
     "data": {
      "text/plain": [
       "0.19489389435977222"
      ]
     },
     "execution_count": 91,
     "metadata": {},
     "output_type": "execute_result"
    }
   ],
   "source": [
    "np.exp(-1.6353)"
   ]
  },
  {
   "cell_type": "code",
   "execution_count": 92,
   "metadata": {
    "hidden": true
   },
   "outputs": [
    {
     "data": {
      "text/plain": [
       "0.1631098836722738"
      ]
     },
     "execution_count": 92,
     "metadata": {},
     "output_type": "execute_result"
    }
   ],
   "source": [
    ".1949/1.1949"
   ]
  },
  {
   "cell_type": "markdown",
   "metadata": {
    "hidden": true
   },
   "source": [
    "That's all!!\n",
    "\n",
    "We can use sklearn family's LogisticRegression and predict risk for new users."
   ]
  },
  {
   "cell_type": "code",
   "execution_count": null,
   "metadata": {
    "hidden": true
   },
   "outputs": [],
   "source": []
  }
 ],
 "metadata": {
  "kernelspec": {
   "display_name": "Python 3",
   "language": "python",
   "name": "python3"
  },
  "language_info": {
   "codemirror_mode": {
    "name": "ipython",
    "version": 3
   },
   "file_extension": ".py",
   "mimetype": "text/x-python",
   "name": "python",
   "nbconvert_exporter": "python",
   "pygments_lexer": "ipython3",
   "version": "3.8.5"
  }
 },
 "nbformat": 4,
 "nbformat_minor": 4
}
