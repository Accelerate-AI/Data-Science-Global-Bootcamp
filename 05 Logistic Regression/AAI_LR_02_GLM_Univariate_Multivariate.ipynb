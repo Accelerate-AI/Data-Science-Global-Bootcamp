{
 "cells": [
  {
   "cell_type": "markdown",
   "metadata": {},
   "source": [
    "# AccelerateAI: Logistic Regression"
   ]
  },
  {
   "cell_type": "markdown",
   "metadata": {},
   "source": [
    "## Generalized Linear Model"
   ]
  },
  {
   "cell_type": "markdown",
   "metadata": {},
   "source": [
    "* Simple Generalized Linear Model using statsmodels\n",
    "* For Univariate and Multivariate analysis\n",
    "* Dataset reference: diabetes data from UCI ML (https://archive.ics.uci.edu/ml/index.php)"
   ]
  },
  {
   "cell_type": "code",
   "execution_count": 1,
   "metadata": {},
   "outputs": [],
   "source": [
    "import numpy as np\n",
    "import pandas as pd\n",
    "import statsmodels.api as sm\n",
    "from scipy import stats\n",
    "\n",
    "# A jupyter notebook specific command that let’s you see the plots in the notbook itself.\n",
    "%matplotlib inline \n",
    "\n",
    "import warnings\n",
    "warnings.filterwarnings('ignore')"
   ]
  },
  {
   "cell_type": "code",
   "execution_count": 2,
   "metadata": {},
   "outputs": [
    {
     "data": {
      "text/plain": [
       "(768, 9)"
      ]
     },
     "execution_count": 2,
     "metadata": {},
     "output_type": "execute_result"
    }
   ],
   "source": [
    "df = pd.read_csv(\"C:/Users/mishr/Desktop/Notebooks/data/diabetes.csv\")\n",
    "\n",
    "df.shape"
   ]
  },
  {
   "cell_type": "code",
   "execution_count": 3,
   "metadata": {},
   "outputs": [
    {
     "data": {
      "text/html": [
       "<div>\n",
       "<style scoped>\n",
       "    .dataframe tbody tr th:only-of-type {\n",
       "        vertical-align: middle;\n",
       "    }\n",
       "\n",
       "    .dataframe tbody tr th {\n",
       "        vertical-align: top;\n",
       "    }\n",
       "\n",
       "    .dataframe thead th {\n",
       "        text-align: right;\n",
       "    }\n",
       "</style>\n",
       "<table border=\"1\" class=\"dataframe\">\n",
       "  <thead>\n",
       "    <tr style=\"text-align: right;\">\n",
       "      <th></th>\n",
       "      <th>Pregnancies</th>\n",
       "      <th>Glucose</th>\n",
       "      <th>BloodPressure</th>\n",
       "      <th>SkinThickness</th>\n",
       "      <th>Insulin</th>\n",
       "      <th>BMI</th>\n",
       "      <th>DiabetesPedigreeFunction</th>\n",
       "      <th>Age</th>\n",
       "      <th>Outcome</th>\n",
       "    </tr>\n",
       "  </thead>\n",
       "  <tbody>\n",
       "    <tr>\n",
       "      <th>0</th>\n",
       "      <td>6</td>\n",
       "      <td>148</td>\n",
       "      <td>72</td>\n",
       "      <td>35</td>\n",
       "      <td>0</td>\n",
       "      <td>33.6</td>\n",
       "      <td>0.627</td>\n",
       "      <td>50</td>\n",
       "      <td>1</td>\n",
       "    </tr>\n",
       "    <tr>\n",
       "      <th>1</th>\n",
       "      <td>1</td>\n",
       "      <td>85</td>\n",
       "      <td>66</td>\n",
       "      <td>29</td>\n",
       "      <td>0</td>\n",
       "      <td>26.6</td>\n",
       "      <td>0.351</td>\n",
       "      <td>31</td>\n",
       "      <td>0</td>\n",
       "    </tr>\n",
       "    <tr>\n",
       "      <th>2</th>\n",
       "      <td>8</td>\n",
       "      <td>183</td>\n",
       "      <td>64</td>\n",
       "      <td>0</td>\n",
       "      <td>0</td>\n",
       "      <td>23.3</td>\n",
       "      <td>0.672</td>\n",
       "      <td>32</td>\n",
       "      <td>1</td>\n",
       "    </tr>\n",
       "    <tr>\n",
       "      <th>3</th>\n",
       "      <td>1</td>\n",
       "      <td>89</td>\n",
       "      <td>66</td>\n",
       "      <td>23</td>\n",
       "      <td>94</td>\n",
       "      <td>28.1</td>\n",
       "      <td>0.167</td>\n",
       "      <td>21</td>\n",
       "      <td>0</td>\n",
       "    </tr>\n",
       "    <tr>\n",
       "      <th>4</th>\n",
       "      <td>0</td>\n",
       "      <td>137</td>\n",
       "      <td>40</td>\n",
       "      <td>35</td>\n",
       "      <td>168</td>\n",
       "      <td>43.1</td>\n",
       "      <td>2.288</td>\n",
       "      <td>33</td>\n",
       "      <td>1</td>\n",
       "    </tr>\n",
       "  </tbody>\n",
       "</table>\n",
       "</div>"
      ],
      "text/plain": [
       "   Pregnancies  Glucose  BloodPressure  SkinThickness  Insulin   BMI  \\\n",
       "0            6      148             72             35        0  33.6   \n",
       "1            1       85             66             29        0  26.6   \n",
       "2            8      183             64              0        0  23.3   \n",
       "3            1       89             66             23       94  28.1   \n",
       "4            0      137             40             35      168  43.1   \n",
       "\n",
       "   DiabetesPedigreeFunction  Age  Outcome  \n",
       "0                     0.627   50        1  \n",
       "1                     0.351   31        0  \n",
       "2                     0.672   32        1  \n",
       "3                     0.167   21        0  \n",
       "4                     2.288   33        1  "
      ]
     },
     "execution_count": 3,
     "metadata": {},
     "output_type": "execute_result"
    }
   ],
   "source": [
    "df.head(5)"
   ]
  },
  {
   "cell_type": "markdown",
   "metadata": {},
   "source": [
    "## Univariate: with one feature"
   ]
  },
  {
   "cell_type": "code",
   "execution_count": 4,
   "metadata": {},
   "outputs": [],
   "source": [
    "model = sm.GLM.from_formula(\"Outcome ~ Age\", family=sm.families.Binomial(), data=df)\n",
    "\n",
    "result = model.fit()"
   ]
  },
  {
   "cell_type": "code",
   "execution_count": 5,
   "metadata": {},
   "outputs": [
    {
     "name": "stdout",
     "output_type": "stream",
     "text": [
      "                 Generalized Linear Model Regression Results                  \n",
      "==============================================================================\n",
      "Dep. Variable:                Outcome   No. Observations:                  768\n",
      "Model:                            GLM   Df Residuals:                      766\n",
      "Model Family:                Binomial   Df Model:                            1\n",
      "Link Function:                  logit   Scale:                          1.0000\n",
      "Method:                          IRLS   Log-Likelihood:                -475.36\n",
      "Date:                Sat, 04 Jun 2022   Deviance:                       950.72\n",
      "Time:                        00:14:54   Pearson chi2:                     761.\n",
      "No. Iterations:                     4                                         \n",
      "Covariance Type:            nonrobust                                         \n",
      "==============================================================================\n",
      "                 coef    std err          z      P>|z|      [0.025      0.975]\n",
      "------------------------------------------------------------------------------\n",
      "Intercept     -2.0475      0.239     -8.572      0.000      -2.516      -1.579\n",
      "Age            0.0420      0.007      6.380      0.000       0.029       0.055\n",
      "==============================================================================\n"
     ]
    }
   ],
   "source": [
    "print(result.summary())"
   ]
  },
  {
   "cell_type": "markdown",
   "metadata": {},
   "source": [
    "Obviously, ```Age``` is an important feature and predictor of ```diabetes outcome``` as the p-value is less than 0.05\n",
    "\n",
    "\n",
    "Note:\n",
    "* IRLS - stands for Iteratively reweighted least squares. It is used to find maximum likelihood estimation of a GLM. It uses iterative method in which each step involves solving a WLS (Weighted Least Squares) problem. \n",
    "* For GLMs, there are 3 important fitting procedures which are closely connected: Newton-Raphson, Fisher Scoring, IRLS"
   ]
  },
  {
   "cell_type": "markdown",
   "metadata": {},
   "source": [
    "## Multivariate: with multiple features"
   ]
  },
  {
   "cell_type": "code",
   "execution_count": 6,
   "metadata": {},
   "outputs": [],
   "source": [
    "model = sm.GLM.from_formula(\"Outcome ~ Pregnancies + Glucose + BloodPressure + SkinThickness + Insulin + BMI + DiabetesPedigreeFunction + Age\", family=sm.families.Binomial(), data=df)\n",
    "\n",
    "result = model.fit()"
   ]
  },
  {
   "cell_type": "code",
   "execution_count": 7,
   "metadata": {},
   "outputs": [
    {
     "name": "stdout",
     "output_type": "stream",
     "text": [
      "                 Generalized Linear Model Regression Results                  \n",
      "==============================================================================\n",
      "Dep. Variable:                Outcome   No. Observations:                  768\n",
      "Model:                            GLM   Df Residuals:                      759\n",
      "Model Family:                Binomial   Df Model:                            8\n",
      "Link Function:                  logit   Scale:                          1.0000\n",
      "Method:                          IRLS   Log-Likelihood:                -361.72\n",
      "Date:                Sat, 04 Jun 2022   Deviance:                       723.45\n",
      "Time:                        00:14:54   Pearson chi2:                     836.\n",
      "No. Iterations:                     5                                         \n",
      "Covariance Type:            nonrobust                                         \n",
      "============================================================================================\n",
      "                               coef    std err          z      P>|z|      [0.025      0.975]\n",
      "--------------------------------------------------------------------------------------------\n",
      "Intercept                   -8.4047      0.717    -11.728      0.000      -9.809      -7.000\n",
      "Pregnancies                  0.1232      0.032      3.840      0.000       0.060       0.186\n",
      "Glucose                      0.0352      0.004      9.481      0.000       0.028       0.042\n",
      "BloodPressure               -0.0133      0.005     -2.540      0.011      -0.024      -0.003\n",
      "SkinThickness                0.0006      0.007      0.090      0.929      -0.013       0.014\n",
      "Insulin                     -0.0012      0.001     -1.322      0.186      -0.003       0.001\n",
      "BMI                          0.0897      0.015      5.945      0.000       0.060       0.119\n",
      "DiabetesPedigreeFunction     0.9452      0.299      3.160      0.002       0.359       1.531\n",
      "Age                          0.0149      0.009      1.593      0.111      -0.003       0.033\n",
      "============================================================================================\n"
     ]
    }
   ],
   "source": [
    "print(result.summary())"
   ]
  },
  {
   "cell_type": "markdown",
   "metadata": {},
   "source": [
    "* Looking at the p-values, the variables 'SkinThickness', 'Insulin', and 'age', seem to be insignificant predictors. All the other variables have their p-values smaller than 0.05, and are, therefore, significant.\n",
    "* The interpretation of the coefficients are understood from the logit perspective. In simple terms, it means that, for the output above, \n",
    "    * The log odds for 'diabetes Outcome' increases by 0.089 for each unit of 'BMI', \n",
    "    * The log odds for 'diabetes Outcome' increases by 0.035 for each unit of 'Glucose'\n",
    "    * The log odds for 'diabetes Outcome' increases by 0.015 for each unit of 'Age', and so on."
   ]
  },
  {
   "cell_type": "markdown",
   "metadata": {},
   "source": [
    "## Test for normality (Omnibus test)"
   ]
  },
  {
   "cell_type": "code",
   "execution_count": 8,
   "metadata": {},
   "outputs": [
    {
     "data": {
      "text/plain": [
       "Index(['Pregnancies', 'Glucose', 'BloodPressure', 'SkinThickness', 'Insulin',\n",
       "       'BMI', 'DiabetesPedigreeFunction', 'Age', 'Outcome'],\n",
       "      dtype='object')"
      ]
     },
     "execution_count": 8,
     "metadata": {},
     "output_type": "execute_result"
    }
   ],
   "source": [
    "df.columns"
   ]
  },
  {
   "cell_type": "code",
   "execution_count": 9,
   "metadata": {},
   "outputs": [
    {
     "name": "stdout",
     "output_type": "stream",
     "text": [
      "['Pregnancies']\n",
      "[80.16379459] [3.91429164e-18]\n",
      "The null hypothesis can be rejected\n",
      "['Glucose']\n",
      "[12.38505662] [0.00204465]\n",
      "The null hypothesis can be rejected\n",
      "['BloodPressure']\n",
      "[305.88688721] [3.78012708e-67]\n",
      "The null hypothesis can be rejected\n",
      "['SkinThickness']\n",
      "[17.34487054] [0.00017124]\n",
      "The null hypothesis can be rejected\n",
      "['Insulin']\n",
      "[387.57777337] [6.89534274e-85]\n",
      "The null hypothesis can be rejected\n",
      "['BMI']\n",
      "[86.14248429] [1.96968695e-19]\n",
      "The null hypothesis can be rejected\n",
      "['DiabetesPedigreeFunction']\n",
      "[321.83907808] [1.29876975e-70]\n",
      "The null hypothesis can be rejected\n",
      "['Age']\n",
      "[119.87763596] [9.30898004e-27]\n",
      "The null hypothesis can be rejected\n",
      "['Outcome']\n",
      "[4556.98719518] [0.]\n",
      "The null hypothesis can be rejected\n"
     ]
    }
   ],
   "source": [
    "alpha = 0.05\n",
    "for i in df.columns:\n",
    "    print([i])\n",
    "    a, b = stats.normaltest(df[[i]])\n",
    "    print(a,b)\n",
    "    if b < alpha:\n",
    "        print(\"The null hypothesis can be rejected\")\n",
    "    else:\n",
    "        print(\"The null hypothesis can not be rejected\")"
   ]
  },
  {
   "cell_type": "code",
   "execution_count": 10,
   "metadata": {},
   "outputs": [
    {
     "data": {
      "text/plain": [
       "<class 'statsmodels.stats.contrast.WaldTestResults'>\n",
       "                                chi2        P>chi2  df constraint\n",
       "Intercept                 137.545680  9.161142e-32              1\n",
       "Pregnancies                14.746678  1.229640e-04              1\n",
       "Glucose                    89.896822  2.509097e-21              1\n",
       "BloodPressure               6.453713  1.107207e-02              1\n",
       "SkinThickness               0.008048  9.285152e-01              1\n",
       "Insulin                     1.748502  1.860652e-01              1\n",
       "BMI                        35.346996  2.758937e-09              1\n",
       "DiabetesPedigreeFunction    9.982933  1.579978e-03              1\n",
       "Age                         2.537198  1.111920e-01              1"
      ]
     },
     "execution_count": 10,
     "metadata": {},
     "output_type": "execute_result"
    }
   ],
   "source": [
    "result.wald_test_terms()"
   ]
  },
  {
   "cell_type": "code",
   "execution_count": null,
   "metadata": {},
   "outputs": [],
   "source": []
  }
 ],
 "metadata": {
  "kernelspec": {
   "display_name": "Python 3",
   "language": "python",
   "name": "python3"
  },
  "language_info": {
   "codemirror_mode": {
    "name": "ipython",
    "version": 3
   },
   "file_extension": ".py",
   "mimetype": "text/x-python",
   "name": "python",
   "nbconvert_exporter": "python",
   "pygments_lexer": "ipython3",
   "version": "3.8.5"
  }
 },
 "nbformat": 4,
 "nbformat_minor": 4
}
