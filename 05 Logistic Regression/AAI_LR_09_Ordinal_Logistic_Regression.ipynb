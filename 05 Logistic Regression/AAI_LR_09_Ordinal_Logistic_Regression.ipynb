{
 "cells": [
  {
   "cell_type": "markdown",
   "metadata": {},
   "source": [
    "# AccelerateAI: Ordinal Logistic Regression"
   ]
  },
  {
   "cell_type": "markdown",
   "metadata": {},
   "source": [
    "**Dataset:**\n",
    "* We will use a stata data file to load from the UCLA website. This is a simulated dataset to help understand various aspects of Ordinal Logistic Regression. This notebook is inspired by https://stats.idre.ucla.edu/r/dae/ordinal-logistic-regression/ which is a R notebook from UCLA.\n",
    "    * Objective: Probability for undergraduate students to apply to graduate school.\n",
    "    * Exog Variables:\n",
    "        * gpa – Grade Point Average, 0-4\n",
    "        * pared – Flag on Parent Education: whether at least one parent went to graduate school, 0 or 1\n",
    "        * public – Flag which indicates student’s undergraduate institution is public or private: 1=public and 0=private\n",
    "    * Endog Variable:\n",
    "        * apply – ordered categories (unlikely, somewhat likely, very likely)\n",
    "\n",
    "**Coverage:**\n",
    "* Ordinal Probit Regression\n",
    "* Ordinal Logit Regression\n"
   ]
  },
  {
   "cell_type": "markdown",
   "metadata": {},
   "source": [
    "## Ordinal Regression"
   ]
  },
  {
   "cell_type": "code",
   "execution_count": 1,
   "metadata": {},
   "outputs": [],
   "source": [
    "import numpy as np\n",
    "import pandas as pd\n",
    "import scipy.stats as stats\n",
    "\n",
    "from statsmodels.miscmodels.ordinal_model import OrderedModel\n",
    "\n",
    "import warnings\n",
    "warnings.filterwarnings('ignore')"
   ]
  },
  {
   "cell_type": "code",
   "execution_count": 2,
   "metadata": {},
   "outputs": [],
   "source": [
    "url = \"https://stats.idre.ucla.edu/stat/data/ologit.dta\"\n",
    "df = pd.read_stata(url)"
   ]
  },
  {
   "cell_type": "code",
   "execution_count": 3,
   "metadata": {},
   "outputs": [
    {
     "data": {
      "text/html": [
       "<div>\n",
       "<style scoped>\n",
       "    .dataframe tbody tr th:only-of-type {\n",
       "        vertical-align: middle;\n",
       "    }\n",
       "\n",
       "    .dataframe tbody tr th {\n",
       "        vertical-align: top;\n",
       "    }\n",
       "\n",
       "    .dataframe thead th {\n",
       "        text-align: right;\n",
       "    }\n",
       "</style>\n",
       "<table border=\"1\" class=\"dataframe\">\n",
       "  <thead>\n",
       "    <tr style=\"text-align: right;\">\n",
       "      <th></th>\n",
       "      <th>apply</th>\n",
       "      <th>pared</th>\n",
       "      <th>public</th>\n",
       "      <th>gpa</th>\n",
       "    </tr>\n",
       "  </thead>\n",
       "  <tbody>\n",
       "    <tr>\n",
       "      <th>0</th>\n",
       "      <td>very likely</td>\n",
       "      <td>0</td>\n",
       "      <td>0</td>\n",
       "      <td>3.26</td>\n",
       "    </tr>\n",
       "    <tr>\n",
       "      <th>1</th>\n",
       "      <td>somewhat likely</td>\n",
       "      <td>1</td>\n",
       "      <td>0</td>\n",
       "      <td>3.21</td>\n",
       "    </tr>\n",
       "    <tr>\n",
       "      <th>2</th>\n",
       "      <td>unlikely</td>\n",
       "      <td>1</td>\n",
       "      <td>1</td>\n",
       "      <td>3.94</td>\n",
       "    </tr>\n",
       "    <tr>\n",
       "      <th>3</th>\n",
       "      <td>somewhat likely</td>\n",
       "      <td>0</td>\n",
       "      <td>0</td>\n",
       "      <td>2.81</td>\n",
       "    </tr>\n",
       "    <tr>\n",
       "      <th>4</th>\n",
       "      <td>somewhat likely</td>\n",
       "      <td>0</td>\n",
       "      <td>0</td>\n",
       "      <td>2.53</td>\n",
       "    </tr>\n",
       "  </tbody>\n",
       "</table>\n",
       "</div>"
      ],
      "text/plain": [
       "             apply  pared  public   gpa\n",
       "0      very likely      0       0  3.26\n",
       "1  somewhat likely      1       0  3.21\n",
       "2         unlikely      1       1  3.94\n",
       "3  somewhat likely      0       0  2.81\n",
       "4  somewhat likely      0       0  2.53"
      ]
     },
     "execution_count": 3,
     "metadata": {},
     "output_type": "execute_result"
    }
   ],
   "source": [
    "df.head(5)"
   ]
  },
  {
   "cell_type": "code",
   "execution_count": 4,
   "metadata": {},
   "outputs": [
    {
     "data": {
      "text/plain": [
       "(400, 4)"
      ]
     },
     "execution_count": 4,
     "metadata": {},
     "output_type": "execute_result"
    }
   ],
   "source": [
    "df.shape"
   ]
  },
  {
   "cell_type": "code",
   "execution_count": 5,
   "metadata": {},
   "outputs": [
    {
     "data": {
      "text/plain": [
       "CategoricalDtype(categories=['unlikely', 'somewhat likely', 'very likely'], ordered=True)"
      ]
     },
     "execution_count": 5,
     "metadata": {},
     "output_type": "execute_result"
    }
   ],
   "source": [
    "df['apply'].dtype"
   ]
  },
  {
   "cell_type": "code",
   "execution_count": 6,
   "metadata": {},
   "outputs": [
    {
     "data": {
      "text/plain": [
       "unlikely           220\n",
       "somewhat likely    140\n",
       "very likely         40\n",
       "Name: apply, dtype: int64"
      ]
     },
     "execution_count": 6,
     "metadata": {},
     "output_type": "execute_result"
    }
   ],
   "source": [
    "df['apply'].value_counts()"
   ]
  },
  {
   "cell_type": "markdown",
   "metadata": {},
   "source": [
    "## 1. Ordinal Probit Regression"
   ]
  },
  {
   "cell_type": "code",
   "execution_count": 7,
   "metadata": {},
   "outputs": [
    {
     "name": "stdout",
     "output_type": "stream",
     "text": [
      "Optimization terminated successfully.\n",
      "         Current function value: 0.896869\n",
      "         Iterations: 17\n",
      "         Function evaluations: 21\n",
      "         Gradient evaluations: 21\n"
     ]
    }
   ],
   "source": [
    "model_OrdinalProbit = OrderedModel(df['apply'],\n",
    "                        df[['pared', 'public', 'gpa']],\n",
    "                        distr='probit')                    # Distribution instance\n",
    "\n",
    "result_OrdinalProbit = model_OrdinalProbit.fit(method='bfgs')                     # Broyden-Fletcher-Goldfarb-Shanno (BFGS)"
   ]
  },
  {
   "cell_type": "code",
   "execution_count": 8,
   "metadata": {},
   "outputs": [
    {
     "name": "stdout",
     "output_type": "stream",
     "text": [
      "                             OrderedModel Results                             \n",
      "==============================================================================\n",
      "Dep. Variable:                  apply   Log-Likelihood:                -358.75\n",
      "Model:                   OrderedModel   AIC:                             727.5\n",
      "Method:            Maximum Likelihood   BIC:                             747.5\n",
      "Date:                Sat, 17 Sep 2022                                         \n",
      "Time:                        11:53:12                                         \n",
      "No. Observations:                 400                                         \n",
      "Df Residuals:                     395                                         \n",
      "Df Model:                           5                                         \n",
      "===============================================================================================\n",
      "                                  coef    std err          z      P>|z|      [0.025      0.975]\n",
      "-----------------------------------------------------------------------------------------------\n",
      "pared                           0.5981      0.158      3.789      0.000       0.289       0.908\n",
      "public                          0.0102      0.173      0.059      0.953      -0.329       0.349\n",
      "gpa                             0.3582      0.157      2.285      0.022       0.051       0.665\n",
      "unlikely/somewhat likely        1.2968      0.468      2.774      0.006       0.381       2.213\n",
      "somewhat likely/very likely     0.1873      0.074      2.530      0.011       0.042       0.332\n",
      "===============================================================================================\n"
     ]
    }
   ],
   "source": [
    "print(result_OrdinalProbit.summary())"
   ]
  },
  {
   "cell_type": "markdown",
   "metadata": {},
   "source": [
    "* We have 3 coefficients that need to be estimated\n",
    "    * Those 3 estimations and their standard errors can be retrieved in the summary table\n",
    "* Since there are 3 categories in the target variable(unlikely, somewhat likely, very likely), we have two thresholds to estimate.\n",
    "    * The first estimated threshold is the actual value\n",
    "    * All the other thresholds are in terms of cumulative exponentiated increments\n",
    "    * Actual threshold can be computed with the transform_threshold_params method as well which is pre-built"
   ]
  },
  {
   "cell_type": "code",
   "execution_count": 9,
   "metadata": {},
   "outputs": [
    {
     "data": {
      "text/plain": [
       "array([      -inf, 1.2968454 , 2.50285885,        inf])"
      ]
     },
     "execution_count": 9,
     "metadata": {},
     "output_type": "execute_result"
    }
   ],
   "source": [
    "# Actual Threshold values\n",
    "num_of_thresholds = 2\n",
    "model_OrdinalProbit.transform_threshold_params(result_OrdinalProbit.params[num_of_thresholds:])"
   ]
  },
  {
   "cell_type": "code",
   "execution_count": 10,
   "metadata": {},
   "outputs": [
    {
     "data": {
      "text/plain": [
       "2.502789027494093"
      ]
     },
     "execution_count": 10,
     "metadata": {},
     "output_type": "execute_result"
    }
   ],
   "source": [
    "# Exponentiated Increment can be added from 2nd threshold value onwards\n",
    "1.2968 + np.exp(0.1873)"
   ]
  },
  {
   "cell_type": "markdown",
   "metadata": {},
   "source": [
    "### Interpretation of result - Scenario1"
   ]
  },
  {
   "cell_type": "code",
   "execution_count": 11,
   "metadata": {},
   "outputs": [
    {
     "data": {
      "text/html": [
       "<div>\n",
       "<style scoped>\n",
       "    .dataframe tbody tr th:only-of-type {\n",
       "        vertical-align: middle;\n",
       "    }\n",
       "\n",
       "    .dataframe tbody tr th {\n",
       "        vertical-align: top;\n",
       "    }\n",
       "\n",
       "    .dataframe thead th {\n",
       "        text-align: right;\n",
       "    }\n",
       "</style>\n",
       "<table border=\"1\" class=\"dataframe\">\n",
       "  <thead>\n",
       "    <tr style=\"text-align: right;\">\n",
       "      <th></th>\n",
       "      <th>apply</th>\n",
       "      <th>pared</th>\n",
       "      <th>public</th>\n",
       "      <th>gpa</th>\n",
       "    </tr>\n",
       "  </thead>\n",
       "  <tbody>\n",
       "    <tr>\n",
       "      <th>249</th>\n",
       "      <td>unlikely</td>\n",
       "      <td>1</td>\n",
       "      <td>0</td>\n",
       "      <td>3.3</td>\n",
       "    </tr>\n",
       "  </tbody>\n",
       "</table>\n",
       "</div>"
      ],
      "text/plain": [
       "        apply  pared  public  gpa\n",
       "249  unlikely      1       0  3.3"
      ]
     },
     "execution_count": 11,
     "metadata": {},
     "output_type": "execute_result"
    }
   ],
   "source": [
    "# We can verify for a case where a person with GPA 3.3 and whose parents do not have an advanced degree i.e. pared=0\n",
    "# and who went to a private school i.e. public = 0 would have a y* or latent variable y which can be computed as below\n",
    "\n",
    "df.loc[(df['gpa'] == 3.3) & (df['pared'] == 1) & (df['public'] == 0)]"
   ]
  },
  {
   "cell_type": "markdown",
   "metadata": {},
   "source": [
    "```y* = 0.5981 * pared + 0.0102 * public + 0.3582 * gpa\n",
    "      = 0.5981 * 0 + 0.0102 * 0 + 0.3582 * 3.3\n",
    "      = 0 + 0 + 1.18\n",
    "      = 1.18```"
   ]
  },
  {
   "cell_type": "markdown",
   "metadata": {},
   "source": [
    "Our thresholds / tau-cuts are as follows:\n",
    "- Unlikely - upto 1.29\n",
    "- Somewhat likely - 1.29 to 2.50\n",
    "- Very likely - Greater than 2.50\n",
    "\n",
    "Since our latent variable y is approximately 1.18, so it falls into the \"Unlikely\" bracket."
   ]
  },
  {
   "cell_type": "markdown",
   "metadata": {},
   "source": [
    "### Interpretation of result - Scenario2"
   ]
  },
  {
   "cell_type": "code",
   "execution_count": 12,
   "metadata": {},
   "outputs": [
    {
     "data": {
      "text/html": [
       "<div>\n",
       "<style scoped>\n",
       "    .dataframe tbody tr th:only-of-type {\n",
       "        vertical-align: middle;\n",
       "    }\n",
       "\n",
       "    .dataframe tbody tr th {\n",
       "        vertical-align: top;\n",
       "    }\n",
       "\n",
       "    .dataframe thead th {\n",
       "        text-align: right;\n",
       "    }\n",
       "</style>\n",
       "<table border=\"1\" class=\"dataframe\">\n",
       "  <thead>\n",
       "    <tr style=\"text-align: right;\">\n",
       "      <th></th>\n",
       "      <th>apply</th>\n",
       "      <th>pared</th>\n",
       "      <th>public</th>\n",
       "      <th>gpa</th>\n",
       "    </tr>\n",
       "  </thead>\n",
       "  <tbody>\n",
       "    <tr>\n",
       "      <th>1</th>\n",
       "      <td>somewhat likely</td>\n",
       "      <td>1</td>\n",
       "      <td>0</td>\n",
       "      <td>3.21</td>\n",
       "    </tr>\n",
       "    <tr>\n",
       "      <th>267</th>\n",
       "      <td>very likely</td>\n",
       "      <td>1</td>\n",
       "      <td>0</td>\n",
       "      <td>3.21</td>\n",
       "    </tr>\n",
       "  </tbody>\n",
       "</table>\n",
       "</div>"
      ],
      "text/plain": [
       "               apply  pared  public   gpa\n",
       "1    somewhat likely      1       0  3.21\n",
       "267      very likely      1       0  3.21"
      ]
     },
     "execution_count": 12,
     "metadata": {},
     "output_type": "execute_result"
    }
   ],
   "source": [
    "# We can verify for a case where a person with GPA 3.21 and whose parents do not have an advanced degree i.e. pared=1\n",
    "# and who went to a private school i.e. public = 0 would have a y* or latent variable y which can be computed as below\n",
    "\n",
    "df.loc[(df['gpa'] == 3.21) & (df['pared'] == 1)]"
   ]
  },
  {
   "cell_type": "markdown",
   "metadata": {},
   "source": [
    "```y* = 0.5981 * pared + 0.0102 * public + 0.3582 * gpa\n",
    "      = 0.5981 * 1 + 0.0102 * 0 + 0.3582 * 3.21\n",
    "      = 0.5981 + 0 + 1.1498\n",
    "      = 1.75```"
   ]
  },
  {
   "cell_type": "markdown",
   "metadata": {},
   "source": [
    "Our thresholds / tau-cuts are as follows:\n",
    "- Unlikely - upto 1.29\n",
    "- Somewhat likely - 1.29 to 2.50\n",
    "- Very likely - Greater than 2.50\n",
    "\n",
    "Since our latent variable y is approximately 1.75, so it falls into the \"Somewhat Likely\" bracket."
   ]
  },
  {
   "cell_type": "markdown",
   "metadata": {},
   "source": [
    "## 2. Ordinal Logit Regression"
   ]
  },
  {
   "cell_type": "code",
   "execution_count": 13,
   "metadata": {},
   "outputs": [
    {
     "name": "stdout",
     "output_type": "stream",
     "text": [
      "                             OrderedModel Results                             \n",
      "==============================================================================\n",
      "Dep. Variable:                  apply   Log-Likelihood:                -358.51\n",
      "Model:                   OrderedModel   AIC:                             727.0\n",
      "Method:            Maximum Likelihood   BIC:                             747.0\n",
      "Date:                Sat, 17 Sep 2022                                         \n",
      "Time:                        11:53:12                                         \n",
      "No. Observations:                 400                                         \n",
      "Df Residuals:                     395                                         \n",
      "Df Model:                           5                                         \n",
      "===============================================================================================\n",
      "                                  coef    std err          z      P>|z|      [0.025      0.975]\n",
      "-----------------------------------------------------------------------------------------------\n",
      "pared                           1.0476      0.266      3.942      0.000       0.527       1.569\n",
      "public                         -0.0586      0.298     -0.197      0.844      -0.642       0.525\n",
      "gpa                             0.6158      0.261      2.363      0.018       0.105       1.127\n",
      "unlikely/somewhat likely        2.2035      0.780      2.827      0.005       0.676       3.731\n",
      "somewhat likely/very likely     0.7398      0.080      9.236      0.000       0.583       0.897\n",
      "===============================================================================================\n"
     ]
    }
   ],
   "source": [
    "model_OrdinalLogit = OrderedModel(df['apply'],\n",
    "                        df[['pared', 'public', 'gpa']],\n",
    "                        distr='logit')                    # Distribution instance\n",
    "\n",
    "result_OrdinalLogit = model_OrdinalLogit.fit(method='bfgs', disp=False)          # Broyden-Fletcher-Goldfarb-Shanno (BFGS)\n",
    "print(result_OrdinalLogit.summary())"
   ]
  },
  {
   "cell_type": "markdown",
   "metadata": {},
   "source": [
    "* Again we have 3 coefficients to be estimated here as well\n",
    "    - pared\n",
    "    - public\n",
    "    - gpa\n",
    "* 2 intercepts for 3 categories that we have in outcome feature\n",
    "    - First one is the actual threshold value for ```unlikely/somewhat likely```\n",
    "    - Second one is the exponentiated increment which we can compute for ```somewhat likely/very likely```"
   ]
  },
  {
   "cell_type": "code",
   "execution_count": 14,
   "metadata": {},
   "outputs": [
    {
     "data": {
      "text/plain": [
       "array([      -inf, 2.20354835, 4.2989748 ,        inf])"
      ]
     },
     "execution_count": 14,
     "metadata": {},
     "output_type": "execute_result"
    }
   ],
   "source": [
    "# Actual Threshold values\n",
    "num_of_thresholds = 2\n",
    "model_OrdinalLogit.transform_threshold_params(result_OrdinalLogit.params[num_of_thresholds:])"
   ]
  },
  {
   "cell_type": "code",
   "execution_count": 15,
   "metadata": {},
   "outputs": [
    {
     "data": {
      "text/plain": [
       "4.299016369307381"
      ]
     },
     "execution_count": 15,
     "metadata": {},
     "output_type": "execute_result"
    }
   ],
   "source": [
    "# Exponentiated Increment can be added from 2nd threshold value onwards\n",
    "2.2035 + np.exp(0.7398)"
   ]
  },
  {
   "cell_type": "markdown",
   "metadata": {},
   "source": [
    "### Interpretation of Result - Scenario"
   ]
  },
  {
   "cell_type": "code",
   "execution_count": 16,
   "metadata": {},
   "outputs": [
    {
     "data": {
      "text/html": [
       "<div>\n",
       "<style scoped>\n",
       "    .dataframe tbody tr th:only-of-type {\n",
       "        vertical-align: middle;\n",
       "    }\n",
       "\n",
       "    .dataframe tbody tr th {\n",
       "        vertical-align: top;\n",
       "    }\n",
       "\n",
       "    .dataframe thead th {\n",
       "        text-align: right;\n",
       "    }\n",
       "</style>\n",
       "<table border=\"1\" class=\"dataframe\">\n",
       "  <thead>\n",
       "    <tr style=\"text-align: right;\">\n",
       "      <th></th>\n",
       "      <th>apply</th>\n",
       "      <th>pared</th>\n",
       "      <th>public</th>\n",
       "      <th>gpa</th>\n",
       "    </tr>\n",
       "  </thead>\n",
       "  <tbody>\n",
       "    <tr>\n",
       "      <th>1</th>\n",
       "      <td>somewhat likely</td>\n",
       "      <td>1</td>\n",
       "      <td>0</td>\n",
       "      <td>3.21</td>\n",
       "    </tr>\n",
       "    <tr>\n",
       "      <th>267</th>\n",
       "      <td>very likely</td>\n",
       "      <td>1</td>\n",
       "      <td>0</td>\n",
       "      <td>3.21</td>\n",
       "    </tr>\n",
       "  </tbody>\n",
       "</table>\n",
       "</div>"
      ],
      "text/plain": [
       "               apply  pared  public   gpa\n",
       "1    somewhat likely      1       0  3.21\n",
       "267      very likely      1       0  3.21"
      ]
     },
     "execution_count": 16,
     "metadata": {},
     "output_type": "execute_result"
    }
   ],
   "source": [
    "# We can verify for a case where a person with GPA 3.21 and whose parents do not have an advanced degree i.e. pared=1\n",
    "# and who went to a private school i.e. public = 0 would have a y* or latent variable y which can be computed as below\n",
    "\n",
    "df.loc[(df['gpa'] == 3.21) & (df['pared'] == 1)]"
   ]
  },
  {
   "cell_type": "markdown",
   "metadata": {},
   "source": [
    "```\n",
    "Logit(F-unlikely) = 2.20 – (1.05 * pared – 0.05 * public + 0.62 * gpa)\n",
    "                     = 2.20 - (1.05 * 1 - 0 + 0.62 * 3.21)\n",
    "                     = 2.20 - (1.05 + 1.99)\n",
    "                     = 2.20 - 3.04\n",
    "                     = -0.84\n",
    "\n",
    "Odds(F-unlikely) = exp(-0.84) = 0.43\n",
    "\n",
    "(F-unlikely) = 0.43/1.43 = 0.30\n",
    "```"
   ]
  },
  {
   "cell_type": "markdown",
   "metadata": {},
   "source": [
    "```\n",
    "Logit(F-somewhat) = 4.30 – (1.05 * pared – 0.05 * public + 0.62 * gpa)\n",
    "                  = 4.30 - (1.05 * 1 - 0 + 0.62 * 3.21)\n",
    "                  = 4.30 - (1.05 + 1.99)\n",
    "                  = 4.30 - 3.04\n",
    "                  = 1.26\n",
    "Odds(F-somewhat) = exp(1.26) = 3.52\n",
    "\n",
    "(F-somewhat) = 3.52/4.52 = 0.78\n",
    "```"
   ]
  },
  {
   "cell_type": "markdown",
   "metadata": {},
   "source": [
    "Probability(Unlikely) = (F-unlikely) = 0.30 = 30%\n",
    "\n",
    "Probability(Somewhat Likely) = (F-somewhat) - (F-unlikely) = 0.78-0.30 = 0.48 = 48%\n",
    "                          \n",
    "Probability(Very Likely) = 1-0.78 = 0.22 = 22%\n",
    "\n",
    "Out of the above three, Probability(Somewhat Likely) is higher and can be considered for the record where pared=1, public=0 and gpa=3.21"
   ]
  },
  {
   "cell_type": "markdown",
   "metadata": {},
   "source": [
    "## Compare - Ordinal LR Probit vs Ordinal LR Logit"
   ]
  },
  {
   "cell_type": "markdown",
   "metadata": {},
   "source": [
    "We can compare and observe that the prediction probabilities are not much different for each combination for probit/logit cases."
   ]
  },
  {
   "cell_type": "markdown",
   "metadata": {},
   "source": [
    "## Predictions"
   ]
  },
  {
   "cell_type": "code",
   "execution_count": 17,
   "metadata": {},
   "outputs": [
    {
     "data": {
      "text/plain": [
       "array([[0.54884071, 0.35932276, 0.09183653],\n",
       "       [0.30558191, 0.47594216, 0.21847593],\n",
       "       [0.22938356, 0.47819057, 0.29242586],\n",
       "       ...,\n",
       "       [0.69380357, 0.25470075, 0.05149568],\n",
       "       [0.54884071, 0.35932276, 0.09183653],\n",
       "       [0.50896793, 0.38494062, 0.10609145]])"
      ]
     },
     "execution_count": 17,
     "metadata": {},
     "output_type": "execute_result"
    }
   ],
   "source": [
    "predicted = result_OrdinalLogit.model.predict(result_OrdinalLogit.params, exog=df[['pared', 'public', 'gpa']])\n",
    "predicted"
   ]
  },
  {
   "cell_type": "markdown",
   "metadata": {},
   "source": [
    "Let's check for one of the user."
   ]
  },
  {
   "cell_type": "code",
   "execution_count": 18,
   "metadata": {},
   "outputs": [
    {
     "data": {
      "text/html": [
       "<div>\n",
       "<style scoped>\n",
       "    .dataframe tbody tr th:only-of-type {\n",
       "        vertical-align: middle;\n",
       "    }\n",
       "\n",
       "    .dataframe tbody tr th {\n",
       "        vertical-align: top;\n",
       "    }\n",
       "\n",
       "    .dataframe thead th {\n",
       "        text-align: right;\n",
       "    }\n",
       "</style>\n",
       "<table border=\"1\" class=\"dataframe\">\n",
       "  <thead>\n",
       "    <tr style=\"text-align: right;\">\n",
       "      <th></th>\n",
       "      <th>apply</th>\n",
       "      <th>pared</th>\n",
       "      <th>public</th>\n",
       "      <th>gpa</th>\n",
       "    </tr>\n",
       "  </thead>\n",
       "  <tbody>\n",
       "    <tr>\n",
       "      <th>315</th>\n",
       "      <td>somewhat likely</td>\n",
       "      <td>1</td>\n",
       "      <td>0</td>\n",
       "      <td>2.38</td>\n",
       "    </tr>\n",
       "  </tbody>\n",
       "</table>\n",
       "</div>"
      ],
      "text/plain": [
       "               apply  pared  public   gpa\n",
       "315  somewhat likely      1       0  2.38"
      ]
     },
     "execution_count": 18,
     "metadata": {},
     "output_type": "execute_result"
    }
   ],
   "source": [
    "df.loc[(df['gpa'] == 2.38) & (df['pared'] == 1) & (df['public'] == 0)]"
   ]
  },
  {
   "cell_type": "code",
   "execution_count": 19,
   "metadata": {},
   "outputs": [
    {
     "data": {
      "text/plain": [
       "-0.3132039999999998"
      ]
     },
     "execution_count": 19,
     "metadata": {},
     "output_type": "execute_result"
    }
   ],
   "source": [
    "2.20 - (1.0476 * 1 + 0.6158 * 2.38)"
   ]
  },
  {
   "cell_type": "code",
   "execution_count": 20,
   "metadata": {},
   "outputs": [
    {
     "data": {
      "text/plain": [
       "0.7311007528015316"
      ]
     },
     "execution_count": 20,
     "metadata": {},
     "output_type": "execute_result"
    }
   ],
   "source": [
    "np.exp(-0.3132039999999998)"
   ]
  },
  {
   "cell_type": "code",
   "execution_count": 21,
   "metadata": {},
   "outputs": [
    {
     "data": {
      "text/plain": [
       "0.4223328720863605"
      ]
     },
     "execution_count": 21,
     "metadata": {},
     "output_type": "execute_result"
    }
   ],
   "source": [
    "0.7311007528015316/1.7311007528015316"
   ]
  },
  {
   "cell_type": "code",
   "execution_count": 22,
   "metadata": {},
   "outputs": [
    {
     "data": {
      "text/plain": [
       "array([[0.42318088, 0.43321808, 0.14360104]])"
      ]
     },
     "execution_count": 22,
     "metadata": {},
     "output_type": "execute_result"
    }
   ],
   "source": [
    "# 315th record\n",
    "predicted[315:316]"
   ]
  },
  {
   "cell_type": "markdown",
   "metadata": {},
   "source": [
    "The first category probability almost matches close to the prediction i.e. 42.2%"
   ]
  },
  {
   "cell_type": "code",
   "execution_count": 23,
   "metadata": {},
   "outputs": [
    {
     "data": {
      "text/plain": [
       "0.8565340073623479"
      ]
     },
     "execution_count": 23,
     "metadata": {},
     "output_type": "execute_result"
    }
   ],
   "source": [
    "a = 4.30 - (1.0476 * 1 + 0.6158 * 2.38)\n",
    "b = np.exp(a)\n",
    "c = b/(1+b)\n",
    "\n",
    "c"
   ]
  },
  {
   "cell_type": "markdown",
   "metadata": {},
   "source": [
    "This is 85.6% which is same as combination of first two categories (Unlikely + Somewhat Likely) as it is cummulative."
   ]
  },
  {
   "cell_type": "markdown",
   "metadata": {},
   "source": [
    "Same way we can identify.\n",
    "\n",
    "That's all."
   ]
  },
  {
   "cell_type": "code",
   "execution_count": null,
   "metadata": {},
   "outputs": [],
   "source": []
  }
 ],
 "metadata": {
  "kernelspec": {
   "display_name": "Python 3",
   "language": "python",
   "name": "python3"
  },
  "language_info": {
   "codemirror_mode": {
    "name": "ipython",
    "version": 3
   },
   "file_extension": ".py",
   "mimetype": "text/x-python",
   "name": "python",
   "nbconvert_exporter": "python",
   "pygments_lexer": "ipython3",
   "version": "3.8.5"
  }
 },
 "nbformat": 4,
 "nbformat_minor": 4
}
