{
 "cells": [
  {
   "cell_type": "markdown",
   "metadata": {},
   "source": [
    "# AccelerateAI: Logistic Regression"
   ]
  },
  {
   "cell_type": "markdown",
   "metadata": {},
   "source": [
    "## Multinomial Logit"
   ]
  },
  {
   "cell_type": "markdown",
   "metadata": {},
   "source": [
    "### Import Libraries and Load Dataset"
   ]
  },
  {
   "cell_type": "code",
   "execution_count": 1,
   "metadata": {},
   "outputs": [],
   "source": [
    "import pandas as pd \n",
    "import numpy as np\n",
    "\n",
    "import statsmodels.api as sm"
   ]
  },
  {
   "cell_type": "markdown",
   "metadata": {},
   "source": [
    "**Dataset: American National Election Survey 1996**\n",
    "\n",
    "Number of observations - 944\n",
    "Number of variables - 10\n",
    "\n",
    "Variables name definitions::\n",
    "\n",
    "        popul - Census place population in 1000s\n",
    "        TVnews - Number of times per week that respondent watches TV news.\n",
    "        PID - Party identification of respondent.\n",
    "            0 - Strong Democrat\n",
    "            1 - Weak Democrat\n",
    "            2 - Independent-Democrat\n",
    "            3 - Independent-Indpendent\n",
    "            4 - Independent-Republican\n",
    "            5 - Weak Republican\n",
    "            6 - Strong Republican\n",
    "        age : Age of respondent.\n",
    "        educ - Education level of respondent\n",
    "            1 - 1-8 grades\n",
    "            2 - Some high school\n",
    "            3 - High school graduate\n",
    "            4 - Some college\n",
    "            5 - College degree\n",
    "            6 - Master's degree\n",
    "            7 - PhD\n",
    "        income - Income of household\n",
    "            1  - None or less than $2,999\n",
    "            2  - $3,000-$4,999\n",
    "            3  - $5,000-$6,999\n",
    "            4  - $7,000-$8,999\n",
    "            5  - $9,000-$9,999\n",
    "            6  - $10,000-$10,999\n",
    "            7  - $11,000-$11,999\n",
    "            8  - $12,000-$12,999\n",
    "            9  - $13,000-$13,999\n",
    "            10 - $14,000-$14.999\n",
    "            11 - $15,000-$16,999\n",
    "            12 - $17,000-$19,999\n",
    "            13 - $20,000-$21,999\n",
    "            14 - $22,000-$24,999\n",
    "            15 - $25,000-$29,999\n",
    "            16 - $30,000-$34,999\n",
    "            17 - $35,000-$39,999\n",
    "            18 - $40,000-$44,999\n",
    "            19 - $45,000-$49,999\n",
    "            20 - $50,000-$59,999\n",
    "            21 - $60,000-$74,999\n",
    "            22 - $75,000-89,999\n",
    "            23 - $90,000-$104,999\n",
    "            24 - $105,000 and over\n",
    "        vote - Expected vote\n",
    "            0 - Clinton\n",
    "            1 - Dole\n",
    "        The following 3 variables all take the values:\n",
    "            1 - Extremely liberal\n",
    "            2 - Liberal\n",
    "            3 - Slightly liberal\n",
    "            4 - Moderate\n",
    "            5 - Slightly conservative\n",
    "            6 - Conservative\n",
    "            7 - Extremely Conservative\n",
    "        selfLR - Respondent's self-reported political leanings from \"Left\"\n",
    "            to \"Right\".\n",
    "        ClinLR - Respondents impression of Bill Clinton's political\n",
    "            leanings from \"Left\" to \"Right\".\n",
    "        DoleLR  - Respondents impression of Bob Dole's political leanings\n",
    "            from \"Left\" to \"Right\".\n",
    "        logpopul - log(popul + .1)\n",
    "\n",
    "\n",
    "Dataset ref: https://www.statsmodels.org/dev/datasets/generated/anes96.html"
   ]
  },
  {
   "cell_type": "code",
   "execution_count": 2,
   "metadata": {},
   "outputs": [],
   "source": [
    "anes_data = sm.datasets.anes96.load()\n",
    "anes_exog = anes_data.exog\n",
    "anes_exog = sm.add_constant(anes_exog, prepend=False)"
   ]
  },
  {
   "cell_type": "code",
   "execution_count": 3,
   "metadata": {},
   "outputs": [
    {
     "data": {
      "text/plain": [
       "['logpopul', 'selfLR', 'age', 'educ', 'income']"
      ]
     },
     "execution_count": 3,
     "metadata": {},
     "output_type": "execute_result"
    }
   ],
   "source": [
    "anes_data.exog_name"
   ]
  },
  {
   "cell_type": "code",
   "execution_count": 4,
   "metadata": {},
   "outputs": [
    {
     "data": {
      "text/plain": [
       "'PID'"
      ]
     },
     "execution_count": 4,
     "metadata": {},
     "output_type": "execute_result"
    }
   ],
   "source": [
    "anes_data.endog_name"
   ]
  },
  {
   "cell_type": "code",
   "execution_count": 5,
   "metadata": {},
   "outputs": [
    {
     "data": {
      "text/html": [
       "<div>\n",
       "<style scoped>\n",
       "    .dataframe tbody tr th:only-of-type {\n",
       "        vertical-align: middle;\n",
       "    }\n",
       "\n",
       "    .dataframe tbody tr th {\n",
       "        vertical-align: top;\n",
       "    }\n",
       "\n",
       "    .dataframe thead th {\n",
       "        text-align: right;\n",
       "    }\n",
       "</style>\n",
       "<table border=\"1\" class=\"dataframe\">\n",
       "  <thead>\n",
       "    <tr style=\"text-align: right;\">\n",
       "      <th></th>\n",
       "      <th>popul</th>\n",
       "      <th>TVnews</th>\n",
       "      <th>selfLR</th>\n",
       "      <th>ClinLR</th>\n",
       "      <th>DoleLR</th>\n",
       "      <th>PID</th>\n",
       "      <th>age</th>\n",
       "      <th>educ</th>\n",
       "      <th>income</th>\n",
       "      <th>vote</th>\n",
       "      <th>logpopul</th>\n",
       "    </tr>\n",
       "  </thead>\n",
       "  <tbody>\n",
       "    <tr>\n",
       "      <th>0</th>\n",
       "      <td>0.0</td>\n",
       "      <td>7.0</td>\n",
       "      <td>7.0</td>\n",
       "      <td>1.0</td>\n",
       "      <td>6.0</td>\n",
       "      <td>6.0</td>\n",
       "      <td>36.0</td>\n",
       "      <td>3.0</td>\n",
       "      <td>1.0</td>\n",
       "      <td>1.0</td>\n",
       "      <td>-2.302585</td>\n",
       "    </tr>\n",
       "    <tr>\n",
       "      <th>1</th>\n",
       "      <td>190.0</td>\n",
       "      <td>1.0</td>\n",
       "      <td>3.0</td>\n",
       "      <td>3.0</td>\n",
       "      <td>5.0</td>\n",
       "      <td>1.0</td>\n",
       "      <td>20.0</td>\n",
       "      <td>4.0</td>\n",
       "      <td>1.0</td>\n",
       "      <td>0.0</td>\n",
       "      <td>5.247550</td>\n",
       "    </tr>\n",
       "    <tr>\n",
       "      <th>2</th>\n",
       "      <td>31.0</td>\n",
       "      <td>7.0</td>\n",
       "      <td>2.0</td>\n",
       "      <td>2.0</td>\n",
       "      <td>6.0</td>\n",
       "      <td>1.0</td>\n",
       "      <td>24.0</td>\n",
       "      <td>6.0</td>\n",
       "      <td>1.0</td>\n",
       "      <td>0.0</td>\n",
       "      <td>3.437208</td>\n",
       "    </tr>\n",
       "    <tr>\n",
       "      <th>3</th>\n",
       "      <td>83.0</td>\n",
       "      <td>4.0</td>\n",
       "      <td>3.0</td>\n",
       "      <td>4.0</td>\n",
       "      <td>5.0</td>\n",
       "      <td>1.0</td>\n",
       "      <td>28.0</td>\n",
       "      <td>6.0</td>\n",
       "      <td>1.0</td>\n",
       "      <td>0.0</td>\n",
       "      <td>4.420045</td>\n",
       "    </tr>\n",
       "    <tr>\n",
       "      <th>4</th>\n",
       "      <td>640.0</td>\n",
       "      <td>7.0</td>\n",
       "      <td>5.0</td>\n",
       "      <td>6.0</td>\n",
       "      <td>4.0</td>\n",
       "      <td>0.0</td>\n",
       "      <td>68.0</td>\n",
       "      <td>6.0</td>\n",
       "      <td>1.0</td>\n",
       "      <td>0.0</td>\n",
       "      <td>6.461624</td>\n",
       "    </tr>\n",
       "  </tbody>\n",
       "</table>\n",
       "</div>"
      ],
      "text/plain": [
       "   popul  TVnews  selfLR  ClinLR  DoleLR  PID   age  educ  income  vote  \\\n",
       "0    0.0     7.0     7.0     1.0     6.0  6.0  36.0   3.0     1.0   1.0   \n",
       "1  190.0     1.0     3.0     3.0     5.0  1.0  20.0   4.0     1.0   0.0   \n",
       "2   31.0     7.0     2.0     2.0     6.0  1.0  24.0   6.0     1.0   0.0   \n",
       "3   83.0     4.0     3.0     4.0     5.0  1.0  28.0   6.0     1.0   0.0   \n",
       "4  640.0     7.0     5.0     6.0     4.0  0.0  68.0   6.0     1.0   0.0   \n",
       "\n",
       "   logpopul  \n",
       "0 -2.302585  \n",
       "1  5.247550  \n",
       "2  3.437208  \n",
       "3  4.420045  \n",
       "4  6.461624  "
      ]
     },
     "execution_count": 5,
     "metadata": {},
     "output_type": "execute_result"
    }
   ],
   "source": [
    "df = pd.DataFrame.from_records(sm.datasets.anes96.load().data)\n",
    "\n",
    "df.head(5)"
   ]
  },
  {
   "cell_type": "code",
   "execution_count": 6,
   "metadata": {},
   "outputs": [
    {
     "name": "stdout",
     "output_type": "stream",
     "text": [
      "<class 'pandas.core.frame.DataFrame'>\n",
      "RangeIndex: 944 entries, 0 to 943\n",
      "Data columns (total 11 columns):\n",
      " #   Column    Non-Null Count  Dtype  \n",
      "---  ------    --------------  -----  \n",
      " 0   popul     944 non-null    float64\n",
      " 1   TVnews    944 non-null    float64\n",
      " 2   selfLR    944 non-null    float64\n",
      " 3   ClinLR    944 non-null    float64\n",
      " 4   DoleLR    944 non-null    float64\n",
      " 5   PID       944 non-null    float64\n",
      " 6   age       944 non-null    float64\n",
      " 7   educ      944 non-null    float64\n",
      " 8   income    944 non-null    float64\n",
      " 9   vote      944 non-null    float64\n",
      " 10  logpopul  944 non-null    float64\n",
      "dtypes: float64(11)\n",
      "memory usage: 81.2 KB\n"
     ]
    }
   ],
   "source": [
    "df.info()"
   ]
  },
  {
   "cell_type": "markdown",
   "metadata": {},
   "source": [
    "### Fit the Multinomial Logit Model"
   ]
  },
  {
   "cell_type": "code",
   "execution_count": 7,
   "metadata": {},
   "outputs": [
    {
     "name": "stdout",
     "output_type": "stream",
     "text": [
      "Optimization terminated successfully.\n",
      "         Current function value: 1.548647\n",
      "         Iterations 7\n"
     ]
    }
   ],
   "source": [
    "mlogit_mod = sm.MNLogit(anes_data.endog, anes_exog)\n",
    "mlogit_res = mlogit_mod.fit()"
   ]
  },
  {
   "cell_type": "code",
   "execution_count": 8,
   "metadata": {},
   "outputs": [
    {
     "name": "stdout",
     "output_type": "stream",
     "text": [
      "                          MNLogit Regression Results                          \n",
      "==============================================================================\n",
      "Dep. Variable:                    PID   No. Observations:                  944\n",
      "Model:                        MNLogit   Df Residuals:                      908\n",
      "Method:                           MLE   Df Model:                           30\n",
      "Date:                Sun, 11 Sep 2022   Pseudo R-squ.:                  0.1648\n",
      "Time:                        15:31:47   Log-Likelihood:                -1461.9\n",
      "converged:                       True   LL-Null:                       -1750.3\n",
      "Covariance Type:            nonrobust   LLR p-value:                1.822e-102\n",
      "==============================================================================\n",
      "     PID=1       coef    std err          z      P>|z|      [0.025      0.975]\n",
      "------------------------------------------------------------------------------\n",
      "logpopul      -0.0115      0.034     -0.336      0.736      -0.079       0.056\n",
      "selfLR         0.2977      0.094      3.180      0.001       0.114       0.481\n",
      "age           -0.0249      0.007     -3.823      0.000      -0.038      -0.012\n",
      "educ           0.0825      0.074      1.121      0.262      -0.062       0.227\n",
      "income         0.0052      0.018      0.295      0.768      -0.029       0.040\n",
      "const         -0.3734      0.630     -0.593      0.553      -1.608       0.861\n",
      "------------------------------------------------------------------------------\n",
      "     PID=2       coef    std err          z      P>|z|      [0.025      0.975]\n",
      "------------------------------------------------------------------------------\n",
      "logpopul      -0.0888      0.039     -2.266      0.023      -0.166      -0.012\n",
      "selfLR         0.3917      0.108      3.619      0.000       0.180       0.604\n",
      "age           -0.0229      0.008     -2.893      0.004      -0.038      -0.007\n",
      "educ           0.1810      0.085      2.123      0.034       0.014       0.348\n",
      "income         0.0479      0.022      2.149      0.032       0.004       0.092\n",
      "const         -2.2509      0.763     -2.949      0.003      -3.747      -0.755\n",
      "------------------------------------------------------------------------------\n",
      "     PID=3       coef    std err          z      P>|z|      [0.025      0.975]\n",
      "------------------------------------------------------------------------------\n",
      "logpopul      -0.1060      0.057     -1.858      0.063      -0.218       0.006\n",
      "selfLR         0.5735      0.159      3.617      0.000       0.263       0.884\n",
      "age           -0.0149      0.011     -1.311      0.190      -0.037       0.007\n",
      "educ          -0.0072      0.126     -0.057      0.955      -0.255       0.240\n",
      "income         0.0576      0.034      1.713      0.087      -0.008       0.123\n",
      "const         -3.6656      1.157     -3.169      0.002      -5.932      -1.399\n",
      "------------------------------------------------------------------------------\n",
      "     PID=4       coef    std err          z      P>|z|      [0.025      0.975]\n",
      "------------------------------------------------------------------------------\n",
      "logpopul      -0.0916      0.044     -2.091      0.037      -0.177      -0.006\n",
      "selfLR         1.2788      0.129      9.921      0.000       1.026       1.531\n",
      "age           -0.0087      0.008     -1.031      0.302      -0.025       0.008\n",
      "educ           0.1998      0.094      2.123      0.034       0.015       0.384\n",
      "income         0.0845      0.026      3.226      0.001       0.033       0.136\n",
      "const         -7.6138      0.958     -7.951      0.000      -9.491      -5.737\n",
      "------------------------------------------------------------------------------\n",
      "     PID=5       coef    std err          z      P>|z|      [0.025      0.975]\n",
      "------------------------------------------------------------------------------\n",
      "logpopul      -0.0933      0.039     -2.371      0.018      -0.170      -0.016\n",
      "selfLR         1.3470      0.117     11.494      0.000       1.117       1.577\n",
      "age           -0.0179      0.008     -2.352      0.019      -0.033      -0.003\n",
      "educ           0.2169      0.085      2.552      0.011       0.050       0.384\n",
      "income         0.0810      0.023      3.524      0.000       0.036       0.126\n",
      "const         -7.0605      0.844     -8.362      0.000      -8.715      -5.406\n",
      "------------------------------------------------------------------------------\n",
      "     PID=6       coef    std err          z      P>|z|      [0.025      0.975]\n",
      "------------------------------------------------------------------------------\n",
      "logpopul      -0.1409      0.042     -3.343      0.001      -0.223      -0.058\n",
      "selfLR         2.0701      0.143     14.435      0.000       1.789       2.351\n",
      "age           -0.0094      0.008     -1.160      0.246      -0.025       0.007\n",
      "educ           0.3219      0.091      3.534      0.000       0.143       0.500\n",
      "income         0.1089      0.025      4.304      0.000       0.059       0.158\n",
      "const        -12.1058      1.060    -11.421      0.000     -14.183     -10.028\n",
      "==============================================================================\n"
     ]
    }
   ],
   "source": [
    "print(mlogit_res.summary())"
   ]
  },
  {
   "cell_type": "code",
   "execution_count": 9,
   "metadata": {},
   "outputs": [
    {
     "name": "stdout",
     "output_type": "stream",
     "text": [
      "                 0         1         2         3         4          5\n",
      "logpopul -0.011536 -0.088751 -0.105967 -0.091557 -0.093285  -0.140881\n",
      "selfLR    0.297714  0.391669  0.573451  1.278772  1.346962   2.070080\n",
      "age      -0.024945 -0.022898 -0.014851 -0.008681 -0.017904  -0.009433\n",
      "educ      0.082491  0.181043 -0.007152  0.199828  0.216939   0.321926\n",
      "income    0.005197  0.047874  0.057575  0.084498  0.080958   0.108894\n",
      "const    -0.373402 -2.250913 -3.665584 -7.613843 -7.060478 -12.105751\n"
     ]
    }
   ],
   "source": [
    "print(mlogit_res.params)"
   ]
  },
  {
   "cell_type": "code",
   "execution_count": 10,
   "metadata": {},
   "outputs": [
    {
     "data": {
      "text/plain": [
       "-1750.346710709092"
      ]
     },
     "execution_count": 10,
     "metadata": {},
     "output_type": "execute_result"
    }
   ],
   "source": [
    "mlogit_res.llnull"
   ]
  },
  {
   "cell_type": "markdown",
   "metadata": {},
   "source": [
    "### Alternate Solvers"
   ]
  },
  {
   "cell_type": "markdown",
   "metadata": {},
   "source": [
    "The method determines which solver from ```scipy.optimize``` is used.\n",
    "\n",
    "'bfgs' for Broyden-Fletcher-Goldfarb-Shanno (BFGS)"
   ]
  },
  {
   "cell_type": "code",
   "execution_count": 11,
   "metadata": {},
   "outputs": [
    {
     "name": "stdout",
     "output_type": "stream",
     "text": [
      "Optimization terminated successfully.\n",
      "         Current function value: 1.548647\n",
      "         Iterations: 111\n",
      "         Function evaluations: 117\n",
      "         Gradient evaluations: 117\n",
      "                          MNLogit Regression Results                          \n",
      "==============================================================================\n",
      "Dep. Variable:                    PID   No. Observations:                  944\n",
      "Model:                        MNLogit   Df Residuals:                      908\n",
      "Method:                           MLE   Df Model:                           30\n",
      "Date:                Sun, 11 Sep 2022   Pseudo R-squ.:                  0.1648\n",
      "Time:                        15:31:47   Log-Likelihood:                -1461.9\n",
      "converged:                       True   LL-Null:                       -1750.3\n",
      "Covariance Type:            nonrobust   LLR p-value:                1.822e-102\n",
      "==============================================================================\n",
      "     PID=1       coef    std err          z      P>|z|      [0.025      0.975]\n",
      "------------------------------------------------------------------------------\n",
      "logpopul      -0.0115      0.034     -0.337      0.736      -0.079       0.056\n",
      "selfLR         0.2977      0.094      3.180      0.001       0.114       0.481\n",
      "age           -0.0249      0.007     -3.823      0.000      -0.038      -0.012\n",
      "educ           0.0825      0.074      1.121      0.262      -0.062       0.227\n",
      "income         0.0052      0.018      0.295      0.768      -0.029       0.040\n",
      "const         -0.3734      0.630     -0.593      0.553      -1.608       0.861\n",
      "------------------------------------------------------------------------------\n",
      "     PID=2       coef    std err          z      P>|z|      [0.025      0.975]\n",
      "------------------------------------------------------------------------------\n",
      "logpopul      -0.0888      0.039     -2.266      0.023      -0.166      -0.012\n",
      "selfLR         0.3917      0.108      3.619      0.000       0.180       0.604\n",
      "age           -0.0229      0.008     -2.893      0.004      -0.038      -0.007\n",
      "educ           0.1810      0.085      2.123      0.034       0.014       0.348\n",
      "income         0.0479      0.022      2.149      0.032       0.004       0.092\n",
      "const         -2.2509      0.763     -2.949      0.003      -3.747      -0.755\n",
      "------------------------------------------------------------------------------\n",
      "     PID=3       coef    std err          z      P>|z|      [0.025      0.975]\n",
      "------------------------------------------------------------------------------\n",
      "logpopul      -0.1060      0.057     -1.858      0.063      -0.218       0.006\n",
      "selfLR         0.5734      0.159      3.617      0.000       0.263       0.884\n",
      "age           -0.0149      0.011     -1.311      0.190      -0.037       0.007\n",
      "educ          -0.0072      0.126     -0.057      0.955      -0.255       0.240\n",
      "income         0.0576      0.034      1.713      0.087      -0.008       0.123\n",
      "const         -3.6656      1.157     -3.169      0.002      -5.932      -1.399\n",
      "------------------------------------------------------------------------------\n",
      "     PID=4       coef    std err          z      P>|z|      [0.025      0.975]\n",
      "------------------------------------------------------------------------------\n",
      "logpopul      -0.0916      0.044     -2.091      0.037      -0.177      -0.006\n",
      "selfLR         1.2788      0.129      9.921      0.000       1.026       1.531\n",
      "age           -0.0087      0.008     -1.031      0.302      -0.025       0.008\n",
      "educ           0.1998      0.094      2.123      0.034       0.015       0.384\n",
      "income         0.0845      0.026      3.226      0.001       0.033       0.136\n",
      "const         -7.6139      0.958     -7.951      0.000      -9.491      -5.737\n",
      "------------------------------------------------------------------------------\n",
      "     PID=5       coef    std err          z      P>|z|      [0.025      0.975]\n",
      "------------------------------------------------------------------------------\n",
      "logpopul      -0.0933      0.039     -2.371      0.018      -0.170      -0.016\n",
      "selfLR         1.3470      0.117     11.494      0.000       1.117       1.577\n",
      "age           -0.0179      0.008     -2.352      0.019      -0.033      -0.003\n",
      "educ           0.2169      0.085      2.552      0.011       0.050       0.384\n",
      "income         0.0810      0.023      3.524      0.000       0.036       0.126\n",
      "const         -7.0605      0.844     -8.362      0.000      -8.715      -5.406\n",
      "------------------------------------------------------------------------------\n",
      "     PID=6       coef    std err          z      P>|z|      [0.025      0.975]\n",
      "------------------------------------------------------------------------------\n",
      "logpopul      -0.1409      0.042     -3.343      0.001      -0.223      -0.058\n",
      "selfLR         2.0701      0.143     14.435      0.000       1.789       2.351\n",
      "age           -0.0094      0.008     -1.160      0.246      -0.025       0.007\n",
      "educ           0.3219      0.091      3.534      0.000       0.143       0.500\n",
      "income         0.1089      0.025      4.304      0.000       0.059       0.158\n",
      "const        -12.1058      1.060    -11.421      0.000     -14.183     -10.028\n",
      "==============================================================================\n"
     ]
    }
   ],
   "source": [
    "mlogit_res = mlogit_mod.fit(method=\"bfgs\", maxiter=250)\n",
    "print(mlogit_res.summary())"
   ]
  },
  {
   "cell_type": "markdown",
   "metadata": {},
   "source": [
    "The method determines which solver from ```scipy.optimize``` is used.\n",
    "\n",
    "'powell' for modified Powell's method"
   ]
  },
  {
   "cell_type": "code",
   "execution_count": 12,
   "metadata": {},
   "outputs": [
    {
     "name": "stdout",
     "output_type": "stream",
     "text": [
      "Optimization terminated successfully.\n",
      "         Current function value: 1.553526\n",
      "         Iterations: 30\n",
      "         Function evaluations: 14156\n",
      "                          MNLogit Regression Results                          \n",
      "==============================================================================\n",
      "Dep. Variable:                    PID   No. Observations:                  944\n",
      "Model:                        MNLogit   Df Residuals:                      908\n",
      "Method:                           MLE   Df Model:                           30\n",
      "Date:                Sun, 11 Sep 2022   Pseudo R-squ.:                  0.1621\n",
      "Time:                        15:31:49   Log-Likelihood:                -1466.5\n",
      "converged:                       True   LL-Null:                       -1750.3\n",
      "Covariance Type:            nonrobust   LLR p-value:                1.457e-100\n",
      "==============================================================================\n",
      "     PID=1       coef    std err          z      P>|z|      [0.025      0.975]\n",
      "------------------------------------------------------------------------------\n",
      "logpopul      -0.0242      0.034     -0.706      0.480      -0.091       0.043\n",
      "selfLR         0.2041      0.092      2.213      0.027       0.023       0.385\n",
      "age           -0.0354      0.007     -5.270      0.000      -0.049      -0.022\n",
      "educ          -0.0205      0.073     -0.280      0.780      -0.165       0.123\n",
      "income        -0.0072      0.018     -0.407      0.684      -0.042       0.028\n",
      "const          1.1021      0.629      1.751      0.080      -0.131       2.336\n",
      "------------------------------------------------------------------------------\n",
      "     PID=2       coef    std err          z      P>|z|      [0.025      0.975]\n",
      "------------------------------------------------------------------------------\n",
      "logpopul      -0.0875      0.039     -2.225      0.026      -0.165      -0.010\n",
      "selfLR         0.3729      0.106      3.507      0.000       0.165       0.581\n",
      "age           -0.0204      0.008     -2.615      0.009      -0.036      -0.005\n",
      "educ           0.1433      0.085      1.692      0.091      -0.023       0.309\n",
      "income         0.0314      0.022      1.401      0.161      -0.013       0.075\n",
      "const         -1.9204      0.763     -2.518      0.012      -3.415      -0.425\n",
      "------------------------------------------------------------------------------\n",
      "     PID=3       coef    std err          z      P>|z|      [0.025      0.975]\n",
      "------------------------------------------------------------------------------\n",
      "logpopul      -0.1132      0.057     -1.987      0.047      -0.225      -0.002\n",
      "selfLR         0.5137      0.156      3.294      0.001       0.208       0.819\n",
      "age           -0.0173      0.011     -1.512      0.131      -0.040       0.005\n",
      "educ          -0.0523      0.125     -0.419      0.676      -0.297       0.193\n",
      "income         0.0509      0.034      1.491      0.136      -0.016       0.118\n",
      "const         -3.0372      1.153     -2.635      0.008      -5.296      -0.778\n",
      "------------------------------------------------------------------------------\n",
      "     PID=4       coef    std err          z      P>|z|      [0.025      0.975]\n",
      "------------------------------------------------------------------------------\n",
      "logpopul      -0.0977      0.043     -2.258      0.024      -0.182      -0.013\n",
      "selfLR         1.1892      0.125      9.500      0.000       0.944       1.435\n",
      "age           -0.0136      0.008     -1.625      0.104      -0.030       0.003\n",
      "educ           0.1146      0.092      1.240      0.215      -0.067       0.296\n",
      "income         0.0618      0.026      2.419      0.016       0.012       0.112\n",
      "const         -6.2802      0.925     -6.793      0.000      -8.092      -4.468\n",
      "------------------------------------------------------------------------------\n",
      "     PID=5       coef    std err          z      P>|z|      [0.025      0.975]\n",
      "------------------------------------------------------------------------------\n",
      "logpopul      -0.0978      0.039     -2.518      0.012      -0.174      -0.022\n",
      "selfLR         1.2623      0.114     11.119      0.000       1.040       1.485\n",
      "age           -0.0221      0.008     -2.930      0.003      -0.037      -0.007\n",
      "educ           0.1305      0.083      1.569      0.117      -0.033       0.293\n",
      "income         0.0604      0.023      2.682      0.007       0.016       0.105\n",
      "const         -5.8208      0.816     -7.134      0.000      -7.420      -4.222\n",
      "------------------------------------------------------------------------------\n",
      "     PID=6       coef    std err          z      P>|z|      [0.025      0.975]\n",
      "------------------------------------------------------------------------------\n",
      "logpopul      -0.1431      0.042     -3.438      0.001      -0.225      -0.061\n",
      "selfLR         1.9842      0.140     14.162      0.000       1.710       2.259\n",
      "age           -0.0121      0.008     -1.507      0.132      -0.028       0.004\n",
      "educ           0.2357      0.089      2.646      0.008       0.061       0.410\n",
      "income         0.0948      0.025      3.780      0.000       0.046       0.144\n",
      "const        -11.0426      1.037    -10.650      0.000     -13.075      -9.010\n",
      "==============================================================================\n"
     ]
    }
   ],
   "source": [
    "mlogit_res = mlogit_mod.fit(method=\"powell\", maxiter=250)\n",
    "print(mlogit_res.summary())"
   ]
  },
  {
   "cell_type": "code",
   "execution_count": null,
   "metadata": {},
   "outputs": [],
   "source": []
  }
 ],
 "metadata": {
  "kernelspec": {
   "display_name": "Python 3",
   "language": "python",
   "name": "python3"
  },
  "language_info": {
   "codemirror_mode": {
    "name": "ipython",
    "version": 3
   },
   "file_extension": ".py",
   "mimetype": "text/x-python",
   "name": "python",
   "nbconvert_exporter": "python",
   "pygments_lexer": "ipython3",
   "version": "3.8.5"
  }
 },
 "nbformat": 4,
 "nbformat_minor": 4
}
