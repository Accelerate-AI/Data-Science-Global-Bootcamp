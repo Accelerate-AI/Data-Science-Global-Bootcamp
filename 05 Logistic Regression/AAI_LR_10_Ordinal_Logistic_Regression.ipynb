{
 "cells": [
  {
   "cell_type": "markdown",
   "metadata": {},
   "source": [
    "# AccelerateAI: Ordinal Logistic Regression"
   ]
  },
  {
   "cell_type": "markdown",
   "metadata": {},
   "source": [
    "## Ordinal Regression"
   ]
  },
  {
   "cell_type": "markdown",
   "metadata": {},
   "source": [
    "**Diamond dataset analysis**\n",
    "\n",
    "* carat weight of the diamond (0.2--5.01)\n",
    "* cut quality of the cut (Fair, Good, Very Good, Premium, Ideal)\n",
    "* color diamond colour, from J (worst) to D (best)\n",
    "* clarity a measurement of how clear the diamond is (I1 (worst), SI2, SI1, VS2, VS1, VVS2, VVS1, IF (best))\n",
    "* depth total depth percentage = z / mean(x, y) = 2 * z / (x + y) (43--79)\n",
    "* table width of top of diamond relative to widest point (43--95)\n",
    "* x length in mm (0--10.74)\n",
    "* y width in mm (0--58.9)\n",
    "* z depth in mm (0--31.8)\n",
    "* price price in US dollars (\\$326--\\$18,823)\n",
    "\n",
    "This is another Ordered example where there are more sequences for Outcome category. \n",
    "- Fair\n",
    "- Good\n",
    "- Very Good\n",
    "- Premium\n",
    "- Ideal\n",
    "\n",
    "Since there are 5 categories, there will be 4 thresholds / tau-cuts to be considered. \n",
    "\n",
    "We will observe these many intercepts/thresholds in the model output as well."
   ]
  },
  {
   "cell_type": "code",
   "execution_count": 1,
   "metadata": {},
   "outputs": [],
   "source": [
    "import numpy as np\n",
    "import pandas as pd\n",
    "import scipy.stats as stats\n",
    "from pandas.api.types import CategoricalDtype\n",
    "\n",
    "from statsmodels.miscmodels.ordinal_model import OrderedModel\n",
    "\n",
    "import matplotlib.pyplot as plt\n",
    "\n",
    "import warnings\n",
    "warnings.filterwarnings('ignore')"
   ]
  },
  {
   "cell_type": "code",
   "execution_count": 2,
   "metadata": {},
   "outputs": [
    {
     "data": {
      "text/html": [
       "<div>\n",
       "<style scoped>\n",
       "    .dataframe tbody tr th:only-of-type {\n",
       "        vertical-align: middle;\n",
       "    }\n",
       "\n",
       "    .dataframe tbody tr th {\n",
       "        vertical-align: top;\n",
       "    }\n",
       "\n",
       "    .dataframe thead th {\n",
       "        text-align: right;\n",
       "    }\n",
       "</style>\n",
       "<table border=\"1\" class=\"dataframe\">\n",
       "  <thead>\n",
       "    <tr style=\"text-align: right;\">\n",
       "      <th></th>\n",
       "      <th>id</th>\n",
       "      <th>carat</th>\n",
       "      <th>cut</th>\n",
       "      <th>color</th>\n",
       "      <th>clarity</th>\n",
       "      <th>depth</th>\n",
       "      <th>table</th>\n",
       "      <th>price</th>\n",
       "      <th>x</th>\n",
       "      <th>y</th>\n",
       "      <th>z</th>\n",
       "    </tr>\n",
       "  </thead>\n",
       "  <tbody>\n",
       "    <tr>\n",
       "      <th>9083</th>\n",
       "      <td>9084</td>\n",
       "      <td>1.07</td>\n",
       "      <td>Premium</td>\n",
       "      <td>G</td>\n",
       "      <td>SI2</td>\n",
       "      <td>62.0</td>\n",
       "      <td>59.0</td>\n",
       "      <td>4523</td>\n",
       "      <td>6.54</td>\n",
       "      <td>6.50</td>\n",
       "      <td>4.04</td>\n",
       "    </tr>\n",
       "    <tr>\n",
       "      <th>29365</th>\n",
       "      <td>29366</td>\n",
       "      <td>0.31</td>\n",
       "      <td>Premium</td>\n",
       "      <td>G</td>\n",
       "      <td>VS2</td>\n",
       "      <td>62.6</td>\n",
       "      <td>57.0</td>\n",
       "      <td>698</td>\n",
       "      <td>4.32</td>\n",
       "      <td>4.30</td>\n",
       "      <td>2.70</td>\n",
       "    </tr>\n",
       "    <tr>\n",
       "      <th>43151</th>\n",
       "      <td>43152</td>\n",
       "      <td>0.52</td>\n",
       "      <td>Ideal</td>\n",
       "      <td>G</td>\n",
       "      <td>SI1</td>\n",
       "      <td>61.3</td>\n",
       "      <td>55.0</td>\n",
       "      <td>1389</td>\n",
       "      <td>5.20</td>\n",
       "      <td>5.24</td>\n",
       "      <td>3.20</td>\n",
       "    </tr>\n",
       "    <tr>\n",
       "      <th>36542</th>\n",
       "      <td>36543</td>\n",
       "      <td>0.40</td>\n",
       "      <td>Premium</td>\n",
       "      <td>F</td>\n",
       "      <td>SI1</td>\n",
       "      <td>62.7</td>\n",
       "      <td>57.0</td>\n",
       "      <td>945</td>\n",
       "      <td>4.70</td>\n",
       "      <td>4.68</td>\n",
       "      <td>2.94</td>\n",
       "    </tr>\n",
       "    <tr>\n",
       "      <th>3785</th>\n",
       "      <td>3786</td>\n",
       "      <td>0.75</td>\n",
       "      <td>Ideal</td>\n",
       "      <td>E</td>\n",
       "      <td>VS1</td>\n",
       "      <td>62.0</td>\n",
       "      <td>55.0</td>\n",
       "      <td>3462</td>\n",
       "      <td>5.83</td>\n",
       "      <td>5.88</td>\n",
       "      <td>3.66</td>\n",
       "    </tr>\n",
       "    <tr>\n",
       "      <th>29475</th>\n",
       "      <td>29476</td>\n",
       "      <td>0.32</td>\n",
       "      <td>Premium</td>\n",
       "      <td>E</td>\n",
       "      <td>VS2</td>\n",
       "      <td>62.6</td>\n",
       "      <td>58.0</td>\n",
       "      <td>702</td>\n",
       "      <td>4.36</td>\n",
       "      <td>4.40</td>\n",
       "      <td>2.74</td>\n",
       "    </tr>\n",
       "  </tbody>\n",
       "</table>\n",
       "</div>"
      ],
      "text/plain": [
       "          id  carat      cut color clarity  depth  table  price     x     y  \\\n",
       "9083    9084   1.07  Premium     G     SI2   62.0   59.0   4523  6.54  6.50   \n",
       "29365  29366   0.31  Premium     G     VS2   62.6   57.0    698  4.32  4.30   \n",
       "43151  43152   0.52    Ideal     G     SI1   61.3   55.0   1389  5.20  5.24   \n",
       "36542  36543   0.40  Premium     F     SI1   62.7   57.0    945  4.70  4.68   \n",
       "3785    3786   0.75    Ideal     E     VS1   62.0   55.0   3462  5.83  5.88   \n",
       "29475  29476   0.32  Premium     E     VS2   62.6   58.0    702  4.36  4.40   \n",
       "\n",
       "          z  \n",
       "9083   4.04  \n",
       "29365  2.70  \n",
       "43151  3.20  \n",
       "36542  2.94  \n",
       "3785   3.66  \n",
       "29475  2.74  "
      ]
     },
     "execution_count": 2,
     "metadata": {},
     "output_type": "execute_result"
    }
   ],
   "source": [
    "df = pd.read_csv('./diamonds.csv') \n",
    "\n",
    "df.sample(6)"
   ]
  },
  {
   "cell_type": "code",
   "execution_count": 3,
   "metadata": {},
   "outputs": [
    {
     "data": {
      "text/plain": [
       "Ideal        21551\n",
       "Premium      13791\n",
       "Very Good    12082\n",
       "Good          4906\n",
       "Fair          1610\n",
       "Name: cut, dtype: int64"
      ]
     },
     "execution_count": 3,
     "metadata": {},
     "output_type": "execute_result"
    }
   ],
   "source": [
    "df['cut'].value_counts()"
   ]
  },
  {
   "cell_type": "code",
   "execution_count": 4,
   "metadata": {},
   "outputs": [],
   "source": [
    "cat_type = CategoricalDtype(categories=['Fair', 'Good', 'Ideal', 'Very Good', 'Premium'], ordered=True)\n",
    "df[\"cut\"] = df[\"cut\"].astype(cat_type)"
   ]
  },
  {
   "cell_type": "code",
   "execution_count": 5,
   "metadata": {},
   "outputs": [
    {
     "data": {
      "text/plain": [
       "CategoricalDtype(categories=['Fair', 'Good', 'Ideal', 'Very Good', 'Premium'], ordered=True)"
      ]
     },
     "execution_count": 5,
     "metadata": {},
     "output_type": "execute_result"
    }
   ],
   "source": [
    "df['cut'].dtype"
   ]
  },
  {
   "cell_type": "code",
   "execution_count": 6,
   "metadata": {},
   "outputs": [],
   "source": [
    "df['volume'] = df['x']*df['y']*df['z']\n",
    "df.drop(['x','y','z'],axis=1,inplace=True)"
   ]
  },
  {
   "cell_type": "code",
   "execution_count": 7,
   "metadata": {},
   "outputs": [
    {
     "data": {
      "text/html": [
       "<div>\n",
       "<style scoped>\n",
       "    .dataframe tbody tr th:only-of-type {\n",
       "        vertical-align: middle;\n",
       "    }\n",
       "\n",
       "    .dataframe tbody tr th {\n",
       "        vertical-align: top;\n",
       "    }\n",
       "\n",
       "    .dataframe thead th {\n",
       "        text-align: right;\n",
       "    }\n",
       "</style>\n",
       "<table border=\"1\" class=\"dataframe\">\n",
       "  <thead>\n",
       "    <tr style=\"text-align: right;\">\n",
       "      <th></th>\n",
       "      <th>id</th>\n",
       "      <th>carat</th>\n",
       "      <th>cut</th>\n",
       "      <th>color</th>\n",
       "      <th>clarity</th>\n",
       "      <th>depth</th>\n",
       "      <th>table</th>\n",
       "      <th>price</th>\n",
       "      <th>volume</th>\n",
       "    </tr>\n",
       "  </thead>\n",
       "  <tbody>\n",
       "    <tr>\n",
       "      <th>17873</th>\n",
       "      <td>17874</td>\n",
       "      <td>1.40</td>\n",
       "      <td>Ideal</td>\n",
       "      <td>H</td>\n",
       "      <td>SI2</td>\n",
       "      <td>61.2</td>\n",
       "      <td>56.0</td>\n",
       "      <td>7213</td>\n",
       "      <td>228.929274</td>\n",
       "    </tr>\n",
       "    <tr>\n",
       "      <th>296</th>\n",
       "      <td>297</td>\n",
       "      <td>0.70</td>\n",
       "      <td>Fair</td>\n",
       "      <td>G</td>\n",
       "      <td>VVS1</td>\n",
       "      <td>58.8</td>\n",
       "      <td>66.0</td>\n",
       "      <td>2797</td>\n",
       "      <td>117.919760</td>\n",
       "    </tr>\n",
       "    <tr>\n",
       "      <th>48426</th>\n",
       "      <td>48427</td>\n",
       "      <td>0.71</td>\n",
       "      <td>Very Good</td>\n",
       "      <td>H</td>\n",
       "      <td>SI2</td>\n",
       "      <td>63.7</td>\n",
       "      <td>56.0</td>\n",
       "      <td>1972</td>\n",
       "      <td>113.993270</td>\n",
       "    </tr>\n",
       "    <tr>\n",
       "      <th>2318</th>\n",
       "      <td>2319</td>\n",
       "      <td>0.79</td>\n",
       "      <td>Ideal</td>\n",
       "      <td>H</td>\n",
       "      <td>SI1</td>\n",
       "      <td>61.4</td>\n",
       "      <td>56.0</td>\n",
       "      <td>3167</td>\n",
       "      <td>129.001220</td>\n",
       "    </tr>\n",
       "  </tbody>\n",
       "</table>\n",
       "</div>"
      ],
      "text/plain": [
       "          id  carat        cut color clarity  depth  table  price      volume\n",
       "17873  17874   1.40      Ideal     H     SI2   61.2   56.0   7213  228.929274\n",
       "296      297   0.70       Fair     G    VVS1   58.8   66.0   2797  117.919760\n",
       "48426  48427   0.71  Very Good     H     SI2   63.7   56.0   1972  113.993270\n",
       "2318    2319   0.79      Ideal     H     SI1   61.4   56.0   3167  129.001220"
      ]
     },
     "execution_count": 7,
     "metadata": {},
     "output_type": "execute_result"
    }
   ],
   "source": [
    "df.sample(4)"
   ]
  },
  {
   "cell_type": "code",
   "execution_count": 8,
   "metadata": {},
   "outputs": [
    {
     "data": {
      "text/plain": [
       "Text(0.5, 1.0, 'Distribution by Volume')"
      ]
     },
     "execution_count": 8,
     "metadata": {},
     "output_type": "execute_result"
    },
    {
     "data": {
      "image/png": "[encoded data removed]",
      "text/plain": [
       "<Figure size 864x864 with 4 Axes>"
      ]
     },
     "metadata": {
      "needs_background": "light"
     },
     "output_type": "display_data"
    }
   ],
   "source": [
    "# Plot distributions - by Weight, by Depth, by Price, by Volume\n",
    " \n",
    "plt.figure(figsize=[12,12])\n",
    " \n",
    "plt.subplot(221)\n",
    "plt.hist(df['carat'],bins=20,color='b')\n",
    "plt.xlabel('Weight')\n",
    "plt.title('Distribution by Weight')\n",
    " \n",
    "plt.subplot(222)\n",
    "plt.hist(df['depth'],bins=20,color='r')\n",
    "plt.xlabel('Diamond Depth')\n",
    "plt.title('Distribution by Depth')\n",
    " \n",
    "plt.subplot(223)\n",
    "plt.hist(df['price'],bins=20,color='g')\n",
    "plt.xlabel('Price')\n",
    "plt.title('Distribution by Price')\n",
    " \n",
    "plt.subplot(224)\n",
    "plt.hist(df['volume'],bins=20,color='m')\n",
    "plt.xlabel('Volume')\n",
    "plt.title('Distribution by Volume')"
   ]
  },
  {
   "cell_type": "markdown",
   "metadata": {},
   "source": [
    "## 1. Probit Model"
   ]
  },
  {
   "cell_type": "code",
   "execution_count": 9,
   "metadata": {},
   "outputs": [],
   "source": [
    "mod_prob = OrderedModel(df['cut'],\n",
    "                        df[['volume', 'price', 'carat']],\n",
    "                        distr='probit')"
   ]
  },
  {
   "cell_type": "code",
   "execution_count": 10,
   "metadata": {},
   "outputs": [
    {
     "name": "stdout",
     "output_type": "stream",
     "text": [
      "Optimization terminated successfully.\n",
      "         Current function value: 1.369122\n",
      "         Iterations: 29\n",
      "         Function evaluations: 35\n",
      "         Gradient evaluations: 35\n",
      "                             OrderedModel Results                             \n",
      "==============================================================================\n",
      "Dep. Variable:                    cut   Log-Likelihood:                -73850.\n",
      "Model:                   OrderedModel   AIC:                         1.477e+05\n",
      "Method:            Maximum Likelihood   BIC:                         1.478e+05\n",
      "Date:                Sat, 17 Sep 2022                                         \n",
      "Time:                        12:10:28                                         \n",
      "No. Observations:               53940                                         \n",
      "Df Residuals:                   53933                                         \n",
      "Df Model:                           7                                         \n",
      "=====================================================================================\n",
      "                        coef    std err          z      P>|z|      [0.025      0.975]\n",
      "-------------------------------------------------------------------------------------\n",
      "volume                0.0060      0.001     10.108      0.000       0.005       0.007\n",
      "price              3.511e-05   3.01e-06     11.658      0.000    2.92e-05     4.1e-05\n",
      "carat                -1.1049      0.097    -11.353      0.000      -1.296      -0.914\n",
      "Fair/Good            -1.8589      0.016   -119.403      0.000      -1.889      -1.828\n",
      "Good/Ideal           -0.3292      0.014    -24.056      0.000      -0.356      -0.302\n",
      "Ideal/Very Good       0.2053      0.006     35.080      0.000       0.194       0.217\n",
      "Very Good/Premium    -0.4986      0.008    -60.605      0.000      -0.515      -0.483\n",
      "=====================================================================================\n"
     ]
    }
   ],
   "source": [
    "res_prob = mod_prob.fit(method='bfgs')\n",
    "print(res_prob.summary())"
   ]
  },
  {
   "cell_type": "markdown",
   "metadata": {},
   "source": [
    "- We have considered 3 features: Volume, Price and Carat\n",
    "- There are Intercepts with 5 categories for \"Cut\" which is the Outcome/Target\n",
    "    - Since there are 5 categories in the target variable(fair, good, ideal, very good, premium), we have four thresholds to estimate.\n",
    "    - The first estimated threshold is the actual value\n",
    "    - All the other thresholds are in terms of cumulative exponentiated increments"
   ]
  },
  {
   "cell_type": "code",
   "execution_count": 11,
   "metadata": {},
   "outputs": [],
   "source": [
    "# Fair/Good : -1.8589"
   ]
  },
  {
   "cell_type": "code",
   "execution_count": 12,
   "metadata": {},
   "outputs": [
    {
     "data": {
      "text/plain": [
       "-1.1394008974643732"
      ]
     },
     "execution_count": 12,
     "metadata": {},
     "output_type": "execute_result"
    }
   ],
   "source": [
    "# Exponentiated Increment can be added from 2nd threshold value onwards\n",
    "-1.8589 + np.exp(-0.3292)\n",
    "\n",
    "# Good/Ideal : -1.1394"
   ]
  },
  {
   "cell_type": "code",
   "execution_count": 13,
   "metadata": {},
   "outputs": [
    {
     "data": {
      "text/plain": [
       "-0.3249970411280453"
      ]
     },
     "execution_count": 13,
     "metadata": {},
     "output_type": "execute_result"
    }
   ],
   "source": [
    "-1.1394 + np.exp(-0.2053)\n",
    "\n",
    "# Ideal/Very Good : -0.3249"
   ]
  },
  {
   "cell_type": "code",
   "execution_count": 14,
   "metadata": {},
   "outputs": [
    {
     "data": {
      "text/plain": [
       "0.28248039731376146"
      ]
     },
     "execution_count": 14,
     "metadata": {},
     "output_type": "execute_result"
    }
   ],
   "source": [
    "-0.3249 + np.exp(-0.4986)\n",
    "\n",
    "# Ideal/Very Good : 0.2824"
   ]
  },
  {
   "cell_type": "markdown",
   "metadata": {},
   "source": [
    "## 2. Logit Model"
   ]
  },
  {
   "cell_type": "code",
   "execution_count": 15,
   "metadata": {},
   "outputs": [],
   "source": [
    "mod_log = OrderedModel(df['cut'],\n",
    "                        df[['volume', 'price', 'carat']],\n",
    "                        distr='logit')                      # Distribution instance"
   ]
  },
  {
   "cell_type": "code",
   "execution_count": 16,
   "metadata": {},
   "outputs": [
    {
     "name": "stdout",
     "output_type": "stream",
     "text": [
      "                             OrderedModel Results                             \n",
      "==============================================================================\n",
      "Dep. Variable:                    cut   Log-Likelihood:                -73855.\n",
      "Model:                   OrderedModel   AIC:                         1.477e+05\n",
      "Method:            Maximum Likelihood   BIC:                         1.478e+05\n",
      "Date:                Sat, 17 Sep 2022                                         \n",
      "Time:                        12:10:33                                         \n",
      "No. Observations:               53940                                         \n",
      "Df Residuals:                   53933                                         \n",
      "Df Model:                           7                                         \n",
      "=====================================================================================\n",
      "                        coef    std err          z      P>|z|      [0.025      0.975]\n",
      "-------------------------------------------------------------------------------------\n",
      "volume                0.0104      0.002      5.875      0.000       0.007       0.014\n",
      "price              2.348e-05   5.31e-06      4.425      0.000    1.31e-05    3.39e-05\n",
      "carat                -1.5407      0.286     -5.394      0.000      -2.100      -0.981\n",
      "Fair/Good            -3.2836      0.031   -105.758      0.000      -3.344      -3.223\n",
      "Good/Ideal            0.4038      0.015     27.062      0.000       0.375       0.433\n",
      "Ideal/Very Good       0.7301      0.006    116.508      0.000       0.718       0.742\n",
      "Very Good/Premium    -0.0055      0.008     -0.653      0.514      -0.022       0.011\n",
      "=====================================================================================\n"
     ]
    }
   ],
   "source": [
    "res_log = mod_log.fit(method='bfgs', disp=False)          # Broyden-Fletcher-Goldfarb-Shanno (BFGS)\n",
    "print(res_log.summary())"
   ]
  },
  {
   "cell_type": "markdown",
   "metadata": {},
   "source": [
    "Similarly we can compute for thresholds and compute to interpret."
   ]
  },
  {
   "cell_type": "code",
   "execution_count": null,
   "metadata": {},
   "outputs": [],
   "source": []
  }
 ],
 "metadata": {
  "kernelspec": {
   "display_name": "Python 3",
   "language": "python",
   "name": "python3"
  },
  "language_info": {
   "codemirror_mode": {
    "name": "ipython",
    "version": 3
   },
   "file_extension": ".py",
   "mimetype": "text/x-python",
   "name": "python",
   "nbconvert_exporter": "python",
   "pygments_lexer": "ipython3",
   "version": "3.8.5"
  }
 },
 "nbformat": 4,
 "nbformat_minor": 4
}
